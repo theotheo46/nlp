{
 "cells": [
  {
   "cell_type": "markdown",
   "metadata": {},
   "source": [
    "# Урок 3\n",
    "Это часть 2/2: эксперименты.\n",
    "## План (напоминание)\n",
    "В этой практической работе мы узнаем новые трюки и попробуем через эксперименты посмотреть, насколько эти трюки хороши.\n",
    "\n",
    "В первом ноутбуке мы знакомились с Dropout и Batch Normalization слоями.\n",
    "\n",
    "**Теперь же** мы вернемся к модели классификации изображений из прошлого урока и попробуем ее улучшать.\n",
    "А именно:\n",
    "- настроим сохранение метрик в wandb, обучим бейзлайн и сохраним его метрики;\n",
    "- добьемся воспроизводимости обучения;\n",
    "- попробуем применить LR Scheduler, сравним метрики;\n",
    "- попробуем добавить Dropout и Batch Normalization, сравним метрики;\n",
    "\n",
    "Помимо этого, мы разберем, как не потерять обученную модель."
   ]
  },
  {
   "cell_type": "markdown",
   "metadata": {},
   "source": [
    "## Эксперименты: ставим и сравниваем"
   ]
  },
  {
   "cell_type": "markdown",
   "metadata": {},
   "source": [
    "#### Подключаем wandb к пайплайну обучения"
   ]
  },
  {
   "cell_type": "code",
   "execution_count": 1,
   "metadata": {},
   "outputs": [
    {
     "name": "stderr",
     "output_type": "stream",
     "text": [
      "Failed to detect the name of this notebook, you can set it manually with the WANDB_NOTEBOOK_NAME environment variable to enable code saving.\n",
      "\u001b[34m\u001b[1mwandb\u001b[0m: Currently logged in as: \u001b[33malekseik1\u001b[0m. Use \u001b[1m`wandb login --relogin`\u001b[0m to force relogin\n"
     ]
    },
    {
     "data": {
      "text/html": [
       "Tracking run with wandb version 0.16.4"
      ],
      "text/plain": [
       "<IPython.core.display.HTML object>"
      ]
     },
     "metadata": {},
     "output_type": "display_data"
    },
    {
     "data": {
      "text/html": [
       "Run data is saved locally in <code>/Users/akozharin/git/start-dl/start_dl/lesson_3/wandb/run-20240323_131414-zvzjklug</code>"
      ],
      "text/plain": [
       "<IPython.core.display.HTML object>"
      ]
     },
     "metadata": {},
     "output_type": "display_data"
    },
    {
     "data": {
      "text/html": [
       "Syncing run <strong><a href='https://wandb.ai/alekseik1/my-first-wandb-project/runs/zvzjklug' target=\"_blank\">polar-water-10</a></strong> to <a href='https://wandb.ai/alekseik1/my-first-wandb-project' target=\"_blank\">Weights & Biases</a> (<a href='https://wandb.me/run' target=\"_blank\">docs</a>)<br/>"
      ],
      "text/plain": [
       "<IPython.core.display.HTML object>"
      ]
     },
     "metadata": {},
     "output_type": "display_data"
    },
    {
     "data": {
      "text/html": [
       " View project at <a href='https://wandb.ai/alekseik1/my-first-wandb-project' target=\"_blank\">https://wandb.ai/alekseik1/my-first-wandb-project</a>"
      ],
      "text/plain": [
       "<IPython.core.display.HTML object>"
      ]
     },
     "metadata": {},
     "output_type": "display_data"
    },
    {
     "data": {
      "text/html": [
       " View run at <a href='https://wandb.ai/alekseik1/my-first-wandb-project/runs/zvzjklug' target=\"_blank\">https://wandb.ai/alekseik1/my-first-wandb-project/runs/zvzjklug</a>"
      ],
      "text/plain": [
       "<IPython.core.display.HTML object>"
      ]
     },
     "metadata": {},
     "output_type": "display_data"
    },
    {
     "name": "stderr",
     "output_type": "stream",
     "text": [
      "100%|██████████| 300/300 [00:31<00:00,  9.47it/s]\n",
      "wandb: WARNING Source type is set to 'repo' but some required information is missing from the environment. A job will not be created from this run. See https://docs.wandb.ai/guides/launch/create-job\n"
     ]
    },
    {
     "data": {
      "text/html": [
       "<style>\n",
       "    table.wandb td:nth-child(1) { padding: 0 10px; text-align: left ; width: auto;} td:nth-child(2) {text-align: left ; width: 100%}\n",
       "    .wandb-row { display: flex; flex-direction: row; flex-wrap: wrap; justify-content: flex-start; width: 100% }\n",
       "    .wandb-col { display: flex; flex-direction: column; flex-basis: 100%; flex: 1; padding: 10px; }\n",
       "    </style>\n",
       "<div class=\"wandb-row\"><div class=\"wandb-col\"><h3>Run history:</h3><br/><table class=\"wandb\"><tr><td>iteration</td><td>▁▁▁▁▂▂▂▂▂▃▃▃▃▃▃▄▄▄▄▄▅▅▅▅▅▅▆▆▆▆▆▆▇▇▇▇▇███</td></tr><tr><td>loss</td><td>██▇▇▆▆▆▅▅▅▅▅▄▄▄▄▄▄▃▃▃▃▃▃▃▃▂▂▂▂▂▂▂▂▂▁▁▁▁▁</td></tr></table><br/></div><div class=\"wandb-col\"><h3>Run summary:</h3><br/><table class=\"wandb\"><tr><td>iteration</td><td>299</td></tr><tr><td>loss</td><td>-5.29162</td></tr></table><br/></div></div>"
      ],
      "text/plain": [
       "<IPython.core.display.HTML object>"
      ]
     },
     "metadata": {},
     "output_type": "display_data"
    },
    {
     "data": {
      "text/html": [
       " View run <strong style=\"color:#cdcd00\">polar-water-10</strong> at: <a href='https://wandb.ai/alekseik1/my-first-wandb-project/runs/zvzjklug' target=\"_blank\">https://wandb.ai/alekseik1/my-first-wandb-project/runs/zvzjklug</a><br/>Synced 5 W&B file(s), 0 media file(s), 0 artifact file(s) and 0 other file(s)"
      ],
      "text/plain": [
       "<IPython.core.display.HTML object>"
      ]
     },
     "metadata": {},
     "output_type": "display_data"
    },
    {
     "data": {
      "text/html": [
       "Find logs at: <code>./wandb/run-20240323_131414-zvzjklug/logs</code>"
      ],
      "text/plain": [
       "<IPython.core.display.HTML object>"
      ]
     },
     "metadata": {},
     "output_type": "display_data"
    }
   ],
   "source": [
    "# нужно установить библиотеку wandb\n",
    "import tqdm\n",
    "import wandb\n",
    "import time\n",
    "\n",
    "# затем можно запускать любой код и логгировать любые метрики\n",
    "\n",
    "\n",
    "def simple_train_loop():\n",
    "    # Сначала нужно вызвать wandb.init()\n",
    "    # Это создаст эксперимент в wandb.ai и привяжет его к текущему запуску.\n",
    "    wandb.init(\n",
    "        # Более детальное описание аргументов: https://docs.wandb.ai/guides/track/launch\n",
    "        project=\"my-first-wandb-project\",\n",
    "        notes=\"I created it in my DL course\",\n",
    "        # Можно так же передать config - словарь с любым содержимым.\n",
    "        # Обычно туда кладут гиперпараметры, настройки обработки данных, random seed и т.д.\n",
    "        config={\"seed\": 0, \"my-custom_string\": \"asb\"},\n",
    "    )\n",
    "    # Теперь запускаем наш код обучения, подготовки данных и т.п. как обычно\n",
    "    for i in tqdm.trange(300):\n",
    "        # Имитируем долгое обучение\n",
    "        time.sleep(0.1)\n",
    "        # Нужно добавить эту строку, чтобы записать в wandb\n",
    "        wandb.log({\"iteration\": i, \"loss\": 12 - i ** 0.5})\n",
    "    # Запуск автоматически завершится, когда скрипт (т.е. ноутбук) завершит работу.\n",
    "    # Но можно явно завершить:\n",
    "    wandb.finish()\n",
    "\n",
    "# запустим, смотрим\n",
    "simple_train_loop()"
   ]
  },
  {
   "cell_type": "markdown",
   "metadata": {},
   "source": [
    "### Готовим пайплайн классификации\n",
    "\n",
    "Достанем код из прошлого урока, построим модель, добавим в обучение wandb - и убедимся, что все работает."
   ]
  },
  {
   "cell_type": "code",
   "execution_count": 2,
   "metadata": {},
   "outputs": [
    {
     "name": "stdout",
     "output_type": "stream",
     "text": [
      "Файл уже загружен, не загружаю снова\n",
      "Данные были скачены и распакованы\n",
      "Изображение не читается по пути notMNIST_small/A/RGVtb2NyYXRpY2FCb2xkT2xkc3R5bGUgQm9sZC50dGY=.png (это ок, но таких должно быть < 10)\n",
      "Изображение не читается по пути notMNIST_small/F/Q3Jvc3NvdmVyIEJvbGRPYmxpcXVlLnR0Zg==.png (это ок, но таких должно быть < 10)\n"
     ]
    }
   ],
   "source": [
    "# А теперь делаем все серьезно.\n",
    "# Загрузим данные, обучим модель, отрисуем в wandb графики\n",
    "# Дальше идет код с предыдущей лекции\n",
    "import http.client\n",
    "import tarfile\n",
    "from pathlib import Path\n",
    "\n",
    "import matplotlib.pyplot as plt\n",
    "import numpy as np\n",
    "from sklearn.model_selection import train_test_split\n",
    "from sklearn.preprocessing import LabelEncoder\n",
    "\n",
    "\n",
    "def prepare_data():\n",
    "    \"\"\"Скачивает данные и распаковывает их.\"\"\"\n",
    "    target_file = \"notMNIST_small.tar.gz\"\n",
    "    if Path(target_file).exists():\n",
    "        print(\"Файл уже загружен, не загружаю снова\")\n",
    "    else:\n",
    "        conn = http.client.HTTPConnection(\"yaroslavvb.com\", 80)\n",
    "        conn.request(\"GET\", \"/upload/notMNIST/notMNIST_small.tar.gz\")\n",
    "        data = conn.getresponse().read()\n",
    "        with open(target_file, \"wb\") as f:\n",
    "            f.write(data)\n",
    "    with tarfile.open(target_file) as f:\n",
    "        f.extractall(filter=\"data\")\n",
    "    print(\"Данные были скачены и распакованы\")\n",
    "\n",
    "\n",
    "def read_notmnist_data(\n",
    "    data_dir: str = \"notMNIST_small\",\n",
    ") -> tuple[np.ndarray, np.ndarray]:\n",
    "    \"\"\"Прочитать картинки датасета notMNIST и положить их в numpy-массив.\n",
    "\n",
    "    :returns: пару numpy-массивов (изображения, соответствующие метки)\n",
    "    \"\"\"\n",
    "    images, labels = [], []\n",
    "    for img_path in Path(data_dir).glob(\"**/*.png\"):\n",
    "        # Имя папки - это метка класса\n",
    "        img_label = img_path.parts[1]\n",
    "        try:\n",
    "            image = plt.imread(img_path)\n",
    "        except SyntaxError:\n",
    "            print(\n",
    "                f\"Изображение не читается по пути {img_path} (это ок, но таких должно быть < 10)\"\n",
    "            )\n",
    "            continue\n",
    "        labels.append(img_label)\n",
    "        images.append(image)\n",
    "    return np.stack(images, axis=0), np.stack(labels, axis=0)\n",
    "\n",
    "\n",
    "prepare_data()\n",
    "X, y = read_notmnist_data()\n",
    "assert X.shape[0] == y.shape[0]\n",
    "ohe = LabelEncoder()\n",
    "y = ohe.fit_transform(y)"
   ]
  },
  {
   "cell_type": "code",
   "execution_count": 8,
   "metadata": {},
   "outputs": [
    {
     "data": {
      "image/png": "[encoded data removed]",
      "text/plain": [
       "<Figure size 800x800 with 16 Axes>"
      ]
     },
     "metadata": {},
     "output_type": "display_data"
    }
   ],
   "source": [
    "import torch\n",
    "\n",
    "seed = 0\n",
    "X_train_val, X_test, y_train_val, y_test = train_test_split(\n",
    "    X,\n",
    "    y,\n",
    "    test_size=0.2,\n",
    "    shuffle=True,\n",
    "    random_state=0\n",
    ")\n",
    "X_train, X_val, y_train, y_val = train_test_split(\n",
    "    X_train_val,\n",
    "    y_train_val,\n",
    "    test_size=0.2,\n",
    "    shuffle=True,\n",
    "    random_state=0\n",
    ")\n",
    "X_train, y_train = torch.from_numpy(X_train), torch.from_numpy(y_train)\n",
    "X_val, y_val = torch.from_numpy(X_val), torch.from_numpy(y_val)\n",
    "X_test, y_test = torch.from_numpy(X_test), torch.from_numpy(y_test)\n",
    "\n",
    "fig, ax = plt.subplots(4, 4, figsize=(8, 8))\n",
    "for row in range(4):\n",
    "    for col in range(4):\n",
    "        idx = 4 * row + col\n",
    "        ax[row][col].imshow(X_train[idx])\n",
    "        ax[row][col].set_title(f\"label={y_train[idx]}\")\n",
    "# конец кода с предыдущей лекции\n",
    "# Перезапустите эту ячейку несколько раз - изображения будут меняться."
   ]
  },
  {
   "cell_type": "code",
   "execution_count": 9,
   "metadata": {},
   "outputs": [],
   "source": [
    "import torch.nn as nn\n",
    "\n",
    "\n",
    "class SimpleModel(nn.Module):\n",
    "    def __init__(self, num_classes: int):\n",
    "        super().__init__()\n",
    "        hidden_dim = 256\n",
    "        self.net = nn.Sequential(\n",
    "            nn.Linear(in_features=28 * 28, out_features=hidden_dim),\n",
    "            nn.ReLU(),\n",
    "            nn.Linear(in_features=hidden_dim, out_features=num_classes),\n",
    "            nn.Softmax(dim=1),\n",
    "        )\n",
    "\n",
    "    def forward(self, x: torch.Tensor):\n",
    "        x = x.reshape((-1, 28 * 28))\n",
    "        return self.net(x)"
   ]
  },
  {
   "cell_type": "code",
   "execution_count": 11,
   "metadata": {},
   "outputs": [
    {
     "data": {
      "text/html": [
       "Tracking run with wandb version 0.16.4"
      ],
      "text/plain": [
       "<IPython.core.display.HTML object>"
      ]
     },
     "metadata": {},
     "output_type": "display_data"
    },
    {
     "data": {
      "text/html": [
       "Run data is saved locally in <code>/Users/akozharin/git/start-dl/start_dl/lesson_3/wandb/run-20240323_131546-v28k6rmr</code>"
      ],
      "text/plain": [
       "<IPython.core.display.HTML object>"
      ]
     },
     "metadata": {},
     "output_type": "display_data"
    },
    {
     "data": {
      "text/html": [
       "Syncing run <strong><a href='https://wandb.ai/alekseik1/simple-model-train/runs/v28k6rmr' target=\"_blank\">dutiful-sun-66</a></strong> to <a href='https://wandb.ai/alekseik1/simple-model-train' target=\"_blank\">Weights & Biases</a> (<a href='https://wandb.me/run' target=\"_blank\">docs</a>)<br/>"
      ],
      "text/plain": [
       "<IPython.core.display.HTML object>"
      ]
     },
     "metadata": {},
     "output_type": "display_data"
    },
    {
     "data": {
      "text/html": [
       " View project at <a href='https://wandb.ai/alekseik1/simple-model-train' target=\"_blank\">https://wandb.ai/alekseik1/simple-model-train</a>"
      ],
      "text/plain": [
       "<IPython.core.display.HTML object>"
      ]
     },
     "metadata": {},
     "output_type": "display_data"
    },
    {
     "data": {
      "text/html": [
       " View run at <a href='https://wandb.ai/alekseik1/simple-model-train/runs/v28k6rmr' target=\"_blank\">https://wandb.ai/alekseik1/simple-model-train/runs/v28k6rmr</a>"
      ],
      "text/plain": [
       "<IPython.core.display.HTML object>"
      ]
     },
     "metadata": {},
     "output_type": "display_data"
    },
    {
     "name": "stderr",
     "output_type": "stream",
     "text": [
      "100%|██████████| 500/500 [00:06<00:00, 75.50it/s]\n",
      "wandb: WARNING Source type is set to 'repo' but some required information is missing from the environment. A job will not be created from this run. See https://docs.wandb.ai/guides/launch/create-job\n"
     ]
    },
    {
     "data": {
      "text/html": [
       "<style>\n",
       "    table.wandb td:nth-child(1) { padding: 0 10px; text-align: left ; width: auto;} td:nth-child(2) {text-align: left ; width: 100%}\n",
       "    .wandb-row { display: flex; flex-direction: row; flex-wrap: wrap; justify-content: flex-start; width: 100% }\n",
       "    .wandb-col { display: flex; flex-direction: column; flex-basis: 100%; flex: 1; padding: 10px; }\n",
       "    </style>\n",
       "<div class=\"wandb-row\"><div class=\"wandb-col\"><h3>Run history:</h3><br/><table class=\"wandb\"><tr><td>iteration</td><td>▁▁▁▂▂▂▂▂▂▃▃▃▃▃▄▄▄▄▄▄▅▅▅▅▅▅▆▆▆▆▆▇▇▇▇▇▇███</td></tr><tr><td>loss_train</td><td>████▇▇▆▆▅▅▄▄▃▃▂▂▂▂▂▂▂▁▁▁▁▁▁▁▁▁▁▁▁▁▁▁▁▁▁▁</td></tr><tr><td>loss_val</td><td>██▇▆▅▄▄▃▂▂▂▂▂▁▁▁▁▁▁▁▁▁▁▁▁</td></tr></table><br/></div><div class=\"wandb-col\"><h3>Run summary:</h3><br/><table class=\"wandb\"><tr><td>iteration</td><td>499</td></tr><tr><td>loss_train</td><td>1.6105</td></tr><tr><td>loss_val</td><td>1.60986</td></tr></table><br/></div></div>"
      ],
      "text/plain": [
       "<IPython.core.display.HTML object>"
      ]
     },
     "metadata": {},
     "output_type": "display_data"
    },
    {
     "data": {
      "text/html": [
       " View run <strong style=\"color:#cdcd00\">dutiful-sun-66</strong> at: <a href='https://wandb.ai/alekseik1/simple-model-train/runs/v28k6rmr' target=\"_blank\">https://wandb.ai/alekseik1/simple-model-train/runs/v28k6rmr</a><br/>Synced 5 W&B file(s), 0 media file(s), 0 artifact file(s) and 0 other file(s)"
      ],
      "text/plain": [
       "<IPython.core.display.HTML object>"
      ]
     },
     "metadata": {},
     "output_type": "display_data"
    },
    {
     "data": {
      "text/html": [
       "Find logs at: <code>./wandb/run-20240323_131546-v28k6rmr/logs</code>"
      ],
      "text/plain": [
       "<IPython.core.display.HTML object>"
      ]
     },
     "metadata": {},
     "output_type": "display_data"
    }
   ],
   "source": [
    "import torch.nn.functional as F\n",
    "from torch.optim.sgd import SGD\n",
    "from dataclasses import dataclass\n",
    "\n",
    "\n",
    "# конфиги можно сделать в словаре, а можно в датаклассе - будут подсказки в редакторе\n",
    "@dataclass\n",
    "class TrainConfig:\n",
    "    eval_every: int = 10\n",
    "    lr: float = 1e-2\n",
    "    total_iterations: int = 3000\n",
    "\n",
    "\n",
    "def train_loop(\n",
    "    model: nn.Module,\n",
    "    X_train: torch.Tensor,\n",
    "    y_train: torch.Tensor,\n",
    "    X_val: torch.Tensor,\n",
    "    y_val: torch.Tensor,\n",
    "    config: TrainConfig,\n",
    "):\n",
    "    wandb.init(\n",
    "        project=\"simple-model-train\",\n",
    "        notes=\"version 1\",\n",
    "        tags=[\"sgd\", \"2-layer\"],\n",
    "        config=config,\n",
    "    )\n",
    "\n",
    "    optim = SGD(model.parameters(), lr=config.lr)\n",
    "    model.train()\n",
    "    for i in tqdm.trange(config.total_iterations):\n",
    "        optim.zero_grad()\n",
    "        loss = F.cross_entropy(model(X_train), y_train)\n",
    "        loss.backward()\n",
    "        optim.step()\n",
    "        metrics = {\"iteration\": i, \"loss_train\": loss.detach().cpu().item()}\n",
    "        # каждые `eval_every` итераций будем считать метрику на отложенной выборке\n",
    "        if (i + 1) % config.eval_every == 0:\n",
    "            with torch.no_grad():\n",
    "                model.eval()\n",
    "                loss_val = F.cross_entropy(model(X_val), y_val)\n",
    "                model.train()\n",
    "                metrics.update({\"loss_val\": loss_val.cpu().item()})\n",
    "        wandb.log(metrics)\n",
    "    wandb.finish()\n",
    "\n",
    "\n",
    "torch.random.manual_seed(seed)\n",
    "config = TrainConfig(eval_every=20, lr=1e-1, total_iterations=500)\n",
    "model = SimpleModel(num_classes=len(ohe.classes_))\n",
    "train_loop(model, X_train, y_train, X_val, y_val, config=config)"
   ]
  },
  {
   "cell_type": "markdown",
   "metadata": {},
   "source": [
    "Если перезапустить ноутбук, то графики получатся другие.\n",
    "\n",
    "Но как же так, мы ничего не меняли в коде?"
   ]
  },
  {
   "cell_type": "markdown",
   "metadata": {},
   "source": [
    "## Добиваемся воспроизводимости\n",
    "Пройдемся по ноутбуку и найдем все места, где есть случайности:\n",
    "- разбиение на train/val/test - это видно по `shuffle=True`;\n",
    "- инициализация весов модели - веса всех слоев генерируются из случайного распределения;\n",
    "- могут быть алгоритмы внутри слоев, но у нас таких нету.\n",
    "\n",
    "Чтобы добиться воспроизводимости, нужно:\n",
    "1. Добавить `random_state=...` в `train_test_split` - он умеет принимать такой параметр.\n",
    "2. Зафиксировать `seed` у PyTorch **перед** созданием модели через `torch.random.manual_seed`.\n",
    "\n",
    "Идем и исправляем это, после чего перезапускаем ячейки.\n",
    "Теперь графики перестали меняться от запуска к запуску."
   ]
  },
  {
   "cell_type": "markdown",
   "metadata": {},
   "source": [
    "## Пробуем новые подходы"
   ]
  },
  {
   "cell_type": "markdown",
   "metadata": {},
   "source": [
    "### Добавляем LR Scheduler и Adam\n",
    "Добавим шедулер, его настройки в конфиг, а также переберем несколько вариантов.\n",
    "\n",
    "Аналогично сделаем для оптимайзера: будем пробовать Adam и SGD."
   ]
  },
  {
   "cell_type": "code",
   "execution_count": 12,
   "metadata": {},
   "outputs": [
    {
     "data": {
      "text/html": [
       "Tracking run with wandb version 0.16.4"
      ],
      "text/plain": [
       "<IPython.core.display.HTML object>"
      ]
     },
     "metadata": {},
     "output_type": "display_data"
    },
    {
     "data": {
      "text/html": [
       "Run data is saved locally in <code>/Users/akozharin/git/start-dl/start_dl/lesson_3/wandb/run-20240323_132741-dwjk0if1</code>"
      ],
      "text/plain": [
       "<IPython.core.display.HTML object>"
      ]
     },
     "metadata": {},
     "output_type": "display_data"
    },
    {
     "data": {
      "text/html": [
       "Syncing run <strong><a href='https://wandb.ai/alekseik1/simple-model-train/runs/dwjk0if1' target=\"_blank\">optim=sgd__lr_sched=None</a></strong> to <a href='https://wandb.ai/alekseik1/simple-model-train' target=\"_blank\">Weights & Biases</a> (<a href='https://wandb.me/run' target=\"_blank\">docs</a>)<br/>"
      ],
      "text/plain": [
       "<IPython.core.display.HTML object>"
      ]
     },
     "metadata": {},
     "output_type": "display_data"
    },
    {
     "data": {
      "text/html": [
       " View project at <a href='https://wandb.ai/alekseik1/simple-model-train' target=\"_blank\">https://wandb.ai/alekseik1/simple-model-train</a>"
      ],
      "text/plain": [
       "<IPython.core.display.HTML object>"
      ]
     },
     "metadata": {},
     "output_type": "display_data"
    },
    {
     "data": {
      "text/html": [
       " View run at <a href='https://wandb.ai/alekseik1/simple-model-train/runs/dwjk0if1' target=\"_blank\">https://wandb.ai/alekseik1/simple-model-train/runs/dwjk0if1</a>"
      ],
      "text/plain": [
       "<IPython.core.display.HTML object>"
      ]
     },
     "metadata": {},
     "output_type": "display_data"
    },
    {
     "name": "stderr",
     "output_type": "stream",
     "text": [
      "100%|██████████| 500/500 [00:07<00:00, 71.35it/s]\n",
      "wandb: WARNING Source type is set to 'repo' but some required information is missing from the environment. A job will not be created from this run. See https://docs.wandb.ai/guides/launch/create-job\n"
     ]
    },
    {
     "data": {
      "text/html": [
       "<style>\n",
       "    table.wandb td:nth-child(1) { padding: 0 10px; text-align: left ; width: auto;} td:nth-child(2) {text-align: left ; width: 100%}\n",
       "    .wandb-row { display: flex; flex-direction: row; flex-wrap: wrap; justify-content: flex-start; width: 100% }\n",
       "    .wandb-col { display: flex; flex-direction: column; flex-basis: 100%; flex: 1; padding: 10px; }\n",
       "    </style>\n",
       "<div class=\"wandb-row\"><div class=\"wandb-col\"><h3>Run history:</h3><br/><table class=\"wandb\"><tr><td>iteration</td><td>▁▁▁▂▂▂▂▂▂▃▃▃▃▃▄▄▄▄▄▄▅▅▅▅▅▅▆▆▆▆▆▇▇▇▇▇▇███</td></tr><tr><td>loss_train</td><td>█▆▅▃▃▃▂▁▁▁▁▁▁▁▁▁▁▁▁▁▁▁▁▁▁▁▁▁▁▁▁▁▁▁▁▁▁▁▁▁</td></tr><tr><td>loss_val</td><td>█▆▃▁▁▁▁▁▁▁▁▁▁▁▁▁▁▁▁▁▁▁▁▁▁</td></tr><tr><td>lr</td><td>▁▁▁▁▁▁▁▁▁▁▁▁▁▁▁▁▁▁▁▁▁▁▁▁▁▁▁▁▁▁▁▁▁▁▁▁▁▁▁▁</td></tr></table><br/></div><div class=\"wandb-col\"><h3>Run summary:</h3><br/><table class=\"wandb\"><tr><td>iteration</td><td>499</td></tr><tr><td>loss_train</td><td>1.52979</td></tr><tr><td>loss_val</td><td>1.55606</td></tr><tr><td>lr</td><td>2</td></tr></table><br/></div></div>"
      ],
      "text/plain": [
       "<IPython.core.display.HTML object>"
      ]
     },
     "metadata": {},
     "output_type": "display_data"
    },
    {
     "data": {
      "text/html": [
       " View run <strong style=\"color:#cdcd00\">optim=sgd__lr_sched=None</strong> at: <a href='https://wandb.ai/alekseik1/simple-model-train/runs/dwjk0if1' target=\"_blank\">https://wandb.ai/alekseik1/simple-model-train/runs/dwjk0if1</a><br/>Synced 5 W&B file(s), 0 media file(s), 0 artifact file(s) and 0 other file(s)"
      ],
      "text/plain": [
       "<IPython.core.display.HTML object>"
      ]
     },
     "metadata": {},
     "output_type": "display_data"
    },
    {
     "data": {
      "text/html": [
       "Find logs at: <code>./wandb/run-20240323_132741-dwjk0if1/logs</code>"
      ],
      "text/plain": [
       "<IPython.core.display.HTML object>"
      ]
     },
     "metadata": {},
     "output_type": "display_data"
    },
    {
     "data": {
      "text/html": [
       "Tracking run with wandb version 0.16.4"
      ],
      "text/plain": [
       "<IPython.core.display.HTML object>"
      ]
     },
     "metadata": {},
     "output_type": "display_data"
    },
    {
     "data": {
      "text/html": [
       "Run data is saved locally in <code>/Users/akozharin/git/start-dl/start_dl/lesson_3/wandb/run-20240323_132753-b2tua7tv</code>"
      ],
      "text/plain": [
       "<IPython.core.display.HTML object>"
      ]
     },
     "metadata": {},
     "output_type": "display_data"
    },
    {
     "data": {
      "text/html": [
       "Syncing run <strong><a href='https://wandb.ai/alekseik1/simple-model-train/runs/b2tua7tv' target=\"_blank\">optim=sgd__lr_sched=exp</a></strong> to <a href='https://wandb.ai/alekseik1/simple-model-train' target=\"_blank\">Weights & Biases</a> (<a href='https://wandb.me/run' target=\"_blank\">docs</a>)<br/>"
      ],
      "text/plain": [
       "<IPython.core.display.HTML object>"
      ]
     },
     "metadata": {},
     "output_type": "display_data"
    },
    {
     "data": {
      "text/html": [
       " View project at <a href='https://wandb.ai/alekseik1/simple-model-train' target=\"_blank\">https://wandb.ai/alekseik1/simple-model-train</a>"
      ],
      "text/plain": [
       "<IPython.core.display.HTML object>"
      ]
     },
     "metadata": {},
     "output_type": "display_data"
    },
    {
     "data": {
      "text/html": [
       " View run at <a href='https://wandb.ai/alekseik1/simple-model-train/runs/b2tua7tv' target=\"_blank\">https://wandb.ai/alekseik1/simple-model-train/runs/b2tua7tv</a>"
      ],
      "text/plain": [
       "<IPython.core.display.HTML object>"
      ]
     },
     "metadata": {},
     "output_type": "display_data"
    },
    {
     "name": "stderr",
     "output_type": "stream",
     "text": [
      "100%|██████████| 500/500 [00:07<00:00, 69.69it/s]\n",
      "wandb: WARNING Source type is set to 'repo' but some required information is missing from the environment. A job will not be created from this run. See https://docs.wandb.ai/guides/launch/create-job\n"
     ]
    },
    {
     "data": {
      "text/html": [
       "<style>\n",
       "    table.wandb td:nth-child(1) { padding: 0 10px; text-align: left ; width: auto;} td:nth-child(2) {text-align: left ; width: 100%}\n",
       "    .wandb-row { display: flex; flex-direction: row; flex-wrap: wrap; justify-content: flex-start; width: 100% }\n",
       "    .wandb-col { display: flex; flex-direction: column; flex-basis: 100%; flex: 1; padding: 10px; }\n",
       "    </style>\n",
       "<div class=\"wandb-row\"><div class=\"wandb-col\"><h3>Run history:</h3><br/><table class=\"wandb\"><tr><td>iteration</td><td>▁▁▁▂▂▂▂▂▂▃▃▃▃▃▄▄▄▄▄▄▅▅▅▅▅▅▆▆▆▆▆▇▇▇▇▇▇███</td></tr><tr><td>loss_train</td><td>█▅▄▃▁▁▁▁▁▁▁▁▁▁▁▁▁▁▁▁▁▁▁▁▁▁▁▁▁▁▁▁▁▁▁▁▁▁▁▁</td></tr><tr><td>loss_val</td><td>█▂▁▁▁▁▁▁▁▁▁▁▁▁▁▁▁▁▁▁▁▁▁▁▁</td></tr><tr><td>lr</td><td>█▇▆▆▅▅▄▄▄▃▃▃▂▂▂▂▂▂▂▂▂▁▁▁▁▁▁▁▁▁▁▁▁▁▁▁▁▁▁▁</td></tr></table><br/></div><div class=\"wandb-col\"><h3>Run summary:</h3><br/><table class=\"wandb\"><tr><td>iteration</td><td>499</td></tr><tr><td>loss_train</td><td>1.56903</td></tr><tr><td>loss_val</td><td>1.57359</td></tr><tr><td>lr</td><td>0.01314</td></tr></table><br/></div></div>"
      ],
      "text/plain": [
       "<IPython.core.display.HTML object>"
      ]
     },
     "metadata": {},
     "output_type": "display_data"
    },
    {
     "data": {
      "text/html": [
       " View run <strong style=\"color:#cdcd00\">optim=sgd__lr_sched=exp</strong> at: <a href='https://wandb.ai/alekseik1/simple-model-train/runs/b2tua7tv' target=\"_blank\">https://wandb.ai/alekseik1/simple-model-train/runs/b2tua7tv</a><br/>Synced 5 W&B file(s), 0 media file(s), 0 artifact file(s) and 0 other file(s)"
      ],
      "text/plain": [
       "<IPython.core.display.HTML object>"
      ]
     },
     "metadata": {},
     "output_type": "display_data"
    },
    {
     "data": {
      "text/html": [
       "Find logs at: <code>./wandb/run-20240323_132753-b2tua7tv/logs</code>"
      ],
      "text/plain": [
       "<IPython.core.display.HTML object>"
      ]
     },
     "metadata": {},
     "output_type": "display_data"
    },
    {
     "data": {
      "text/html": [
       "Tracking run with wandb version 0.16.4"
      ],
      "text/plain": [
       "<IPython.core.display.HTML object>"
      ]
     },
     "metadata": {},
     "output_type": "display_data"
    },
    {
     "data": {
      "text/html": [
       "Run data is saved locally in <code>/Users/akozharin/git/start-dl/start_dl/lesson_3/wandb/run-20240323_132806-iytzpv80</code>"
      ],
      "text/plain": [
       "<IPython.core.display.HTML object>"
      ]
     },
     "metadata": {},
     "output_type": "display_data"
    },
    {
     "data": {
      "text/html": [
       "Syncing run <strong><a href='https://wandb.ai/alekseik1/simple-model-train/runs/iytzpv80' target=\"_blank\">optim=sgd__lr_sched=linear</a></strong> to <a href='https://wandb.ai/alekseik1/simple-model-train' target=\"_blank\">Weights & Biases</a> (<a href='https://wandb.me/run' target=\"_blank\">docs</a>)<br/>"
      ],
      "text/plain": [
       "<IPython.core.display.HTML object>"
      ]
     },
     "metadata": {},
     "output_type": "display_data"
    },
    {
     "data": {
      "text/html": [
       " View project at <a href='https://wandb.ai/alekseik1/simple-model-train' target=\"_blank\">https://wandb.ai/alekseik1/simple-model-train</a>"
      ],
      "text/plain": [
       "<IPython.core.display.HTML object>"
      ]
     },
     "metadata": {},
     "output_type": "display_data"
    },
    {
     "data": {
      "text/html": [
       " View run at <a href='https://wandb.ai/alekseik1/simple-model-train/runs/iytzpv80' target=\"_blank\">https://wandb.ai/alekseik1/simple-model-train/runs/iytzpv80</a>"
      ],
      "text/plain": [
       "<IPython.core.display.HTML object>"
      ]
     },
     "metadata": {},
     "output_type": "display_data"
    },
    {
     "name": "stderr",
     "output_type": "stream",
     "text": [
      "100%|██████████| 500/500 [00:07<00:00, 69.74it/s]\n",
      "wandb: WARNING Source type is set to 'repo' but some required information is missing from the environment. A job will not be created from this run. See https://docs.wandb.ai/guides/launch/create-job\n"
     ]
    },
    {
     "data": {
      "text/html": [
       "<style>\n",
       "    table.wandb td:nth-child(1) { padding: 0 10px; text-align: left ; width: auto;} td:nth-child(2) {text-align: left ; width: 100%}\n",
       "    .wandb-row { display: flex; flex-direction: row; flex-wrap: wrap; justify-content: flex-start; width: 100% }\n",
       "    .wandb-col { display: flex; flex-direction: column; flex-basis: 100%; flex: 1; padding: 10px; }\n",
       "    </style>\n",
       "<div class=\"wandb-row\"><div class=\"wandb-col\"><h3>Run history:</h3><br/><table class=\"wandb\"><tr><td>iteration</td><td>▁▁▁▂▂▂▂▂▂▃▃▃▃▃▄▄▄▄▄▄▅▅▅▅▅▅▆▆▆▆▆▇▇▇▇▇▇███</td></tr><tr><td>loss_train</td><td>█▆▄▃▂▂▁▁▁▁▁▁▁▁▁▁▁▁▁▁▁▁▁▁▁▁▁▁▁▁▁▁▁▁▁▁▁▁▁▁</td></tr><tr><td>loss_val</td><td>█▃▂▁▁▁▁▁▁▁▁▁▁▁▁▁▁▁▁▁▁▁▁▁▁</td></tr><tr><td>lr</td><td>███▇▇▇▇▇▇▆▆▆▆▆▅▅▅▅▅▅▄▄▄▄▄▄▃▃▃▃▃▂▂▂▂▂▂▁▁▁</td></tr></table><br/></div><div class=\"wandb-col\"><h3>Run summary:</h3><br/><table class=\"wandb\"><tr><td>iteration</td><td>499</td></tr><tr><td>loss_train</td><td>1.54324</td></tr><tr><td>loss_val</td><td>1.55984</td></tr><tr><td>lr</td><td>0.2</td></tr></table><br/></div></div>"
      ],
      "text/plain": [
       "<IPython.core.display.HTML object>"
      ]
     },
     "metadata": {},
     "output_type": "display_data"
    },
    {
     "data": {
      "text/html": [
       " View run <strong style=\"color:#cdcd00\">optim=sgd__lr_sched=linear</strong> at: <a href='https://wandb.ai/alekseik1/simple-model-train/runs/iytzpv80' target=\"_blank\">https://wandb.ai/alekseik1/simple-model-train/runs/iytzpv80</a><br/>Synced 5 W&B file(s), 0 media file(s), 0 artifact file(s) and 0 other file(s)"
      ],
      "text/plain": [
       "<IPython.core.display.HTML object>"
      ]
     },
     "metadata": {},
     "output_type": "display_data"
    },
    {
     "data": {
      "text/html": [
       "Find logs at: <code>./wandb/run-20240323_132806-iytzpv80/logs</code>"
      ],
      "text/plain": [
       "<IPython.core.display.HTML object>"
      ]
     },
     "metadata": {},
     "output_type": "display_data"
    },
    {
     "data": {
      "text/html": [
       "Tracking run with wandb version 0.16.4"
      ],
      "text/plain": [
       "<IPython.core.display.HTML object>"
      ]
     },
     "metadata": {},
     "output_type": "display_data"
    },
    {
     "data": {
      "text/html": [
       "Run data is saved locally in <code>/Users/akozharin/git/start-dl/start_dl/lesson_3/wandb/run-20240323_132819-wqqxrctg</code>"
      ],
      "text/plain": [
       "<IPython.core.display.HTML object>"
      ]
     },
     "metadata": {},
     "output_type": "display_data"
    },
    {
     "data": {
      "text/html": [
       "Syncing run <strong><a href='https://wandb.ai/alekseik1/simple-model-train/runs/wqqxrctg' target=\"_blank\">optim=sgd__lr_sched=step</a></strong> to <a href='https://wandb.ai/alekseik1/simple-model-train' target=\"_blank\">Weights & Biases</a> (<a href='https://wandb.me/run' target=\"_blank\">docs</a>)<br/>"
      ],
      "text/plain": [
       "<IPython.core.display.HTML object>"
      ]
     },
     "metadata": {},
     "output_type": "display_data"
    },
    {
     "data": {
      "text/html": [
       " View project at <a href='https://wandb.ai/alekseik1/simple-model-train' target=\"_blank\">https://wandb.ai/alekseik1/simple-model-train</a>"
      ],
      "text/plain": [
       "<IPython.core.display.HTML object>"
      ]
     },
     "metadata": {},
     "output_type": "display_data"
    },
    {
     "data": {
      "text/html": [
       " View run at <a href='https://wandb.ai/alekseik1/simple-model-train/runs/wqqxrctg' target=\"_blank\">https://wandb.ai/alekseik1/simple-model-train/runs/wqqxrctg</a>"
      ],
      "text/plain": [
       "<IPython.core.display.HTML object>"
      ]
     },
     "metadata": {},
     "output_type": "display_data"
    },
    {
     "name": "stderr",
     "output_type": "stream",
     "text": [
      "100%|██████████| 500/500 [00:07<00:00, 69.56it/s]\n",
      "wandb: WARNING Source type is set to 'repo' but some required information is missing from the environment. A job will not be created from this run. See https://docs.wandb.ai/guides/launch/create-job\n"
     ]
    },
    {
     "data": {
      "text/html": [
       "<style>\n",
       "    table.wandb td:nth-child(1) { padding: 0 10px; text-align: left ; width: auto;} td:nth-child(2) {text-align: left ; width: 100%}\n",
       "    .wandb-row { display: flex; flex-direction: row; flex-wrap: wrap; justify-content: flex-start; width: 100% }\n",
       "    .wandb-col { display: flex; flex-direction: column; flex-basis: 100%; flex: 1; padding: 10px; }\n",
       "    </style>\n",
       "<div class=\"wandb-row\"><div class=\"wandb-col\"><h3>Run history:</h3><br/><table class=\"wandb\"><tr><td>iteration</td><td>▁▁▁▂▂▂▂▂▂▃▃▃▃▃▄▄▄▄▄▄▅▅▅▅▅▅▆▆▆▆▆▇▇▇▇▇▇███</td></tr><tr><td>loss_train</td><td>█▆▅▃▂▁▁▁▁▁▁▁▁▁▁▁▁▁▁▁▁▁▁▁▁▁▁▁▁▁▁▁▁▁▁▁▁▁▁▁</td></tr><tr><td>loss_val</td><td>█▄▁▁▁▁▁▁▁▁▁▁▁▁▁▁▁▁▁▁▁▁▁▁▁</td></tr><tr><td>lr</td><td>█▇▇▆▅▅▄▄▃▃▃▃▂▂▂▂▂▂▂▂▁▁▁▁▁▁▁▁▁▁▁▁▁▁▁▁▁▁▁▁</td></tr></table><br/></div><div class=\"wandb-col\"><h3>Run summary:</h3><br/><table class=\"wandb\"><tr><td>iteration</td><td>499</td></tr><tr><td>loss_train</td><td>1.57048</td></tr><tr><td>loss_val</td><td>1.57467</td></tr><tr><td>lr</td><td>0.01031</td></tr></table><br/></div></div>"
      ],
      "text/plain": [
       "<IPython.core.display.HTML object>"
      ]
     },
     "metadata": {},
     "output_type": "display_data"
    },
    {
     "data": {
      "text/html": [
       " View run <strong style=\"color:#cdcd00\">optim=sgd__lr_sched=step</strong> at: <a href='https://wandb.ai/alekseik1/simple-model-train/runs/wqqxrctg' target=\"_blank\">https://wandb.ai/alekseik1/simple-model-train/runs/wqqxrctg</a><br/>Synced 5 W&B file(s), 0 media file(s), 0 artifact file(s) and 0 other file(s)"
      ],
      "text/plain": [
       "<IPython.core.display.HTML object>"
      ]
     },
     "metadata": {},
     "output_type": "display_data"
    },
    {
     "data": {
      "text/html": [
       "Find logs at: <code>./wandb/run-20240323_132819-wqqxrctg/logs</code>"
      ],
      "text/plain": [
       "<IPython.core.display.HTML object>"
      ]
     },
     "metadata": {},
     "output_type": "display_data"
    },
    {
     "data": {
      "text/html": [
       "Tracking run with wandb version 0.16.4"
      ],
      "text/plain": [
       "<IPython.core.display.HTML object>"
      ]
     },
     "metadata": {},
     "output_type": "display_data"
    },
    {
     "data": {
      "text/html": [
       "Run data is saved locally in <code>/Users/akozharin/git/start-dl/start_dl/lesson_3/wandb/run-20240323_132831-9pqcs1o9</code>"
      ],
      "text/plain": [
       "<IPython.core.display.HTML object>"
      ]
     },
     "metadata": {},
     "output_type": "display_data"
    },
    {
     "data": {
      "text/html": [
       "Syncing run <strong><a href='https://wandb.ai/alekseik1/simple-model-train/runs/9pqcs1o9' target=\"_blank\">optim=adam__lr_sched=None</a></strong> to <a href='https://wandb.ai/alekseik1/simple-model-train' target=\"_blank\">Weights & Biases</a> (<a href='https://wandb.me/run' target=\"_blank\">docs</a>)<br/>"
      ],
      "text/plain": [
       "<IPython.core.display.HTML object>"
      ]
     },
     "metadata": {},
     "output_type": "display_data"
    },
    {
     "data": {
      "text/html": [
       " View project at <a href='https://wandb.ai/alekseik1/simple-model-train' target=\"_blank\">https://wandb.ai/alekseik1/simple-model-train</a>"
      ],
      "text/plain": [
       "<IPython.core.display.HTML object>"
      ]
     },
     "metadata": {},
     "output_type": "display_data"
    },
    {
     "data": {
      "text/html": [
       " View run at <a href='https://wandb.ai/alekseik1/simple-model-train/runs/9pqcs1o9' target=\"_blank\">https://wandb.ai/alekseik1/simple-model-train/runs/9pqcs1o9</a>"
      ],
      "text/plain": [
       "<IPython.core.display.HTML object>"
      ]
     },
     "metadata": {},
     "output_type": "display_data"
    },
    {
     "name": "stderr",
     "output_type": "stream",
     "text": [
      "100%|██████████| 500/500 [00:07<00:00, 69.47it/s]\n",
      "wandb: WARNING Source type is set to 'repo' but some required information is missing from the environment. A job will not be created from this run. See https://docs.wandb.ai/guides/launch/create-job\n"
     ]
    },
    {
     "data": {
      "text/html": [
       "<style>\n",
       "    table.wandb td:nth-child(1) { padding: 0 10px; text-align: left ; width: auto;} td:nth-child(2) {text-align: left ; width: 100%}\n",
       "    .wandb-row { display: flex; flex-direction: row; flex-wrap: wrap; justify-content: flex-start; width: 100% }\n",
       "    .wandb-col { display: flex; flex-direction: column; flex-basis: 100%; flex: 1; padding: 10px; }\n",
       "    </style>\n",
       "<div class=\"wandb-row\"><div class=\"wandb-col\"><h3>Run history:</h3><br/><table class=\"wandb\"><tr><td>iteration</td><td>▁▁▁▂▂▂▂▂▂▃▃▃▃▃▄▄▄▄▄▄▅▅▅▅▅▅▆▆▆▆▆▇▇▇▇▇▇███</td></tr><tr><td>loss_train</td><td>▁▁▁▁▁▁▁▁▁▁▁▁▁▁▁▁▁▁▁▁▁▁▁▁▁▁▁▁▁▁▁▁▁▁▁▁▁▁▁▁</td></tr><tr><td>loss_val</td><td>▁▁▁▁▁▁▁▁▁▁▁▁▁▁▁▁▁▁▁▁▁▁▁▁▁</td></tr><tr><td>lr</td><td>▁▁▁▁▁▁▁▁▁▁▁▁▁▁▁▁▁▁▁▁▁▁▁▁▁▁▁▁▁▁▁▁▁▁▁▁▁▁▁▁</td></tr></table><br/></div><div class=\"wandb-col\"><h3>Run summary:</h3><br/><table class=\"wandb\"><tr><td>iteration</td><td>499</td></tr><tr><td>loss_train</td><td>2.3636</td></tr><tr><td>loss_val</td><td>2.35534</td></tr><tr><td>lr</td><td>2</td></tr></table><br/></div></div>"
      ],
      "text/plain": [
       "<IPython.core.display.HTML object>"
      ]
     },
     "metadata": {},
     "output_type": "display_data"
    },
    {
     "data": {
      "text/html": [
       " View run <strong style=\"color:#cdcd00\">optim=adam__lr_sched=None</strong> at: <a href='https://wandb.ai/alekseik1/simple-model-train/runs/9pqcs1o9' target=\"_blank\">https://wandb.ai/alekseik1/simple-model-train/runs/9pqcs1o9</a><br/>Synced 5 W&B file(s), 0 media file(s), 0 artifact file(s) and 0 other file(s)"
      ],
      "text/plain": [
       "<IPython.core.display.HTML object>"
      ]
     },
     "metadata": {},
     "output_type": "display_data"
    },
    {
     "data": {
      "text/html": [
       "Find logs at: <code>./wandb/run-20240323_132831-9pqcs1o9/logs</code>"
      ],
      "text/plain": [
       "<IPython.core.display.HTML object>"
      ]
     },
     "metadata": {},
     "output_type": "display_data"
    },
    {
     "data": {
      "text/html": [
       "Tracking run with wandb version 0.16.4"
      ],
      "text/plain": [
       "<IPython.core.display.HTML object>"
      ]
     },
     "metadata": {},
     "output_type": "display_data"
    },
    {
     "data": {
      "text/html": [
       "Run data is saved locally in <code>/Users/akozharin/git/start-dl/start_dl/lesson_3/wandb/run-20240323_132844-7r0z18jq</code>"
      ],
      "text/plain": [
       "<IPython.core.display.HTML object>"
      ]
     },
     "metadata": {},
     "output_type": "display_data"
    },
    {
     "data": {
      "text/html": [
       "Syncing run <strong><a href='https://wandb.ai/alekseik1/simple-model-train/runs/7r0z18jq' target=\"_blank\">optim=adam__lr_sched=exp</a></strong> to <a href='https://wandb.ai/alekseik1/simple-model-train' target=\"_blank\">Weights & Biases</a> (<a href='https://wandb.me/run' target=\"_blank\">docs</a>)<br/>"
      ],
      "text/plain": [
       "<IPython.core.display.HTML object>"
      ]
     },
     "metadata": {},
     "output_type": "display_data"
    },
    {
     "data": {
      "text/html": [
       " View project at <a href='https://wandb.ai/alekseik1/simple-model-train' target=\"_blank\">https://wandb.ai/alekseik1/simple-model-train</a>"
      ],
      "text/plain": [
       "<IPython.core.display.HTML object>"
      ]
     },
     "metadata": {},
     "output_type": "display_data"
    },
    {
     "data": {
      "text/html": [
       " View run at <a href='https://wandb.ai/alekseik1/simple-model-train/runs/7r0z18jq' target=\"_blank\">https://wandb.ai/alekseik1/simple-model-train/runs/7r0z18jq</a>"
      ],
      "text/plain": [
       "<IPython.core.display.HTML object>"
      ]
     },
     "metadata": {},
     "output_type": "display_data"
    },
    {
     "name": "stderr",
     "output_type": "stream",
     "text": [
      "100%|██████████| 500/500 [00:07<00:00, 69.17it/s]\n",
      "wandb: WARNING Source type is set to 'repo' but some required information is missing from the environment. A job will not be created from this run. See https://docs.wandb.ai/guides/launch/create-job\n"
     ]
    },
    {
     "data": {
      "text/html": [
       "<style>\n",
       "    table.wandb td:nth-child(1) { padding: 0 10px; text-align: left ; width: auto;} td:nth-child(2) {text-align: left ; width: 100%}\n",
       "    .wandb-row { display: flex; flex-direction: row; flex-wrap: wrap; justify-content: flex-start; width: 100% }\n",
       "    .wandb-col { display: flex; flex-direction: column; flex-basis: 100%; flex: 1; padding: 10px; }\n",
       "    </style>\n",
       "<div class=\"wandb-row\"><div class=\"wandb-col\"><h3>Run history:</h3><br/><table class=\"wandb\"><tr><td>iteration</td><td>▁▁▁▂▂▂▂▂▂▃▃▃▃▃▄▄▄▄▄▄▅▅▅▅▅▅▆▆▆▆▆▇▇▇▇▇▇███</td></tr><tr><td>loss_train</td><td>▁▁▁▁▁▁▁▁▁▁▁▁▁▁▁▁▁▁▁▁▁▁▁▁▁▁▁▁▁▁▁▁▁▁▁▁▁▁▁▁</td></tr><tr><td>loss_val</td><td>▁▁▁▁▁▁▁▁▁▁▁▁▁▁▁▁▁▁▁▁▁▁▁▁▁</td></tr><tr><td>lr</td><td>█▇▆▆▅▅▄▄▄▃▃▃▂▂▂▂▂▂▂▂▂▁▁▁▁▁▁▁▁▁▁▁▁▁▁▁▁▁▁▁</td></tr></table><br/></div><div class=\"wandb-col\"><h3>Run summary:</h3><br/><table class=\"wandb\"><tr><td>iteration</td><td>499</td></tr><tr><td>loss_train</td><td>2.3636</td></tr><tr><td>loss_val</td><td>2.35534</td></tr><tr><td>lr</td><td>0.01314</td></tr></table><br/></div></div>"
      ],
      "text/plain": [
       "<IPython.core.display.HTML object>"
      ]
     },
     "metadata": {},
     "output_type": "display_data"
    },
    {
     "data": {
      "text/html": [
       " View run <strong style=\"color:#cdcd00\">optim=adam__lr_sched=exp</strong> at: <a href='https://wandb.ai/alekseik1/simple-model-train/runs/7r0z18jq' target=\"_blank\">https://wandb.ai/alekseik1/simple-model-train/runs/7r0z18jq</a><br/>Synced 5 W&B file(s), 0 media file(s), 0 artifact file(s) and 0 other file(s)"
      ],
      "text/plain": [
       "<IPython.core.display.HTML object>"
      ]
     },
     "metadata": {},
     "output_type": "display_data"
    },
    {
     "data": {
      "text/html": [
       "Find logs at: <code>./wandb/run-20240323_132844-7r0z18jq/logs</code>"
      ],
      "text/plain": [
       "<IPython.core.display.HTML object>"
      ]
     },
     "metadata": {},
     "output_type": "display_data"
    },
    {
     "data": {
      "text/html": [
       "Tracking run with wandb version 0.16.4"
      ],
      "text/plain": [
       "<IPython.core.display.HTML object>"
      ]
     },
     "metadata": {},
     "output_type": "display_data"
    },
    {
     "data": {
      "text/html": [
       "Run data is saved locally in <code>/Users/akozharin/git/start-dl/start_dl/lesson_3/wandb/run-20240323_132857-i6cbwhrc</code>"
      ],
      "text/plain": [
       "<IPython.core.display.HTML object>"
      ]
     },
     "metadata": {},
     "output_type": "display_data"
    },
    {
     "data": {
      "text/html": [
       "Syncing run <strong><a href='https://wandb.ai/alekseik1/simple-model-train/runs/i6cbwhrc' target=\"_blank\">optim=adam__lr_sched=linear</a></strong> to <a href='https://wandb.ai/alekseik1/simple-model-train' target=\"_blank\">Weights & Biases</a> (<a href='https://wandb.me/run' target=\"_blank\">docs</a>)<br/>"
      ],
      "text/plain": [
       "<IPython.core.display.HTML object>"
      ]
     },
     "metadata": {},
     "output_type": "display_data"
    },
    {
     "data": {
      "text/html": [
       " View project at <a href='https://wandb.ai/alekseik1/simple-model-train' target=\"_blank\">https://wandb.ai/alekseik1/simple-model-train</a>"
      ],
      "text/plain": [
       "<IPython.core.display.HTML object>"
      ]
     },
     "metadata": {},
     "output_type": "display_data"
    },
    {
     "data": {
      "text/html": [
       " View run at <a href='https://wandb.ai/alekseik1/simple-model-train/runs/i6cbwhrc' target=\"_blank\">https://wandb.ai/alekseik1/simple-model-train/runs/i6cbwhrc</a>"
      ],
      "text/plain": [
       "<IPython.core.display.HTML object>"
      ]
     },
     "metadata": {},
     "output_type": "display_data"
    },
    {
     "name": "stderr",
     "output_type": "stream",
     "text": [
      "100%|██████████| 500/500 [00:07<00:00, 66.27it/s]\n",
      "wandb: WARNING Source type is set to 'repo' but some required information is missing from the environment. A job will not be created from this run. See https://docs.wandb.ai/guides/launch/create-job\n"
     ]
    },
    {
     "data": {
      "text/html": [
       "<style>\n",
       "    table.wandb td:nth-child(1) { padding: 0 10px; text-align: left ; width: auto;} td:nth-child(2) {text-align: left ; width: 100%}\n",
       "    .wandb-row { display: flex; flex-direction: row; flex-wrap: wrap; justify-content: flex-start; width: 100% }\n",
       "    .wandb-col { display: flex; flex-direction: column; flex-basis: 100%; flex: 1; padding: 10px; }\n",
       "    </style>\n",
       "<div class=\"wandb-row\"><div class=\"wandb-col\"><h3>Run history:</h3><br/><table class=\"wandb\"><tr><td>iteration</td><td>▁▁▁▂▂▂▂▂▂▃▃▃▃▃▄▄▄▄▄▄▅▅▅▅▅▅▆▆▆▆▆▇▇▇▇▇▇███</td></tr><tr><td>loss_train</td><td>▁▁▁▁▁▁▁▁▁▁▁▁▁▁▁▁▁▁▁▁▁▁▁▁▁▁▁▁▁▁▁▁▁▁▁▁▁▁▁▁</td></tr><tr><td>loss_val</td><td>▁▁▁▁▁▁▁▁▁▁▁▁▁▁▁▁▁▁▁▁▁▁▁▁▁</td></tr><tr><td>lr</td><td>███▇▇▇▇▇▇▆▆▆▆▆▅▅▅▅▅▅▄▄▄▄▄▄▃▃▃▃▃▂▂▂▂▂▂▁▁▁</td></tr></table><br/></div><div class=\"wandb-col\"><h3>Run summary:</h3><br/><table class=\"wandb\"><tr><td>iteration</td><td>499</td></tr><tr><td>loss_train</td><td>2.3636</td></tr><tr><td>loss_val</td><td>2.35534</td></tr><tr><td>lr</td><td>0.2</td></tr></table><br/></div></div>"
      ],
      "text/plain": [
       "<IPython.core.display.HTML object>"
      ]
     },
     "metadata": {},
     "output_type": "display_data"
    },
    {
     "data": {
      "text/html": [
       " View run <strong style=\"color:#cdcd00\">optim=adam__lr_sched=linear</strong> at: <a href='https://wandb.ai/alekseik1/simple-model-train/runs/i6cbwhrc' target=\"_blank\">https://wandb.ai/alekseik1/simple-model-train/runs/i6cbwhrc</a><br/>Synced 5 W&B file(s), 0 media file(s), 0 artifact file(s) and 0 other file(s)"
      ],
      "text/plain": [
       "<IPython.core.display.HTML object>"
      ]
     },
     "metadata": {},
     "output_type": "display_data"
    },
    {
     "data": {
      "text/html": [
       "Find logs at: <code>./wandb/run-20240323_132857-i6cbwhrc/logs</code>"
      ],
      "text/plain": [
       "<IPython.core.display.HTML object>"
      ]
     },
     "metadata": {},
     "output_type": "display_data"
    },
    {
     "data": {
      "text/html": [
       "Tracking run with wandb version 0.16.4"
      ],
      "text/plain": [
       "<IPython.core.display.HTML object>"
      ]
     },
     "metadata": {},
     "output_type": "display_data"
    },
    {
     "data": {
      "text/html": [
       "Run data is saved locally in <code>/Users/akozharin/git/start-dl/start_dl/lesson_3/wandb/run-20240323_132909-2rs66oi9</code>"
      ],
      "text/plain": [
       "<IPython.core.display.HTML object>"
      ]
     },
     "metadata": {},
     "output_type": "display_data"
    },
    {
     "data": {
      "text/html": [
       "Syncing run <strong><a href='https://wandb.ai/alekseik1/simple-model-train/runs/2rs66oi9' target=\"_blank\">optim=adam__lr_sched=step</a></strong> to <a href='https://wandb.ai/alekseik1/simple-model-train' target=\"_blank\">Weights & Biases</a> (<a href='https://wandb.me/run' target=\"_blank\">docs</a>)<br/>"
      ],
      "text/plain": [
       "<IPython.core.display.HTML object>"
      ]
     },
     "metadata": {},
     "output_type": "display_data"
    },
    {
     "data": {
      "text/html": [
       " View project at <a href='https://wandb.ai/alekseik1/simple-model-train' target=\"_blank\">https://wandb.ai/alekseik1/simple-model-train</a>"
      ],
      "text/plain": [
       "<IPython.core.display.HTML object>"
      ]
     },
     "metadata": {},
     "output_type": "display_data"
    },
    {
     "data": {
      "text/html": [
       " View run at <a href='https://wandb.ai/alekseik1/simple-model-train/runs/2rs66oi9' target=\"_blank\">https://wandb.ai/alekseik1/simple-model-train/runs/2rs66oi9</a>"
      ],
      "text/plain": [
       "<IPython.core.display.HTML object>"
      ]
     },
     "metadata": {},
     "output_type": "display_data"
    },
    {
     "name": "stderr",
     "output_type": "stream",
     "text": [
      "100%|██████████| 500/500 [00:07<00:00, 70.12it/s]\n",
      "wandb: WARNING Source type is set to 'repo' but some required information is missing from the environment. A job will not be created from this run. See https://docs.wandb.ai/guides/launch/create-job\n"
     ]
    },
    {
     "data": {
      "text/html": [
       "<style>\n",
       "    table.wandb td:nth-child(1) { padding: 0 10px; text-align: left ; width: auto;} td:nth-child(2) {text-align: left ; width: 100%}\n",
       "    .wandb-row { display: flex; flex-direction: row; flex-wrap: wrap; justify-content: flex-start; width: 100% }\n",
       "    .wandb-col { display: flex; flex-direction: column; flex-basis: 100%; flex: 1; padding: 10px; }\n",
       "    </style>\n",
       "<div class=\"wandb-row\"><div class=\"wandb-col\"><h3>Run history:</h3><br/><table class=\"wandb\"><tr><td>iteration</td><td>▁▁▁▂▂▂▂▂▂▃▃▃▃▃▄▄▄▄▄▄▅▅▅▅▅▅▆▆▆▆▆▇▇▇▇▇▇███</td></tr><tr><td>loss_train</td><td>▁▁▁▁▁▁▁▁▁▁▁▁▁▁▁▁▁▁▁▁▁▁▁▁▁▁▁▁▁▁▁▁▁▁▁▁▁▁▁▁</td></tr><tr><td>loss_val</td><td>▁▁▁▁▁▁▁▁▁▁▁▁▁▁▁▁▁▁▁▁▁▁▁▁▁</td></tr><tr><td>lr</td><td>█▇▇▆▅▅▄▄▃▃▃▃▂▂▂▂▂▂▂▂▁▁▁▁▁▁▁▁▁▁▁▁▁▁▁▁▁▁▁▁</td></tr></table><br/></div><div class=\"wandb-col\"><h3>Run summary:</h3><br/><table class=\"wandb\"><tr><td>iteration</td><td>499</td></tr><tr><td>loss_train</td><td>2.3636</td></tr><tr><td>loss_val</td><td>2.35534</td></tr><tr><td>lr</td><td>0.01031</td></tr></table><br/></div></div>"
      ],
      "text/plain": [
       "<IPython.core.display.HTML object>"
      ]
     },
     "metadata": {},
     "output_type": "display_data"
    },
    {
     "data": {
      "text/html": [
       " View run <strong style=\"color:#cdcd00\">optim=adam__lr_sched=step</strong> at: <a href='https://wandb.ai/alekseik1/simple-model-train/runs/2rs66oi9' target=\"_blank\">https://wandb.ai/alekseik1/simple-model-train/runs/2rs66oi9</a><br/>Synced 5 W&B file(s), 0 media file(s), 0 artifact file(s) and 0 other file(s)"
      ],
      "text/plain": [
       "<IPython.core.display.HTML object>"
      ]
     },
     "metadata": {},
     "output_type": "display_data"
    },
    {
     "data": {
      "text/html": [
       "Find logs at: <code>./wandb/run-20240323_132909-2rs66oi9/logs</code>"
      ],
      "text/plain": [
       "<IPython.core.display.HTML object>"
      ]
     },
     "metadata": {},
     "output_type": "display_data"
    }
   ],
   "source": [
    "import typing as tp\n",
    "\n",
    "from torch.optim.lr_scheduler import ExponentialLR, LinearLR, StepLR\n",
    "from torch.optim.adam import Adam\n",
    "\n",
    "\n",
    "# конфиги можно сделать в словаре, а можно в датаклассе - будут подсказки в редакторе\n",
    "@dataclass\n",
    "class TrainConfig:\n",
    "    eval_every: int = 10\n",
    "    lr: float = 1e-2\n",
    "    total_iterations: int = 3000\n",
    "    scheduler_type: tp.Literal[\"exp\", \"linear\", \"step\"] | None = None\n",
    "    optimizer_type: tp.Literal[\"sgd\", \"adam\"] = \"sgd\"\n",
    "\n",
    "\n",
    "def train_loop(\n",
    "    model: nn.Module,\n",
    "    X_train: torch.Tensor,\n",
    "    y_train: torch.Tensor,\n",
    "    X_val: torch.Tensor,\n",
    "    y_val: torch.Tensor,\n",
    "    config: TrainConfig,\n",
    "    run_name: str | None = None,\n",
    "):\n",
    "    wandb.init(\n",
    "        project=\"simple-model-train\",\n",
    "        notes=\"version 1\",\n",
    "        # еще добавим возможность называть запуски\n",
    "        name=run_name,\n",
    "        tags=[config.optimizer_type, str(config.scheduler_type)],\n",
    "        config=config,\n",
    "    )\n",
    "\n",
    "    #### Новое: создаем разный optimizer в зависимости от конфига ####\n",
    "    if config.optimizer_type == \"sgd\":\n",
    "        optim = SGD(model.parameters(), lr=config.lr)\n",
    "    else:\n",
    "        optim = Adam(model.parameters(), lr=config.lr)\n",
    "    #### Новое: создаем шедулер ####\n",
    "    # LR scheduler на вход принимает optimizer и некоторые параметры (которые зависят от его алгоритма)\n",
    "    if config.scheduler_type == \"exp\":\n",
    "        scheduler = ExponentialLR(optim, gamma=0.99)\n",
    "    elif config.scheduler_type == \"linear\":\n",
    "        scheduler = LinearLR(\n",
    "            optim, start_factor=1.0, end_factor=0.1, total_iters=config.total_iterations\n",
    "        )\n",
    "    elif config.scheduler_type == \"step\":\n",
    "        scheduler = StepLR(optim, step_size=10, gamma=0.9)\n",
    "    else:\n",
    "        scheduler = None\n",
    "    #####\n",
    "\n",
    "    model.train()\n",
    "    for i in tqdm.trange(config.total_iterations):\n",
    "        optim.zero_grad()\n",
    "        loss = F.cross_entropy(model(X_train), y_train)\n",
    "        loss.backward()\n",
    "        optim.step()\n",
    "        metrics = {\"iteration\": i, \"loss_train\": loss.detach().cpu().item()}\n",
    "        # каждые `eval_every` итераций будем считать метрику на отложенной выборке\n",
    "        if (i + 1) % config.eval_every == 0:\n",
    "            with torch.no_grad():\n",
    "                model.eval()\n",
    "                loss_val = F.cross_entropy(model(X_val), y_val)\n",
    "                model.train()\n",
    "                metrics.update({\"loss_val\": loss_val.cpu().item()})\n",
    "        if scheduler is not None:\n",
    "            # для scheduler точно так же надо звать .step(), но после обучения и валидации\n",
    "            # см. пример в документации: https://pytorch.org/docs/stable/generated/torch.optim.lr_scheduler.StepLR.html\n",
    "            scheduler.step()\n",
    "            metrics.update({\"lr\": scheduler.get_last_lr()[0]})\n",
    "        else:\n",
    "            # Чтобы иметь одинаковый набор графиков\n",
    "            metrics.update({\"lr\": config.lr})\n",
    "        wandb.log(metrics)\n",
    "    wandb.finish()\n",
    "    return optim\n",
    "\n",
    "\n",
    "# на exp быстрее к нулю сойдемся, без scheduler тогда ок.\n",
    "for optim in (\"sgd\", \"adam\"):\n",
    "    for scheduler_type in (None, \"exp\", \"linear\", \"step\"):\n",
    "        torch.random.manual_seed(seed)\n",
    "        config = TrainConfig(\n",
    "            eval_every=20,\n",
    "            lr=2,\n",
    "            total_iterations=500,\n",
    "            scheduler_type=scheduler_type,\n",
    "            optimizer_type=optim,\n",
    "        )\n",
    "        model = SimpleModel(num_classes=len(ohe.classes_))\n",
    "        train_loop(\n",
    "            model,\n",
    "            X_train,\n",
    "            y_train,\n",
    "            X_val,\n",
    "            y_val,\n",
    "            config=config,\n",
    "            run_name=f\"optim={optim}__lr_sched={scheduler_type}\",\n",
    "        )"
   ]
  },
  {
   "cell_type": "markdown",
   "metadata": {},
   "source": [
    "#### Что изменил LR Scheduler\n",
    "Добавление экспоненциального шедулера помогло в начале, но в конце привело к худшей метрике,\n",
    "чем полное отсутствие шедулера.\n",
    "\n",
    "Делаем вывод, что LR scheduler не всегда дает пользу.\n",
    "\n",
    "В больших сетях без него не обойтись, поскольку большие нейросети бывают капризными к выбору learning rate.\n",
    "Наша же сеть простая, поэтому для нее не имеет разницы - что есть шедулер, что его нет.\n",
    "\n",
    "#### Что изменил другой оптимайзер\n",
    "Смена SGD на Adam привела к ухудшению результата модели.\n",
    "Делаем вывод, что менять оптимайзер - не самая лучшая идея, если хотим выбить больше качества.\n",
    "\n",
    "Но если модель не хочет учиться, то смена оптимайзера может спасти дело.\n",
    "Такое случается в больших моделях.\n"
   ]
  },
  {
   "cell_type": "markdown",
   "metadata": {},
   "source": [
    "### Добавляем Dropout и Batch Normalization"
   ]
  },
  {
   "cell_type": "code",
   "execution_count": 13,
   "metadata": {},
   "outputs": [
    {
     "data": {
      "text/html": [
       "Tracking run with wandb version 0.16.4"
      ],
      "text/plain": [
       "<IPython.core.display.HTML object>"
      ]
     },
     "metadata": {},
     "output_type": "display_data"
    },
    {
     "data": {
      "text/html": [
       "Run data is saved locally in <code>/Users/akozharin/git/start-dl/start_dl/lesson_3/wandb/run-20240323_133901-gvkyf9gg</code>"
      ],
      "text/plain": [
       "<IPython.core.display.HTML object>"
      ]
     },
     "metadata": {},
     "output_type": "display_data"
    },
    {
     "data": {
      "text/html": [
       "Syncing run <strong><a href='https://wandb.ai/alekseik1/simple-model-train/runs/gvkyf9gg' target=\"_blank\">add-dropout</a></strong> to <a href='https://wandb.ai/alekseik1/simple-model-train' target=\"_blank\">Weights & Biases</a> (<a href='https://wandb.me/run' target=\"_blank\">docs</a>)<br/>"
      ],
      "text/plain": [
       "<IPython.core.display.HTML object>"
      ]
     },
     "metadata": {},
     "output_type": "display_data"
    },
    {
     "data": {
      "text/html": [
       " View project at <a href='https://wandb.ai/alekseik1/simple-model-train' target=\"_blank\">https://wandb.ai/alekseik1/simple-model-train</a>"
      ],
      "text/plain": [
       "<IPython.core.display.HTML object>"
      ]
     },
     "metadata": {},
     "output_type": "display_data"
    },
    {
     "data": {
      "text/html": [
       " View run at <a href='https://wandb.ai/alekseik1/simple-model-train/runs/gvkyf9gg' target=\"_blank\">https://wandb.ai/alekseik1/simple-model-train/runs/gvkyf9gg</a>"
      ],
      "text/plain": [
       "<IPython.core.display.HTML object>"
      ]
     },
     "metadata": {},
     "output_type": "display_data"
    },
    {
     "name": "stderr",
     "output_type": "stream",
     "text": [
      "100%|██████████| 500/500 [00:12<00:00, 38.66it/s]\n",
      "wandb: WARNING Source type is set to 'repo' but some required information is missing from the environment. A job will not be created from this run. See https://docs.wandb.ai/guides/launch/create-job\n"
     ]
    },
    {
     "data": {
      "text/html": [
       "<style>\n",
       "    table.wandb td:nth-child(1) { padding: 0 10px; text-align: left ; width: auto;} td:nth-child(2) {text-align: left ; width: 100%}\n",
       "    .wandb-row { display: flex; flex-direction: row; flex-wrap: wrap; justify-content: flex-start; width: 100% }\n",
       "    .wandb-col { display: flex; flex-direction: column; flex-basis: 100%; flex: 1; padding: 10px; }\n",
       "    </style>\n",
       "<div class=\"wandb-row\"><div class=\"wandb-col\"><h3>Run history:</h3><br/><table class=\"wandb\"><tr><td>iteration</td><td>▁▁▁▂▂▂▂▂▂▃▃▃▃▃▄▄▄▄▄▄▅▅▅▅▅▅▆▆▆▆▆▇▇▇▇▇▇███</td></tr><tr><td>loss_train</td><td>█▅▄▃▂▂▂▁▁▁▁▁▁▁▁▁▁▁▁▁▁▁▁▁▁▁▁▁▁▁▁▁▁▁▁▁▁▁▁▁</td></tr><tr><td>loss_val</td><td>█▄▂▁▁▁▁▁▁▁▁▁▁▁▁▁▁▁▁▁▁▁▁▁▁</td></tr><tr><td>lr</td><td>▁▁▁▁▁▁▁▁▁▁▁▁▁▁▁▁▁▁▁▁▁▁▁▁▁▁▁▁▁▁▁▁▁▁▁▁▁▁▁▁</td></tr></table><br/></div><div class=\"wandb-col\"><h3>Run summary:</h3><br/><table class=\"wandb\"><tr><td>iteration</td><td>499</td></tr><tr><td>loss_train</td><td>1.53998</td></tr><tr><td>loss_val</td><td>1.55488</td></tr><tr><td>lr</td><td>2</td></tr></table><br/></div></div>"
      ],
      "text/plain": [
       "<IPython.core.display.HTML object>"
      ]
     },
     "metadata": {},
     "output_type": "display_data"
    },
    {
     "data": {
      "text/html": [
       " View run <strong style=\"color:#cdcd00\">add-dropout</strong> at: <a href='https://wandb.ai/alekseik1/simple-model-train/runs/gvkyf9gg' target=\"_blank\">https://wandb.ai/alekseik1/simple-model-train/runs/gvkyf9gg</a><br/>Synced 5 W&B file(s), 0 media file(s), 0 artifact file(s) and 0 other file(s)"
      ],
      "text/plain": [
       "<IPython.core.display.HTML object>"
      ]
     },
     "metadata": {},
     "output_type": "display_data"
    },
    {
     "data": {
      "text/html": [
       "Find logs at: <code>./wandb/run-20240323_133901-gvkyf9gg/logs</code>"
      ],
      "text/plain": [
       "<IPython.core.display.HTML object>"
      ]
     },
     "metadata": {},
     "output_type": "display_data"
    },
    {
     "data": {
      "text/plain": [
       "SGD (\n",
       "Parameter Group 0\n",
       "    dampening: 0\n",
       "    differentiable: False\n",
       "    foreach: None\n",
       "    lr: 2\n",
       "    maximize: False\n",
       "    momentum: 0\n",
       "    nesterov: False\n",
       "    weight_decay: 0\n",
       ")"
      ]
     },
     "execution_count": 13,
     "metadata": {},
     "output_type": "execute_result"
    }
   ],
   "source": [
    "class DropoutModel(nn.Module):\n",
    "    def __init__(self, num_classes: int, p_dropout: float = 0.5):\n",
    "        super().__init__()\n",
    "        hidden_dim = 256\n",
    "        self.net = nn.Sequential(\n",
    "            nn.Linear(in_features=28 * 28, out_features=hidden_dim),\n",
    "            nn.ReLU(),\n",
    "            nn.Dropout(p=p_dropout),\n",
    "            nn.Linear(in_features=hidden_dim, out_features=num_classes),\n",
    "            nn.Softmax(dim=1),\n",
    "        )\n",
    "\n",
    "    def forward(self, x: torch.Tensor):\n",
    "        x = x.reshape((-1, 28 * 28))\n",
    "        return self.net(x)\n",
    "\n",
    "\n",
    "torch.random.manual_seed(seed)\n",
    "config = TrainConfig(\n",
    "    eval_every=20,\n",
    "    lr=2,\n",
    "    total_iterations=500,\n",
    "    # возьмем None как самый лучший вариант\n",
    "    scheduler_type=None,\n",
    "    optimizer_type='sgd',\n",
    ")\n",
    "model = DropoutModel(num_classes=len(ohe.classes_))\n",
    "train_loop(model, X_train, y_train, X_val, y_val, config=config, run_name=\"add-dropout\")"
   ]
  },
  {
   "cell_type": "markdown",
   "metadata": {},
   "source": [
    "Лосс на трейне оказался чуть больше, но зато на валидации ошибка оказалась чуть-чуть получше.\n",
    "Это ожидаемо: dropout нацелен на то, чтобы бороться с переобучением.\n",
    "Dropout ставит палки в колеса модели, отсюда и увеличенный лосс на трейне."
   ]
  },
  {
   "cell_type": "code",
   "execution_count": 28,
   "metadata": {},
   "outputs": [
    {
     "data": {
      "text/html": [
       "Tracking run with wandb version 0.16.4"
      ],
      "text/plain": [
       "<IPython.core.display.HTML object>"
      ]
     },
     "metadata": {},
     "output_type": "display_data"
    },
    {
     "data": {
      "text/html": [
       "Run data is saved locally in <code>/Users/akozharin/git/start-dl/start_dl/lesson_3/wandb/run-20240323_160917-f5hxigr6</code>"
      ],
      "text/plain": [
       "<IPython.core.display.HTML object>"
      ]
     },
     "metadata": {},
     "output_type": "display_data"
    },
    {
     "data": {
      "text/html": [
       "Syncing run <strong><a href='https://wandb.ai/alekseik1/simple-model-train/runs/f5hxigr6' target=\"_blank\">add-batchnorm</a></strong> to <a href='https://wandb.ai/alekseik1/simple-model-train' target=\"_blank\">Weights & Biases</a> (<a href='https://wandb.me/run' target=\"_blank\">docs</a>)<br/>"
      ],
      "text/plain": [
       "<IPython.core.display.HTML object>"
      ]
     },
     "metadata": {},
     "output_type": "display_data"
    },
    {
     "data": {
      "text/html": [
       " View project at <a href='https://wandb.ai/alekseik1/simple-model-train' target=\"_blank\">https://wandb.ai/alekseik1/simple-model-train</a>"
      ],
      "text/plain": [
       "<IPython.core.display.HTML object>"
      ]
     },
     "metadata": {},
     "output_type": "display_data"
    },
    {
     "data": {
      "text/html": [
       " View run at <a href='https://wandb.ai/alekseik1/simple-model-train/runs/f5hxigr6' target=\"_blank\">https://wandb.ai/alekseik1/simple-model-train/runs/f5hxigr6</a>"
      ],
      "text/plain": [
       "<IPython.core.display.HTML object>"
      ]
     },
     "metadata": {},
     "output_type": "display_data"
    },
    {
     "name": "stderr",
     "output_type": "stream",
     "text": [
      "100%|██████████| 500/500 [00:08<00:00, 60.48it/s]\n",
      "wandb: WARNING Source type is set to 'repo' but some required information is missing from the environment. A job will not be created from this run. See https://docs.wandb.ai/guides/launch/create-job\n"
     ]
    },
    {
     "data": {
      "text/html": [
       "<style>\n",
       "    table.wandb td:nth-child(1) { padding: 0 10px; text-align: left ; width: auto;} td:nth-child(2) {text-align: left ; width: 100%}\n",
       "    .wandb-row { display: flex; flex-direction: row; flex-wrap: wrap; justify-content: flex-start; width: 100% }\n",
       "    .wandb-col { display: flex; flex-direction: column; flex-basis: 100%; flex: 1; padding: 10px; }\n",
       "    </style>\n",
       "<div class=\"wandb-row\"><div class=\"wandb-col\"><h3>Run history:</h3><br/><table class=\"wandb\"><tr><td>iteration</td><td>▁▁▁▂▂▂▂▂▂▃▃▃▃▃▄▄▄▄▄▄▅▅▅▅▅▅▆▆▆▆▆▇▇▇▇▇▇███</td></tr><tr><td>loss_train</td><td>█▃▃▂▂▂▂▂▂▂▁▁▁▁▁▁▁▁▁▁▁▁▁▁▁▁▁▁▁▁▁▁▁▁▁▁▁▁▁▁</td></tr><tr><td>loss_val</td><td>█▄▃▂▄▁▁▁▁▁▁▁▁▁▁▁▁▁▁▁▁▁▁▁▁</td></tr><tr><td>lr</td><td>▁▁▁▁▁▁▁▁▁▁▁▁▁▁▁▁▁▁▁▁▁▁▁▁▁▁▁▁▁▁▁▁▁▁▁▁▁▁▁▁</td></tr></table><br/></div><div class=\"wandb-col\"><h3>Run summary:</h3><br/><table class=\"wandb\"><tr><td>iteration</td><td>499</td></tr><tr><td>loss_train</td><td>1.4808</td></tr><tr><td>loss_val</td><td>1.5506</td></tr><tr><td>lr</td><td>2</td></tr></table><br/></div></div>"
      ],
      "text/plain": [
       "<IPython.core.display.HTML object>"
      ]
     },
     "metadata": {},
     "output_type": "display_data"
    },
    {
     "data": {
      "text/html": [
       " View run <strong style=\"color:#cdcd00\">add-batchnorm</strong> at: <a href='https://wandb.ai/alekseik1/simple-model-train/runs/f5hxigr6' target=\"_blank\">https://wandb.ai/alekseik1/simple-model-train/runs/f5hxigr6</a><br/>Synced 5 W&B file(s), 0 media file(s), 0 artifact file(s) and 0 other file(s)"
      ],
      "text/plain": [
       "<IPython.core.display.HTML object>"
      ]
     },
     "metadata": {},
     "output_type": "display_data"
    },
    {
     "data": {
      "text/html": [
       "Find logs at: <code>./wandb/run-20240323_160917-f5hxigr6/logs</code>"
      ],
      "text/plain": [
       "<IPython.core.display.HTML object>"
      ]
     },
     "metadata": {},
     "output_type": "display_data"
    }
   ],
   "source": [
    "class BatchNormModel(nn.Module):\n",
    "    def __init__(self, num_classes: int, p_dropout: float = 0.5):\n",
    "        super().__init__()\n",
    "        hidden_dim = 256\n",
    "        self.net = nn.Sequential(\n",
    "            nn.Linear(in_features=28 * 28, out_features=hidden_dim),\n",
    "            nn.ReLU(),\n",
    "            nn.BatchNorm1d(num_features=hidden_dim),\n",
    "            nn.Linear(in_features=hidden_dim, out_features=num_classes),\n",
    "            nn.Softmax(dim=1),\n",
    "        )\n",
    "\n",
    "    def forward(self, x: torch.Tensor):\n",
    "        x = x.reshape((-1, 28 * 28))\n",
    "        return self.net(x)\n",
    "\n",
    "\n",
    "torch.random.manual_seed(seed)\n",
    "config = TrainConfig(\n",
    "    eval_every=20,\n",
    "    lr=2,\n",
    "    total_iterations=500,\n",
    "    scheduler_type=None,\n",
    "    optimizer_type=\"sgd\",\n",
    ")\n",
    "model = BatchNormModel(num_classes=len(ohe.classes_))\n",
    "optim = train_loop(\n",
    "    model, X_train, y_train, X_val, y_val, config=config, run_name=\"add-batchnorm\"\n",
    ")"
   ]
  },
  {
   "cell_type": "markdown",
   "metadata": {},
   "source": [
    "Лосс упал и на трейне, и на валидации.\n",
    "\n",
    "Получается, нормализация выходов слоев действительно помогает выбивать лучшие результаты."
   ]
  },
  {
   "cell_type": "markdown",
   "metadata": {},
   "source": [
    "## Как сохранить обученную модель"
   ]
  },
  {
   "cell_type": "markdown",
   "metadata": {},
   "source": [
    "Отлично, у нас есть улучшение бейзлайна - это SGD + BatchNormalization.\n",
    "\n",
    "Мы даже его уже обучили!\n",
    "Можем ли мы как-то сделать так, чтобы при следующем запуске не надо было заново учить? Да, можем."
   ]
  },
  {
   "cell_type": "code",
   "execution_count": 29,
   "metadata": {},
   "outputs": [
    {
     "data": {
      "text/plain": [
       "OrderedDict([('net.0.weight',\n",
       "              tensor([[ 0.0081,  0.0265, -0.0238,  ...,  0.0187,  0.0076, -0.0048],\n",
       "                      [-0.0137, -0.0051, -0.0022,  ..., -0.0376, -0.0244, -0.0464],\n",
       "                      [-0.0217,  0.0051, -0.0406,  ...,  0.0123,  0.0307,  0.0301],\n",
       "                      ...,\n",
       "                      [-0.0055, -0.0234,  0.0344,  ..., -0.0263,  0.0173, -0.0340],\n",
       "                      [-0.0217, -0.0121, -0.0064,  ..., -0.0361, -0.0027,  0.0205],\n",
       "                      [-0.0130,  0.0326,  0.0202,  ..., -0.0298, -0.0738, -0.0539]])),\n",
       "             ('net.0.bias',\n",
       "              tensor([-3.2743e-02,  1.4681e-02, -2.6473e-03, -4.0843e-02, -1.1474e-02,\n",
       "                       1.4244e-02,  1.2967e-02,  2.5868e-02, -1.8538e-02, -4.1961e-02,\n",
       "                      -9.0617e-03,  4.3445e-02, -1.2561e-02, -2.8801e-02,  3.8777e-02,\n",
       "                      -2.8452e-02,  1.0518e-02,  1.8173e-03,  2.7466e-02, -2.2798e-02,\n",
       "                      -8.1224e-03,  6.7135e-03, -2.6667e-02, -3.3842e-02,  4.4520e-02,\n",
       "                      -1.7162e-02,  8.9110e-03,  4.0578e-02, -1.1215e-03,  6.7200e-02,\n",
       "                      -3.4643e-02,  2.5285e-02,  8.0915e-03, -4.5003e-02,  3.8617e-03,\n",
       "                       1.8229e-02,  2.5667e-02,  1.5391e-02,  2.0385e-02,  1.0259e-02,\n",
       "                      -2.0650e-03,  2.1729e-02, -4.9480e-02, -2.1679e-02, -4.6878e-02,\n",
       "                       2.4180e-02,  2.7857e-02, -2.3516e-02,  1.2333e-03, -1.6132e-02,\n",
       "                      -6.2749e-03,  9.9672e-03,  2.1939e-03,  1.5033e-03,  2.0322e-02,\n",
       "                      -5.8383e-02,  1.8132e-02, -3.0190e-02, -3.0109e-02,  6.2330e-03,\n",
       "                      -2.3456e-02,  2.6353e-02, -2.1173e-02, -1.3697e-02, -7.8189e-05,\n",
       "                       1.3267e-02, -1.0651e-02, -4.3701e-03, -3.2308e-02,  1.8770e-02,\n",
       "                      -1.6594e-02,  2.2689e-02, -2.4973e-02,  8.0998e-03,  3.4047e-03,\n",
       "                      -2.2432e-02, -4.9820e-03,  2.2083e-02,  2.2244e-02, -1.9310e-02,\n",
       "                       2.2092e-02,  2.6558e-02,  4.7778e-02, -5.6923e-03, -3.8614e-02,\n",
       "                       1.7886e-02, -4.6050e-02,  2.1393e-02, -2.6296e-02, -1.5666e-02,\n",
       "                      -3.9287e-02, -1.4772e-02,  2.4116e-02,  1.3928e-03, -2.2959e-02,\n",
       "                      -1.7989e-02, -4.5327e-02, -1.4131e-02, -3.2879e-02,  3.0146e-02,\n",
       "                       2.0895e-02, -2.9547e-02, -8.7804e-03, -1.2318e-02,  2.6452e-02,\n",
       "                       7.6834e-02,  5.7808e-03, -3.4680e-02, -3.9415e-03, -2.5325e-02,\n",
       "                       1.1329e-02, -4.6237e-02, -4.8312e-02, -7.0581e-02,  4.9633e-03,\n",
       "                       2.3719e-02, -1.9780e-02, -1.9798e-02,  2.1129e-02, -5.9993e-02,\n",
       "                       2.3463e-02,  3.3614e-02, -1.7592e-02, -8.3405e-02, -2.1697e-02,\n",
       "                      -2.0178e-02, -7.1074e-03,  3.0878e-02, -3.5206e-03, -2.2147e-02,\n",
       "                       1.6933e-02,  3.9305e-02, -1.8990e-02, -4.7558e-03, -1.1777e-02,\n",
       "                       1.8163e-02,  2.2134e-03,  3.6637e-02,  1.4253e-02, -1.8167e-03,\n",
       "                      -3.0450e-02,  2.5004e-02, -9.7753e-03,  2.6160e-02, -9.1794e-03,\n",
       "                      -2.1178e-02,  1.3318e-02, -1.1310e-02, -4.3447e-02, -5.6113e-03,\n",
       "                      -1.4013e-02, -1.6322e-03, -1.8803e-02, -4.9447e-03,  1.2632e-02,\n",
       "                      -4.2150e-02,  3.1476e-02, -2.4658e-02,  2.3760e-02, -6.2304e-02,\n",
       "                      -2.3059e-02, -2.5402e-02, -3.8829e-02,  2.4300e-02,  2.7325e-02,\n",
       "                      -3.0221e-02, -2.8391e-03,  3.9413e-02, -2.9255e-03,  3.2094e-02,\n",
       "                      -3.3903e-02,  5.9241e-02,  2.7316e-03,  3.4388e-02, -3.9896e-02,\n",
       "                      -1.0855e-01,  2.1948e-02, -9.0302e-03, -2.2804e-02,  9.1499e-03,\n",
       "                       2.3645e-02, -2.7105e-02, -4.2583e-03, -9.0561e-03,  8.0916e-03,\n",
       "                       1.7862e-03,  2.6598e-02,  1.4195e-02, -3.9373e-02, -2.3788e-02,\n",
       "                       1.6886e-02, -1.7327e-02, -1.0744e-02,  2.6679e-02,  1.2388e-02,\n",
       "                       9.3590e-03, -5.3427e-02, -3.0162e-02, -2.0538e-02, -1.0601e-02,\n",
       "                      -2.3882e-02,  7.7528e-03,  2.8350e-02, -4.9696e-02,  3.7380e-02,\n",
       "                       2.1428e-02,  2.8602e-02, -3.0798e-03, -1.4632e-02, -2.3188e-02,\n",
       "                      -2.6668e-02, -3.7239e-02, -6.5770e-03,  3.6215e-02,  3.1455e-02,\n",
       "                      -3.3558e-02, -3.1438e-02,  3.6022e-02,  4.1247e-02,  1.3312e-02,\n",
       "                      -3.1681e-02,  4.0747e-02, -2.5193e-02,  1.8574e-02, -1.9394e-02,\n",
       "                       1.8405e-02,  6.6373e-02, -8.3977e-03, -3.9877e-03, -2.9840e-02,\n",
       "                       1.7935e-02,  2.1499e-02,  4.4273e-03,  1.9013e-02,  2.1370e-02,\n",
       "                      -9.7246e-03, -1.0088e-02,  2.4655e-02, -2.1142e-02, -1.7742e-02,\n",
       "                       3.7440e-03, -1.6249e-02,  3.7399e-02,  1.4865e-02,  8.8824e-03,\n",
       "                      -1.9625e-02, -1.4326e-02, -1.7552e-02, -3.1663e-03,  2.3823e-02,\n",
       "                       2.9617e-02, -2.9257e-02, -2.0366e-02,  3.4647e-03, -1.3709e-02,\n",
       "                       1.5767e-02])),\n",
       "             ('net.2.weight',\n",
       "              tensor([1.0668, 1.0253, 1.0386, 1.0665, 1.0131, 1.0511, 1.0338, 1.0532, 1.0554,\n",
       "                      1.0588, 1.0588, 1.0478, 1.0822, 1.0649, 1.0624, 1.0363, 1.0361, 1.0171,\n",
       "                      1.0397, 1.0216, 1.0310, 1.0666, 1.0812, 1.0695, 1.0410, 1.0654, 1.0387,\n",
       "                      1.0502, 1.0322, 1.0491, 1.0510, 1.0077, 1.0235, 1.0415, 1.0623, 1.0562,\n",
       "                      1.0747, 1.0360, 1.0507, 1.0541, 1.0640, 1.0423, 1.0809, 1.0420, 1.0200,\n",
       "                      1.0460, 1.0461, 1.0751, 1.0479, 1.0226, 1.0422, 1.0589, 1.0444, 1.0494,\n",
       "                      1.0784, 1.0812, 1.0254, 1.0580, 1.0275, 1.0712, 1.0609, 1.0850, 1.0382,\n",
       "                      1.0170, 1.0846, 1.0827, 1.0263, 1.0465, 1.0435, 1.0408, 1.0631, 1.0748,\n",
       "                      1.0513, 1.0019, 1.0729, 1.0170, 1.0370, 1.0912, 1.0417, 1.0424, 1.0600,\n",
       "                      1.0331, 1.0887, 1.0476, 1.0438, 1.0516, 1.0288, 1.0336, 1.0394, 1.0550,\n",
       "                      1.0665, 1.0705, 1.0630, 1.0444, 1.0382, 0.9996, 1.0789, 1.0389, 1.0897,\n",
       "                      1.0395, 1.0624, 1.0346, 1.0714, 1.0372, 1.0668, 1.0989, 1.0238, 1.0278,\n",
       "                      1.0397, 1.0555, 1.0491, 1.0572, 1.0363, 1.0666, 1.0752, 1.0452, 1.0371,\n",
       "                      1.0424, 1.0689, 1.0816, 1.0649, 1.0540, 1.0574, 1.0797, 1.0503, 1.0530,\n",
       "                      1.0637, 1.0779, 1.0837, 1.0402, 1.0409, 1.0947, 1.0542, 1.0545, 1.0185,\n",
       "                      1.0110, 1.0617, 1.0274, 1.0155, 1.0196, 1.0545, 1.0442, 1.0675, 1.0591,\n",
       "                      1.0271, 1.0349, 1.0578, 1.0518, 1.0511, 1.0479, 1.0424, 1.0480, 1.0497,\n",
       "                      1.0530, 1.0292, 1.0658, 1.1030, 1.0604, 1.0628, 1.0584, 1.0331, 1.0427,\n",
       "                      1.0559, 1.0548, 1.0603, 1.0242, 1.1037, 1.0416, 0.9988, 1.0107, 1.0581,\n",
       "                      1.0698, 1.0239, 1.0821, 1.0369, 1.0570, 1.0496, 1.0237, 1.0361, 1.0422,\n",
       "                      1.0369, 1.0121, 1.0506, 1.0598, 1.0631, 1.0291, 1.0535, 1.0330, 1.0270,\n",
       "                      1.0265, 1.0565, 1.0558, 1.0769, 1.0467, 1.0318, 1.0125, 1.0652, 1.0592,\n",
       "                      1.0538, 1.0260, 1.0807, 1.0261, 1.0494, 1.0581, 1.0912, 1.0143, 1.0782,\n",
       "                      1.0379, 1.0656, 1.0709, 1.0604, 1.0323, 1.0297, 1.0402, 1.0307, 1.0396,\n",
       "                      1.0313, 1.0283, 1.0529, 1.0604, 1.0765, 1.0574, 1.0330, 1.0409, 1.0303,\n",
       "                      1.0412, 1.0762, 1.0335, 1.0714, 1.0547, 1.0278, 1.0658, 1.0225, 1.0322,\n",
       "                      1.0425, 1.0437, 1.0436, 1.0343, 1.0569, 1.0336, 1.0335, 1.0182, 1.0485,\n",
       "                      1.0651, 1.0464, 1.0272, 1.0957, 1.0403, 1.0694, 1.0360, 1.0347, 1.0164,\n",
       "                      1.0735, 1.0865, 1.0471, 1.0651])),\n",
       "             ('net.2.bias',\n",
       "              tensor([-0.0030,  0.0026,  0.0012,  0.0048,  0.0150,  0.0070, -0.0004,  0.0063,\n",
       "                      -0.0065,  0.0049,  0.0020, -0.0045,  0.0011,  0.0190,  0.0035, -0.0048,\n",
       "                      -0.0010,  0.0090, -0.0002,  0.0006, -0.0044, -0.0140,  0.0104,  0.0075,\n",
       "                      -0.0050, -0.0022,  0.0140, -0.0046, -0.0065, -0.0187,  0.0150, -0.0150,\n",
       "                      -0.0062, -0.0045,  0.0114,  0.0218,  0.0042,  0.0074, -0.0062,  0.0235,\n",
       "                      -0.0146, -0.0112,  0.0118,  0.0026, -0.0090,  0.0026, -0.0049, -0.0184,\n",
       "                      -0.0018,  0.0142,  0.0136, -0.0002,  0.0021, -0.0057,  0.0057, -0.0002,\n",
       "                       0.0057,  0.0067, -0.0039, -0.0220,  0.0076, -0.0309, -0.0173, -0.0020,\n",
       "                      -0.0119, -0.0206,  0.0093,  0.0006, -0.0039,  0.0021,  0.0070, -0.0051,\n",
       "                      -0.0046,  0.0085, -0.0062,  0.0101, -0.0111, -0.0040, -0.0157, -0.0085,\n",
       "                      -0.0085, -0.0054,  0.0084, -0.0029, -0.0160, -0.0065,  0.0055, -0.0144,\n",
       "                      -0.0124,  0.0018,  0.0004,  0.0041,  0.0074,  0.0047,  0.0181,  0.0034,\n",
       "                       0.0055, -0.0084, -0.0106,  0.0017,  0.0082,  0.0087, -0.0121,  0.0093,\n",
       "                      -0.0070, -0.0280,  0.0036, -0.0075,  0.0005, -0.0016, -0.0049, -0.0002,\n",
       "                      -0.0009,  0.0164, -0.0007,  0.0046, -0.0090, -0.0088, -0.0125, -0.0138,\n",
       "                      -0.0056, -0.0061, -0.0076,  0.0053,  0.0012, -0.0121, -0.0011,  0.0133,\n",
       "                      -0.0173,  0.0037, -0.0003, -0.0214,  0.0082, -0.0063, -0.0155, -0.0048,\n",
       "                      -0.0042,  0.0091,  0.0106, -0.0054,  0.0013, -0.0118, -0.0081,  0.0156,\n",
       "                      -0.0056,  0.0022, -0.0078,  0.0034,  0.0010, -0.0039,  0.0202, -0.0090,\n",
       "                      -0.0136,  0.0116,  0.0043, -0.0003, -0.0043, -0.0077, -0.0254,  0.0033,\n",
       "                       0.0129, -0.0156, -0.0066, -0.0145, -0.0022,  0.0079,  0.0145,  0.0163,\n",
       "                      -0.0041,  0.0059, -0.0143,  0.0006,  0.0114,  0.0071, -0.0018, -0.0081,\n",
       "                      -0.0023, -0.0032, -0.0072, -0.0152,  0.0068,  0.0104, -0.0035,  0.0013,\n",
       "                       0.0127,  0.0058, -0.0054, -0.0027,  0.0115,  0.0084,  0.0045, -0.0177,\n",
       "                      -0.0272,  0.0022,  0.0099, -0.0001,  0.0129,  0.0082, -0.0030,  0.0149,\n",
       "                      -0.0187,  0.0094, -0.0057, -0.0027,  0.0109,  0.0068, -0.0244,  0.0017,\n",
       "                      -0.0190, -0.0112, -0.0103,  0.0128, -0.0021,  0.0225,  0.0025, -0.0078,\n",
       "                      -0.0099,  0.0074,  0.0110, -0.0211,  0.0163, -0.0107,  0.0117, -0.0010,\n",
       "                       0.0031,  0.0009, -0.0058, -0.0065,  0.0109,  0.0087,  0.0018, -0.0024,\n",
       "                       0.0029,  0.0156, -0.0013,  0.0086, -0.0042, -0.0044,  0.0175,  0.0086,\n",
       "                       0.0075,  0.0136, -0.0042, -0.0055, -0.0105, -0.0115,  0.0018, -0.0119,\n",
       "                       0.0047,  0.0024, -0.0003, -0.0041, -0.0162, -0.0014,  0.0104, -0.0006])),\n",
       "             ('net.2.running_mean',\n",
       "              tensor([1.4363e-02, 2.1376e-01, 2.3229e-01, 2.7746e-02, 5.7137e-01, 9.5313e-04,\n",
       "                      2.4804e-01, 1.2709e-03, 6.8863e-02, 2.4176e-03, 3.8891e-02, 2.2266e-01,\n",
       "                      1.8467e-02, 5.0766e-03, 1.2796e-01, 1.8487e-01, 7.5913e-02, 8.5797e-02,\n",
       "                      3.0476e-01, 2.8854e-01, 1.1991e-01, 9.9349e-03, 4.8367e-03, 1.3184e-02,\n",
       "                      2.2824e-03, 2.2065e-02, 2.0479e-01, 1.9539e-01, 1.0946e-01, 9.9339e-04,\n",
       "                      4.9504e-02, 2.5821e-05, 3.9853e-04, 2.7790e-02, 5.5622e-02, 1.2643e-01,\n",
       "                      5.1691e-02, 5.9837e-02, 1.7048e-01, 2.0727e-01, 3.9435e-02, 6.0283e-02,\n",
       "                      2.7705e-03, 1.6723e-01, 1.2868e-01, 1.8175e-01, 2.0271e-02, 1.2809e-02,\n",
       "                      8.9686e-02, 2.9045e-01, 1.1337e-01, 1.6187e-02, 1.8001e-01, 1.6578e-01,\n",
       "                      1.5409e-01, 6.9773e-04, 2.6006e-01, 2.3203e-03, 1.2340e-01, 1.9189e-02,\n",
       "                      1.3384e-03, 2.3508e-02, 1.7379e-01, 2.8254e-01, 1.4837e-03, 6.4396e-03,\n",
       "                      4.9579e-02, 9.1941e-04, 1.0994e-02, 1.9120e-03, 7.4981e-03, 1.1880e-02,\n",
       "                      1.7576e-03, 3.9169e-05, 1.8334e-02, 1.6109e-01, 8.5752e-04, 3.7746e-03,\n",
       "                      2.6760e-01, 1.6576e-01, 4.8635e-02, 1.9778e-01, 5.7199e-04, 1.2092e-01,\n",
       "                      1.1905e-01, 1.6377e-01, 5.2876e-02, 3.1835e-01, 1.8939e-01, 3.8372e-02,\n",
       "                      3.1695e-03, 9.6421e-04, 7.0588e-04, 4.4383e-02, 1.9285e-01, 7.0844e-28,\n",
       "                      1.9034e-03, 1.4522e-01, 1.7258e-03, 3.7393e-02, 4.8920e-02, 8.3802e-03,\n",
       "                      3.8240e-03, 1.8081e-01, 1.2604e-03, 1.4827e-02, 2.1783e-01, 1.0308e-01,\n",
       "                      1.2783e-01, 4.7020e-03, 1.1610e-01, 2.5596e-02, 4.0022e-02, 4.2783e-03,\n",
       "                      4.9464e-03, 2.0473e-01, 2.7775e-03, 1.2011e-01, 1.6663e-01, 1.0558e-02,\n",
       "                      4.6191e-02, 1.4460e-01, 3.0867e-02, 4.6196e-03, 3.1849e-02, 2.8190e-01,\n",
       "                      9.6453e-04, 1.9529e-03, 1.3119e-03, 2.7616e-02, 3.2827e-02, 1.6696e-02,\n",
       "                      1.1952e-01, 2.3308e-02, 2.6460e-01, 1.8779e-01, 4.1000e-02, 1.5430e-01,\n",
       "                      1.3679e-01, 2.5707e-02, 1.1777e-01, 2.4320e-02, 1.5000e-02, 1.0845e-01,\n",
       "                      1.9583e-01, 3.1320e-01, 3.3089e-02, 2.3478e-04, 5.1724e-03, 1.4601e-01,\n",
       "                      3.3016e-01, 1.6385e-01, 1.1214e-02, 5.8843e-02, 3.5525e-01, 1.4999e-03,\n",
       "                      1.3109e-03, 1.2917e-01, 6.7247e-03, 4.8039e-02, 1.3643e-01, 1.3850e-01,\n",
       "                      8.6890e-02, 3.5388e-02, 2.0910e-03, 1.3966e-01, 8.1179e-03, 3.2403e-01,\n",
       "                      9.9459e-26, 4.2033e-04, 1.1445e-01, 1.0440e-03, 4.5702e-04, 9.7762e-04,\n",
       "                      8.4873e-02, 8.1314e-03, 1.8459e-01, 2.9779e-01, 1.6688e-01, 1.4879e-01,\n",
       "                      1.7491e-02, 1.9976e-04, 2.0472e-01, 3.1528e-02, 7.2387e-02, 1.7381e-01,\n",
       "                      2.5765e-02, 2.2871e-01, 8.1524e-02, 3.3182e-01, 7.8687e-02, 4.5605e-02,\n",
       "                      4.0023e-02, 1.7524e-01, 1.1979e-01, 3.7610e-03, 9.5142e-03, 6.8816e-04,\n",
       "                      2.5020e-02, 2.0008e-01, 1.6039e-02, 6.5244e-02, 6.3925e-02, 3.3541e-03,\n",
       "                      2.4226e-03, 1.8848e-01, 2.8102e-02, 4.9673e-02, 4.4803e-03, 1.0115e-03,\n",
       "                      5.5335e-02, 1.6744e-01, 7.2920e-02, 2.1658e-01, 2.9007e-01, 7.5483e-02,\n",
       "                      1.2422e-01, 3.4410e-01, 1.7312e-01, 2.8849e-02, 8.8704e-03, 8.1735e-03,\n",
       "                      2.4292e-01, 6.4603e-03, 1.7248e-01, 1.4810e-01, 2.9299e-03, 1.9747e-01,\n",
       "                      1.1237e-03, 3.2228e-02, 1.2331e-01, 3.1135e-03, 1.0804e-01, 4.2591e-02,\n",
       "                      1.2045e-01, 2.7883e-01, 5.6210e-02, 8.8517e-02, 1.0008e-02, 6.2448e-04,\n",
       "                      1.0749e-01, 4.6486e-04, 1.1719e-03, 5.7526e-02, 1.5046e-01, 9.6365e-02,\n",
       "                      1.2445e-02, 1.4270e-01, 1.9269e-01, 1.9403e-01, 4.8873e-04, 3.6988e-04,\n",
       "                      1.4882e-02, 3.1425e-02, 4.5364e-04, 1.6789e-01])),\n",
       "             ('net.2.running_var',\n",
       "              tensor([3.9423e-03, 6.7680e-02, 1.1096e-01, 5.4776e-03, 3.0883e-01, 1.4522e-04,\n",
       "                      7.6733e-02, 1.4455e-04, 1.8237e-02, 3.9066e-04, 7.6104e-03, 6.0640e-02,\n",
       "                      3.9473e-03, 7.5422e-04, 2.4783e-02, 4.2717e-02, 2.0904e-02, 1.6390e-02,\n",
       "                      1.6247e-01, 9.3410e-02, 2.3726e-02, 1.7672e-03, 9.8267e-04, 2.4422e-03,\n",
       "                      3.1812e-04, 3.8745e-03, 5.8272e-02, 3.6434e-02, 4.5863e-02, 9.9638e-05,\n",
       "                      1.0278e-02, 4.0249e-06, 5.3520e-05, 4.8693e-03, 9.8668e-03, 3.1456e-02,\n",
       "                      8.9153e-03, 1.8221e-02, 4.8522e-02, 5.2518e-02, 8.8357e-03, 1.5653e-02,\n",
       "                      3.2232e-04, 6.2042e-02, 6.5019e-02, 5.5313e-02, 7.1106e-03, 1.9868e-03,\n",
       "                      2.3555e-02, 6.5003e-02, 3.0352e-02, 3.5906e-03, 4.8175e-02, 9.2613e-02,\n",
       "                      3.7887e-02, 1.4085e-04, 6.1710e-02, 4.1242e-04, 4.4935e-02, 4.7380e-03,\n",
       "                      1.6390e-04, 4.9280e-03, 6.4084e-02, 7.6101e-02, 1.8828e-04, 1.1971e-03,\n",
       "                      9.7490e-03, 1.5791e-04, 1.9103e-03, 2.6330e-04, 1.4874e-03, 2.0032e-03,\n",
       "                      2.3094e-04, 7.8627e-06, 3.7737e-03, 5.3956e-02, 8.8592e-05, 5.9853e-04,\n",
       "                      9.3749e-02, 3.8834e-02, 1.2218e-02, 6.1218e-02, 6.3828e-05, 3.5738e-02,\n",
       "                      3.8274e-02, 3.9398e-02, 1.3787e-02, 2.6038e-01, 8.0571e-02, 8.3726e-03,\n",
       "                      5.4842e-04, 1.8165e-04, 1.1886e-04, 7.8894e-03, 4.6058e-02, 1.3221e-23,\n",
       "                      3.1073e-04, 3.2592e-02, 2.8277e-04, 1.1755e-02, 1.1699e-02, 1.4389e-03,\n",
       "                      7.0296e-04, 5.5224e-02, 1.3192e-04, 3.0498e-03, 9.6411e-02, 3.0618e-02,\n",
       "                      4.4583e-02, 6.9840e-04, 3.3870e-02, 5.8185e-03, 1.5192e-02, 5.8346e-04,\n",
       "                      8.5333e-04, 4.0379e-02, 4.7077e-04, 3.2626e-02, 5.3340e-02, 2.0027e-03,\n",
       "                      1.5729e-02, 3.7799e-02, 9.3208e-03, 9.1489e-04, 5.4609e-03, 9.3340e-02,\n",
       "                      1.2212e-04, 3.0316e-04, 1.8876e-04, 8.3259e-03, 1.4523e-02, 3.3168e-03,\n",
       "                      4.6491e-02, 5.3516e-03, 1.4629e-01, 5.8504e-02, 9.0574e-03, 3.3132e-02,\n",
       "                      2.8522e-02, 5.6801e-03, 2.6829e-02, 9.1682e-03, 2.8257e-03, 1.8839e-02,\n",
       "                      4.0089e-02, 8.4305e-02, 7.5939e-03, 2.1712e-05, 9.8150e-04, 3.8823e-02,\n",
       "                      8.6468e-02, 4.1394e-02, 1.9013e-03, 1.0731e-02, 9.3344e-02, 2.1258e-04,\n",
       "                      1.4544e-04, 2.9901e-02, 1.0279e-03, 1.0856e-02, 3.5768e-02, 3.3768e-02,\n",
       "                      2.6864e-02, 9.1976e-03, 3.2869e-04, 3.2801e-02, 1.5936e-03, 8.4266e-02,\n",
       "                      1.3239e-23, 5.0930e-05, 2.6537e-02, 1.6122e-04, 7.4469e-05, 1.3622e-04,\n",
       "                      1.6747e-02, 1.3145e-03, 5.8555e-02, 1.6979e-01, 4.9936e-02, 3.2434e-02,\n",
       "                      3.3239e-03, 2.9138e-05, 5.1184e-02, 5.8876e-03, 1.4178e-02, 6.4587e-02,\n",
       "                      5.1491e-03, 6.1079e-02, 2.9711e-02, 1.1772e-01, 1.7959e-02, 1.0114e-02,\n",
       "                      1.3516e-02, 3.5112e-02, 3.5498e-02, 7.5374e-04, 1.6779e-03, 6.8968e-05,\n",
       "                      4.5294e-03, 4.4675e-02, 3.4786e-03, 1.3018e-02, 1.8571e-02, 5.6745e-04,\n",
       "                      6.2024e-04, 4.4655e-02, 8.0454e-03, 1.1845e-02, 8.4382e-04, 1.1598e-04,\n",
       "                      9.4316e-03, 4.9088e-02, 2.1546e-02, 5.1494e-02, 1.0860e-01, 1.8837e-02,\n",
       "                      2.9742e-02, 8.6709e-02, 3.3903e-02, 7.8775e-03, 1.8695e-03, 1.3316e-03,\n",
       "                      9.3869e-02, 1.1654e-03, 5.1790e-02, 3.0941e-02, 4.0770e-04, 7.1286e-02,\n",
       "                      1.8522e-04, 5.9411e-03, 2.2345e-02, 5.1194e-04, 4.7892e-02, 8.1809e-03,\n",
       "                      2.4274e-02, 8.3213e-02, 1.2710e-02, 2.2293e-02, 1.9589e-03, 8.5975e-05,\n",
       "                      2.6182e-02, 7.0818e-05, 1.8343e-04, 1.0448e-02, 2.7275e-02, 3.0406e-02,\n",
       "                      1.9495e-03, 3.7629e-02, 6.4881e-02, 5.3506e-02, 5.2631e-05, 5.6056e-05,\n",
       "                      3.6819e-03, 6.1057e-03, 5.9309e-05, 4.0200e-02])),\n",
       "             ('net.2.num_batches_tracked', tensor(500)),\n",
       "             ('net.3.weight',\n",
       "              tensor([[-0.1090, -0.0425,  0.1561,  ..., -0.1724, -0.0808, -0.1386],\n",
       "                      [-0.0887,  0.1164, -0.1138,  ..., -0.1196, -0.0700,  0.1993],\n",
       "                      [-0.0226, -0.0333, -0.0751,  ...,  0.0047, -0.1100, -0.0610],\n",
       "                      ...,\n",
       "                      [ 0.3482, -0.0083,  0.0112,  ...,  0.1638, -0.0763, -0.1217],\n",
       "                      [-0.0458, -0.1186,  0.1966,  ...,  0.0281,  0.2802,  0.0573],\n",
       "                      [-0.0267, -0.0275,  0.0369,  ..., -0.0151, -0.0705,  0.1121]])),\n",
       "             ('net.3.bias',\n",
       "              tensor([ 0.0629,  0.0176, -0.0127,  0.0251,  0.0629, -0.0866, -0.0014, -0.0375,\n",
       "                       0.0184, -0.0173]))])"
      ]
     },
     "execution_count": 29,
     "metadata": {},
     "output_type": "execute_result"
    }
   ],
   "source": [
    "# Все состояние модели хранится в .state_dict() - словаре из тензоров\n",
    "model.state_dict()"
   ]
  },
  {
   "cell_type": "code",
   "execution_count": 30,
   "metadata": {},
   "outputs": [],
   "source": [
    "# Это состояние можно сохранить на диск через torch.save\n",
    "\n",
    "# Обычно файлы pytorch сохраняют с расширением .pt (это не жесткое правило, скорее для понимания)\n",
    "torch.save(model.state_dict(), \"model.pt\")"
   ]
  },
  {
   "cell_type": "code",
   "execution_count": 32,
   "metadata": {},
   "outputs": [
    {
     "ename": "RuntimeError",
     "evalue": "Error(s) in loading state_dict for DropoutModel:\n\tUnexpected key(s) in state_dict: \"net.2.weight\", \"net.2.bias\", \"net.2.running_mean\", \"net.2.running_var\", \"net.2.num_batches_tracked\". ",
     "output_type": "error",
     "traceback": [
      "\u001b[0;31m---------------------------------------------------------------------------\u001b[0m",
      "\u001b[0;31mRuntimeError\u001b[0m                              Traceback (most recent call last)",
      "Cell \u001b[0;32mIn[32], line 6\u001b[0m\n\u001b[1;32m      4\u001b[0m model_loaded \u001b[38;5;241m=\u001b[39m DropoutModel(num_classes\u001b[38;5;241m=\u001b[39m\u001b[38;5;28mlen\u001b[39m(ohe\u001b[38;5;241m.\u001b[39mclasses_))\n\u001b[1;32m      5\u001b[0m \u001b[38;5;66;03m# грузим файл, затем просим pytorch восстановить state_dict из заданного словаря\u001b[39;00m\n\u001b[0;32m----> 6\u001b[0m \u001b[43mmodel_loaded\u001b[49m\u001b[38;5;241;43m.\u001b[39;49m\u001b[43mload_state_dict\u001b[49m\u001b[43m(\u001b[49m\u001b[43mtorch\u001b[49m\u001b[38;5;241;43m.\u001b[39;49m\u001b[43mload\u001b[49m\u001b[43m(\u001b[49m\u001b[38;5;124;43m\"\u001b[39;49m\u001b[38;5;124;43mmodel.pt\u001b[39;49m\u001b[38;5;124;43m\"\u001b[39;49m\u001b[43m)\u001b[49m\u001b[43m)\u001b[49m\n\u001b[1;32m      7\u001b[0m \u001b[38;5;66;03m# о нет, не получилось.\u001b[39;00m\n",
      "File \u001b[0;32m~/Library/Caches/pypoetry/virtualenvs/start-dl-MwYW62ZD-py3.10/lib/python3.10/site-packages/torch/nn/modules/module.py:2153\u001b[0m, in \u001b[0;36mModule.load_state_dict\u001b[0;34m(self, state_dict, strict, assign)\u001b[0m\n\u001b[1;32m   2148\u001b[0m         error_msgs\u001b[38;5;241m.\u001b[39minsert(\n\u001b[1;32m   2149\u001b[0m             \u001b[38;5;241m0\u001b[39m, \u001b[38;5;124m'\u001b[39m\u001b[38;5;124mMissing key(s) in state_dict: \u001b[39m\u001b[38;5;132;01m{}\u001b[39;00m\u001b[38;5;124m. \u001b[39m\u001b[38;5;124m'\u001b[39m\u001b[38;5;241m.\u001b[39mformat(\n\u001b[1;32m   2150\u001b[0m                 \u001b[38;5;124m'\u001b[39m\u001b[38;5;124m, \u001b[39m\u001b[38;5;124m'\u001b[39m\u001b[38;5;241m.\u001b[39mjoin(\u001b[38;5;124mf\u001b[39m\u001b[38;5;124m'\u001b[39m\u001b[38;5;124m\"\u001b[39m\u001b[38;5;132;01m{\u001b[39;00mk\u001b[38;5;132;01m}\u001b[39;00m\u001b[38;5;124m\"\u001b[39m\u001b[38;5;124m'\u001b[39m \u001b[38;5;28;01mfor\u001b[39;00m k \u001b[38;5;129;01min\u001b[39;00m missing_keys)))\n\u001b[1;32m   2152\u001b[0m \u001b[38;5;28;01mif\u001b[39;00m \u001b[38;5;28mlen\u001b[39m(error_msgs) \u001b[38;5;241m>\u001b[39m \u001b[38;5;241m0\u001b[39m:\n\u001b[0;32m-> 2153\u001b[0m     \u001b[38;5;28;01mraise\u001b[39;00m \u001b[38;5;167;01mRuntimeError\u001b[39;00m(\u001b[38;5;124m'\u001b[39m\u001b[38;5;124mError(s) in loading state_dict for \u001b[39m\u001b[38;5;132;01m{}\u001b[39;00m\u001b[38;5;124m:\u001b[39m\u001b[38;5;130;01m\\n\u001b[39;00m\u001b[38;5;130;01m\\t\u001b[39;00m\u001b[38;5;132;01m{}\u001b[39;00m\u001b[38;5;124m'\u001b[39m\u001b[38;5;241m.\u001b[39mformat(\n\u001b[1;32m   2154\u001b[0m                        \u001b[38;5;28mself\u001b[39m\u001b[38;5;241m.\u001b[39m\u001b[38;5;18m__class__\u001b[39m\u001b[38;5;241m.\u001b[39m\u001b[38;5;18m__name__\u001b[39m, \u001b[38;5;124m\"\u001b[39m\u001b[38;5;130;01m\\n\u001b[39;00m\u001b[38;5;130;01m\\t\u001b[39;00m\u001b[38;5;124m\"\u001b[39m\u001b[38;5;241m.\u001b[39mjoin(error_msgs)))\n\u001b[1;32m   2155\u001b[0m \u001b[38;5;28;01mreturn\u001b[39;00m _IncompatibleKeys(missing_keys, unexpected_keys)\n",
      "\u001b[0;31mRuntimeError\u001b[0m: Error(s) in loading state_dict for DropoutModel:\n\tUnexpected key(s) in state_dict: \"net.2.weight\", \"net.2.bias\", \"net.2.running_mean\", \"net.2.running_var\", \"net.2.num_batches_tracked\". "
     ]
    }
   ],
   "source": [
    "# и потом можно загрузить\n",
    "\n",
    "# сохраняются веса, но не объект модели - поэтому его надо создать заново\n",
    "model_loaded = DropoutModel(num_classes=len(ohe.classes_))\n",
    "# грузим файл, затем просим pytorch восстановить state_dict из заданного словаря\n",
    "model_loaded.load_state_dict(torch.load(\"model.pt\"))\n",
    "# о нет, не получилось."
   ]
  },
  {
   "cell_type": "code",
   "execution_count": 33,
   "metadata": {},
   "outputs": [
    {
     "data": {
      "text/plain": [
       "<All keys matched successfully>"
      ]
     },
     "execution_count": 33,
     "metadata": {},
     "output_type": "execute_result"
    }
   ],
   "source": [
    "# Если какие-то ключи не нашлись в файле или лишние, pytorch не даст загрузить.\n",
    "# Смотрим выше и понимаем, что модель была BatchNormModel - там другой слой.\n",
    "model_loaded = BatchNormModel(num_classes=len(ohe.classes_))\n",
    "model_loaded.load_state_dict(torch.load(\"model.pt\"))"
   ]
  },
  {
   "cell_type": "code",
   "execution_count": 34,
   "metadata": {},
   "outputs": [],
   "source": [
    "# Теперь все ок.\n",
    "# Проверим, что веса прогрузились те же, что и были\n",
    "from torch.testing import assert_close\n",
    "\n",
    "assert_close(model_loaded(X_train), model(X_train))"
   ]
  },
  {
   "cell_type": "markdown",
   "metadata": {},
   "source": [
    "### Пара слов про optimizer\n",
    "Когда мы учим модель, оптимизатор тоже может хранить какие-то тензоры.\n",
    "\n",
    "Например, Adam хранит скользящее среднее и дисперсию по всем увиденным данным.\n",
    "\n",
    "Поэтому вместе с моделью надо сохранять и оптимизатор. Делается это точно так же, как с моделями."
   ]
  },
  {
   "cell_type": "code",
   "execution_count": 36,
   "metadata": {},
   "outputs": [
    {
     "data": {
      "text/plain": [
       "{'state': {},\n",
       " 'param_groups': [{'lr': 0.001,\n",
       "   'betas': (0.9, 0.999),\n",
       "   'eps': 1e-08,\n",
       "   'weight_decay': 0,\n",
       "   'amsgrad': False,\n",
       "   'maximize': False,\n",
       "   'foreach': None,\n",
       "   'capturable': False,\n",
       "   'differentiable': False,\n",
       "   'fused': None,\n",
       "   'params': [0, 1, 2, 3, 4, 5]}]}"
      ]
     },
     "execution_count": 36,
     "metadata": {},
     "output_type": "execute_result"
    }
   ],
   "source": [
    "optim = Adam(model_loaded.parameters())\n",
    "optim.state_dict()"
   ]
  },
  {
   "cell_type": "code",
   "execution_count": 37,
   "metadata": {},
   "outputs": [],
   "source": [
    "torch.save(optim.state_dict(), \"optimizer.pt\")\n",
    "optim_loaded = Adam(model.parameters())\n",
    "optim_loaded.load_state_dict(torch.load('optimizer.pt'))"
   ]
  },
  {
   "cell_type": "markdown",
   "metadata": {},
   "source": [
    "Что будет плохого, если забыть про это и инициализировать с нуля оптимизатор?\n",
    "\n",
    "У вас не прогрузится то состояние, в котором был оптимизатор на момент последней итерации обучения.\n",
    "Соответственно, результаты получатся разными, если:\n",
    "- обучиться 100 итераций, сохранить на диск, потом продолжить и еще 100 итераций сделать;\n",
    "- сразу сделать 200 итераций;\n",
    "\n",
    "Это нехорошо, ведь мы хотим получать одинаковые результаты в обоих случаях.\n",
    "Поэтому **не забывайте сохранять состояние оптимизатора** вместе с весами модели."
   ]
  },
  {
   "cell_type": "markdown",
   "metadata": {},
   "source": [
    "## Резюме\n",
    "1. Посмотрели на работу Batch Normalization и Dropout в PyTorch.\n",
    "2. Познакомились с wandb и тем, как с его помощью логгировать метрики и графики.\n",
    "3. Узнали, как добиваться воспроизводимости на практике.\n",
    "4. Познакомились в LR Scheduler, попробовали его в эксперименте.\n",
    "5. Попробовали Batch Normalization и Dropout в имеющейся сети, сравнили качество.\n",
    "6. Лучшую модель сохранили на диск."
   ]
  }
 ],
 "metadata": {
  "kernelspec": {
   "display_name": "start-dl-fEQaQ9Q8-py3.10",
   "language": "python",
   "name": "python3"
  },
  "language_info": {
   "codemirror_mode": {
    "name": "ipython",
    "version": 3
   },
   "file_extension": ".py",
   "mimetype": "text/x-python",
   "name": "python",
   "nbconvert_exporter": "python",
   "pygments_lexer": "ipython3",
   "version": "3.10.13"
  }
 },
 "nbformat": 4,
 "nbformat_minor": 2
}
