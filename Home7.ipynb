{
 "cells": [
  {
   "cell_type": "markdown",
   "metadata": {},
   "source": [
    "# Домашнее задание 7\n",
    "\n",
    "Сегодня будем решать задачу _машинного перевода_ с помощью RNN.\n",
    "\n",
    "1. Построим RNN, обучим на текстах.\n",
    "2. Построим bi-directional RNN, обучим, сравним качество.\n",
    "\n",
    "Стоит отметить, что RNN - это не самый популярный и надежный метод из-за проблем с затуханием и взрывом градиентов, а также ограниченной способности захватывать долгосрочные зависимости в тексте.\n",
    "Более улучшенные и эффективные модели перевода (такие как LSTM, GRU и трансформеры) вы узнаете в блоке NLP.\n"
   ]
  },
  {
   "cell_type": "code",
   "execution_count": 25,
   "metadata": {
    "execution": {
     "iopub.execute_input": "2024-05-28T19:56:16.962849Z",
     "iopub.status.busy": "2024-05-28T19:56:16.962206Z",
     "iopub.status.idle": "2024-05-28T19:56:20.635152Z",
     "shell.execute_reply": "2024-05-28T19:56:20.634345Z",
     "shell.execute_reply.started": "2024-05-28T19:56:16.962802Z"
    },
    "id": "G-4bDyfYu3BC"
   },
   "outputs": [],
   "source": [
    "import torch\n",
    "import torch.nn as nn\n",
    "import torch.optim as optim\n",
    "from torch.utils.data import Dataset, DataLoader\n",
    "from torch.nn.utils.rnn import pad_sequence\n",
    "import numpy as np"
   ]
  },
  {
   "cell_type": "code",
   "execution_count": 2,
   "metadata": {
    "id": "1hXxzOfHu3BC"
   },
   "outputs": [],
   "source": [
    "# Загружаем датасет"
   ]
  },
  {
   "cell_type": "code",
   "execution_count": 26,
   "metadata": {
    "execution": {
     "iopub.execute_input": "2024-05-28T19:56:20.636970Z",
     "iopub.status.busy": "2024-05-28T19:56:20.636564Z",
     "iopub.status.idle": "2024-05-28T19:56:21.582720Z",
     "shell.execute_reply": "2024-05-28T19:56:21.581791Z",
     "shell.execute_reply.started": "2024-05-28T19:56:20.636944Z"
    },
    "id": "AL-YzZNUu3BD"
   },
   "outputs": [],
   "source": [
    "def load_pairs(file_path):\n",
    "    pairs = []\n",
    "    with open(file_path, \"r\", encoding=\"utf-8\") as f:\n",
    "        for line in f:\n",
    "            pair = line.strip().split(\"\\t\")\n",
    "            pairs.append(pair)\n",
    "    return pairs\n",
    "\n",
    "\n",
    "pairs = load_pairs(\"data/pairs.txt\")"
   ]
  },
  {
   "cell_type": "code",
   "execution_count": 27,
   "metadata": {
    "execution": {
     "iopub.execute_input": "2024-05-28T19:57:07.237559Z",
     "iopub.status.busy": "2024-05-28T19:57:07.236592Z",
     "iopub.status.idle": "2024-05-28T19:57:07.244051Z",
     "shell.execute_reply": "2024-05-28T19:57:07.243121Z",
     "shell.execute_reply.started": "2024-05-28T19:57:07.237521Z"
    },
    "id": "Cv7tYoJPu3BD",
    "outputId": "e3be27b0-0a02-43ce-f175-3cdd7bd5ef2b"
   },
   "outputs": [
    {
     "data": {
      "text/plain": [
       "[['Back off.', 'Посторонитесь.'],\n",
       " ['Be a man.', 'Будь мужчиной!'],\n",
       " ['Be brave.', 'Будь храбр.'],\n",
       " ['Be brief.', 'Будь краток.'],\n",
       " ['Be quiet.', 'Тихо.']]"
      ]
     },
     "execution_count": 27,
     "metadata": {},
     "output_type": "execute_result"
    }
   ],
   "source": [
    "pairs[200:205]"
   ]
  },
  {
   "cell_type": "code",
   "execution_count": 5,
   "metadata": {
    "id": "YMZ475Wgu3BD"
   },
   "outputs": [],
   "source": [
    "# Делаем нужные предобработки для задачи перевода"
   ]
  },
  {
   "cell_type": "code",
   "execution_count": 28,
   "metadata": {
    "execution": {
     "iopub.execute_input": "2024-05-28T19:57:10.935790Z",
     "iopub.status.busy": "2024-05-28T19:57:10.935464Z",
     "iopub.status.idle": "2024-05-28T19:57:12.225996Z",
     "shell.execute_reply": "2024-05-28T19:57:12.224981Z",
     "shell.execute_reply.started": "2024-05-28T19:57:10.935766Z"
    },
    "id": "XUmAKwBWu3BD",
    "outputId": "aaf67342-75e9-477e-93ed-5b2ec6d3b9fc"
   },
   "outputs": [
    {
     "name": "stdout",
     "output_type": "stream",
     "text": [
      "English vocabulary size: 34195\n",
      "Russian vocabulary size: 86949\n",
      "English text encoded: [33425  2292 34085]\n",
      "Russian text encoded: [25873 77975]\n",
      "Decoded English: who are you\n",
      "Decoded Russian: как ты\n",
      "Translation samples:  323711\n",
      "Translation batches:  5057\n"
     ]
    }
   ],
   "source": [
    "# Определение специальных токенов\n",
    "PAD_TOKEN = \"<PAD>\"\n",
    "EOS_TOKEN = \"<EOS>\"\n",
    "SOS_TOKEN = \"<SOS>\"\n",
    "UNK_TOKEN = \"<UNK>\"\n",
    "\n",
    "\n",
    "# Функция токенизации предложения: приводит все символы к нижнему регистру и разбивает предложение на слова\n",
    "def tokenize(sentence):\n",
    "    return sentence.lower().split()\n",
    "\n",
    "\n",
    "# Функция для построения словарей для английских и русских слов на основе пар предложений\n",
    "def build_vocab(pairs):\n",
    "    eng_vocab = set()\n",
    "    rus_vocab = set()\n",
    "    for eng_sentence, rus_sentence in pairs:\n",
    "        eng_vocab.update(tokenize(eng_sentence))\n",
    "        rus_vocab.update(tokenize(rus_sentence))\n",
    "    return eng_vocab, rus_vocab\n",
    "\n",
    "\n",
    "# Функция для создания отображений слово -> индекс и индекс -> слово\n",
    "def create_mappings(vocab):\n",
    "    vocab = [PAD_TOKEN, SOS_TOKEN, EOS_TOKEN, UNK_TOKEN] + sorted(vocab)\n",
    "    word2int = {word: i for i, word in enumerate(vocab)}\n",
    "    int2word = {i: word for word, i in word2int.items()}\n",
    "    return word2int, int2word\n",
    "\n",
    "\n",
    "# Создание словарей для английских и русских предложений на основе пар\n",
    "english_vocab, russian_vocab = build_vocab(pairs)\n",
    "\n",
    "# Создание отображений с добавлением специальных токенов\n",
    "eng_word2int, eng_int2word = create_mappings(english_vocab)\n",
    "rus_word2int, rus_int2word = create_mappings(russian_vocab)\n",
    "\n",
    "# Печать размеров словарей (с учетом 4 специальных токенов)\n",
    "print(\"English vocabulary size:\", len(english_vocab) + 4)\n",
    "print(\"Russian vocabulary size:\", len(russian_vocab) + 4)\n",
    "\n",
    "# Пример использования: кодирование английского и русского предложения\n",
    "eng_example = \"Who are you\"\n",
    "rus_example = \"как ты\"\n",
    "\n",
    "# Кодирование с учетом UNK_TOKEN для неизвестных слов\n",
    "eng_encoded = np.array(\n",
    "    [eng_word2int.get(word, eng_word2int[UNK_TOKEN]) for word in tokenize(eng_example)],\n",
    "    dtype=np.int32,\n",
    ")\n",
    "rus_encoded = np.array(\n",
    "    [rus_word2int.get(word, rus_word2int[UNK_TOKEN]) for word in tokenize(rus_example)],\n",
    "    dtype=np.int32,\n",
    ")\n",
    "\n",
    "print(\"English text encoded:\", eng_encoded)\n",
    "print(\"Russian text encoded:\", rus_encoded)\n",
    "\n",
    "# Декодирование: восстановление текста из кодов\n",
    "decoded_eng = \" \".join([eng_int2word[i] for i in eng_encoded])\n",
    "decoded_rus = \" \".join([rus_int2word[i] for i in rus_encoded])\n",
    "\n",
    "print(\"Decoded English:\", decoded_eng)\n",
    "print(\"Decoded Russian:\", decoded_rus)\n",
    "\n",
    "\n",
    "# Определение класса датасета для перевода\n",
    "class TranslationDataset(Dataset):\n",
    "    def __init__(self, pairs, eng_word2int, rus_word2int):\n",
    "        self.pairs = pairs\n",
    "        self.eng_word2int = eng_word2int\n",
    "        self.rus_word2int = rus_word2int\n",
    "\n",
    "    def __len__(self):\n",
    "        return len(self.pairs)\n",
    "\n",
    "    def __getitem__(self, idx):\n",
    "        eng, rus = self.pairs[idx]\n",
    "        # Кодирование английского предложения и добавление EOS токена\n",
    "        eng_tensor = torch.tensor(\n",
    "            [\n",
    "                self.eng_word2int.get(word, self.eng_word2int[UNK_TOKEN])\n",
    "                for word in tokenize(eng)\n",
    "            ]\n",
    "            + [self.eng_word2int[EOS_TOKEN]],\n",
    "            dtype=torch.long,\n",
    "        )\n",
    "        # Кодирование русского предложения и добавление EOS токена\n",
    "        rus_tensor = torch.tensor(\n",
    "            [\n",
    "                self.rus_word2int.get(word, self.rus_word2int[UNK_TOKEN])\n",
    "                for word in tokenize(rus)\n",
    "            ]\n",
    "            + [self.rus_word2int[EOS_TOKEN]],\n",
    "            dtype=torch.long,\n",
    "        )\n",
    "        return eng_tensor, rus_tensor\n",
    "\n",
    "\n",
    "# Функция для объединения батчей: паддинг (дополнение) предложений до одной длины в батче\n",
    "def collate_fn(batch):\n",
    "    eng_batch, rus_batch = zip(*batch)\n",
    "    eng_batch_padded = pad_sequence(\n",
    "        eng_batch, batch_first=True, padding_value=eng_word2int[PAD_TOKEN]\n",
    "    )\n",
    "    rus_batch_padded = pad_sequence(\n",
    "        rus_batch, batch_first=True, padding_value=rus_word2int[PAD_TOKEN]\n",
    "    )\n",
    "    return eng_batch_padded, rus_batch_padded\n",
    "\n",
    "\n",
    "# Создание экземпляра датасета и загрузчика данных\n",
    "translation_dataset = TranslationDataset(pairs, eng_word2int, rus_word2int)\n",
    "batch_size = 64\n",
    "translation_dataloader = DataLoader(\n",
    "    translation_dataset,\n",
    "    batch_size=batch_size,\n",
    "    shuffle=True,\n",
    "    drop_last=True,\n",
    "    collate_fn=collate_fn,\n",
    ")\n",
    "\n",
    "# Печать информации о количестве образцов и батчей в датасете\n",
    "print(\"Translation samples: \", len(translation_dataset))\n",
    "print(\"Translation batches: \", len(translation_dataloader))"
   ]
  },
  {
   "cell_type": "markdown",
   "metadata": {},
   "source": [
    "## Простая RNN\n",
    "\n",
    "Начнем свои эксперименты с простой `RNN` - без bidirectional и с одним слоем."
   ]
  },
  {
   "cell_type": "markdown",
   "metadata": {},
   "source": [
    "### Задание №1\n",
    "\n",
    "Добавьте недостающие части в класс `Encoder` и сдайте в ЛМС код класса."
   ]
  },
  {
   "cell_type": "code",
   "execution_count": 11,
   "metadata": {
    "execution": {
     "iopub.execute_input": "2024-05-28T19:57:42.835960Z",
     "iopub.status.busy": "2024-05-28T19:57:42.835612Z",
     "iopub.status.idle": "2024-05-28T19:57:42.843224Z",
     "shell.execute_reply": "2024-05-28T19:57:42.842128Z",
     "shell.execute_reply.started": "2024-05-28T19:57:42.835935Z"
    },
    "id": "UGoIzfq9u3BE"
   },
   "outputs": [],
   "source": [
    "class Encoder(nn.Module):\n",
    "    def __init__(\n",
    "        self, vocab_size: int, embed_size: int, hidden_size: int, num_layers: int = 1\n",
    "    ):\n",
    "        super().__init__()\n",
    "        self.hidden_size = hidden_size\n",
    "        self.embedding = nn.Embedding(vocab_size, embed_size)\n",
    "        self.rnn = nn.RNN(embed_size, hidden_size, num_layers=num_layers, batch_first=True)\n",
    "\n",
    "    def forward(self, x):\n",
    "        x = torch.flip(x, [1])\n",
    "        embedded = self.embedding(x)\n",
    "        outputs, hidden = self.rnn(embedded)\n",
    "        return outputs, hidden"
   ]
  },
  {
   "cell_type": "markdown",
   "metadata": {},
   "source": []
  },
  {
   "cell_type": "markdown",
   "metadata": {},
   "source": [
    "### Задание №2\n",
    "\n",
    "Добавьте недостающий код в `Decoder` и сдайте в ЛМС код класса."
   ]
  },
  {
   "cell_type": "code",
   "execution_count": 15,
   "metadata": {
    "execution": {
     "iopub.execute_input": "2024-05-28T20:00:32.342948Z",
     "iopub.status.busy": "2024-05-28T20:00:32.342066Z",
     "iopub.status.idle": "2024-05-28T20:00:32.349694Z",
     "shell.execute_reply": "2024-05-28T20:00:32.348816Z",
     "shell.execute_reply.started": "2024-05-28T20:00:32.342912Z"
    },
    "id": "0dD04WFdu3BE"
   },
   "outputs": [],
   "source": [
    "class Decoder(nn.Module):\n",
    "    def __init__(\n",
    "        self, vocab_size: int, embed_size: int, hidden_size: int, num_layers: int = 1\n",
    "    ):\n",
    "        super().__init__()\n",
    "        self.hidden_size = hidden_size\n",
    "        self.embedding = nn.Embedding(vocab_size, embed_size)\n",
    "        self.rnn = nn.RNN(embed_size, hidden_size, num_layers=num_layers, batch_first=True)\n",
    "        self.fc = nn.Linear(in_features=hidden_size, out_features=vocab_size)\n",
    "\n",
    "    def forward(self, x: torch.Tensor, hidden: torch.Tensor | None):\n",
    "        out = self.embedding(x)\n",
    "        out, hidden = self.rnn(out, hidden)\n",
    "        out = self.fc(out).reshape(out.size(0), -1)\n",
    "        return out, hidden"
   ]
  },
  {
   "cell_type": "code",
   "execution_count": 8,
   "metadata": {
    "execution": {
     "iopub.execute_input": "2024-05-28T20:00:38.650662Z",
     "iopub.status.busy": "2024-05-28T20:00:38.650292Z",
     "iopub.status.idle": "2024-05-28T20:00:38.693473Z",
     "shell.execute_reply": "2024-05-28T20:00:38.692512Z",
     "shell.execute_reply.started": "2024-05-28T20:00:38.650636Z"
    },
    "id": "J7lErRJSu3BE",
    "outputId": "c0dc0dba-e855-4776-ab62-1da726ab7367"
   },
   "outputs": [
    {
     "data": {
      "text/plain": [
       "device(type='cuda', index=0)"
      ]
     },
     "execution_count": 8,
     "metadata": {},
     "output_type": "execute_result"
    }
   ],
   "source": [
    "DEVICE = torch.device(\"cuda:0\" if torch.cuda.is_available() else \"cpu\")\n",
    "DEVICE"
   ]
  },
  {
   "cell_type": "code",
   "execution_count": 16,
   "metadata": {
    "execution": {
     "iopub.execute_input": "2024-05-28T20:00:43.769700Z",
     "iopub.status.busy": "2024-05-28T20:00:43.769008Z",
     "iopub.status.idle": "2024-05-28T20:00:44.913843Z",
     "shell.execute_reply": "2024-05-28T20:00:44.913028Z",
     "shell.execute_reply.started": "2024-05-28T20:00:43.769668Z"
    },
    "id": "6s5M_mohu3BF"
   },
   "outputs": [],
   "source": [
    "eng_vocab_size = len(eng_word2int)\n",
    "rus_vocab_size = len(rus_word2int)\n",
    "embed_size = 256\n",
    "hidden_size = 512\n",
    "num_layers = 1\n",
    "\n",
    "torch.manual_seed(42)\n",
    "torch.cuda.manual_seed_all(42)\n",
    "encoder = Encoder(eng_vocab_size, embed_size, hidden_size, num_layers).to(DEVICE)\n",
    "decoder = Decoder(rus_vocab_size, embed_size, hidden_size, num_layers).to(DEVICE)"
   ]
  },
  {
   "cell_type": "code",
   "execution_count": 17,
   "metadata": {
    "execution": {
     "iopub.execute_input": "2024-05-28T20:00:48.182086Z",
     "iopub.status.busy": "2024-05-28T20:00:48.181200Z",
     "iopub.status.idle": "2024-05-28T20:00:48.192055Z",
     "shell.execute_reply": "2024-05-28T20:00:48.191001Z",
     "shell.execute_reply.started": "2024-05-28T20:00:48.182053Z"
    },
    "id": "UX4XduJ5u3BF"
   },
   "outputs": [],
   "source": [
    "def translate(encoder, decoder, sentence, eng_word2int, rus_int2word, max_length=15):\n",
    "    # Переводим модели в режим оценки (inference)\n",
    "    encoder.eval()\n",
    "    decoder.eval()\n",
    "\n",
    "    # Отключаем вычисление градиентов для ускорения и уменьшения использования памяти\n",
    "    with torch.inference_mode():\n",
    "        # Преобразуем входное предложение в тензор и добавляем EOS токен в конце\n",
    "        input_tensor = torch.tensor(\n",
    "            [eng_word2int[word] for word in tokenize(sentence)]\n",
    "            + [eng_word2int[EOS_TOKEN]],\n",
    "            dtype=torch.long,\n",
    "        )\n",
    "        input_tensor = input_tensor.view(1, -1).to(DEVICE)  # batch_first=True\n",
    "\n",
    "        # Пропускаем входное предложение через энкодер\n",
    "        _, encoder_hidden = encoder(input_tensor)\n",
    "        # Инициализируем скрытое состояние декодера скрытым состоянием энкодера\n",
    "        decoder_hidden = encoder_hidden\n",
    "\n",
    "        decoded_words = []\n",
    "        last_word = torch.tensor([[eng_word2int[SOS_TOKEN]]]).to(DEVICE)\n",
    "        for _ in range(max_length):\n",
    "            # Пропускаем последний предсказанный токен через декодер\n",
    "            logits, decoder_hidden = decoder(last_word, decoder_hidden)\n",
    "            # Жадный перебор: выбираем токен с максимальной вероятностью - можно было и с температурой, попробуйте в качестве эксперименте\n",
    "            next_token = logits.argmax(dim=1)\n",
    "            last_word = next_token.unsqueeze(0).to(DEVICE)\n",
    "            if next_token.item() == rus_word2int[EOS_TOKEN]:\n",
    "                break\n",
    "            else:\n",
    "                decoded_words.append(rus_int2word.get(next_token.item()))\n",
    "\n",
    "    # Возвращаем переведенные слова как строку\n",
    "    return \" \".join(decoded_words)"
   ]
  },
  {
   "cell_type": "code",
   "execution_count": 18,
   "metadata": {
    "id": "nYbhva1Uu3BF"
   },
   "outputs": [
    {
     "name": "stdout",
     "output_type": "stream",
     "text": [
      "Translated: еноты. сформулировать прабабушек? бесплатно засохнет. опухшие целью подавала сочувствии приезжаешь. было? пища? столб. мвф уголках\n"
     ]
    }
   ],
   "source": [
    "sentence = \"just do it\"\n",
    "translated_sentence = translate(encoder, decoder, sentence, eng_word2int, rus_int2word)\n",
    "print(\"Translated:\", translated_sentence)"
   ]
  },
  {
   "cell_type": "markdown",
   "metadata": {},
   "source": [
    "Пока перевод получается странный, но мы ведь пока ничего не обучали."
   ]
  },
  {
   "cell_type": "code",
   "execution_count": 19,
   "metadata": {
    "id": "f1Z7eyT-u3BF"
   },
   "outputs": [
    {
     "name": "stdout",
     "output_type": "stream",
     "text": [
      "Epoch 0, Batch 0, Loss: 11.3994\n",
      "Epoch 0, Batch 100, Loss: 6.5943\n",
      "Epoch 0, Batch 200, Loss: 5.2954\n",
      "Epoch 0, Batch 300, Loss: 6.2373\n",
      "Epoch 0, Batch 400, Loss: 5.5826\n",
      "Epoch 0, Batch 500, Loss: 5.2326\n",
      "Epoch 0, Batch 600, Loss: 5.8907\n",
      "Epoch 0, Batch 700, Loss: 5.2402\n",
      "Epoch 0, Batch 800, Loss: 5.8356\n",
      "Epoch 0, Batch 900, Loss: 5.4579\n",
      "Epoch 0, Batch 1000, Loss: 4.7024\n",
      "Epoch 0, Batch 1100, Loss: 4.4864\n",
      "Epoch 0, Batch 1200, Loss: 4.8597\n",
      "Epoch 0, Batch 1300, Loss: 4.6255\n",
      "Epoch 0, Batch 1400, Loss: 5.3215\n",
      "Epoch 0, Batch 1500, Loss: 4.9888\n",
      "Epoch 0, Batch 1600, Loss: 5.0402\n",
      "Epoch 0, Batch 1700, Loss: 5.5525\n",
      "Epoch 0, Batch 1800, Loss: 6.6702\n",
      "Epoch 0, Batch 1900, Loss: 5.4752\n",
      "Epoch 0, Batch 2000, Loss: 3.9696\n",
      "Epoch 0, Batch 2100, Loss: 4.0935\n",
      "Epoch 0, Batch 2200, Loss: 4.3770\n",
      "Epoch 0, Batch 2300, Loss: 4.1122\n",
      "Epoch 0, Batch 2400, Loss: 4.4943\n",
      "Epoch 0, Batch 2500, Loss: 4.4967\n",
      "Epoch 0, Batch 2600, Loss: 5.0038\n",
      "Epoch 0, Batch 2700, Loss: 4.4875\n",
      "Epoch 0, Batch 2800, Loss: 4.7462\n",
      "Epoch 0, Batch 2900, Loss: 4.1971\n",
      "Epoch 0, Batch 3000, Loss: 3.9184\n",
      "Epoch 0, Batch 3100, Loss: 4.6056\n",
      "Epoch 0, Batch 3200, Loss: 5.5719\n",
      "Epoch 0, Batch 3300, Loss: 5.6724\n",
      "Epoch 0, Batch 3400, Loss: 4.9099\n",
      "Epoch 0, Batch 3500, Loss: 5.2416\n",
      "Epoch 0, Batch 3600, Loss: 5.0970\n",
      "Epoch 0, Batch 3700, Loss: 4.2657\n",
      "Epoch 0, Batch 3800, Loss: 4.3438\n",
      "Epoch 0, Batch 3900, Loss: 8.6306\n",
      "Epoch 0, Batch 4000, Loss: 4.6735\n",
      "Epoch 0, Batch 4100, Loss: 4.9809\n",
      "Epoch 0, Batch 4200, Loss: 4.2952\n",
      "Epoch 0, Batch 4300, Loss: 4.0174\n",
      "Epoch 0, Batch 4400, Loss: 4.3852\n",
      "Epoch 0, Batch 4500, Loss: 4.1347\n",
      "Epoch 0, Batch 4600, Loss: 4.0431\n",
      "Epoch 0, Batch 4700, Loss: 4.2006\n",
      "Epoch 0, Batch 4800, Loss: 4.3283\n",
      "Epoch 0, Batch 4900, Loss: 4.4607\n",
      "Epoch 0, Batch 5000, Loss: 7.0119\n"
     ]
    }
   ],
   "source": [
    "import random\n",
    "\n",
    "import torch.nn as nn\n",
    "\n",
    "# Функция потерь (исключая паддинг)\n",
    "loss_fn = nn.CrossEntropyLoss(ignore_index=eng_word2int[PAD_TOKEN])\n",
    "\n",
    "# Оптимизаторы\n",
    "encoder_optimizer = optim.AdamW(encoder.parameters())\n",
    "decoder_optimizer = optim.AdamW(decoder.parameters())\n",
    "\n",
    "# Количество эпох\n",
    "num_epochs = 1\n",
    "\n",
    "# Тренировочный цикл\n",
    "encoder.train()\n",
    "decoder.train()\n",
    "\n",
    "for epoch in range(num_epochs):\n",
    "    for i, (input_tensor, target_tensor) in enumerate(translation_dataloader):\n",
    "        input_tensor, target_tensor = input_tensor.to(DEVICE), target_tensor.to(DEVICE)\n",
    "\n",
    "        # Обнуление градиентов обоих оптимизаторов\n",
    "        encoder_optimizer.zero_grad()\n",
    "        decoder_optimizer.zero_grad()\n",
    "\n",
    "        target_length = target_tensor.size(1)\n",
    "\n",
    "        # Энкодер\n",
    "        _, encoder_hidden = encoder(input_tensor)\n",
    "\n",
    "        # Декодер\n",
    "        decoder_input = torch.full(\n",
    "            (batch_size, 1), eng_word2int[SOS_TOKEN], dtype=torch.long\n",
    "        ).to(DEVICE)\n",
    "        decoder_hidden = encoder_hidden\n",
    "\n",
    "        # Случайный выбор индекса слова из целевой последовательности\n",
    "        random_word_index = random.randint(0, target_length - 1)\n",
    "\n",
    "        loss = torch.tensor(0.0, device=DEVICE, requires_grad=True)\n",
    "        for di in range(target_length):\n",
    "            logits, _ = decoder(decoder_input, decoder_hidden)\n",
    "\n",
    "            # Вычисление потерь только для случайно выбранного слова\n",
    "            loss = loss + loss_fn(logits, target_tensor[:, di])\n",
    "\n",
    "            decoder_input = target_tensor[:, di].reshape(\n",
    "                batch_size, 1\n",
    "            )  # Teacher forcing (принудительное обучение)\n",
    "\n",
    "        # Обратное распространение ошибки и шаг оптимизации\n",
    "        loss.backward()\n",
    "        encoder_optimizer.step()\n",
    "        decoder_optimizer.step()\n",
    "\n",
    "        if i % 100 == 0:\n",
    "            # Печать потерь каждые 100 батчей\n",
    "            print(f\"Epoch {epoch}, Batch {i}, Loss: {loss.item() / target_length:.4f}\")"
   ]
  },
  {
   "cell_type": "markdown",
   "metadata": {},
   "source": [
    "### Задание №3\n",
    "Попробуйте перевести предложение \"Where is Tom?\".\n",
    "Сдайте в ЛМС перевод."
   ]
  },
  {
   "cell_type": "code",
   "execution_count": 20,
   "metadata": {
    "id": "xQPOURtUu3BF"
   },
   "outputs": [
    {
     "name": "stdout",
     "output_type": "stream",
     "text": [
      "Translated: где припарковал томом?\n"
     ]
    }
   ],
   "source": [
    "sentence = \"Where is Tom?\"\n",
    "translated_sentence = translate(encoder, decoder, sentence, eng_word2int, rus_int2word)\n",
    "print(\"Translated:\", translated_sentence)"
   ]
  },
  {
   "cell_type": "markdown",
   "metadata": {},
   "source": [
    "## Bidirectional RNN\n",
    "\n",
    "Теперь попробуем использовать двунаправленную RNN (bidirectional RNN) в энкодере,\n",
    "что позволяет модели учитывать информацию из обеих сторон последовательности — как слева направо, так и справа налево.\n",
    "\n",
    "Декодер остается односторонним."
   ]
  },
  {
   "cell_type": "markdown",
   "metadata": {},
   "source": [
    "### Задание №4\n",
    "\n",
    "Допишите недостающий код в `Encoder` и сдайте на в ЛМС код класса."
   ]
  },
  {
   "cell_type": "code",
   "execution_count": 29,
   "metadata": {
    "execution": {
     "iopub.execute_input": "2024-05-28T20:06:36.477125Z",
     "iopub.status.busy": "2024-05-28T20:06:36.476475Z",
     "iopub.status.idle": "2024-05-28T20:06:36.484711Z",
     "shell.execute_reply": "2024-05-28T20:06:36.483647Z",
     "shell.execute_reply.started": "2024-05-28T20:06:36.477091Z"
    },
    "id": "oNUR7MXVu3BG"
   },
   "outputs": [],
   "source": [
    "class Encoder(nn.Module):\n",
    "    def __init__(\n",
    "        self, vocab_size: int, embed_size: int, hidden_size: int, num_layers: int = 1\n",
    "    ):\n",
    "        super().__init__()\n",
    "        self.hidden_size = hidden_size\n",
    "        self.embedding = nn.Embedding(vocab_size, embed_size)\n",
    "        self.rnn = nn.RNN(embed_size, hidden_size, num_layers=num_layers, batch_first=True, bidirectional=True)\n",
    "        # Добавьте двунаправленную RNN\n",
    "\n",
    "    def forward(self, x: torch.Tensor):\n",
    "        embedded = self.embedding(x)\n",
    "        outputs, hidden = self.rnn(embedded)\n",
    "        # Двунаправленная RNN возвращает два скрытых состояния: одно для каждого направления.\n",
    "        # Объединяем их в одно скрытое состояние.\n",
    "        hidden = torch.cat((hidden[0, :, :], hidden[1, :, :]), dim=1).unsqueeze(0)\n",
    "        return outputs, hidden"
   ]
  },
  {
   "cell_type": "markdown",
   "metadata": {},
   "source": [
    "### Задание №5\n",
    "\n",
    "Допишите класс `Decoder` и сдайте в ЛМС его реализацию."
   ]
  },
  {
   "cell_type": "code",
   "execution_count": 30,
   "metadata": {
    "execution": {
     "iopub.execute_input": "2024-05-28T20:05:53.495561Z",
     "iopub.status.busy": "2024-05-28T20:05:53.494951Z",
     "iopub.status.idle": "2024-05-28T20:05:53.502516Z",
     "shell.execute_reply": "2024-05-28T20:05:53.501481Z",
     "shell.execute_reply.started": "2024-05-28T20:05:53.495530Z"
    },
    "id": "rNc365mJu3BG"
   },
   "outputs": [],
   "source": [
    "class Decoder(nn.Module):\n",
    "    def __init__(self, vocab_size, embed_size, hidden_size, num_layers=1):\n",
    "        super().__init__()\n",
    "        self.hidden_size = hidden_size\n",
    "        self.embedding = nn.Embedding(vocab_size, embed_size)\n",
    "        self.rnn = nn.RNN(embed_size, hidden_size, num_layers=num_layers, batch_first=True)\n",
    "        self.fc = nn.Linear(hidden_size, vocab_size)\n",
    "\n",
    "    def forward(self, x, hidden):\n",
    "        out = self.embedding(x)\n",
    "        out, hidden = self.rnn(out, hidden)\n",
    "        out = self.fc(out).reshape(out.size(0), -1)\n",
    "        return out, hidden"
   ]
  },
  {
   "cell_type": "code",
   "execution_count": 31,
   "metadata": {
    "execution": {
     "iopub.execute_input": "2024-05-28T20:06:43.698999Z",
     "iopub.status.busy": "2024-05-28T20:06:43.698366Z",
     "iopub.status.idle": "2024-05-28T20:06:45.017536Z",
     "shell.execute_reply": "2024-05-28T20:06:45.016514Z",
     "shell.execute_reply.started": "2024-05-28T20:06:43.698967Z"
    },
    "id": "-dH3nKy2u3BG"
   },
   "outputs": [],
   "source": [
    "eng_vocab_size = len(eng_word2int)\n",
    "ita_vocab_size = len(rus_word2int)\n",
    "embed_size = 256\n",
    "hidden_size = 512\n",
    "num_layers = 1\n",
    "\n",
    "encoder = Encoder(eng_vocab_size, embed_size, hidden_size, num_layers).to(DEVICE)\n",
    "decoder = Decoder(ita_vocab_size, embed_size, hidden_size * 2, num_layers).to(DEVICE)"
   ]
  },
  {
   "cell_type": "code",
   "execution_count": 32,
   "metadata": {
    "id": "kYMrVqLwu3BG"
   },
   "outputs": [
    {
     "name": "stdout",
     "output_type": "stream",
     "text": [
      "Epoch 0, Batch 0, Loss: 11.3901\n",
      "Epoch 0, Batch 100, Loss: 6.0357\n",
      "Epoch 0, Batch 200, Loss: 6.4146\n",
      "Epoch 0, Batch 300, Loss: 5.0133\n",
      "Epoch 0, Batch 400, Loss: 6.5024\n",
      "Epoch 0, Batch 500, Loss: 5.2549\n",
      "Epoch 0, Batch 600, Loss: 5.1522\n",
      "Epoch 0, Batch 700, Loss: 6.5301\n",
      "Epoch 0, Batch 800, Loss: 7.5251\n",
      "Epoch 0, Batch 900, Loss: 6.1641\n",
      "Epoch 0, Batch 1000, Loss: 4.4248\n",
      "Epoch 0, Batch 1100, Loss: 5.8862\n",
      "Epoch 0, Batch 1200, Loss: 5.9552\n",
      "Epoch 0, Batch 1300, Loss: 4.7868\n",
      "Epoch 0, Batch 1400, Loss: 5.8457\n",
      "Epoch 0, Batch 1500, Loss: 4.4775\n",
      "Epoch 0, Batch 1600, Loss: 4.7723\n",
      "Epoch 0, Batch 1700, Loss: 5.9154\n",
      "Epoch 0, Batch 1800, Loss: 6.0398\n",
      "Epoch 0, Batch 1900, Loss: 5.6283\n",
      "Epoch 0, Batch 2000, Loss: 6.1216\n",
      "Epoch 0, Batch 2100, Loss: 4.5640\n",
      "Epoch 0, Batch 2200, Loss: 4.4292\n",
      "Epoch 0, Batch 2300, Loss: 4.8590\n",
      "Epoch 0, Batch 2400, Loss: 5.0518\n",
      "Epoch 0, Batch 2500, Loss: 4.2904\n",
      "Epoch 0, Batch 2600, Loss: 4.6329\n",
      "Epoch 0, Batch 2700, Loss: 5.6533\n",
      "Epoch 0, Batch 2800, Loss: 5.0178\n",
      "Epoch 0, Batch 2900, Loss: 5.0993\n",
      "Epoch 0, Batch 3000, Loss: 4.8273\n",
      "Epoch 0, Batch 3100, Loss: 4.9035\n",
      "Epoch 0, Batch 3200, Loss: 6.0866\n",
      "Epoch 0, Batch 3300, Loss: 4.3852\n",
      "Epoch 0, Batch 3400, Loss: 4.6837\n",
      "Epoch 0, Batch 3500, Loss: 4.3465\n",
      "Epoch 0, Batch 3600, Loss: 5.1346\n",
      "Epoch 0, Batch 3700, Loss: 5.4210\n",
      "Epoch 0, Batch 3800, Loss: 4.7094\n",
      "Epoch 0, Batch 3900, Loss: 4.6805\n",
      "Epoch 0, Batch 4000, Loss: 3.2518\n",
      "Epoch 0, Batch 4100, Loss: 5.0247\n",
      "Epoch 0, Batch 4200, Loss: 4.3558\n",
      "Epoch 0, Batch 4300, Loss: 4.1123\n",
      "Epoch 0, Batch 4400, Loss: 5.6191\n",
      "Epoch 0, Batch 4500, Loss: 5.5209\n",
      "Epoch 0, Batch 4600, Loss: 4.8781\n",
      "Epoch 0, Batch 4700, Loss: 4.7327\n",
      "Epoch 0, Batch 4800, Loss: 4.0528\n",
      "Epoch 0, Batch 4900, Loss: 4.8833\n",
      "Epoch 0, Batch 5000, Loss: 5.6110\n"
     ]
    }
   ],
   "source": [
    "import random\n",
    "\n",
    "import torch.nn as nn\n",
    "import torch.optim as optim\n",
    "\n",
    "loss_fn = nn.CrossEntropyLoss(ignore_index=eng_word2int[PAD_TOKEN])\n",
    "\n",
    "encoder_optimizer = optim.AdamW(encoder.parameters())\n",
    "decoder_optimizer = optim.AdamW(decoder.parameters())\n",
    "\n",
    "num_epochs = 1\n",
    "\n",
    "encoder.train()\n",
    "decoder.train()\n",
    "\n",
    "for epoch in range(num_epochs):\n",
    "    for i, (input_tensor, target_tensor) in enumerate(translation_dataloader):\n",
    "        input_tensor, target_tensor = input_tensor.to(DEVICE), target_tensor.to(DEVICE)\n",
    "\n",
    "        encoder_optimizer.zero_grad()\n",
    "        decoder_optimizer.zero_grad()\n",
    "\n",
    "        target_length = target_tensor.size(1)\n",
    "\n",
    "        _, encoder_hidden = encoder(input_tensor)\n",
    "\n",
    "        decoder_input = torch.full(\n",
    "            (batch_size, 1), eng_word2int[SOS_TOKEN], dtype=torch.long\n",
    "        ).to(DEVICE)\n",
    "        decoder_hidden = encoder_hidden\n",
    "\n",
    "        random_word_index = random.randint(0, target_length - 1)\n",
    "\n",
    "        loss = torch.tensor(0.0, device=DEVICE, requires_grad=True)\n",
    "        for di in range(target_length):\n",
    "            logits, decoder_hidden = decoder(decoder_input, decoder_hidden)\n",
    "\n",
    "            loss = loss + loss_fn(logits, target_tensor[:, di])\n",
    "\n",
    "            decoder_input = target_tensor[:, di].reshape(batch_size, 1)\n",
    "\n",
    "        loss.backward()\n",
    "        encoder_optimizer.step()\n",
    "        decoder_optimizer.step()\n",
    "\n",
    "        if i % 100 == 0:\n",
    "            print(f\"Epoch {epoch}, Batch {i}, Loss: {loss.item() / target_length:.4f}\")"
   ]
  },
  {
   "cell_type": "code",
   "execution_count": 33,
   "metadata": {
    "id": "_EpollrXu3BG"
   },
   "outputs": [
    {
     "name": "stdout",
     "output_type": "stream",
     "text": [
      "Translated: я очень жадный.\n"
     ]
    }
   ],
   "source": [
    "sentence = \"just do it\"\n",
    "translated_sentence = translate(encoder, decoder, sentence, eng_word2int, rus_int2word)\n",
    "print(\"Translated:\", translated_sentence)"
   ]
  },
  {
   "cell_type": "markdown",
   "metadata": {},
   "source": [
    "Выбить хорошее качество обучения, используя только лишь RNN и небольшой датасет, сложно.\n",
    "\n",
    "Не забывайте, что в семинаре у нас было ~400 Мб текстов одного языка, а здесь всего лишь 28 Мб и на двух языках.\n",
    "Можем сделать вывод, что для обучения хорошей модели нужно много текстовых данных.\n",
    "\n",
    "Помимо этого, для серьезного обучения стоит использовать более продвинутые сети: те же GRU и LSTM покажут себя лучше.\n",
    "А еще лучше будет работать трансформер, о котором вы узнаете в следующем уроке."
   ]
  }
 ],
 "metadata": {
  "colab": {
   "provenance": []
  },
  "kaggle": {
   "accelerator": "gpu",
   "dataSources": [
    {
     "datasetId": 5101699,
     "sourceId": 8539972,
     "sourceType": "datasetVersion"
    }
   ],
   "dockerImageVersionId": 30699,
   "isGpuEnabled": true,
   "isInternetEnabled": true,
   "language": "python",
   "sourceType": "notebook"
  },
  "kernelspec": {
   "display_name": ".venv",
   "language": "python",
   "name": "python3"
  },
  "language_info": {
   "codemirror_mode": {
    "name": "ipython",
    "version": 3
   },
   "file_extension": ".py",
   "mimetype": "text/x-python",
   "name": "python",
   "nbconvert_exporter": "python",
   "pygments_lexer": "ipython3",
   "version": "3.10.12"
  }
 },
 "nbformat": 4,
 "nbformat_minor": 0
}
