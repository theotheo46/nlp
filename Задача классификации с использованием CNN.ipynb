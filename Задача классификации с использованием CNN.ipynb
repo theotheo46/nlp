{
 "cells": [
  {
   "cell_type": "markdown",
   "metadata": {},
   "source": [
    "# Урок 4\n",
    "Эта демонстрация разбита на 3 ноутбука:\n",
    "\n",
    "1. Свертки и пулинги.\n",
    "2. Даталоадеры.\n",
    "3. **Задача классификации с использованием CNN.**"
   ]
  },
  {
   "cell_type": "markdown",
   "metadata": {},
   "source": [
    "В этой части мы решим задачу предсказания пола человека по фото.\n",
    "\n",
    "Метрикой качества будет _accuracy_, датасет возьмем IMDB-Wiki.\n",
    "В качестве бейзлайна возьмем FC-сеть, затем улучшим его с помощью сверток.\n",
    "После этого мы возьмем ResNet, зафайнтюним его под нашу задачу и посмотрим на качество.\n",
    "\n",
    "Мы увидим, что сверточные сети действительно улучшают точность предсказания. Также мы посмотрим на fine-tuning: как быстро он обучится и какое качество даст."
   ]
  },
  {
   "cell_type": "code",
   "execution_count": 1,
   "metadata": {},
   "outputs": [],
   "source": [
    "import numpy as np\n",
    "import cv2\n",
    "import torch\n",
    "from albumentations.pytorch import ToTensorV2\n",
    "import albumentations as A\n",
    "from scipy.io import loadmat\n",
    "from torch.utils.data import Dataset\n",
    "\n",
    "\n",
    "class ImdbWikiDataset(Dataset):\n",
    "    def __init__(self, image_size: int = 128):\n",
    "        # Из кодов выше\n",
    "        imdb_dat = loadmat(\"imdb_crop/imdb.mat\")[\"imdb\"][0][0]\n",
    "        imdb_paths = [f\"imdb_crop/{path[0]}\" for path in imdb_dat[2][0]]\n",
    "        imdb_genders = imdb_dat[3][0]\n",
    "        bad_indices = set(np.where(np.isnan(imdb_genders))[0])\n",
    "        imdb_paths = [x for i, x in enumerate(imdb_paths) if i not in bad_indices]\n",
    "        imdb_genders = [\n",
    "            int(x) for i, x in enumerate(imdb_genders) if i not in bad_indices\n",
    "        ]\n",
    "\n",
    "        # Не будем читать картинки при создании датасета, чтобы сберечь ОЗУ.\n",
    "        self.paths = imdb_paths\n",
    "        self.labels = imdb_genders\n",
    "        self.transforms = A.Compose(\n",
    "            [\n",
    "                # Подгонит под размер (128, 128)\n",
    "                A.Resize(image_size, image_size),\n",
    "                # A.HorizontalFlip(p=0.5),\n",
    "                # Пиксели в отрезке [0; 255] - это uint8.\n",
    "                # Переведем в отрезок [0.0; 1.0] - нейросети будет проще.\n",
    "                A.ToFloat(max_value=255),\n",
    "                # Поменяет (H, W, C) -> (C, H, W) и превратит в тензор PyTorch\n",
    "                ToTensorV2(),\n",
    "                # Для обогащения: будем переворачивать\n",
    "            ]\n",
    "        )\n",
    "        assert len(self.paths) == len(self.labels)\n",
    "\n",
    "    def __getitem__(self, index) -> tuple[torch.Tensor, int]:\n",
    "        # Читать будем только одну картинку - и возвращать пару (тензор картинки, ее label)\n",
    "        img_numpy = cv2.imread(self.paths[index])\n",
    "        img_tensor = self.transforms(image=img_numpy)[\"image\"]\n",
    "\n",
    "        label = self.labels[index]\n",
    "        return img_tensor, label\n",
    "\n",
    "    def __len__(self):\n",
    "        return len(self.paths)"
   ]
  },
  {
   "cell_type": "markdown",
   "metadata": {},
   "source": [
    "## Классификация с использованием сверток\n",
    "\n",
    "Попробуем решить задачу классификации пола на таком большом датасете.\n",
    "Какие модели будем использовать:\n",
    "- FC (_бейзлайн_);\n",
    "- одна свертка и нелинейность;\n",
    "- три свертки;\n",
    "- три свертки и batch normalization;\n",
    "- три свертки, batch normalization, dropout; \n",
    "\n",
    "Оптимизировать будем бинарную кросс-энтропию (BCE), в качестве метрики качества выберем accuracy."
   ]
  },
  {
   "cell_type": "code",
   "execution_count": 2,
   "metadata": {},
   "outputs": [],
   "source": [
    "import random\n",
    "import os\n",
    "from dataclasses import dataclass\n",
    "\n",
    "\n",
    "@dataclass\n",
    "class Config:\n",
    "    seed: int = 0\n",
    "\n",
    "    # Данные\n",
    "    batch_size: int = 64\n",
    "    do_shuffle_train: bool = True\n",
    "    img_size: int = 128\n",
    "    ratio_train_val_test: tuple[float, float, float] = (0.8, 0.1, 0.1)\n",
    "\n",
    "    # Модель\n",
    "    hidden_dim: int = 512\n",
    "    p_dropout: float = 0.3\n",
    "\n",
    "    # Обучение\n",
    "    n_epochs: int = 10\n",
    "    eval_every: int = 2000\n",
    "    lr: float = 1e-5\n",
    "\n",
    "\n",
    "def enable_determinism():\n",
    "    os.environ[\"CUBLAS_WORKSPACE_CONFIG\"] = \":4096:8\"\n",
    "    torch.use_deterministic_algorithms(True)\n",
    "\n",
    "\n",
    "def fix_seeds(seed: int):\n",
    "    np.random.seed(seed)\n",
    "    random.seed(seed)\n",
    "    torch.manual_seed(seed)\n",
    "    torch.cuda.manual_seed(seed)\n",
    "    torch.mps.manual_seed(seed)\n",
    "\n",
    "\n",
    "config = Config()\n",
    "enable_determinism()\n",
    "fix_seeds(config.seed)"
   ]
  },
  {
   "cell_type": "code",
   "execution_count": 3,
   "metadata": {},
   "outputs": [],
   "source": [
    "from torch.utils.data import DataLoader, random_split\n",
    "\n",
    "# Готовим заново датасеты\n",
    "generator = torch.Generator()\n",
    "generator.manual_seed(config.seed)\n",
    "\n",
    "dataset = ImdbWikiDataset(image_size=config.img_size)\n",
    "train_dataset, val_dataset, test_dataset = random_split(\n",
    "    dataset, lengths=config.ratio_train_val_test, generator=generator\n",
    ")\n",
    "\n",
    "\n",
    "# https://pytorch.org/docs/stable/notes/randomness.html#dataloader\n",
    "def seed_worker(_):\n",
    "    worker_seed = torch.initial_seed() % 2**32\n",
    "    np.random.seed(worker_seed)\n",
    "    random.seed(worker_seed)\n",
    "\n",
    "\n",
    "train_loader = DataLoader(\n",
    "    train_dataset,\n",
    "    batch_size=config.batch_size,\n",
    "    shuffle=config.do_shuffle_train,\n",
    "    generator=generator,\n",
    "    drop_last=True,\n",
    "    # Для скорости будем готовить данные в 4 процессах\n",
    "    num_workers=4,\n",
    "    pin_memory=True,\n",
    "    # Это для воспроизводимости https://pytorch.org/docs/stable/notes/randomness.html#dataloader\n",
    "    worker_init_fn=seed_worker,\n",
    ")\n",
    "val_loader = DataLoader(\n",
    "    val_dataset,\n",
    "    batch_size=config.batch_size,\n",
    "    shuffle=False,\n",
    "    drop_last=True,\n",
    "    num_workers=4,\n",
    "    pin_memory=True,\n",
    ")\n",
    "test_loader = DataLoader(\n",
    "    test_dataset,\n",
    "    batch_size=config.batch_size,\n",
    "    shuffle=False,\n",
    "    drop_last=True,\n",
    ")\n",
    "# Здесь не будем использовать test_loader и test_dataset. Но обычно работают так:\n",
    "# - на train данных обучают модель;\n",
    "# - на val данных подбирают гиперпараметры;\n",
    "# - на test данных финально оценивают качество модели (после подбора гиперпараметров)."
   ]
  },
  {
   "cell_type": "code",
   "execution_count": 4,
   "metadata": {},
   "outputs": [
    {
     "name": "stdout",
     "output_type": "stream",
     "text": [
      "torch.Size([64, 3, 128, 128])\n",
      "torch.Size([64, 1])\n"
     ]
    }
   ],
   "source": [
    "import torch.nn as nn\n",
    "\n",
    "\n",
    "class FcModel(nn.Module):\n",
    "    def __init__(self, config: Config):\n",
    "        super().__init__()\n",
    "        self.img_size = config.img_size\n",
    "        self.hidden_dim = config.hidden_dim\n",
    "        n_channels = 3\n",
    "        self.fc = nn.Sequential(\n",
    "            nn.Linear(self.img_size * self.img_size * n_channels, self.hidden_dim),\n",
    "            nn.ReLU(),\n",
    "            nn.BatchNorm1d(self.hidden_dim),\n",
    "            nn.Linear(self.hidden_dim, self.hidden_dim // 2),\n",
    "            nn.ReLU(),\n",
    "            nn.BatchNorm1d(self.hidden_dim // 2),\n",
    "            nn.Linear(self.hidden_dim // 2, self.hidden_dim // 4),\n",
    "            nn.ReLU(),\n",
    "            nn.BatchNorm1d(self.hidden_dim // 4),\n",
    "            nn.Linear(self.hidden_dim // 4, 1),\n",
    "            # Будем предсказывать логиты вероятностей\n",
    "        )\n",
    "\n",
    "    def forward(self, x):\n",
    "        # Схлопнем (N, C, H, W) -> (N, C * H * W)\n",
    "        x = x.reshape((x.shape[0], -1))\n",
    "        # И прогоним через линейные слои\n",
    "        return self.fc(x)\n",
    "\n",
    "\n",
    "model = FcModel(config)\n",
    "x, y = next(iter(train_loader))\n",
    "print(x.shape)\n",
    "print(model(x).shape)"
   ]
  },
  {
   "cell_type": "code",
   "execution_count": 5,
   "metadata": {},
   "outputs": [],
   "source": [
    "# Пойдем учиться.\n",
    "# В качестве ошибки возьмем BCE\n",
    "import torch.nn.functional as F\n",
    "import tqdm\n",
    "import wandb\n",
    "from torch.optim import Adam\n",
    "\n",
    "\n",
    "def calc_accuracy(model: nn.Module, loader: DataLoader, device: torch.device):\n",
    "    count_correct, count_total = 0, 0\n",
    "    model.eval()\n",
    "    for img_batch, true_labels in loader:\n",
    "        img_batch = img_batch.to(device)\n",
    "        true_labels = true_labels.to(device)\n",
    "        with torch.no_grad():\n",
    "            pred_val = model(img_batch).squeeze()\n",
    "        # Будем предсказывать самый вероятный класс (т.е. порог 0.5 вероятности).\n",
    "        # Тогда p > 0.5 будет на положительных логитах, а p < 0.5 - на отрицательных\n",
    "        pred_labels = pred_val >= 0\n",
    "        count_correct += (pred_labels == true_labels).sum().item()\n",
    "        count_total += len(true_labels)\n",
    "    model.train()\n",
    "    return count_correct / count_total\n",
    "\n",
    "\n",
    "def train_loop(\n",
    "    config: Config,\n",
    "    model: nn.Module,\n",
    "    train_loader: DataLoader,\n",
    "    val_loader: DataLoader,\n",
    "    device: torch.device,\n",
    "    params_subset: list | None = None,\n",
    "):\n",
    "    if params_subset is None:\n",
    "        params_subset = model.parameters()\n",
    "    optimizer = Adam(params_subset, lr=config.lr)\n",
    "    model.to(device)\n",
    "\n",
    "    for epoch in range(config.n_epochs):\n",
    "        print(f\"Epoch #{epoch + 1}/#{config.n_epochs}\")\n",
    "        for i, (img_batch, true_labels) in enumerate(tqdm.tqdm(train_loader)):\n",
    "            step = epoch * len(train_loader) + i\n",
    "            img_batch, true_labels = img_batch.to(device), true_labels.to(device)\n",
    "\n",
    "            optimizer.zero_grad()\n",
    "            pred_labels = model(img_batch).squeeze()\n",
    "            loss = F.binary_cross_entropy_with_logits(pred_labels, true_labels.float())\n",
    "            loss.backward()\n",
    "            optimizer.step()\n",
    "\n",
    "            wandb.log({\"loss\": loss.cpu().item()}, step=step)\n",
    "            if (i + 1) % config.eval_every == 0:\n",
    "                # Подсчитаем accuracy на всем валидационном датасете\n",
    "                wandb.log(\n",
    "                    {\"accuracy\": calc_accuracy(model, val_loader, device)}, step=step\n",
    "                )\n",
    "        # В конце эпохи тоже напечатаем accuracy на val-датасете\n",
    "        wandb.log({\"accuracy\": calc_accuracy(model, val_loader, device)}, step=step)"
   ]
  },
  {
   "cell_type": "code",
   "execution_count": 6,
   "metadata": {},
   "outputs": [
    {
     "name": "stdout",
     "output_type": "stream",
     "text": [
      "using device cuda\n"
     ]
    }
   ],
   "source": [
    "if torch.cuda.is_available():\n",
    "    device = torch.device(\"cuda\")\n",
    "elif torch.backends.mps.is_available():\n",
    "    # Apple Silicon\n",
    "    device = torch.device(\"mps\")\n",
    "else:\n",
    "    device = torch.device(\"cpu\")\n",
    "print(\"using device\", device)"
   ]
  },
  {
   "cell_type": "code",
   "execution_count": 7,
   "metadata": {},
   "outputs": [
    {
     "name": "stderr",
     "output_type": "stream",
     "text": [
      "Failed to detect the name of this notebook, you can set it manually with the WANDB_NOTEBOOK_NAME environment variable to enable code saving.\n",
      "\u001b[34m\u001b[1mwandb\u001b[0m: Currently logged in as: \u001b[33malekseik1\u001b[0m. Use \u001b[1m`wandb login --relogin`\u001b[0m to force relogin\n"
     ]
    },
    {
     "data": {
      "text/html": [
       "wandb version 0.17.0 is available!  To upgrade, please run:\n",
       " $ pip install wandb --upgrade"
      ],
      "text/plain": [
       "<IPython.core.display.HTML object>"
      ]
     },
     "metadata": {},
     "output_type": "display_data"
    },
    {
     "data": {
      "text/html": [
       "Tracking run with wandb version 0.16.4"
      ],
      "text/plain": [
       "<IPython.core.display.HTML object>"
      ]
     },
     "metadata": {},
     "output_type": "display_data"
    },
    {
     "data": {
      "text/html": [
       "Run data is saved locally in <code>/home/aleksei/git/start-dl/start_dl/lesson_4/wandb/run-20240519_163113-tullcyzb</code>"
      ],
      "text/plain": [
       "<IPython.core.display.HTML object>"
      ]
     },
     "metadata": {},
     "output_type": "display_data"
    },
    {
     "data": {
      "text/html": [
       "Syncing run <strong><a href='https://wandb.ai/alekseik1/lesson-4/runs/tullcyzb' target=\"_blank\">simple-fc</a></strong> to <a href='https://wandb.ai/alekseik1/lesson-4' target=\"_blank\">Weights & Biases</a> (<a href='https://wandb.me/run' target=\"_blank\">docs</a>)<br/>"
      ],
      "text/plain": [
       "<IPython.core.display.HTML object>"
      ]
     },
     "metadata": {},
     "output_type": "display_data"
    },
    {
     "data": {
      "text/html": [
       " View project at <a href='https://wandb.ai/alekseik1/lesson-4' target=\"_blank\">https://wandb.ai/alekseik1/lesson-4</a>"
      ],
      "text/plain": [
       "<IPython.core.display.HTML object>"
      ]
     },
     "metadata": {},
     "output_type": "display_data"
    },
    {
     "data": {
      "text/html": [
       " View run at <a href='https://wandb.ai/alekseik1/lesson-4/runs/tullcyzb' target=\"_blank\">https://wandb.ai/alekseik1/lesson-4/runs/tullcyzb</a>"
      ],
      "text/plain": [
       "<IPython.core.display.HTML object>"
      ]
     },
     "metadata": {},
     "output_type": "display_data"
    },
    {
     "name": "stderr",
     "output_type": "stream",
     "text": [
      "/home/aleksei/.cache/pypoetry/virtualenvs/start-dl-fEQaQ9Q8-py3.10/lib/python3.10/site-packages/tqdm/auto.py:21: TqdmWarning: IProgress not found. Please update jupyter and ipywidgets. See https://ipywidgets.readthedocs.io/en/stable/user_install.html\n",
      "  from .autonotebook import tqdm as notebook_tqdm\n"
     ]
    },
    {
     "name": "stdout",
     "output_type": "stream",
     "text": [
      "Epoch #1/#10\n"
     ]
    },
    {
     "name": "stderr",
     "output_type": "stream",
     "text": [
      "100%|██████████| 5653/5653 [01:13<00:00, 77.39it/s] \n"
     ]
    },
    {
     "name": "stdout",
     "output_type": "stream",
     "text": [
      "Epoch #2/#10\n"
     ]
    },
    {
     "name": "stderr",
     "output_type": "stream",
     "text": [
      "100%|██████████| 5653/5653 [01:13<00:00, 76.45it/s] \n"
     ]
    },
    {
     "name": "stdout",
     "output_type": "stream",
     "text": [
      "Epoch #3/#10\n"
     ]
    },
    {
     "name": "stderr",
     "output_type": "stream",
     "text": [
      "100%|██████████| 5653/5653 [01:14<00:00, 76.28it/s] \n"
     ]
    },
    {
     "name": "stdout",
     "output_type": "stream",
     "text": [
      "Epoch #4/#10\n"
     ]
    },
    {
     "name": "stderr",
     "output_type": "stream",
     "text": [
      "100%|██████████| 5653/5653 [01:13<00:00, 76.55it/s] \n"
     ]
    },
    {
     "name": "stdout",
     "output_type": "stream",
     "text": [
      "Epoch #5/#10\n"
     ]
    },
    {
     "name": "stderr",
     "output_type": "stream",
     "text": [
      "100%|██████████| 5653/5653 [01:13<00:00, 76.72it/s] \n"
     ]
    },
    {
     "name": "stdout",
     "output_type": "stream",
     "text": [
      "Epoch #6/#10\n"
     ]
    },
    {
     "name": "stderr",
     "output_type": "stream",
     "text": [
      "100%|██████████| 5653/5653 [01:13<00:00, 76.53it/s] \n"
     ]
    },
    {
     "name": "stdout",
     "output_type": "stream",
     "text": [
      "Epoch #7/#10\n"
     ]
    },
    {
     "name": "stderr",
     "output_type": "stream",
     "text": [
      "100%|██████████| 5653/5653 [01:13<00:00, 77.01it/s] \n"
     ]
    },
    {
     "name": "stdout",
     "output_type": "stream",
     "text": [
      "Epoch #8/#10\n"
     ]
    },
    {
     "name": "stderr",
     "output_type": "stream",
     "text": [
      "100%|██████████| 5653/5653 [01:13<00:00, 76.42it/s] \n"
     ]
    },
    {
     "name": "stdout",
     "output_type": "stream",
     "text": [
      "Epoch #9/#10\n"
     ]
    },
    {
     "name": "stderr",
     "output_type": "stream",
     "text": [
      "100%|██████████| 5653/5653 [01:12<00:00, 77.52it/s] \n"
     ]
    },
    {
     "name": "stdout",
     "output_type": "stream",
     "text": [
      "Epoch #10/#10\n"
     ]
    },
    {
     "name": "stderr",
     "output_type": "stream",
     "text": [
      "100%|██████████| 5653/5653 [01:13<00:00, 77.32it/s] \n",
      "wandb: WARNING Source type is set to 'repo' but some required information is missing from the environment. A job will not be created from this run. See https://docs.wandb.ai/guides/launch/create-job\n"
     ]
    },
    {
     "data": {
      "text/html": [
       "<style>\n",
       "    table.wandb td:nth-child(1) { padding: 0 10px; text-align: left ; width: auto;} td:nth-child(2) {text-align: left ; width: 100%}\n",
       "    .wandb-row { display: flex; flex-direction: row; flex-wrap: wrap; justify-content: flex-start; width: 100% }\n",
       "    .wandb-col { display: flex; flex-direction: column; flex-basis: 100%; flex: 1; padding: 10px; }\n",
       "    </style>\n",
       "<div class=\"wandb-row\"><div class=\"wandb-col\"><h3>Run history:</h3><br/><table class=\"wandb\"><tr><td>accuracy</td><td>▁▄▄▅▆▆▆▇▆▇▇▇▇▇▇▇█▇▇▇▇█▇▅█▇██▇█</td></tr><tr><td>loss</td><td>▅▇▆▇█▆▆▆▅▇▂▃▆▄▆▃▁▇▅▅▄▇▅█▄▄▂▅▅▂▁▂▅▄▃▆▆▆▄▆</td></tr></table><br/></div><div class=\"wandb-col\"><h3>Run summary:</h3><br/><table class=\"wandb\"><tr><td>accuracy</td><td>0.71627</td></tr><tr><td>loss</td><td>0.64839</td></tr></table><br/></div></div>"
      ],
      "text/plain": [
       "<IPython.core.display.HTML object>"
      ]
     },
     "metadata": {},
     "output_type": "display_data"
    },
    {
     "data": {
      "text/html": [
       " View run <strong style=\"color:#cdcd00\">simple-fc</strong> at: <a href='https://wandb.ai/alekseik1/lesson-4/runs/tullcyzb' target=\"_blank\">https://wandb.ai/alekseik1/lesson-4/runs/tullcyzb</a><br/>Synced 5 W&B file(s), 0 media file(s), 0 artifact file(s) and 0 other file(s)"
      ],
      "text/plain": [
       "<IPython.core.display.HTML object>"
      ]
     },
     "metadata": {},
     "output_type": "display_data"
    },
    {
     "data": {
      "text/html": [
       "Find logs at: <code>./wandb/run-20240519_163113-tullcyzb/logs</code>"
      ],
      "text/plain": [
       "<IPython.core.display.HTML object>"
      ]
     },
     "metadata": {},
     "output_type": "display_data"
    }
   ],
   "source": [
    "wandb.init(project=\"lesson-4\", name=\"simple-fc\", config=config.__dict__)\n",
    "train_loop(config, model, train_loader, val_loader=val_loader, device=device)\n",
    "wandb.finish()"
   ]
  },
  {
   "cell_type": "markdown",
   "metadata": {},
   "source": [
    "Accuracy 69% - негусто. А какое качество дало бы константное предсказание?"
   ]
  },
  {
   "cell_type": "code",
   "execution_count": 8,
   "metadata": {},
   "outputs": [
    {
     "data": {
      "text/plain": [
       "0.5819957944638162"
      ]
     },
     "execution_count": 8,
     "metadata": {},
     "output_type": "execute_result"
    }
   ],
   "source": [
    "from collections import Counter\n",
    "\n",
    "c = Counter(dataset.labels)\n",
    "c[1] / (c[1] + c[0])"
   ]
  },
  {
   "cell_type": "markdown",
   "metadata": {},
   "source": [
    "Бейзлайн лучше, чем константное предсказние, но несильно.\n",
    "\n",
    "Давайте попробуем улучшить accuracy через сверточные сети."
   ]
  },
  {
   "cell_type": "code",
   "execution_count": 9,
   "metadata": {},
   "outputs": [],
   "source": [
    "class CnnModelBase(nn.Module):\n",
    "    def build_model(self):\n",
    "        raise NotImplementedError()\n",
    "\n",
    "    def explain_output(self, x: torch.Tensor):\n",
    "        # Печатает размеры тензора на выходе каждого слоя\n",
    "        print(\"## Модель ##\")\n",
    "        print(model)\n",
    "        print(\"## Размерности\")\n",
    "        print(\"Пришел x:\", x.shape)\n",
    "        current = x\n",
    "        for one_layer in self.net:\n",
    "            print(\"#######\")\n",
    "            print(\"Слой:\".ljust(8), one_layer)\n",
    "            print(\"До:\".ljust(8), current.shape)\n",
    "            current = one_layer(current)\n",
    "            print(\"После:\".ljust(8), current.shape)\n",
    "        print(\"## После всей модели\")\n",
    "        print(self(x).shape)\n",
    "\n",
    "    def __init__(self, config: Config):\n",
    "        super().__init__()\n",
    "        self.config = config\n",
    "        # Нам хватит поменьше размерности внутри\n",
    "        self.hidden_dim = 64\n",
    "        self.n_channels = 3\n",
    "        self.net = self.build_model()\n",
    "        self.head = nn.Linear(in_features=self.hidden_dim, out_features=1)\n",
    "\n",
    "    def forward(self, x):\n",
    "        x = self.net(x).squeeze()\n",
    "        x = self.head(x).squeeze()\n",
    "        return x"
   ]
  },
  {
   "cell_type": "code",
   "execution_count": 10,
   "metadata": {},
   "outputs": [
    {
     "name": "stdout",
     "output_type": "stream",
     "text": [
      "## Модель ##\n",
      "SimpleCnn(\n",
      "  (net): Sequential(\n",
      "    (0): Conv2d(3, 64, kernel_size=(3, 3), stride=(1, 1))\n",
      "    (1): ReLU()\n",
      "    (2): MaxPool2d(kernel_size=126, stride=126, padding=0, dilation=1, ceil_mode=False)\n",
      "  )\n",
      "  (head): Linear(in_features=64, out_features=1, bias=True)\n",
      ")\n",
      "## Размерности\n",
      "Пришел x: torch.Size([64, 3, 128, 128])\n",
      "#######\n",
      "Слой:    Conv2d(3, 64, kernel_size=(3, 3), stride=(1, 1))\n",
      "До:      torch.Size([64, 3, 128, 128])\n",
      "После:   torch.Size([64, 64, 126, 126])\n",
      "#######\n",
      "Слой:    ReLU()\n",
      "До:      torch.Size([64, 64, 126, 126])\n",
      "После:   torch.Size([64, 64, 126, 126])\n",
      "#######\n",
      "Слой:    MaxPool2d(kernel_size=126, stride=126, padding=0, dilation=1, ceil_mode=False)\n",
      "До:      torch.Size([64, 64, 126, 126])\n",
      "После:   torch.Size([64, 64, 1, 1])\n",
      "## После всей модели\n",
      "torch.Size([64])\n"
     ]
    }
   ],
   "source": [
    "class SimpleCnn(CnnModelBase):\n",
    "    def build_model(self):\n",
    "        return nn.Sequential(\n",
    "            nn.Conv2d(\n",
    "                in_channels=self.n_channels, out_channels=self.hidden_dim, kernel_size=3\n",
    "            ),\n",
    "            nn.ReLU(),\n",
    "            nn.MaxPool2d(kernel_size=self.config.img_size - 3 + 1),\n",
    "        )\n",
    "\n",
    "\n",
    "model = SimpleCnn(config)\n",
    "x, y = next(iter(train_loader))\n",
    "model.explain_output(x)"
   ]
  },
  {
   "cell_type": "code",
   "execution_count": 11,
   "metadata": {},
   "outputs": [
    {
     "data": {
      "text/html": [
       "wandb version 0.17.0 is available!  To upgrade, please run:\n",
       " $ pip install wandb --upgrade"
      ],
      "text/plain": [
       "<IPython.core.display.HTML object>"
      ]
     },
     "metadata": {},
     "output_type": "display_data"
    },
    {
     "data": {
      "text/html": [
       "Tracking run with wandb version 0.16.4"
      ],
      "text/plain": [
       "<IPython.core.display.HTML object>"
      ]
     },
     "metadata": {},
     "output_type": "display_data"
    },
    {
     "data": {
      "text/html": [
       "Run data is saved locally in <code>/home/aleksei/git/start-dl/start_dl/lesson_4/wandb/run-20240519_164512-4w5pju2j</code>"
      ],
      "text/plain": [
       "<IPython.core.display.HTML object>"
      ]
     },
     "metadata": {},
     "output_type": "display_data"
    },
    {
     "data": {
      "text/html": [
       "Syncing run <strong><a href='https://wandb.ai/alekseik1/lesson-4/runs/4w5pju2j' target=\"_blank\">1-conv</a></strong> to <a href='https://wandb.ai/alekseik1/lesson-4' target=\"_blank\">Weights & Biases</a> (<a href='https://wandb.me/run' target=\"_blank\">docs</a>)<br/>"
      ],
      "text/plain": [
       "<IPython.core.display.HTML object>"
      ]
     },
     "metadata": {},
     "output_type": "display_data"
    },
    {
     "data": {
      "text/html": [
       " View project at <a href='https://wandb.ai/alekseik1/lesson-4' target=\"_blank\">https://wandb.ai/alekseik1/lesson-4</a>"
      ],
      "text/plain": [
       "<IPython.core.display.HTML object>"
      ]
     },
     "metadata": {},
     "output_type": "display_data"
    },
    {
     "data": {
      "text/html": [
       " View run at <a href='https://wandb.ai/alekseik1/lesson-4/runs/4w5pju2j' target=\"_blank\">https://wandb.ai/alekseik1/lesson-4/runs/4w5pju2j</a>"
      ],
      "text/plain": [
       "<IPython.core.display.HTML object>"
      ]
     },
     "metadata": {},
     "output_type": "display_data"
    },
    {
     "name": "stdout",
     "output_type": "stream",
     "text": [
      "Epoch #1/#10\n"
     ]
    },
    {
     "name": "stderr",
     "output_type": "stream",
     "text": [
      "100%|██████████| 5653/5653 [01:15<00:00, 75.34it/s]\n"
     ]
    },
    {
     "name": "stdout",
     "output_type": "stream",
     "text": [
      "Epoch #2/#10\n"
     ]
    },
    {
     "name": "stderr",
     "output_type": "stream",
     "text": [
      "100%|██████████| 5653/5653 [01:16<00:00, 74.10it/s]\n"
     ]
    },
    {
     "name": "stdout",
     "output_type": "stream",
     "text": [
      "Epoch #3/#10\n"
     ]
    },
    {
     "name": "stderr",
     "output_type": "stream",
     "text": [
      "100%|██████████| 5653/5653 [01:28<00:00, 64.07it/s]\n"
     ]
    },
    {
     "name": "stdout",
     "output_type": "stream",
     "text": [
      "Epoch #4/#10\n"
     ]
    },
    {
     "name": "stderr",
     "output_type": "stream",
     "text": [
      "100%|██████████| 5653/5653 [01:17<00:00, 72.84it/s]\n"
     ]
    },
    {
     "name": "stdout",
     "output_type": "stream",
     "text": [
      "Epoch #5/#10\n"
     ]
    },
    {
     "name": "stderr",
     "output_type": "stream",
     "text": [
      "100%|██████████| 5653/5653 [01:17<00:00, 73.03it/s]\n"
     ]
    },
    {
     "name": "stdout",
     "output_type": "stream",
     "text": [
      "Epoch #6/#10\n"
     ]
    },
    {
     "name": "stderr",
     "output_type": "stream",
     "text": [
      "100%|██████████| 5653/5653 [01:17<00:00, 73.11it/s]\n"
     ]
    },
    {
     "name": "stdout",
     "output_type": "stream",
     "text": [
      "Epoch #7/#10\n"
     ]
    },
    {
     "name": "stderr",
     "output_type": "stream",
     "text": [
      "100%|██████████| 5653/5653 [01:17<00:00, 73.16it/s]\n"
     ]
    },
    {
     "name": "stdout",
     "output_type": "stream",
     "text": [
      "Epoch #8/#10\n"
     ]
    },
    {
     "name": "stderr",
     "output_type": "stream",
     "text": [
      "100%|██████████| 5653/5653 [01:17<00:00, 72.93it/s]\n"
     ]
    },
    {
     "name": "stdout",
     "output_type": "stream",
     "text": [
      "Epoch #9/#10\n"
     ]
    },
    {
     "name": "stderr",
     "output_type": "stream",
     "text": [
      "100%|██████████| 5653/5653 [01:19<00:00, 71.49it/s]\n"
     ]
    },
    {
     "name": "stdout",
     "output_type": "stream",
     "text": [
      "Epoch #10/#10\n"
     ]
    },
    {
     "name": "stderr",
     "output_type": "stream",
     "text": [
      "100%|██████████| 5653/5653 [01:19<00:00, 70.93it/s]\n",
      "wandb: WARNING Source type is set to 'repo' but some required information is missing from the environment. A job will not be created from this run. See https://docs.wandb.ai/guides/launch/create-job\n"
     ]
    },
    {
     "data": {
      "text/html": [
       "<style>\n",
       "    table.wandb td:nth-child(1) { padding: 0 10px; text-align: left ; width: auto;} td:nth-child(2) {text-align: left ; width: 100%}\n",
       "    .wandb-row { display: flex; flex-direction: row; flex-wrap: wrap; justify-content: flex-start; width: 100% }\n",
       "    .wandb-col { display: flex; flex-direction: column; flex-basis: 100%; flex: 1; padding: 10px; }\n",
       "    </style>\n",
       "<div class=\"wandb-row\"><div class=\"wandb-col\"><h3>Run history:</h3><br/><table class=\"wandb\"><tr><td>accuracy</td><td>▁▁▁▁▁▁▁▁▂▃▃▄▄▅▅▅▆▅▆▆▆▇▇▇▇▇▇█▇█</td></tr><tr><td>loss</td><td>▅▃█▄▄▆▆▃▃▃▆▆▃▇▇▇▃▅▁▂▃▃▂▇▅▅▃▅▂▃▇▂▄▅▅▇▁▅▃▂</td></tr></table><br/></div><div class=\"wandb-col\"><h3>Run summary:</h3><br/><table class=\"wandb\"><tr><td>accuracy</td><td>0.60362</td></tr><tr><td>loss</td><td>0.69454</td></tr></table><br/></div></div>"
      ],
      "text/plain": [
       "<IPython.core.display.HTML object>"
      ]
     },
     "metadata": {},
     "output_type": "display_data"
    },
    {
     "data": {
      "text/html": [
       " View run <strong style=\"color:#cdcd00\">1-conv</strong> at: <a href='https://wandb.ai/alekseik1/lesson-4/runs/4w5pju2j' target=\"_blank\">https://wandb.ai/alekseik1/lesson-4/runs/4w5pju2j</a><br/>Synced 5 W&B file(s), 0 media file(s), 0 artifact file(s) and 0 other file(s)"
      ],
      "text/plain": [
       "<IPython.core.display.HTML object>"
      ]
     },
     "metadata": {},
     "output_type": "display_data"
    },
    {
     "data": {
      "text/html": [
       "Find logs at: <code>./wandb/run-20240519_164512-4w5pju2j/logs</code>"
      ],
      "text/plain": [
       "<IPython.core.display.HTML object>"
      ]
     },
     "metadata": {},
     "output_type": "display_data"
    }
   ],
   "source": [
    "wandb.init(project=\"lesson-4\", name=\"1-conv\", config=config.__dict__)\n",
    "train_loop(config, model, train_loader, val_loader, device=device)\n",
    "wandb.finish()"
   ]
  },
  {
   "cell_type": "code",
   "execution_count": 12,
   "metadata": {},
   "outputs": [
    {
     "name": "stdout",
     "output_type": "stream",
     "text": [
      "## Модель ##\n",
      "Cnn3Layers(\n",
      "  (net): Sequential(\n",
      "    (0): Conv2d(3, 64, kernel_size=(3, 3), stride=(1, 1))\n",
      "    (1): ReLU()\n",
      "    (2): MaxPool2d(kernel_size=2, stride=2, padding=0, dilation=1, ceil_mode=False)\n",
      "    (3): Conv2d(64, 64, kernel_size=(3, 3), stride=(1, 1))\n",
      "    (4): ReLU()\n",
      "    (5): MaxPool2d(kernel_size=2, stride=2, padding=0, dilation=1, ceil_mode=False)\n",
      "    (6): Conv2d(64, 64, kernel_size=(3, 3), stride=(1, 1))\n",
      "    (7): ReLU()\n",
      "    (8): MaxPool2d(kernel_size=28, stride=28, padding=0, dilation=1, ceil_mode=False)\n",
      "  )\n",
      "  (head): Linear(in_features=64, out_features=1, bias=True)\n",
      ")\n",
      "## Размерности\n",
      "Пришел x: torch.Size([64, 3, 128, 128])\n",
      "#######\n",
      "Слой:    Conv2d(3, 64, kernel_size=(3, 3), stride=(1, 1))\n",
      "До:      torch.Size([64, 3, 128, 128])\n",
      "После:   torch.Size([64, 64, 126, 126])\n",
      "#######\n",
      "Слой:    ReLU()\n",
      "До:      torch.Size([64, 64, 126, 126])\n",
      "После:   torch.Size([64, 64, 126, 126])\n",
      "#######\n",
      "Слой:    MaxPool2d(kernel_size=2, stride=2, padding=0, dilation=1, ceil_mode=False)\n",
      "До:      torch.Size([64, 64, 126, 126])\n",
      "После:   torch.Size([64, 64, 63, 63])\n",
      "#######\n",
      "Слой:    Conv2d(64, 64, kernel_size=(3, 3), stride=(1, 1))\n",
      "До:      torch.Size([64, 64, 63, 63])\n",
      "После:   torch.Size([64, 64, 61, 61])\n",
      "#######\n",
      "Слой:    ReLU()\n",
      "До:      torch.Size([64, 64, 61, 61])\n",
      "После:   torch.Size([64, 64, 61, 61])\n",
      "#######\n",
      "Слой:    MaxPool2d(kernel_size=2, stride=2, padding=0, dilation=1, ceil_mode=False)\n",
      "До:      torch.Size([64, 64, 61, 61])\n",
      "После:   torch.Size([64, 64, 30, 30])\n",
      "#######\n",
      "Слой:    Conv2d(64, 64, kernel_size=(3, 3), stride=(1, 1))\n",
      "До:      torch.Size([64, 64, 30, 30])\n",
      "После:   torch.Size([64, 64, 28, 28])\n",
      "#######\n",
      "Слой:    ReLU()\n",
      "До:      torch.Size([64, 64, 28, 28])\n",
      "После:   torch.Size([64, 64, 28, 28])\n",
      "#######\n",
      "Слой:    MaxPool2d(kernel_size=28, stride=28, padding=0, dilation=1, ceil_mode=False)\n",
      "До:      torch.Size([64, 64, 28, 28])\n",
      "После:   torch.Size([64, 64, 1, 1])\n",
      "## После всей модели\n",
      "torch.Size([64])\n"
     ]
    }
   ],
   "source": [
    "class Cnn3Layers(CnnModelBase):\n",
    "    def build_model(self):\n",
    "        return nn.Sequential(\n",
    "            nn.Conv2d(\n",
    "                in_channels=self.n_channels, kernel_size=3, out_channels=self.hidden_dim\n",
    "            ),\n",
    "            nn.ReLU(),\n",
    "            nn.MaxPool2d(kernel_size=2),\n",
    "            nn.Conv2d(\n",
    "                in_channels=self.hidden_dim, kernel_size=3, out_channels=self.hidden_dim\n",
    "            ),\n",
    "            nn.ReLU(),\n",
    "            nn.MaxPool2d(kernel_size=2),\n",
    "            nn.Conv2d(\n",
    "                in_channels=self.hidden_dim, kernel_size=3, out_channels=self.hidden_dim\n",
    "            ),\n",
    "            nn.ReLU(),\n",
    "            nn.MaxPool2d(kernel_size=28),\n",
    "        )\n",
    "\n",
    "\n",
    "model = Cnn3Layers(config)\n",
    "x, _ = next(iter(train_loader))\n",
    "model.explain_output(x)"
   ]
  },
  {
   "cell_type": "code",
   "execution_count": 13,
   "metadata": {},
   "outputs": [
    {
     "data": {
      "text/html": [
       "wandb version 0.17.0 is available!  To upgrade, please run:\n",
       " $ pip install wandb --upgrade"
      ],
      "text/plain": [
       "<IPython.core.display.HTML object>"
      ]
     },
     "metadata": {},
     "output_type": "display_data"
    },
    {
     "data": {
      "text/html": [
       "Tracking run with wandb version 0.16.4"
      ],
      "text/plain": [
       "<IPython.core.display.HTML object>"
      ]
     },
     "metadata": {},
     "output_type": "display_data"
    },
    {
     "data": {
      "text/html": [
       "Run data is saved locally in <code>/home/aleksei/git/start-dl/start_dl/lesson_4/wandb/run-20240519_170001-ibsjdfdc</code>"
      ],
      "text/plain": [
       "<IPython.core.display.HTML object>"
      ]
     },
     "metadata": {},
     "output_type": "display_data"
    },
    {
     "data": {
      "text/html": [
       "Syncing run <strong><a href='https://wandb.ai/alekseik1/lesson-4/runs/ibsjdfdc' target=\"_blank\">3-conv</a></strong> to <a href='https://wandb.ai/alekseik1/lesson-4' target=\"_blank\">Weights & Biases</a> (<a href='https://wandb.me/run' target=\"_blank\">docs</a>)<br/>"
      ],
      "text/plain": [
       "<IPython.core.display.HTML object>"
      ]
     },
     "metadata": {},
     "output_type": "display_data"
    },
    {
     "data": {
      "text/html": [
       " View project at <a href='https://wandb.ai/alekseik1/lesson-4' target=\"_blank\">https://wandb.ai/alekseik1/lesson-4</a>"
      ],
      "text/plain": [
       "<IPython.core.display.HTML object>"
      ]
     },
     "metadata": {},
     "output_type": "display_data"
    },
    {
     "data": {
      "text/html": [
       " View run at <a href='https://wandb.ai/alekseik1/lesson-4/runs/ibsjdfdc' target=\"_blank\">https://wandb.ai/alekseik1/lesson-4/runs/ibsjdfdc</a>"
      ],
      "text/plain": [
       "<IPython.core.display.HTML object>"
      ]
     },
     "metadata": {},
     "output_type": "display_data"
    },
    {
     "name": "stdout",
     "output_type": "stream",
     "text": [
      "Epoch #1/#10\n"
     ]
    },
    {
     "name": "stderr",
     "output_type": "stream",
     "text": [
      " 35%|███▌      | 1992/5653 [00:28<00:52, 70.36it/s]"
     ]
    },
    {
     "name": "stderr",
     "output_type": "stream",
     "text": [
      "100%|██████████| 5653/5653 [01:48<00:00, 52.08it/s]\n"
     ]
    },
    {
     "name": "stdout",
     "output_type": "stream",
     "text": [
      "Epoch #2/#10\n"
     ]
    },
    {
     "name": "stderr",
     "output_type": "stream",
     "text": [
      "100%|██████████| 5653/5653 [02:04<00:00, 45.43it/s]\n"
     ]
    },
    {
     "name": "stdout",
     "output_type": "stream",
     "text": [
      "Epoch #3/#10\n"
     ]
    },
    {
     "name": "stderr",
     "output_type": "stream",
     "text": [
      "100%|██████████| 5653/5653 [02:25<00:00, 38.84it/s]\n"
     ]
    },
    {
     "name": "stdout",
     "output_type": "stream",
     "text": [
      "Epoch #4/#10\n"
     ]
    },
    {
     "name": "stderr",
     "output_type": "stream",
     "text": [
      "100%|██████████| 5653/5653 [02:02<00:00, 46.12it/s]\n"
     ]
    },
    {
     "name": "stdout",
     "output_type": "stream",
     "text": [
      "Epoch #5/#10\n"
     ]
    },
    {
     "name": "stderr",
     "output_type": "stream",
     "text": [
      "100%|██████████| 5653/5653 [02:31<00:00, 37.35it/s]\n"
     ]
    },
    {
     "name": "stdout",
     "output_type": "stream",
     "text": [
      "Epoch #6/#10\n"
     ]
    },
    {
     "name": "stderr",
     "output_type": "stream",
     "text": [
      "100%|██████████| 5653/5653 [02:13<00:00, 42.35it/s]\n"
     ]
    },
    {
     "name": "stdout",
     "output_type": "stream",
     "text": [
      "Epoch #7/#10\n"
     ]
    },
    {
     "name": "stderr",
     "output_type": "stream",
     "text": [
      "100%|██████████| 5653/5653 [02:04<00:00, 45.48it/s]\n"
     ]
    },
    {
     "name": "stdout",
     "output_type": "stream",
     "text": [
      "Epoch #8/#10\n"
     ]
    },
    {
     "name": "stderr",
     "output_type": "stream",
     "text": [
      "100%|██████████| 5653/5653 [02:23<00:00, 39.48it/s]\n"
     ]
    },
    {
     "name": "stdout",
     "output_type": "stream",
     "text": [
      "Epoch #9/#10\n"
     ]
    },
    {
     "name": "stderr",
     "output_type": "stream",
     "text": [
      "100%|██████████| 5653/5653 [02:17<00:00, 40.99it/s]\n"
     ]
    },
    {
     "name": "stdout",
     "output_type": "stream",
     "text": [
      "Epoch #10/#10\n"
     ]
    },
    {
     "name": "stderr",
     "output_type": "stream",
     "text": [
      "100%|██████████| 5653/5653 [02:00<00:00, 46.84it/s]\n",
      "wandb: WARNING Source type is set to 'repo' but some required information is missing from the environment. A job will not be created from this run. See https://docs.wandb.ai/guides/launch/create-job\n"
     ]
    },
    {
     "data": {
      "text/html": [
       "<style>\n",
       "    table.wandb td:nth-child(1) { padding: 0 10px; text-align: left ; width: auto;} td:nth-child(2) {text-align: left ; width: 100%}\n",
       "    .wandb-row { display: flex; flex-direction: row; flex-wrap: wrap; justify-content: flex-start; width: 100% }\n",
       "    .wandb-col { display: flex; flex-direction: column; flex-basis: 100%; flex: 1; padding: 10px; }\n",
       "    </style>\n",
       "<div class=\"wandb-row\"><div class=\"wandb-col\"><h3>Run history:</h3><br/><table class=\"wandb\"><tr><td>accuracy</td><td>▁▂▃▄▄▄▅▅▅▅▅▆▆▆▆▆▇▇▇▇▇▇▇▇██████</td></tr><tr><td>loss</td><td>▅▆▅▅▅▅▄▄▄▅▅▅▆▆▆▅▄▆▃▃▄▆▅▅▆▅▄▃▂▄▅▄▅▅▃▁▄▃▄█</td></tr></table><br/></div><div class=\"wandb-col\"><h3>Run summary:</h3><br/><table class=\"wandb\"><tr><td>accuracy</td><td>0.66572</td></tr><tr><td>loss</td><td>0.60438</td></tr></table><br/></div></div>"
      ],
      "text/plain": [
       "<IPython.core.display.HTML object>"
      ]
     },
     "metadata": {},
     "output_type": "display_data"
    },
    {
     "data": {
      "text/html": [
       " View run <strong style=\"color:#cdcd00\">3-conv</strong> at: <a href='https://wandb.ai/alekseik1/lesson-4/runs/ibsjdfdc' target=\"_blank\">https://wandb.ai/alekseik1/lesson-4/runs/ibsjdfdc</a><br/>Synced 5 W&B file(s), 0 media file(s), 0 artifact file(s) and 0 other file(s)"
      ],
      "text/plain": [
       "<IPython.core.display.HTML object>"
      ]
     },
     "metadata": {},
     "output_type": "display_data"
    },
    {
     "data": {
      "text/html": [
       "Find logs at: <code>./wandb/run-20240519_170001-ibsjdfdc/logs</code>"
      ],
      "text/plain": [
       "<IPython.core.display.HTML object>"
      ]
     },
     "metadata": {},
     "output_type": "display_data"
    }
   ],
   "source": [
    "wandb.init(project=\"lesson-4\", name=\"3-conv\", config=config.__dict__)\n",
    "train_loop(config, model, train_loader, val_loader, device=device)\n",
    "wandb.finish()"
   ]
  },
  {
   "cell_type": "code",
   "execution_count": 14,
   "metadata": {},
   "outputs": [
    {
     "name": "stdout",
     "output_type": "stream",
     "text": [
      "## Модель ##\n",
      "Cnn3LayersBn(\n",
      "  (net): Sequential(\n",
      "    (0): Conv2d(3, 64, kernel_size=(3, 3), stride=(1, 1))\n",
      "    (1): ReLU()\n",
      "    (2): BatchNorm2d(64, eps=1e-05, momentum=0.1, affine=True, track_running_stats=True)\n",
      "    (3): MaxPool2d(kernel_size=2, stride=2, padding=0, dilation=1, ceil_mode=False)\n",
      "    (4): Conv2d(64, 64, kernel_size=(3, 3), stride=(1, 1))\n",
      "    (5): ReLU()\n",
      "    (6): BatchNorm2d(64, eps=1e-05, momentum=0.1, affine=True, track_running_stats=True)\n",
      "    (7): MaxPool2d(kernel_size=2, stride=2, padding=0, dilation=1, ceil_mode=False)\n",
      "    (8): Conv2d(64, 64, kernel_size=(3, 3), stride=(1, 1))\n",
      "    (9): ReLU()\n",
      "    (10): BatchNorm2d(64, eps=1e-05, momentum=0.1, affine=True, track_running_stats=True)\n",
      "    (11): MaxPool2d(kernel_size=28, stride=28, padding=0, dilation=1, ceil_mode=False)\n",
      "  )\n",
      "  (head): Linear(in_features=64, out_features=1, bias=True)\n",
      ")\n",
      "## Размерности\n",
      "Пришел x: torch.Size([64, 3, 128, 128])\n",
      "#######\n",
      "Слой:    Conv2d(3, 64, kernel_size=(3, 3), stride=(1, 1))\n",
      "До:      torch.Size([64, 3, 128, 128])\n",
      "После:   torch.Size([64, 64, 126, 126])\n",
      "#######\n",
      "Слой:    ReLU()\n",
      "До:      torch.Size([64, 64, 126, 126])\n",
      "После:   torch.Size([64, 64, 126, 126])\n",
      "#######\n",
      "Слой:    BatchNorm2d(64, eps=1e-05, momentum=0.1, affine=True, track_running_stats=True)\n",
      "До:      torch.Size([64, 64, 126, 126])\n",
      "После:   torch.Size([64, 64, 126, 126])\n",
      "#######\n",
      "Слой:    MaxPool2d(kernel_size=2, stride=2, padding=0, dilation=1, ceil_mode=False)\n",
      "До:      torch.Size([64, 64, 126, 126])\n",
      "После:   torch.Size([64, 64, 63, 63])\n",
      "#######\n",
      "Слой:    Conv2d(64, 64, kernel_size=(3, 3), stride=(1, 1))\n",
      "До:      torch.Size([64, 64, 63, 63])\n",
      "После:   torch.Size([64, 64, 61, 61])\n",
      "#######\n",
      "Слой:    ReLU()\n",
      "До:      torch.Size([64, 64, 61, 61])\n",
      "После:   torch.Size([64, 64, 61, 61])\n",
      "#######\n",
      "Слой:    BatchNorm2d(64, eps=1e-05, momentum=0.1, affine=True, track_running_stats=True)\n",
      "До:      torch.Size([64, 64, 61, 61])\n",
      "После:   torch.Size([64, 64, 61, 61])\n",
      "#######\n",
      "Слой:    MaxPool2d(kernel_size=2, stride=2, padding=0, dilation=1, ceil_mode=False)\n",
      "До:      torch.Size([64, 64, 61, 61])\n",
      "После:   torch.Size([64, 64, 30, 30])\n",
      "#######\n",
      "Слой:    Conv2d(64, 64, kernel_size=(3, 3), stride=(1, 1))\n",
      "До:      torch.Size([64, 64, 30, 30])\n",
      "После:   torch.Size([64, 64, 28, 28])\n",
      "#######\n",
      "Слой:    ReLU()\n",
      "До:      torch.Size([64, 64, 28, 28])\n",
      "После:   torch.Size([64, 64, 28, 28])\n",
      "#######\n",
      "Слой:    BatchNorm2d(64, eps=1e-05, momentum=0.1, affine=True, track_running_stats=True)\n",
      "До:      torch.Size([64, 64, 28, 28])\n",
      "После:   torch.Size([64, 64, 28, 28])\n",
      "#######\n",
      "Слой:    MaxPool2d(kernel_size=28, stride=28, padding=0, dilation=1, ceil_mode=False)\n",
      "До:      torch.Size([64, 64, 28, 28])\n",
      "После:   torch.Size([64, 64, 1, 1])\n",
      "## После всей модели\n",
      "torch.Size([64])\n"
     ]
    }
   ],
   "source": [
    "class Cnn3LayersBn(CnnModelBase):\n",
    "    def build_model(self):\n",
    "        return nn.Sequential(\n",
    "            nn.Conv2d(\n",
    "                in_channels=self.n_channels, kernel_size=3, out_channels=self.hidden_dim\n",
    "            ),\n",
    "            nn.ReLU(),\n",
    "            # >>>>>\n",
    "            nn.BatchNorm2d(self.hidden_dim),\n",
    "            # <<<<<\n",
    "            nn.MaxPool2d(kernel_size=2),\n",
    "            nn.Conv2d(\n",
    "                in_channels=self.hidden_dim, kernel_size=3, out_channels=self.hidden_dim\n",
    "            ),\n",
    "            nn.ReLU(),\n",
    "            # >>>>>\n",
    "            nn.BatchNorm2d(self.hidden_dim),\n",
    "            # <<<<<\n",
    "            nn.MaxPool2d(kernel_size=2),\n",
    "            nn.Conv2d(\n",
    "                in_channels=self.hidden_dim, kernel_size=3, out_channels=self.hidden_dim\n",
    "            ),\n",
    "            nn.ReLU(),\n",
    "            # >>>>>\n",
    "            nn.BatchNorm2d(self.hidden_dim),\n",
    "            # <<<<<\n",
    "            nn.MaxPool2d(kernel_size=28),\n",
    "        )\n",
    "\n",
    "\n",
    "model = Cnn3LayersBn(config)\n",
    "x, _ = next(iter(train_loader))\n",
    "model.explain_output(x)"
   ]
  },
  {
   "cell_type": "code",
   "execution_count": 15,
   "metadata": {},
   "outputs": [
    {
     "data": {
      "text/html": [
       "wandb version 0.17.0 is available!  To upgrade, please run:\n",
       " $ pip install wandb --upgrade"
      ],
      "text/plain": [
       "<IPython.core.display.HTML object>"
      ]
     },
     "metadata": {},
     "output_type": "display_data"
    },
    {
     "data": {
      "text/html": [
       "Tracking run with wandb version 0.16.4"
      ],
      "text/plain": [
       "<IPython.core.display.HTML object>"
      ]
     },
     "metadata": {},
     "output_type": "display_data"
    },
    {
     "data": {
      "text/html": [
       "Run data is saved locally in <code>/home/aleksei/git/start-dl/start_dl/lesson_4/wandb/run-20240519_172336-7y0u1qy3</code>"
      ],
      "text/plain": [
       "<IPython.core.display.HTML object>"
      ]
     },
     "metadata": {},
     "output_type": "display_data"
    },
    {
     "data": {
      "text/html": [
       "Syncing run <strong><a href='https://wandb.ai/alekseik1/lesson-4/runs/7y0u1qy3' target=\"_blank\">3-conv-bn</a></strong> to <a href='https://wandb.ai/alekseik1/lesson-4' target=\"_blank\">Weights & Biases</a> (<a href='https://wandb.me/run' target=\"_blank\">docs</a>)<br/>"
      ],
      "text/plain": [
       "<IPython.core.display.HTML object>"
      ]
     },
     "metadata": {},
     "output_type": "display_data"
    },
    {
     "data": {
      "text/html": [
       " View project at <a href='https://wandb.ai/alekseik1/lesson-4' target=\"_blank\">https://wandb.ai/alekseik1/lesson-4</a>"
      ],
      "text/plain": [
       "<IPython.core.display.HTML object>"
      ]
     },
     "metadata": {},
     "output_type": "display_data"
    },
    {
     "data": {
      "text/html": [
       " View run at <a href='https://wandb.ai/alekseik1/lesson-4/runs/7y0u1qy3' target=\"_blank\">https://wandb.ai/alekseik1/lesson-4/runs/7y0u1qy3</a>"
      ],
      "text/plain": [
       "<IPython.core.display.HTML object>"
      ]
     },
     "metadata": {},
     "output_type": "display_data"
    },
    {
     "name": "stdout",
     "output_type": "stream",
     "text": [
      "Epoch #1/#10\n"
     ]
    },
    {
     "name": "stderr",
     "output_type": "stream",
     "text": [
      "100%|██████████| 5653/5653 [02:40<00:00, 35.26it/s]\n"
     ]
    },
    {
     "name": "stdout",
     "output_type": "stream",
     "text": [
      "Epoch #2/#10\n"
     ]
    },
    {
     "name": "stderr",
     "output_type": "stream",
     "text": [
      "100%|██████████| 5653/5653 [02:38<00:00, 35.56it/s]\n"
     ]
    },
    {
     "name": "stdout",
     "output_type": "stream",
     "text": [
      "Epoch #3/#10\n"
     ]
    },
    {
     "name": "stderr",
     "output_type": "stream",
     "text": [
      "100%|██████████| 5653/5653 [03:02<00:00, 31.01it/s]\n"
     ]
    },
    {
     "name": "stdout",
     "output_type": "stream",
     "text": [
      "Epoch #4/#10\n"
     ]
    },
    {
     "name": "stderr",
     "output_type": "stream",
     "text": [
      "100%|██████████| 5653/5653 [03:04<00:00, 30.57it/s]\n"
     ]
    },
    {
     "name": "stdout",
     "output_type": "stream",
     "text": [
      "Epoch #5/#10\n"
     ]
    },
    {
     "name": "stderr",
     "output_type": "stream",
     "text": [
      "100%|██████████| 5653/5653 [02:44<00:00, 34.26it/s]\n"
     ]
    },
    {
     "name": "stdout",
     "output_type": "stream",
     "text": [
      "Epoch #6/#10\n"
     ]
    },
    {
     "name": "stderr",
     "output_type": "stream",
     "text": [
      "100%|██████████| 5653/5653 [02:37<00:00, 35.88it/s]\n"
     ]
    },
    {
     "name": "stdout",
     "output_type": "stream",
     "text": [
      "Epoch #7/#10\n"
     ]
    },
    {
     "name": "stderr",
     "output_type": "stream",
     "text": [
      "100%|██████████| 5653/5653 [02:46<00:00, 33.97it/s]\n"
     ]
    },
    {
     "name": "stdout",
     "output_type": "stream",
     "text": [
      "Epoch #8/#10\n"
     ]
    },
    {
     "name": "stderr",
     "output_type": "stream",
     "text": [
      "100%|██████████| 5653/5653 [02:48<00:00, 33.60it/s]\n"
     ]
    },
    {
     "name": "stdout",
     "output_type": "stream",
     "text": [
      "Epoch #9/#10\n"
     ]
    },
    {
     "name": "stderr",
     "output_type": "stream",
     "text": [
      "100%|██████████| 5653/5653 [03:03<00:00, 30.73it/s]\n"
     ]
    },
    {
     "name": "stdout",
     "output_type": "stream",
     "text": [
      "Epoch #10/#10\n"
     ]
    },
    {
     "name": "stderr",
     "output_type": "stream",
     "text": [
      "100%|██████████| 5653/5653 [02:32<00:00, 37.10it/s]\n",
      "wandb: WARNING Source type is set to 'repo' but some required information is missing from the environment. A job will not be created from this run. See https://docs.wandb.ai/guides/launch/create-job\n"
     ]
    },
    {
     "data": {
      "text/html": [
       "<style>\n",
       "    table.wandb td:nth-child(1) { padding: 0 10px; text-align: left ; width: auto;} td:nth-child(2) {text-align: left ; width: 100%}\n",
       "    .wandb-row { display: flex; flex-direction: row; flex-wrap: wrap; justify-content: flex-start; width: 100% }\n",
       "    .wandb-col { display: flex; flex-direction: column; flex-basis: 100%; flex: 1; padding: 10px; }\n",
       "    </style>\n",
       "<div class=\"wandb-row\"><div class=\"wandb-col\"><h3>Run history:</h3><br/><table class=\"wandb\"><tr><td>accuracy</td><td>▁▂▄▅▅▆▆▆▇▇▇▇▇▇▇▇▇█████████████</td></tr><tr><td>loss</td><td>█▇▇▆▆▆▅▅▅▄▆▃▄▆▂▆▄▄▄▁▂▅▅▅▃▄▂▄▃▄▂▆▆▄▄▄▅▂▃▄</td></tr></table><br/></div><div class=\"wandb-col\"><h3>Run summary:</h3><br/><table class=\"wandb\"><tr><td>accuracy</td><td>0.73621</td></tr><tr><td>loss</td><td>0.55916</td></tr></table><br/></div></div>"
      ],
      "text/plain": [
       "<IPython.core.display.HTML object>"
      ]
     },
     "metadata": {},
     "output_type": "display_data"
    },
    {
     "data": {
      "text/html": [
       " View run <strong style=\"color:#cdcd00\">3-conv-bn</strong> at: <a href='https://wandb.ai/alekseik1/lesson-4/runs/7y0u1qy3' target=\"_blank\">https://wandb.ai/alekseik1/lesson-4/runs/7y0u1qy3</a><br/>Synced 5 W&B file(s), 0 media file(s), 0 artifact file(s) and 0 other file(s)"
      ],
      "text/plain": [
       "<IPython.core.display.HTML object>"
      ]
     },
     "metadata": {},
     "output_type": "display_data"
    },
    {
     "data": {
      "text/html": [
       "Find logs at: <code>./wandb/run-20240519_172336-7y0u1qy3/logs</code>"
      ],
      "text/plain": [
       "<IPython.core.display.HTML object>"
      ]
     },
     "metadata": {},
     "output_type": "display_data"
    }
   ],
   "source": [
    "wandb.init(project=\"lesson-4\", name=\"3-conv-bn\", config=config.__dict__)\n",
    "train_loop(config, model, train_loader, val_loader, device=device)\n",
    "wandb.finish()"
   ]
  },
  {
   "cell_type": "code",
   "execution_count": 16,
   "metadata": {},
   "outputs": [
    {
     "name": "stdout",
     "output_type": "stream",
     "text": [
      "## Модель ##\n",
      "Cnn3LayersBn(\n",
      "  (net): Sequential(\n",
      "    (0): Conv2d(3, 64, kernel_size=(3, 3), stride=(1, 1))\n",
      "    (1): ReLU()\n",
      "    (2): BatchNorm2d(64, eps=1e-05, momentum=0.1, affine=True, track_running_stats=True)\n",
      "    (3): MaxPool2d(kernel_size=2, stride=2, padding=0, dilation=1, ceil_mode=False)\n",
      "    (4): Conv2d(64, 64, kernel_size=(3, 3), stride=(1, 1))\n",
      "    (5): ReLU()\n",
      "    (6): BatchNorm2d(64, eps=1e-05, momentum=0.1, affine=True, track_running_stats=True)\n",
      "    (7): MaxPool2d(kernel_size=2, stride=2, padding=0, dilation=1, ceil_mode=False)\n",
      "    (8): Conv2d(64, 64, kernel_size=(3, 3), stride=(1, 1))\n",
      "    (9): ReLU()\n",
      "    (10): BatchNorm2d(64, eps=1e-05, momentum=0.1, affine=True, track_running_stats=True)\n",
      "    (11): MaxPool2d(kernel_size=28, stride=28, padding=0, dilation=1, ceil_mode=False)\n",
      "  )\n",
      "  (head): Linear(in_features=64, out_features=1, bias=True)\n",
      ")\n",
      "## Размерности\n",
      "Пришел x: torch.Size([64, 3, 128, 128])\n",
      "#######\n",
      "Слой:    Conv2d(3, 64, kernel_size=(3, 3), stride=(1, 1))\n",
      "До:      torch.Size([64, 3, 128, 128])\n",
      "После:   torch.Size([64, 64, 126, 126])\n",
      "#######\n",
      "Слой:    ReLU()\n",
      "До:      torch.Size([64, 64, 126, 126])\n",
      "После:   torch.Size([64, 64, 126, 126])\n",
      "#######\n",
      "Слой:    BatchNorm2d(64, eps=1e-05, momentum=0.1, affine=True, track_running_stats=True)\n",
      "До:      torch.Size([64, 64, 126, 126])\n",
      "После:   torch.Size([64, 64, 126, 126])\n",
      "#######\n",
      "Слой:    MaxPool2d(kernel_size=2, stride=2, padding=0, dilation=1, ceil_mode=False)\n",
      "До:      torch.Size([64, 64, 126, 126])\n",
      "После:   torch.Size([64, 64, 63, 63])\n",
      "#######\n",
      "Слой:    Conv2d(64, 64, kernel_size=(3, 3), stride=(1, 1))\n",
      "До:      torch.Size([64, 64, 63, 63])\n",
      "После:   torch.Size([64, 64, 61, 61])\n",
      "#######\n",
      "Слой:    ReLU()\n",
      "До:      torch.Size([64, 64, 61, 61])\n",
      "После:   torch.Size([64, 64, 61, 61])\n",
      "#######\n",
      "Слой:    BatchNorm2d(64, eps=1e-05, momentum=0.1, affine=True, track_running_stats=True)\n",
      "До:      torch.Size([64, 64, 61, 61])\n",
      "После:   torch.Size([64, 64, 61, 61])\n",
      "#######\n",
      "Слой:    MaxPool2d(kernel_size=2, stride=2, padding=0, dilation=1, ceil_mode=False)\n",
      "До:      torch.Size([64, 64, 61, 61])\n",
      "После:   torch.Size([64, 64, 30, 30])\n",
      "#######\n",
      "Слой:    Conv2d(64, 64, kernel_size=(3, 3), stride=(1, 1))\n",
      "До:      torch.Size([64, 64, 30, 30])\n",
      "После:   torch.Size([64, 64, 28, 28])\n",
      "#######\n",
      "Слой:    ReLU()\n",
      "До:      torch.Size([64, 64, 28, 28])\n",
      "После:   torch.Size([64, 64, 28, 28])\n",
      "#######\n",
      "Слой:    BatchNorm2d(64, eps=1e-05, momentum=0.1, affine=True, track_running_stats=True)\n",
      "До:      torch.Size([64, 64, 28, 28])\n",
      "После:   torch.Size([64, 64, 28, 28])\n",
      "#######\n",
      "Слой:    MaxPool2d(kernel_size=28, stride=28, padding=0, dilation=1, ceil_mode=False)\n",
      "До:      torch.Size([64, 64, 28, 28])\n",
      "После:   torch.Size([64, 64, 1, 1])\n",
      "## После всей модели\n",
      "torch.Size([64])\n"
     ]
    }
   ],
   "source": [
    "class Cnn3LayersBnDropout(CnnModelBase):\n",
    "    def build_model(self):\n",
    "        return nn.Sequential(\n",
    "            nn.Conv2d(\n",
    "                in_channels=self.n_channels, kernel_size=3, out_channels=self.hidden_dim\n",
    "            ),\n",
    "            nn.ReLU(),\n",
    "            nn.BatchNorm2d(self.hidden_dim),\n",
    "            # >>>>>\n",
    "            nn.Dropout(p=self.config.p_dropout),\n",
    "            # <<<<<\n",
    "            nn.MaxPool2d(kernel_size=2),\n",
    "            nn.Conv2d(\n",
    "                in_channels=self.hidden_dim, kernel_size=3, out_channels=self.hidden_dim\n",
    "            ),\n",
    "            nn.ReLU(),\n",
    "            nn.BatchNorm2d(self.hidden_dim),\n",
    "            # >>>>>\n",
    "            nn.Dropout(p=self.config.p_dropout),\n",
    "            # <<<<<\n",
    "            nn.MaxPool2d(kernel_size=2),\n",
    "            nn.Conv2d(\n",
    "                in_channels=self.hidden_dim, kernel_size=3, out_channels=self.hidden_dim\n",
    "            ),\n",
    "            nn.ReLU(),\n",
    "            nn.BatchNorm2d(self.hidden_dim),\n",
    "            # >>>>>\n",
    "            nn.Dropout(p=self.config.p_dropout),\n",
    "            # <<<<<\n",
    "            nn.MaxPool2d(kernel_size=28),\n",
    "        )\n",
    "\n",
    "\n",
    "model = Cnn3LayersBn(config)\n",
    "x, _ = next(iter(train_loader))\n",
    "model.explain_output(x)"
   ]
  },
  {
   "cell_type": "code",
   "execution_count": 17,
   "metadata": {},
   "outputs": [
    {
     "data": {
      "text/html": [
       "wandb version 0.17.0 is available!  To upgrade, please run:\n",
       " $ pip install wandb --upgrade"
      ],
      "text/plain": [
       "<IPython.core.display.HTML object>"
      ]
     },
     "metadata": {},
     "output_type": "display_data"
    },
    {
     "data": {
      "text/html": [
       "Tracking run with wandb version 0.16.4"
      ],
      "text/plain": [
       "<IPython.core.display.HTML object>"
      ]
     },
     "metadata": {},
     "output_type": "display_data"
    },
    {
     "data": {
      "text/html": [
       "Run data is saved locally in <code>/home/aleksei/git/start-dl/start_dl/lesson_4/wandb/run-20240519_175322-4gtsvqzu</code>"
      ],
      "text/plain": [
       "<IPython.core.display.HTML object>"
      ]
     },
     "metadata": {},
     "output_type": "display_data"
    },
    {
     "data": {
      "text/html": [
       "Syncing run <strong><a href='https://wandb.ai/alekseik1/lesson-4/runs/4gtsvqzu' target=\"_blank\">3-conv-bn-dropout</a></strong> to <a href='https://wandb.ai/alekseik1/lesson-4' target=\"_blank\">Weights & Biases</a> (<a href='https://wandb.me/run' target=\"_blank\">docs</a>)<br/>"
      ],
      "text/plain": [
       "<IPython.core.display.HTML object>"
      ]
     },
     "metadata": {},
     "output_type": "display_data"
    },
    {
     "data": {
      "text/html": [
       " View project at <a href='https://wandb.ai/alekseik1/lesson-4' target=\"_blank\">https://wandb.ai/alekseik1/lesson-4</a>"
      ],
      "text/plain": [
       "<IPython.core.display.HTML object>"
      ]
     },
     "metadata": {},
     "output_type": "display_data"
    },
    {
     "data": {
      "text/html": [
       " View run at <a href='https://wandb.ai/alekseik1/lesson-4/runs/4gtsvqzu' target=\"_blank\">https://wandb.ai/alekseik1/lesson-4/runs/4gtsvqzu</a>"
      ],
      "text/plain": [
       "<IPython.core.display.HTML object>"
      ]
     },
     "metadata": {},
     "output_type": "display_data"
    },
    {
     "name": "stdout",
     "output_type": "stream",
     "text": [
      "Epoch #1/#10\n"
     ]
    },
    {
     "name": "stderr",
     "output_type": "stream",
     "text": [
      "  9%|▉         | 535/5653 [00:13<02:04, 41.21it/s]"
     ]
    },
    {
     "name": "stderr",
     "output_type": "stream",
     "text": [
      "100%|██████████| 5653/5653 [02:33<00:00, 36.92it/s]\n"
     ]
    },
    {
     "name": "stdout",
     "output_type": "stream",
     "text": [
      "Epoch #2/#10\n"
     ]
    },
    {
     "name": "stderr",
     "output_type": "stream",
     "text": [
      "100%|██████████| 5653/5653 [02:32<00:00, 37.10it/s]\n"
     ]
    },
    {
     "name": "stdout",
     "output_type": "stream",
     "text": [
      "Epoch #3/#10\n"
     ]
    },
    {
     "name": "stderr",
     "output_type": "stream",
     "text": [
      "100%|██████████| 5653/5653 [02:41<00:00, 35.11it/s]\n"
     ]
    },
    {
     "name": "stdout",
     "output_type": "stream",
     "text": [
      "Epoch #4/#10\n"
     ]
    },
    {
     "name": "stderr",
     "output_type": "stream",
     "text": [
      "100%|██████████| 5653/5653 [02:58<00:00, 31.71it/s]\n"
     ]
    },
    {
     "name": "stdout",
     "output_type": "stream",
     "text": [
      "Epoch #5/#10\n"
     ]
    },
    {
     "name": "stderr",
     "output_type": "stream",
     "text": [
      "100%|██████████| 5653/5653 [02:44<00:00, 34.29it/s]\n"
     ]
    },
    {
     "name": "stdout",
     "output_type": "stream",
     "text": [
      "Epoch #6/#10\n"
     ]
    },
    {
     "name": "stderr",
     "output_type": "stream",
     "text": [
      "100%|██████████| 5653/5653 [02:26<00:00, 38.67it/s]\n"
     ]
    },
    {
     "name": "stdout",
     "output_type": "stream",
     "text": [
      "Epoch #7/#10\n"
     ]
    },
    {
     "name": "stderr",
     "output_type": "stream",
     "text": [
      "100%|██████████| 5653/5653 [02:04<00:00, 45.56it/s]\n"
     ]
    },
    {
     "name": "stdout",
     "output_type": "stream",
     "text": [
      "Epoch #8/#10\n"
     ]
    },
    {
     "name": "stderr",
     "output_type": "stream",
     "text": [
      "100%|██████████| 5653/5653 [02:04<00:00, 45.56it/s]\n"
     ]
    },
    {
     "name": "stdout",
     "output_type": "stream",
     "text": [
      "Epoch #9/#10\n"
     ]
    },
    {
     "name": "stderr",
     "output_type": "stream",
     "text": [
      "100%|██████████| 5653/5653 [02:04<00:00, 45.28it/s]\n"
     ]
    },
    {
     "name": "stdout",
     "output_type": "stream",
     "text": [
      "Epoch #10/#10\n"
     ]
    },
    {
     "name": "stderr",
     "output_type": "stream",
     "text": [
      "100%|██████████| 5653/5653 [02:25<00:00, 38.74it/s]\n",
      "wandb: WARNING Source type is set to 'repo' but some required information is missing from the environment. A job will not be created from this run. See https://docs.wandb.ai/guides/launch/create-job\n"
     ]
    },
    {
     "data": {
      "text/html": [
       "<style>\n",
       "    table.wandb td:nth-child(1) { padding: 0 10px; text-align: left ; width: auto;} td:nth-child(2) {text-align: left ; width: 100%}\n",
       "    .wandb-row { display: flex; flex-direction: row; flex-wrap: wrap; justify-content: flex-start; width: 100% }\n",
       "    .wandb-col { display: flex; flex-direction: column; flex-basis: 100%; flex: 1; padding: 10px; }\n",
       "    </style>\n",
       "<div class=\"wandb-row\"><div class=\"wandb-col\"><h3>Run history:</h3><br/><table class=\"wandb\"><tr><td>accuracy</td><td>▁▂▃▄▅▆▆▆▆▇▇▇▇█▇▇██████████████</td></tr><tr><td>loss</td><td>█▇▆█▅▆▅▆▄▆▄▅▄▂▆▂█▅▆▄▃▇▄▅▂▄▅▆▃▄▁▅▃▆▄▃▇▄▄▅</td></tr></table><br/></div><div class=\"wandb-col\"><h3>Run summary:</h3><br/><table class=\"wandb\"><tr><td>accuracy</td><td>0.73453</td></tr><tr><td>loss</td><td>0.53836</td></tr></table><br/></div></div>"
      ],
      "text/plain": [
       "<IPython.core.display.HTML object>"
      ]
     },
     "metadata": {},
     "output_type": "display_data"
    },
    {
     "data": {
      "text/html": [
       " View run <strong style=\"color:#cdcd00\">3-conv-bn-dropout</strong> at: <a href='https://wandb.ai/alekseik1/lesson-4/runs/4gtsvqzu' target=\"_blank\">https://wandb.ai/alekseik1/lesson-4/runs/4gtsvqzu</a><br/>Synced 5 W&B file(s), 0 media file(s), 0 artifact file(s) and 0 other file(s)"
      ],
      "text/plain": [
       "<IPython.core.display.HTML object>"
      ]
     },
     "metadata": {},
     "output_type": "display_data"
    },
    {
     "data": {
      "text/html": [
       "Find logs at: <code>./wandb/run-20240519_175322-4gtsvqzu/logs</code>"
      ],
      "text/plain": [
       "<IPython.core.display.HTML object>"
      ]
     },
     "metadata": {},
     "output_type": "display_data"
    }
   ],
   "source": [
    "wandb.init(project=\"lesson-4\", name=\"3-conv-bn-dropout\", config=config.__dict__)\n",
    "train_loop(config, model, train_loader, val_loader, device=device)\n",
    "wandb.finish()"
   ]
  },
  {
   "cell_type": "markdown",
   "metadata": {},
   "source": [
    "**Вывод**: сверточные сети действительно помогли выбить большее качество."
   ]
  },
  {
   "cell_type": "markdown",
   "metadata": {},
   "source": [
    "## Fine-tuning готовой модели\n",
    "Возьмем обученный ResNet и попробуем адаптировать его мощь под нашу задачу."
   ]
  },
  {
   "cell_type": "code",
   "execution_count": 22,
   "metadata": {},
   "outputs": [
    {
     "data": {
      "text/plain": [
       "torch.Size([64, 1])"
      ]
     },
     "execution_count": 22,
     "metadata": {},
     "output_type": "execute_result"
    }
   ],
   "source": [
    "from torchvision.models import resnet34\n",
    "\n",
    "\n",
    "def make_resnet():\n",
    "    \"\"\"Сделать модель resnet для fine-tuning.\n",
    "\n",
    "    1. Скачивает готовый обученный ResNet.\n",
    "    2. Заменяет последний слой в нем на Linear(..., 1).\n",
    "    3. Инициализирует веса этому слою.\n",
    "    \"\"\"\n",
    "    fix_seeds(config.seed)\n",
    "    base_model = resnet34()\n",
    "    base_model.fc = nn.Linear(base_model.fc.in_features, 1)\n",
    "    torch.nn.init.xavier_uniform_(base_model.fc.weight)\n",
    "    return base_model\n",
    "\n",
    "\n",
    "resnet = make_resnet()\n",
    "resnet(x).shape"
   ]
  },
  {
   "cell_type": "code",
   "execution_count": 23,
   "metadata": {},
   "outputs": [
    {
     "data": {
      "text/plain": [
       "[Parameter containing:\n",
       " tensor([[-0.0845,  0.0457,  0.0519,  0.0179,  0.0404,  0.0009, -0.0027, -0.0202,\n",
       "          -0.0764, -0.0424, -0.0868,  0.0976,  0.1055, -0.0509,  0.0054, -0.0230,\n",
       "          -0.0206, -0.0686,  0.0041,  0.0559, -0.0777,  0.1026,  0.1016,  0.0169,\n",
       "          -0.0404, -0.0082, -0.0285,  0.0719,  0.0938, -0.0033, -0.0188,  0.0350,\n",
       "           0.0180,  0.0831,  0.0243, -0.0266,  0.0221,  0.0524,  0.0378,  0.0520,\n",
       "           0.0943,  0.0585,  0.0035,  0.1005, -0.0616,  0.0489,  0.0823, -0.0679,\n",
       "           0.1009, -0.1020, -0.0618, -0.0304, -0.0105, -0.0531, -0.0260, -0.1033,\n",
       "          -0.0702, -0.0708,  0.0913, -0.0321, -0.0213, -0.1020, -0.1029,  0.0766,\n",
       "           0.0264,  0.0531, -0.0483, -0.0185, -0.0994, -0.0842,  0.0589, -0.1061,\n",
       "          -0.0360,  0.0577,  0.0552,  0.0745, -0.0016,  0.0018,  0.0875,  0.0912,\n",
       "          -0.0455, -0.0989, -0.0139,  0.0818, -0.0384,  0.0458,  0.0140, -0.0952,\n",
       "           0.1079,  0.0582,  0.0502,  0.0109, -0.0100, -0.0301, -0.0315, -0.0233,\n",
       "           0.0379, -0.0784, -0.0647,  0.0188,  0.0245, -0.0643, -0.0198,  0.1000,\n",
       "           0.0334, -0.0250,  0.0565,  0.1013,  0.0663, -0.1046, -0.0808,  0.0395,\n",
       "          -0.0288, -0.0398, -0.0876,  0.0859,  0.0755,  0.0756,  0.0810,  0.0348,\n",
       "           0.0338,  0.0828, -0.0467, -0.0680,  0.0145, -0.0881, -0.1075,  0.0534,\n",
       "          -0.0200,  0.0532,  0.0048, -0.0892, -0.0429, -0.0051,  0.0281,  0.0636,\n",
       "           0.0026, -0.0902,  0.0800,  0.0487, -0.0920, -0.0317, -0.0601, -0.0457,\n",
       "          -0.0709,  0.1044,  0.0543,  0.0943, -0.0033,  0.0376,  0.0545,  0.0337,\n",
       "          -0.0617, -0.0083,  0.0675,  0.0493,  0.0761,  0.0608, -0.0456, -0.0311,\n",
       "           0.0966,  0.0263, -0.0787, -0.0959, -0.0276,  0.0882,  0.0290, -0.0407,\n",
       "           0.0037, -0.0535, -0.0192,  0.0197,  0.0440, -0.0621, -0.0898,  0.0303,\n",
       "          -0.0209,  0.0725, -0.0789, -0.0845, -0.0270, -0.0280,  0.0944,  0.0069,\n",
       "           0.0345,  0.0880,  0.0441, -0.0998,  0.0359,  0.0404, -0.0732,  0.0269,\n",
       "          -0.0429,  0.0203, -0.0378,  0.0812,  0.0094,  0.0672,  0.0663,  0.0937,\n",
       "           0.0216, -0.0767, -0.0212,  0.0922,  0.0580,  0.0709, -0.0102, -0.0741,\n",
       "           0.0818, -0.0946,  0.0463, -0.0273,  0.0638,  0.0341, -0.0301,  0.0459,\n",
       "          -0.0874, -0.0527,  0.0328,  0.0647,  0.0769, -0.0882,  0.0114, -0.1032,\n",
       "           0.1077, -0.0692, -0.0423,  0.0442, -0.0168,  0.0234, -0.0984,  0.0596,\n",
       "          -0.0300,  0.0575, -0.1078, -0.0301, -0.0907, -0.0886, -0.0506,  0.0281,\n",
       "          -0.0436,  0.0647, -0.0657, -0.0854, -0.0109,  0.0680,  0.0950,  0.0981,\n",
       "           0.0588,  0.0175,  0.0145,  0.0862, -0.0560, -0.0730,  0.0340,  0.0245,\n",
       "          -0.0306,  0.0005,  0.0736, -0.0995, -0.0773,  0.0467,  0.0962, -0.0849,\n",
       "           0.0332, -0.0049, -0.0969, -0.0685,  0.0061, -0.0320, -0.0532,  0.0650,\n",
       "           0.0780,  0.0554,  0.0381, -0.0725,  0.0827,  0.1034,  0.0816,  0.0789,\n",
       "          -0.1057, -0.0328,  0.0291, -0.0853,  0.0957, -0.0775,  0.0362, -0.0930,\n",
       "          -0.0254, -0.0233,  0.0399, -0.0694,  0.0206, -0.1063, -0.1050,  0.0272,\n",
       "          -0.0690,  0.0866,  0.0544, -0.0129,  0.0596, -0.0536,  0.0732,  0.1048,\n",
       "           0.0595, -0.0924, -0.0336,  0.0661,  0.0336, -0.0509,  0.0621,  0.1050,\n",
       "          -0.0428,  0.0660, -0.0584,  0.0997, -0.0253, -0.0619, -0.0914,  0.0661,\n",
       "           0.0222, -0.0355, -0.0857,  0.0626,  0.0570, -0.0706, -0.0103,  0.0245,\n",
       "           0.0478,  0.0547, -0.0617,  0.0604, -0.0865, -0.0369, -0.1064,  0.0141,\n",
       "          -0.0610,  0.0227, -0.0101, -0.0641, -0.0657,  0.0497,  0.0331,  0.0737,\n",
       "           0.0090, -0.0217, -0.0907, -0.0783,  0.0952, -0.0097,  0.0790, -0.1008,\n",
       "           0.0678, -0.0109,  0.0553,  0.0603, -0.0671, -0.0098, -0.0927,  0.0770,\n",
       "          -0.1015, -0.0358,  0.0756,  0.0775,  0.0721,  0.0016,  0.0828,  0.0415,\n",
       "          -0.0145, -0.0857,  0.0339, -0.0005,  0.0762,  0.0278,  0.0395,  0.0571,\n",
       "          -0.0714,  0.1004, -0.0675, -0.0454, -0.0674,  0.0600, -0.0722, -0.0758,\n",
       "           0.0830,  0.0786,  0.0661, -0.0030,  0.0031,  0.0301,  0.0330,  0.0716,\n",
       "           0.0756,  0.0734, -0.0810,  0.0152, -0.0833,  0.0800, -0.0633, -0.0280,\n",
       "           0.0628, -0.0999,  0.0396, -0.0668,  0.0686,  0.0213, -0.0258,  0.0134,\n",
       "           0.0863,  0.0874,  0.0589,  0.0157,  0.0671, -0.0362,  0.0477, -0.1077,\n",
       "           0.0199, -0.0121,  0.0560, -0.0498, -0.0934, -0.0482, -0.0089, -0.0018,\n",
       "           0.1076,  0.0833,  0.0117,  0.0563, -0.0237, -0.0345,  0.0618, -0.0916,\n",
       "          -0.0868, -0.0653, -0.0354, -0.0363,  0.0708, -0.0404,  0.0694, -0.0729,\n",
       "          -0.0348,  0.0420, -0.0429,  0.0504, -0.0784, -0.0166, -0.0086,  0.0789,\n",
       "          -0.0216, -0.0151, -0.0895,  0.0512,  0.0247, -0.0545, -0.0839, -0.0605,\n",
       "           0.0382,  0.0349,  0.0676,  0.0306, -0.0738,  0.0764, -0.0224,  0.0460,\n",
       "           0.0679, -0.0368,  0.0803,  0.0871,  0.0789, -0.0179, -0.0572, -0.0774,\n",
       "          -0.0699, -0.0817, -0.0431, -0.0727,  0.0524,  0.0272, -0.0885, -0.0460,\n",
       "           0.0561, -0.0810,  0.0029,  0.0520,  0.0660, -0.0917, -0.0685,  0.1074,\n",
       "          -0.0021,  0.0636,  0.0286, -0.0554, -0.0407, -0.0669,  0.0363,  0.0185,\n",
       "           0.0485, -0.0169,  0.0152, -0.0718,  0.0582, -0.0776, -0.0261,  0.0915,\n",
       "           0.0106, -0.0638,  0.0598, -0.0431,  0.0423, -0.0848,  0.0838,  0.1074]],\n",
       "        requires_grad=True),\n",
       " Parameter containing:\n",
       " tensor([-0.0157], requires_grad=True)]"
      ]
     },
     "execution_count": 23,
     "metadata": {},
     "output_type": "execute_result"
    }
   ],
   "source": [
    "fc_params = [v for k, v in resnet.named_parameters() if k in {'fc.weight', 'fc.bias'}]\n",
    "fc_params"
   ]
  },
  {
   "cell_type": "code",
   "execution_count": 24,
   "metadata": {},
   "outputs": [
    {
     "data": {
      "text/html": [
       "wandb version 0.17.0 is available!  To upgrade, please run:\n",
       " $ pip install wandb --upgrade"
      ],
      "text/plain": [
       "<IPython.core.display.HTML object>"
      ]
     },
     "metadata": {},
     "output_type": "display_data"
    },
    {
     "data": {
      "text/html": [
       "Tracking run with wandb version 0.16.4"
      ],
      "text/plain": [
       "<IPython.core.display.HTML object>"
      ]
     },
     "metadata": {},
     "output_type": "display_data"
    },
    {
     "data": {
      "text/html": [
       "Run data is saved locally in <code>/home/aleksei/git/start-dl/start_dl/lesson_4/wandb/run-20240519_185535-a9ul55ip</code>"
      ],
      "text/plain": [
       "<IPython.core.display.HTML object>"
      ]
     },
     "metadata": {},
     "output_type": "display_data"
    },
    {
     "data": {
      "text/html": [
       "Syncing run <strong><a href='https://wandb.ai/alekseik1/lesson-4/runs/a9ul55ip' target=\"_blank\">resnet-finetune</a></strong> to <a href='https://wandb.ai/alekseik1/lesson-4' target=\"_blank\">Weights & Biases</a> (<a href='https://wandb.me/run' target=\"_blank\">docs</a>)<br/>"
      ],
      "text/plain": [
       "<IPython.core.display.HTML object>"
      ]
     },
     "metadata": {},
     "output_type": "display_data"
    },
    {
     "data": {
      "text/html": [
       " View project at <a href='https://wandb.ai/alekseik1/lesson-4' target=\"_blank\">https://wandb.ai/alekseik1/lesson-4</a>"
      ],
      "text/plain": [
       "<IPython.core.display.HTML object>"
      ]
     },
     "metadata": {},
     "output_type": "display_data"
    },
    {
     "data": {
      "text/html": [
       " View run at <a href='https://wandb.ai/alekseik1/lesson-4/runs/a9ul55ip' target=\"_blank\">https://wandb.ai/alekseik1/lesson-4/runs/a9ul55ip</a>"
      ],
      "text/plain": [
       "<IPython.core.display.HTML object>"
      ]
     },
     "metadata": {},
     "output_type": "display_data"
    },
    {
     "name": "stdout",
     "output_type": "stream",
     "text": [
      "Epoch #1/#10\n"
     ]
    },
    {
     "name": "stderr",
     "output_type": "stream",
     "text": [
      "100%|██████████| 5653/5653 [02:22<00:00, 39.70it/s]\n"
     ]
    },
    {
     "name": "stdout",
     "output_type": "stream",
     "text": [
      "Epoch #2/#10\n"
     ]
    },
    {
     "name": "stderr",
     "output_type": "stream",
     "text": [
      "100%|██████████| 5653/5653 [02:23<00:00, 39.40it/s]\n"
     ]
    },
    {
     "name": "stdout",
     "output_type": "stream",
     "text": [
      "Epoch #3/#10\n"
     ]
    },
    {
     "name": "stderr",
     "output_type": "stream",
     "text": [
      "100%|██████████| 5653/5653 [02:23<00:00, 39.48it/s]\n"
     ]
    },
    {
     "name": "stdout",
     "output_type": "stream",
     "text": [
      "Epoch #4/#10\n"
     ]
    },
    {
     "name": "stderr",
     "output_type": "stream",
     "text": [
      "100%|██████████| 5653/5653 [02:22<00:00, 39.80it/s]\n"
     ]
    },
    {
     "name": "stdout",
     "output_type": "stream",
     "text": [
      "Epoch #5/#10\n"
     ]
    },
    {
     "name": "stderr",
     "output_type": "stream",
     "text": [
      "100%|██████████| 5653/5653 [02:21<00:00, 39.85it/s]\n"
     ]
    },
    {
     "name": "stdout",
     "output_type": "stream",
     "text": [
      "Epoch #6/#10\n"
     ]
    },
    {
     "name": "stderr",
     "output_type": "stream",
     "text": [
      "100%|██████████| 5653/5653 [02:22<00:00, 39.63it/s]\n"
     ]
    },
    {
     "name": "stdout",
     "output_type": "stream",
     "text": [
      "Epoch #7/#10\n"
     ]
    },
    {
     "name": "stderr",
     "output_type": "stream",
     "text": [
      "100%|██████████| 5653/5653 [02:22<00:00, 39.60it/s]\n"
     ]
    },
    {
     "name": "stdout",
     "output_type": "stream",
     "text": [
      "Epoch #8/#10\n"
     ]
    },
    {
     "name": "stderr",
     "output_type": "stream",
     "text": [
      "100%|██████████| 5653/5653 [02:22<00:00, 39.77it/s]\n"
     ]
    },
    {
     "name": "stdout",
     "output_type": "stream",
     "text": [
      "Epoch #9/#10\n"
     ]
    },
    {
     "name": "stderr",
     "output_type": "stream",
     "text": [
      "100%|██████████| 5653/5653 [02:23<00:00, 39.36it/s]\n"
     ]
    },
    {
     "name": "stdout",
     "output_type": "stream",
     "text": [
      "Epoch #10/#10\n"
     ]
    },
    {
     "name": "stderr",
     "output_type": "stream",
     "text": [
      "100%|██████████| 5653/5653 [02:22<00:00, 39.54it/s]\n",
      "wandb: WARNING Source type is set to 'repo' but some required information is missing from the environment. A job will not be created from this run. See https://docs.wandb.ai/guides/launch/create-job\n"
     ]
    },
    {
     "data": {
      "text/html": [
       "<style>\n",
       "    table.wandb td:nth-child(1) { padding: 0 10px; text-align: left ; width: auto;} td:nth-child(2) {text-align: left ; width: 100%}\n",
       "    .wandb-row { display: flex; flex-direction: row; flex-wrap: wrap; justify-content: flex-start; width: 100% }\n",
       "    .wandb-col { display: flex; flex-direction: column; flex-basis: 100%; flex: 1; padding: 10px; }\n",
       "    </style>\n",
       "<div class=\"wandb-row\"><div class=\"wandb-col\"><h3>Run history:</h3><br/><table class=\"wandb\"><tr><td>accuracy</td><td>▁▂▁▂▁▃▄▄▄▄▅▅▄▄▃▅▅▆▄▆▆▆▆▆▅▇█▇▇█</td></tr><tr><td>loss</td><td>▇▂▂▅▇█▃▂▅▆▆▃▆▆▆▃▄▆▄█▅▆▅█▂▃▃▅▅▅▇▄▆▅▄▃▁▅▇▇</td></tr></table><br/></div><div class=\"wandb-col\"><h3>Run summary:</h3><br/><table class=\"wandb\"><tr><td>accuracy</td><td>0.58273</td></tr><tr><td>loss</td><td>0.62623</td></tr></table><br/></div></div>"
      ],
      "text/plain": [
       "<IPython.core.display.HTML object>"
      ]
     },
     "metadata": {},
     "output_type": "display_data"
    },
    {
     "data": {
      "text/html": [
       " View run <strong style=\"color:#cdcd00\">resnet-finetune</strong> at: <a href='https://wandb.ai/alekseik1/lesson-4/runs/a9ul55ip' target=\"_blank\">https://wandb.ai/alekseik1/lesson-4/runs/a9ul55ip</a><br/>Synced 5 W&B file(s), 0 media file(s), 0 artifact file(s) and 0 other file(s)"
      ],
      "text/plain": [
       "<IPython.core.display.HTML object>"
      ]
     },
     "metadata": {},
     "output_type": "display_data"
    },
    {
     "data": {
      "text/html": [
       "Find logs at: <code>./wandb/run-20240519_185535-a9ul55ip/logs</code>"
      ],
      "text/plain": [
       "<IPython.core.display.HTML object>"
      ]
     },
     "metadata": {},
     "output_type": "display_data"
    }
   ],
   "source": [
    "wandb.init(project=\"lesson-4\", name=\"resnet-finetune\", config=config.__dict__)\n",
    "train_loop(\n",
    "    config, resnet, train_loader, val_loader, device=device, params_subset=fc_params\n",
    ")\n",
    "wandb.finish()"
   ]
  },
  {
   "cell_type": "markdown",
   "metadata": {},
   "source": [
    "Вообще, мы могли зафайнтюнить не только ResNet, но и любую сеть из рассмотренных на лекции!"
   ]
  },
  {
   "cell_type": "code",
   "execution_count": 21,
   "metadata": {},
   "outputs": [
    {
     "name": "stdout",
     "output_type": "stream",
     "text": [
      "VGG(\n",
      "  (features): Sequential(\n",
      "    (0): Conv2d(3, 64, kernel_size=(3, 3), stride=(1, 1), padding=(1, 1))\n",
      "    (1): ReLU(inplace=True)\n",
      "    (2): MaxPool2d(kernel_size=2, stride=2, padding=0, dilation=1, ceil_mode=False)\n",
      "    (3): Conv2d(64, 128, kernel_size=(3, 3), stride=(1, 1), padding=(1, 1))\n",
      "    (4): ReLU(inplace=True)\n",
      "    (5): MaxPool2d(kernel_size=2, stride=2, padding=0, dilation=1, ceil_mode=False)\n",
      "    (6): Conv2d(128, 256, kernel_size=(3, 3), stride=(1, 1), padding=(1, 1))\n",
      "    (7): ReLU(inplace=True)\n",
      "    (8): Conv2d(256, 256, kernel_size=(3, 3), stride=(1, 1), padding=(1, 1))\n",
      "    (9): ReLU(inplace=True)\n",
      "    (10): MaxPool2d(kernel_size=2, stride=2, padding=0, dilation=1, ceil_mode=False)\n",
      "    (11): Conv2d(256, 512, kernel_size=(3, 3), stride=(1, 1), padding=(1, 1))\n",
      "    (12): ReLU(inplace=True)\n",
      "    (13): Conv2d(512, 512, kernel_size=(3, 3), stride=(1, 1), padding=(1, 1))\n",
      "    (14): ReLU(inplace=True)\n",
      "    (15): MaxPool2d(kernel_size=2, stride=2, padding=0, dilation=1, ceil_mode=False)\n",
      "    (16): Conv2d(512, 512, kernel_size=(3, 3), stride=(1, 1), padding=(1, 1))\n",
      "    (17): ReLU(inplace=True)\n",
      "    (18): Conv2d(512, 512, kernel_size=(3, 3), stride=(1, 1), padding=(1, 1))\n",
      "    (19): ReLU(inplace=True)\n",
      "    (20): MaxPool2d(kernel_size=2, stride=2, padding=0, dilation=1, ceil_mode=False)\n",
      "  )\n",
      "  (avgpool): AdaptiveAvgPool2d(output_size=(7, 7))\n",
      "  (classifier): Sequential(\n",
      "    (0): Linear(in_features=25088, out_features=4096, bias=True)\n",
      "    (1): ReLU(inplace=True)\n",
      "    (2): Dropout(p=0.5, inplace=False)\n",
      "    (3): Linear(in_features=4096, out_features=4096, bias=True)\n",
      "    (4): ReLU(inplace=True)\n",
      "    (5): Dropout(p=0.5, inplace=False)\n",
      "    (6): Linear(in_features=4096, out_features=1000, bias=True)\n",
      "  )\n",
      ")\n"
     ]
    }
   ],
   "source": [
    "# VGG\n",
    "from torchvision.models import vgg11\n",
    "\n",
    "vgg = vgg11()\n",
    "print(vgg)"
   ]
  },
  {
   "cell_type": "markdown",
   "metadata": {},
   "source": [
    "Вы можете самостоятельно попробовать поменять ResNet на любую из изученных в лекции архитектур - и сравнить качество."
   ]
  },
  {
   "cell_type": "markdown",
   "metadata": {},
   "source": [
    "## Резюме\n",
    "\n",
    "1. Научились работать с датасетами/даталоадерами.\n",
    "2. Посмотрели на качество FC и CNN в классификации картинок - увидели, что CNN выбивает большее качество.\n",
    "3. Попробовали сделать fine-tuning ResNet под нашу задачу."
   ]
  }
 ],
 "metadata": {
  "kernelspec": {
   "display_name": "start-dl-MwYW62ZD-py3.10",
   "language": "python",
   "name": "python3"
  },
  "language_info": {
   "codemirror_mode": {
    "name": "ipython",
    "version": 3
   },
   "file_extension": ".py",
   "mimetype": "text/x-python",
   "name": "python",
   "nbconvert_exporter": "python",
   "pygments_lexer": "ipython3",
   "version": "3.10.13"
  }
 },
 "nbformat": 4,
 "nbformat_minor": 2
}
