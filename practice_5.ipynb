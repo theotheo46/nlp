{
 "cells": [
  {
   "cell_type": "markdown",
   "metadata": {},
   "source": [
    "## Семантическая сегментация в PyTorch"
   ]
  },
  {
   "cell_type": "code",
   "execution_count": null,
   "metadata": {},
   "outputs": [],
   "source": [
    "import numpy as np\n",
    "import albumentations as A\n",
    "from albumentations.pytorch import ToTensorV2\n",
    "from torch.utils.data import Dataset"
   ]
  },
  {
   "cell_type": "code",
   "execution_count": null,
   "metadata": {},
   "outputs": [],
   "source": [
    "class SegmentationDataset(Dataset):\n",
    "    def __init__(\n",
    "        self, img_array: np.ndarray, label_array: np.ndarray, transforms: A.Compose\n",
    "    ):\n",
    "        label_array = label_array.astype(\"int32\")\n",
    "        self.img_array = img_array.transpose((0, 2, 3, 1)) #Транспонирование массива изображений img_array для совместимости с библиотекой Albumentations, которая работает с каналами в последней размерности (последовательность осей в HWC формате). label_array остается без изменений.\n",
    "        self.label_array = label_array\n",
    "        self.transforms = transforms\n",
    "\n",
    "    def __getitem__(self, index):\n",
    "        transformed = self.transforms(\n",
    "            image=self.img_array[index], mask=self.label_array[index]\n",
    "        )\n",
    "        return transformed[\"image\"], transformed[\"mask\"]\n",
    "\n",
    "    def __len__(self):\n",
    "        return len(self.img_array)\n",
    "\n",
    "#Создание экземпляра SegmentationDataset под названием all_dataset, который использует массивы all_imgs_np и all_labels_np в качестве изображений и масок соответственно. Также указан набор преобразований для данных\n",
    "all_dataset = SegmentationDataset(\n",
    "    all_imgs_np,\n",
    "    all_labels_np,\n",
    "    transforms=A.Compose([A.Resize(128, 128), A.ToFloat(max_value=255), ToTensorV2()]),\n",
    ")"
   ]
  }
 ],
 "metadata": {
  "kernelspec": {
   "display_name": ".venv",
   "language": "python",
   "name": "python3"
  },
  "language_info": {
   "name": "python",
   "version": "3.10.12"
  }
 },
 "nbformat": 4,
 "nbformat_minor": 2
}
