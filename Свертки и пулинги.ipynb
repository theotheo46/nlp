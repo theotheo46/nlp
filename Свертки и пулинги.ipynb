{
 "cells": [
  {
   "cell_type": "markdown",
   "metadata": {},
   "source": [
    "# Урок 4\n",
    "Эта демонстрация разбита на 3 ноутбука:\n",
    "\n",
    "1. **Свертки и пулинги.**\n",
    "2. Даталоадеры.\n",
    "3. Задача классификации с использованием CNN."
   ]
  },
  {
   "cell_type": "markdown",
   "metadata": {},
   "source": [
    "## Свертки и пулинги в PyTorch\n",
    "\n",
    "Рассмотрим работу Conv2d и Pooling в PyTorch."
   ]
  },
  {
   "cell_type": "markdown",
   "metadata": {},
   "source": [
    "### Свертки"
   ]
  },
  {
   "cell_type": "code",
   "execution_count": 1,
   "metadata": {},
   "outputs": [
    {
     "name": "stdout",
     "output_type": "stream",
     "text": [
      "tensor([[[[0., 1., 2.],\n",
      "          [3., 4., 5.],\n",
      "          [6., 7., 8.]]]])\n",
      "Parameter containing:\n",
      "tensor([[[[2., 1.],\n",
      "          [1., 2.]]]], requires_grad=True)\n",
      "tensor([[[[12., 18.],\n",
      "          [30., 36.]]]], grad_fn=<ConvolutionBackward0>)\n"
     ]
    }
   ],
   "source": [
    "import torch\n",
    "import torch.nn as nn\n",
    "\n",
    "# В nn лежит Conv2d и Conv1d.\n",
    "# Conv2d работает с картниками и его ядро является квадратом.\n",
    "# Conv1d работает с последовательностями и его ядро является отрезком.\n",
    "conv_layer = nn.Conv2d(\n",
    "    in_channels=1,\n",
    "    # число ядер\n",
    "    out_channels=1,\n",
    "    kernel_size=2,\n",
    "    stride=1,\n",
    "    padding=0,\n",
    "    dilation=1,\n",
    "    bias=False,\n",
    ")\n",
    "# Явно проставим веса в ядре\n",
    "with torch.no_grad():\n",
    "    conv_layer.weight = nn.Parameter(\n",
    "        torch.ones((1, 1, 2, 2)) + torch.eye(2)[None, None, ...]\n",
    "    )\n",
    "data = torch.arange(3 * 3, dtype=torch.float32).reshape((1, 1, 3, 3))\n",
    "print(data)\n",
    "print(conv_layer.weight)\n",
    "# Сравним выход с тем, что подсчитаем вручную.\n",
    "print(conv_layer(data))"
   ]
  },
  {
   "cell_type": "code",
   "execution_count": 2,
   "metadata": {},
   "outputs": [
    {
     "data": {
      "text/plain": [
       "tensor([[[[12., 18.],\n",
       "          [30., 36.]]]])"
      ]
     },
     "execution_count": 2,
     "metadata": {},
     "output_type": "execute_result"
    }
   ],
   "source": [
    "# Свертка реализована еще и как отдельная операция\n",
    "import torch.nn.functional as F\n",
    "\n",
    "F.conv2d(data, weight=torch.ones((1, 1, 2, 2)) + torch.eye(2)[None, None, ...])\n",
    "# Слой Conv2d - это, по сути, обертка над F.conv2d"
   ]
  },
  {
   "cell_type": "markdown",
   "metadata": {},
   "source": [
    "### Pooling\n",
    "\n",
    "Пулингов в PyTorch много:\n",
    "- `MaxPool2d` - пройтись по ядру и взять максимум;\n",
    "- `AvgPool2d` - пройтись по ядру и взять среднее;\n",
    "- `AdaptiveMaxPool2d` - пройтись по **всей** картинке и взять максимум;\n",
    "- `AdaptiveAvgPool2d` - пройтись по **всей** картинке и взять среднее.\n",
    "\n",
    "Рассмотрим `MaxPool2d`, остальные аналогичны."
   ]
  },
  {
   "cell_type": "code",
   "execution_count": 3,
   "metadata": {},
   "outputs": [
    {
     "name": "stdout",
     "output_type": "stream",
     "text": [
      "tensor([[[[0., 1., 2.],\n",
      "          [3., 4., 5.],\n",
      "          [6., 7., 8.]]]])\n",
      "tensor([[[[4.]]]])\n"
     ]
    }
   ],
   "source": [
    "max_pool = nn.MaxPool2d(kernel_size=(2, 2))\n",
    "print(data)\n",
    "print(max_pool(data))\n",
    "# В пулинге stride == kernel_size по умолчанию"
   ]
  },
  {
   "cell_type": "code",
   "execution_count": 4,
   "metadata": {},
   "outputs": [
    {
     "name": "stdout",
     "output_type": "stream",
     "text": [
      "tensor([[[[ 0.,  1.,  2.,  3.],\n",
      "          [ 4.,  5.,  6.,  7.],\n",
      "          [ 8.,  9., 10., 11.],\n",
      "          [12., 13., 14., 15.]]]])\n",
      "tensor([[[[ 5.,  7.],\n",
      "          [13., 15.]]]])\n"
     ]
    }
   ],
   "source": [
    "bigger_data = torch.arange(4 * 4, dtype=torch.float32).reshape((1, 1, 4, 4))\n",
    "print(bigger_data)\n",
    "print(max_pool(bigger_data))"
   ]
  }
 ],
 "metadata": {
  "kernelspec": {
   "display_name": "start-dl-MwYW62ZD-py3.10",
   "language": "python",
   "name": "python3"
  },
  "language_info": {
   "codemirror_mode": {
    "name": "ipython",
    "version": 3
   },
   "file_extension": ".py",
   "mimetype": "text/x-python",
   "name": "python",
   "nbconvert_exporter": "python",
   "pygments_lexer": "ipython3",
   "version": "3.10.13"
  }
 },
 "nbformat": 4,
 "nbformat_minor": 2
}
