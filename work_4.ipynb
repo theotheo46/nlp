{
 "cells": [
  {
   "cell_type": "markdown",
   "metadata": {},
   "source": [
    "# Домашнее задание 4\n",
    "\n",
    "В этом задании мы:\n",
    "1. Построим классификатор датасета CIFAR с помощью обычных нейросетей и CNN.\n",
    "2. Поработаем с аугментациями и добьемся большего качества с их помощью.\n",
    "3. Попрактикуемся с техникой fine-tuning: возьмем готовый MobileNet и дообучим последний слой под нашу задачу."
   ]
  },
  {
   "cell_type": "markdown",
   "metadata": {},
   "source": [
    "## Классификация: CNN против обычных сетей\n",
    "\n",
    "В первой части задания мы повторим то, что проделывалось на лекции.\n",
    "Но на этот раз будем учить сети до победного, пока их качество не перестанет улучшаться - и сравним результаты.\n",
    "\n",
    "Также в конце оценим число параметров в каждой сети, чтобы сравнить эффективность CNN и FC при работе с изображениями.\n",
    "\n",
    "Воспользуемся датасетом CIFAR."
   ]
  },
  {
   "cell_type": "code",
   "execution_count": 1,
   "metadata": {
    "colab": {
     "base_uri": "https://localhost:8080/"
    },
    "id": "xARvjMxP4JWd",
    "outputId": "8af51d49-953f-4107-f0c6-8318cc64acf2"
   },
   "outputs": [],
   "source": [
    "from dataclasses import dataclass\n",
    "\n",
    "import torch\n",
    "import torch.nn as nn\n",
    "import torch.nn.functional as F\n",
    "from torch.utils.data import DataLoader\n",
    "from torchvision.datasets import CIFAR10\n",
    "from torchvision.transforms import ToTensor\n",
    "\n",
    "train_dataset = CIFAR10(root=\"./data\", train=True, download=True, transform=ToTensor())\n",
    "test_dataset = CIFAR10(root=\"./data\", train=False, download=True, transform=ToTensor())"
   ]
  },
  {
   "cell_type": "markdown",
   "metadata": {},
   "source": [
    "### Задание №1\n",
    "\n",
    "Создайте два объекта `DataLoader` и сохраните их в переменные `train_loader` и `test_loader` (для тренировочной и тестовой выборки соответственно).\n",
    "\n",
    "Используйте размер батча 256."
   ]
  },
  {
   "cell_type": "code",
   "execution_count": 2,
   "metadata": {},
   "outputs": [],
   "source": [
    "train_loader = ...\n",
    "test_loader = ..."
   ]
  },
  {
   "cell_type": "markdown",
   "metadata": {},
   "source": [
    "### Задание №2\n",
    "\n",
    "Обучите полносвязную сеть для классификации CIFAR.\n",
    "\n",
    "Достаточно 3 блоков \"Linear + ReLU\".\n",
    "Ваша задача - вывести accuracy на _тестовой выборке_ на плато.\n",
    "Т.е. нужно обучить сеть настолько долго, чтобы увидеть, как ее качество перестает расти с ростом числа эпох.\n",
    "Для этого попробуйте подвигать `lr` и `num_epochs`.\n",
    "\n",
    "\n",
    "Сдайте в ЛМС предельный accuracy, который может достичь полносвязная сеть."
   ]
  },
  {
   "cell_type": "code",
   "execution_count": 3,
   "metadata": {},
   "outputs": [],
   "source": [
    "import matplotlib.pyplot as plt\n",
    "from IPython.display import clear_output\n",
    "\n",
    "\n",
    "@dataclass\n",
    "class TrainConfig:\n",
    "    lr: float\n",
    "    num_epochs: int\n",
    "\n",
    "\n",
    "def plot_accuracy(epoch: int, values: list[float]):\n",
    "    \"\"\"Пример:\n",
    "\n",
    "    >>> acc.append(validation_accuracy)\n",
    "    >>> plot(i + 1, validation_accuracy)\n",
    "    \"\"\"\n",
    "    clear_output(True)\n",
    "    plt.title(\"Epoch %s. Accuracy: %s\" % (epoch, values[-1]))\n",
    "    plt.plot(values)\n",
    "    plt.grid()\n",
    "    plt.show()\n",
    "\n",
    "\n",
    "params = TrainConfig(lr=1e-3, num_epochs=200)\n",
    "model = ...\n",
    "# Создайте модель, обучите ее\n",
    "..."
   ]
  },
  {
   "cell_type": "code",
   "execution_count": 4,
   "metadata": {},
   "outputs": [],
   "source": [
    "def report_parameters(model: nn.Module):\n",
    "    print(\n",
    "        \"Суммарное количество параметров:\",\n",
    "        sum(p.nelement() for p in model.parameters()),\n",
    "    )\n",
    "    print(\n",
    "        \"Суммарный размер (Мб) параметров:\",\n",
    "        sum(\n",
    "            parameter.nelement() * parameter.element_size()\n",
    "            for parameter in model.parameters()\n",
    "        )\n",
    "        / 1024**2,\n",
    "    )"
   ]
  },
  {
   "cell_type": "code",
   "execution_count": 5,
   "metadata": {},
   "outputs": [],
   "source": [
    "report_parameters(model)"
   ]
  },
  {
   "cell_type": "markdown",
   "metadata": {},
   "source": [
    "### Задание №3\n",
    "\n",
    "Теперь постройте и обучите CNN сеть.\n",
    "Опять же, не используйте глубокую сеть: мы хотим иметь схожее количество параметров для сравнения.\n",
    "\n",
    "Достаточно будет трех блоков \"Conv + ReLU + MaxPool\"."
   ]
  },
  {
   "cell_type": "code",
   "execution_count": 6,
   "metadata": {},
   "outputs": [],
   "source": []
  },
  {
   "cell_type": "code",
   "execution_count": 7,
   "metadata": {},
   "outputs": [],
   "source": [
    "report_parameters(model)"
   ]
  },
  {
   "cell_type": "markdown",
   "metadata": {},
   "source": [
    "Обратите внимание на качество и на число параметров.\n",
    "Качество получается выше, а число параметров - на порядок меньше.\n",
    "\n",
    "Делаем вывод, что CNN позволяют выбивать лучшее качество, чем обычные сети, и при меньшем числе параметров.\n",
    "\n",
    "Но CNN - не единственный способ улучшить качество при работе с картинками."
   ]
  },
  {
   "cell_type": "markdown",
   "metadata": {},
   "source": [
    "### Задание №4\n",
    "Реализуйте следующие аугментации:\n",
    "1. Горизонтальное отражение (Horizontal Flip) с вероятностью применения 30%\n",
    "2. Вращение на угол (Rotate), близкий к 30 градусам, с вероятностью применения около 30%.\n",
    "3. Random Resized Crop - тут выберите нужные параметры самостоятельно.\n",
    "4. Normalize. Нормализовать нужно вдоль трех осей изображения. Среднее и std подсчитайте самостоятельно, используя `train_dataset` (в подсчет статистик _нельзя_ включать `test_dataset`).\n",
    "\n",
    "Используйте библиотеку `albumentations`.\n",
    "Не забудьте, что `albumentations` работает с numpy-массивами.\n",
    "Придется перегонять данные из pytorch в numpy-массивы и обратно:\n",
    "\n",
    "```python\n",
    "np_array = tensor.numpy()\n",
    "tensor_back = torch.from_numpy(np_array)\n",
    "```\n",
    "\n",
    "Сохраните аугментации в переменную `transforms` и сдайте свой код в ЛМС.\n",
    "\n",
    "<details>\n",
    "<summary>Как ваш код будет проверяться</summary>\n",
    "\n",
    "```python\n",
    "import albumentations as A\n",
    "\n",
    "# <Ваш код здесь>\n",
    "\n",
    "# Затем проверки на переменную transforms\n",
    "assert some_check(transforms)\n",
    "assert another_check(transforms)\n",
    "```\n",
    "</details>"
   ]
  },
  {
   "cell_type": "code",
   "execution_count": null,
   "metadata": {
    "id": "f4YzCLbyXcks"
   },
   "outputs": [],
   "source": [
    "import albumentations as A\n",
    "from albumentations.pytorch import ToTensorV2\n",
    "\n",
    "image_size = 32\n",
    "transforms = ..."
   ]
  },
  {
   "cell_type": "markdown",
   "metadata": {},
   "source": [
    "## Аугментации\n",
    "Зачастую аугментации помогают увеличить качество модели.\n",
    "Объясняется это так: аугментация изображений обогащает датасет новыми картинками, сгенерированными из существующих.\n",
    "Переобучения не происходит, потому что мы не просто дублируем изображения, а немного изменяем их.\n",
    "### Задание №5\n",
    "\n",
    "Обучите CNN с использованием аугментаций.\n",
    "Как и в прошлых заданиях, держите обучение до конца - пока loss не выйдет на плато.\n",
    "\n",
    "Ваша задача - получить accuracy выше 76%.\n",
    "Сдайте в ЛМС:\n",
    "- код класса модели. Класс должен называться `SimpleCNNModel`;\n",
    "- .pt файл с обученной моделью;"
   ]
  },
  {
   "cell_type": "code",
   "execution_count": null,
   "metadata": {},
   "outputs": [],
   "source": []
  },
  {
   "cell_type": "markdown",
   "metadata": {},
   "source": [
    "Аугментации улучшили качество.\n",
    "\n",
    "Заметьте, что нормализацию можно было бы применить и в прошлом пункте, чтобы более честно оценить, какой прирост дали развороты и вращения изображения.\n",
    "Советуем самостоятельно провести эксперимент и увидеть различия.\n",
    "\n",
    "<details>\n",
    "    <summary>Какие результаты ожидать</summary>\n",
    "    У авторов получилось около 73% accuracy при использовании только лишь нормализации. При добавлении остальных аугментаций качество было еще выше.\n",
    "</details>"
   ]
  },
  {
   "cell_type": "markdown",
   "metadata": {},
   "source": [
    "## Transfer learning\n",
    "### Задание №6\n",
    "Transfer learning состоит в том, чтобы взять готовую сеть и дообучить небольшую ее часть.\n",
    "В этом задании мы будем учить FC слой в конце MobileNet.\n",
    "\n",
    "Загрузите предварительно обученную модель из серии `MobileNet`, используйте `MobileNet_V3_large`.\n",
    "\n",
    "Поменяйте ее последний слой (классификатор) на один линейный слой.\n",
    "Обучите все это дело, меняя **только** параметры своего слоя (подумайте, что передавать в оптимизатор).\n",
    "Сохраните обученный слой (и только его) в `model_finetune.pt`.\n",
    "\n",
    "Сдайте в ЛМС .pt файл и код, создающий вашу модель в переменную `model_finetune`.\n",
    "Чтобы сдать это задание, достаточно набрать accuracy > 40%."
   ]
  },
  {
   "cell_type": "code",
   "execution_count": null,
   "metadata": {},
   "outputs": [],
   "source": []
  },
  {
   "cell_type": "code",
   "execution_count": null,
   "metadata": {},
   "outputs": [],
   "source": [
    "print(\n",
    "    \"Суммарное количество параметров:\",\n",
    "    sum(p.nelement() for p in trainable_params),\n",
    ")\n",
    "print(\n",
    "    \"Суммарный размер (Мб) параметров:\",\n",
    "    sum(\n",
    "        parameter.nelement() * parameter.element_size()\n",
    "        for parameter in trainable_params\n",
    "    )\n",
    "    / 1024**2,\n",
    ")"
   ]
  },
  {
   "cell_type": "markdown",
   "metadata": {},
   "source": [
    "Качество, возможно, просело, зато учим намного меньше параметров."
   ]
  },
  {
   "cell_type": "markdown",
   "metadata": {},
   "source": [
    "## Задание №7\n",
    "Возьмите предпоследний слой вашей CNN модели (тот, что до классификатора).\n",
    "Этот слой выдает вектора.\n",
    "\n",
    "Возьмите любой объект из класса 0, подсчитайте его косинусную схождесть со всеми остальными объектами из класса 0, усредните.\n",
    "Затем подсчитайте то же число, только против всех объектов из класса 1, тоже усредните.\n",
    "Отправьте в ЛМС два числа, разделенные запятой. Например, \"1, 1\"."
   ]
  },
  {
   "cell_type": "code",
   "execution_count": null,
   "metadata": {},
   "outputs": [],
   "source": [
    "..."
   ]
  },
  {
   "cell_type": "markdown",
   "metadata": {},
   "source": [
    "#### Небольшой бонус\n",
    "Эмбеддинги можно визуализировать, используя t-SNE.\n",
    "Посмотрите, что получается, попробуйте объяснить картину.\n",
    "\n",
    "Если модель достаточно качественная, то схожие классы должны собираться в одну кучку, при этом у кучек должны прослеживаться границы.\n",
    "Конечно же, не забывайте про выбросы."
   ]
  },
  {
   "cell_type": "code",
   "execution_count": null,
   "metadata": {},
   "outputs": [],
   "source": [
    "from sklearn.manifold import TSNE\n",
    "\n",
    "result = torch.empty((0, 2048))\n",
    "labels = []\n",
    "with torch.no_grad():\n",
    "    embedding_model.cpu()\n",
    "    for x_batch, y_batch in test_loader_augs:\n",
    "        embedding = embedding_model(x_batch).flatten(1)\n",
    "        embedding /= embedding.norm()\n",
    "        result = torch.concat((result, embedding))\n",
    "        labels.extend(y_batch.tolist())\n",
    "\n",
    "tsne = TSNE(random_state=42)\n",
    "plot_data = tsne.fit_transform(result.numpy())"
   ]
  },
  {
   "cell_type": "code",
   "execution_count": null,
   "metadata": {},
   "outputs": [],
   "source": [
    "fig, ax = plt.subplots(1, 1, figsize=(16, 9))\n",
    "scatter = ax.scatter(\n",
    "    plot_data[:, 0],\n",
    "    plot_data[:, 1],\n",
    "    c=labels,\n",
    "    cmap=\"viridis\",\n",
    "    edgecolor=\"k\",\n",
    "    s=20,\n",
    "    alpha=1,\n",
    ")\n",
    "plt.colorbar(scatter)"
   ]
  }
 ],
 "metadata": {
  "accelerator": "GPU",
  "colab": {
   "gpuType": "T4",
   "provenance": []
  },
  "kernelspec": {
   "display_name": "start-dl-ph78tHa0-py3.10",
   "language": "python",
   "name": "python3"
  },
  "language_info": {
   "name": "python",
   "version": "3.10.15"
  }
 },
 "nbformat": 4,
 "nbformat_minor": 4
}