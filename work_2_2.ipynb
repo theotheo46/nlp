{
  "cells": [
    {
      "cell_type": "markdown",
      "metadata": {
        "id": "yaw0k83l4RDb"
      },
      "source": [
        "# Домашнее задание 2\n",
        "\n",
        "В этом задании:\n",
        "\n",
        "1. Сделаем регрессию над данными через scikit-learn: сначала через регресию, потом через бустинг.\n",
        "2. Сравним результаты с константным предсказанием.\n",
        "3. Сделаем нейронную сеть на полносвязных слоях, обучим над теми же данными - и сравним с лин. регрессией и бустингом.\n",
        "\n"
      ]
    },
    {
      "cell_type": "code",
      "execution_count": 37,
      "metadata": {
        "id": "YwY-vclM4RDd"
      },
      "outputs": [],
      "source": [
        "import pandas as pd\n",
        "import numpy as np\n",
        "import random\n",
        "import torch, tqdm as tqdm\n",
        "\n",
        "# Для воспроизводимости\n",
        "seed = 0\n",
        "np.random.seed(seed)\n",
        "random.seed(seed)"
      ]
    },
    {
      "cell_type": "code",
      "execution_count": 38,
      "metadata": {
        "id": "fAsMXouy4RDe"
      },
      "outputs": [],
      "source": [
        "df = pd.read_csv(\"insurance.csv\")"
      ]
    },
    {
      "cell_type": "markdown",
      "metadata": {
        "id": "z2Z6GtBD4RDe"
      },
      "source": [
        "### Задание №1:\n",
        "Cделайте train/test split на данных в пропорции 0.2/0.8, залейте в лмс код, который в `df_train`, `df_test`\n",
        "сохранит датафрейм с тренировочными и тестовыми данными соответственно.\n",
        "\n",
        "P.S Использовать train_test_split из scikit-learn запрещено - разбивайте вручную через индексы."
      ]
    },
    {
      "cell_type": "code",
      "execution_count": 40,
      "metadata": {},
      "outputs": [
        {
          "data": {
            "text/plain": [
              "1338"
            ]
          },
          "execution_count": 40,
          "metadata": {},
          "output_type": "execute_result"
        }
      ],
      "source": [
        "df.shape[0]"
      ]
    },
    {
      "cell_type": "code",
      "execution_count": 32,
      "metadata": {},
      "outputs": [
        {
          "data": {
            "text/plain": [
              "1070"
            ]
          },
          "execution_count": 32,
          "metadata": {},
          "output_type": "execute_result"
        }
      ],
      "source": [
        "ratio = int(df.shape[0]*0.8)\n",
        "ratio"
      ]
    },
    {
      "cell_type": "code",
      "execution_count": 34,
      "metadata": {},
      "outputs": [
        {
          "data": {
            "text/plain": [
              "1070"
            ]
          },
          "execution_count": 34,
          "metadata": {},
          "output_type": "execute_result"
        }
      ],
      "source": [
        "len(df[:ratio])"
      ]
    },
    {
      "cell_type": "code",
      "execution_count": 6,
      "metadata": {},
      "outputs": [
        {
          "data": {
            "text/html": [
              "<div>\n",
              "<style scoped>\n",
              "    .dataframe tbody tr th:only-of-type {\n",
              "        vertical-align: middle;\n",
              "    }\n",
              "\n",
              "    .dataframe tbody tr th {\n",
              "        vertical-align: top;\n",
              "    }\n",
              "\n",
              "    .dataframe thead th {\n",
              "        text-align: right;\n",
              "    }\n",
              "</style>\n",
              "<table border=\"1\" class=\"dataframe\">\n",
              "  <thead>\n",
              "    <tr style=\"text-align: right;\">\n",
              "      <th></th>\n",
              "      <th>age</th>\n",
              "      <th>bmi</th>\n",
              "      <th>children</th>\n",
              "      <th>charges</th>\n",
              "    </tr>\n",
              "  </thead>\n",
              "  <tbody>\n",
              "    <tr>\n",
              "      <th>count</th>\n",
              "      <td>1338.000000</td>\n",
              "      <td>1338.000000</td>\n",
              "      <td>1338.000000</td>\n",
              "      <td>1338.000000</td>\n",
              "    </tr>\n",
              "    <tr>\n",
              "      <th>mean</th>\n",
              "      <td>39.207025</td>\n",
              "      <td>30.663397</td>\n",
              "      <td>1.094918</td>\n",
              "      <td>13270.422265</td>\n",
              "    </tr>\n",
              "    <tr>\n",
              "      <th>std</th>\n",
              "      <td>14.049960</td>\n",
              "      <td>6.098187</td>\n",
              "      <td>1.205493</td>\n",
              "      <td>12110.011237</td>\n",
              "    </tr>\n",
              "    <tr>\n",
              "      <th>min</th>\n",
              "      <td>18.000000</td>\n",
              "      <td>15.960000</td>\n",
              "      <td>0.000000</td>\n",
              "      <td>1121.873900</td>\n",
              "    </tr>\n",
              "    <tr>\n",
              "      <th>25%</th>\n",
              "      <td>27.000000</td>\n",
              "      <td>26.296250</td>\n",
              "      <td>0.000000</td>\n",
              "      <td>4740.287150</td>\n",
              "    </tr>\n",
              "    <tr>\n",
              "      <th>50%</th>\n",
              "      <td>39.000000</td>\n",
              "      <td>30.400000</td>\n",
              "      <td>1.000000</td>\n",
              "      <td>9382.033000</td>\n",
              "    </tr>\n",
              "    <tr>\n",
              "      <th>75%</th>\n",
              "      <td>51.000000</td>\n",
              "      <td>34.693750</td>\n",
              "      <td>2.000000</td>\n",
              "      <td>16639.912515</td>\n",
              "    </tr>\n",
              "    <tr>\n",
              "      <th>max</th>\n",
              "      <td>64.000000</td>\n",
              "      <td>53.130000</td>\n",
              "      <td>5.000000</td>\n",
              "      <td>63770.428010</td>\n",
              "    </tr>\n",
              "  </tbody>\n",
              "</table>\n",
              "</div>"
            ],
            "text/plain": [
              "               age          bmi     children       charges\n",
              "count  1338.000000  1338.000000  1338.000000   1338.000000\n",
              "mean     39.207025    30.663397     1.094918  13270.422265\n",
              "std      14.049960     6.098187     1.205493  12110.011237\n",
              "min      18.000000    15.960000     0.000000   1121.873900\n",
              "25%      27.000000    26.296250     0.000000   4740.287150\n",
              "50%      39.000000    30.400000     1.000000   9382.033000\n",
              "75%      51.000000    34.693750     2.000000  16639.912515\n",
              "max      64.000000    53.130000     5.000000  63770.428010"
            ]
          },
          "execution_count": 6,
          "metadata": {},
          "output_type": "execute_result"
        }
      ],
      "source": [
        "df.describe()"
      ]
    },
    {
      "cell_type": "code",
      "execution_count": 35,
      "metadata": {
        "id": "sbG88DkD4RDe"
      },
      "outputs": [],
      "source": [
        "ratio = int(df.shape[0]*0.8)\n",
        "df_train = df[:ratio]\n",
        "df_test = df[ratio:]"
      ]
    },
    {
      "cell_type": "code",
      "execution_count": 37,
      "metadata": {},
      "outputs": [
        {
          "data": {
            "text/html": [
              "<div>\n",
              "<style scoped>\n",
              "    .dataframe tbody tr th:only-of-type {\n",
              "        vertical-align: middle;\n",
              "    }\n",
              "\n",
              "    .dataframe tbody tr th {\n",
              "        vertical-align: top;\n",
              "    }\n",
              "\n",
              "    .dataframe thead th {\n",
              "        text-align: right;\n",
              "    }\n",
              "</style>\n",
              "<table border=\"1\" class=\"dataframe\">\n",
              "  <thead>\n",
              "    <tr style=\"text-align: right;\">\n",
              "      <th></th>\n",
              "      <th>age</th>\n",
              "      <th>sex</th>\n",
              "      <th>bmi</th>\n",
              "      <th>children</th>\n",
              "      <th>smoker</th>\n",
              "      <th>region</th>\n",
              "      <th>charges</th>\n",
              "    </tr>\n",
              "  </thead>\n",
              "  <tbody>\n",
              "    <tr>\n",
              "      <th>1070</th>\n",
              "      <td>37</td>\n",
              "      <td>male</td>\n",
              "      <td>37.070</td>\n",
              "      <td>1</td>\n",
              "      <td>yes</td>\n",
              "      <td>southeast</td>\n",
              "      <td>39871.70430</td>\n",
              "    </tr>\n",
              "    <tr>\n",
              "      <th>1071</th>\n",
              "      <td>63</td>\n",
              "      <td>male</td>\n",
              "      <td>31.445</td>\n",
              "      <td>0</td>\n",
              "      <td>no</td>\n",
              "      <td>northeast</td>\n",
              "      <td>13974.45555</td>\n",
              "    </tr>\n",
              "    <tr>\n",
              "      <th>1072</th>\n",
              "      <td>21</td>\n",
              "      <td>male</td>\n",
              "      <td>31.255</td>\n",
              "      <td>0</td>\n",
              "      <td>no</td>\n",
              "      <td>northwest</td>\n",
              "      <td>1909.52745</td>\n",
              "    </tr>\n",
              "    <tr>\n",
              "      <th>1073</th>\n",
              "      <td>54</td>\n",
              "      <td>female</td>\n",
              "      <td>28.880</td>\n",
              "      <td>2</td>\n",
              "      <td>no</td>\n",
              "      <td>northeast</td>\n",
              "      <td>12096.65120</td>\n",
              "    </tr>\n",
              "    <tr>\n",
              "      <th>1074</th>\n",
              "      <td>60</td>\n",
              "      <td>female</td>\n",
              "      <td>18.335</td>\n",
              "      <td>0</td>\n",
              "      <td>no</td>\n",
              "      <td>northeast</td>\n",
              "      <td>13204.28565</td>\n",
              "    </tr>\n",
              "  </tbody>\n",
              "</table>\n",
              "</div>"
            ],
            "text/plain": [
              "      age     sex     bmi  children smoker     region      charges\n",
              "1070   37    male  37.070         1    yes  southeast  39871.70430\n",
              "1071   63    male  31.445         0     no  northeast  13974.45555\n",
              "1072   21    male  31.255         0     no  northwest   1909.52745\n",
              "1073   54  female  28.880         2     no  northeast  12096.65120\n",
              "1074   60  female  18.335         0     no  northeast  13204.28565"
            ]
          },
          "execution_count": 37,
          "metadata": {},
          "output_type": "execute_result"
        }
      ],
      "source": [
        "df_test.head()"
      ]
    },
    {
      "cell_type": "markdown",
      "metadata": {
        "id": "D9FZCave4RDe"
      },
      "source": [
        "### Задание №2:\n",
        "Сделайте `OHE` на колонки sex, region, smoker.\n",
        "\n",
        "Нужно сделать как на train, так и на test датасете.\n",
        "Считайте, что исходные датафреймы сохранены в `df_train` и `df_test`.\n",
        "При этом в `df_train`, `df_test` должны остаться старые колонки - т.е. его нужно обогатить.\n"
      ]
    },
    {
      "cell_type": "code",
      "execution_count": 60,
      "metadata": {},
      "outputs": [],
      "source": [
        "from typing import List\n",
        "\n",
        "\n",
        "def add_ohe(df : pd.DataFrame, col_list : List[str]):\n",
        "    for col_ in col_list:\n",
        "        unique_values = df[col_].unique().tolist()\n",
        "        for v in unique_values:\n",
        "            df[col_+'_'+v] = (df[col_] == v).astype(int)"
      ]
    },
    {
      "cell_type": "code",
      "execution_count": 61,
      "metadata": {},
      "outputs": [
        {
          "data": {
            "text/html": [
              "<div>\n",
              "<style scoped>\n",
              "    .dataframe tbody tr th:only-of-type {\n",
              "        vertical-align: middle;\n",
              "    }\n",
              "\n",
              "    .dataframe tbody tr th {\n",
              "        vertical-align: top;\n",
              "    }\n",
              "\n",
              "    .dataframe thead th {\n",
              "        text-align: right;\n",
              "    }\n",
              "</style>\n",
              "<table border=\"1\" class=\"dataframe\">\n",
              "  <thead>\n",
              "    <tr style=\"text-align: right;\">\n",
              "      <th></th>\n",
              "      <th>age</th>\n",
              "      <th>sex</th>\n",
              "      <th>bmi</th>\n",
              "      <th>children</th>\n",
              "      <th>smoker</th>\n",
              "      <th>region</th>\n",
              "      <th>charges</th>\n",
              "      <th>sex_ohe</th>\n",
              "      <th>region_ohe</th>\n",
              "      <th>smoker_ohe</th>\n",
              "      <th>sex_female</th>\n",
              "      <th>sex_male</th>\n",
              "      <th>region_southwest</th>\n",
              "      <th>region_southeast</th>\n",
              "      <th>region_northwest</th>\n",
              "      <th>region_northeast</th>\n",
              "      <th>smoker_yes</th>\n",
              "      <th>smoker_no</th>\n",
              "    </tr>\n",
              "  </thead>\n",
              "  <tbody>\n",
              "    <tr>\n",
              "      <th>0</th>\n",
              "      <td>19</td>\n",
              "      <td>female</td>\n",
              "      <td>27.900</td>\n",
              "      <td>0</td>\n",
              "      <td>yes</td>\n",
              "      <td>southwest</td>\n",
              "      <td>16884.92400</td>\n",
              "      <td>0</td>\n",
              "      <td>0</td>\n",
              "      <td>0</td>\n",
              "      <td>1</td>\n",
              "      <td>0</td>\n",
              "      <td>1</td>\n",
              "      <td>0</td>\n",
              "      <td>0</td>\n",
              "      <td>0</td>\n",
              "      <td>1</td>\n",
              "      <td>0</td>\n",
              "    </tr>\n",
              "    <tr>\n",
              "      <th>1</th>\n",
              "      <td>18</td>\n",
              "      <td>male</td>\n",
              "      <td>33.770</td>\n",
              "      <td>1</td>\n",
              "      <td>no</td>\n",
              "      <td>southeast</td>\n",
              "      <td>1725.55230</td>\n",
              "      <td>1</td>\n",
              "      <td>1</td>\n",
              "      <td>1</td>\n",
              "      <td>0</td>\n",
              "      <td>1</td>\n",
              "      <td>0</td>\n",
              "      <td>1</td>\n",
              "      <td>0</td>\n",
              "      <td>0</td>\n",
              "      <td>0</td>\n",
              "      <td>1</td>\n",
              "    </tr>\n",
              "    <tr>\n",
              "      <th>2</th>\n",
              "      <td>28</td>\n",
              "      <td>male</td>\n",
              "      <td>33.000</td>\n",
              "      <td>3</td>\n",
              "      <td>no</td>\n",
              "      <td>southeast</td>\n",
              "      <td>4449.46200</td>\n",
              "      <td>1</td>\n",
              "      <td>1</td>\n",
              "      <td>1</td>\n",
              "      <td>0</td>\n",
              "      <td>1</td>\n",
              "      <td>0</td>\n",
              "      <td>1</td>\n",
              "      <td>0</td>\n",
              "      <td>0</td>\n",
              "      <td>0</td>\n",
              "      <td>1</td>\n",
              "    </tr>\n",
              "    <tr>\n",
              "      <th>3</th>\n",
              "      <td>33</td>\n",
              "      <td>male</td>\n",
              "      <td>22.705</td>\n",
              "      <td>0</td>\n",
              "      <td>no</td>\n",
              "      <td>northwest</td>\n",
              "      <td>21984.47061</td>\n",
              "      <td>1</td>\n",
              "      <td>2</td>\n",
              "      <td>1</td>\n",
              "      <td>0</td>\n",
              "      <td>1</td>\n",
              "      <td>0</td>\n",
              "      <td>0</td>\n",
              "      <td>1</td>\n",
              "      <td>0</td>\n",
              "      <td>0</td>\n",
              "      <td>1</td>\n",
              "    </tr>\n",
              "    <tr>\n",
              "      <th>4</th>\n",
              "      <td>32</td>\n",
              "      <td>male</td>\n",
              "      <td>28.880</td>\n",
              "      <td>0</td>\n",
              "      <td>no</td>\n",
              "      <td>northwest</td>\n",
              "      <td>3866.85520</td>\n",
              "      <td>1</td>\n",
              "      <td>2</td>\n",
              "      <td>1</td>\n",
              "      <td>0</td>\n",
              "      <td>1</td>\n",
              "      <td>0</td>\n",
              "      <td>0</td>\n",
              "      <td>1</td>\n",
              "      <td>0</td>\n",
              "      <td>0</td>\n",
              "      <td>1</td>\n",
              "    </tr>\n",
              "    <tr>\n",
              "      <th>...</th>\n",
              "      <td>...</td>\n",
              "      <td>...</td>\n",
              "      <td>...</td>\n",
              "      <td>...</td>\n",
              "      <td>...</td>\n",
              "      <td>...</td>\n",
              "      <td>...</td>\n",
              "      <td>...</td>\n",
              "      <td>...</td>\n",
              "      <td>...</td>\n",
              "      <td>...</td>\n",
              "      <td>...</td>\n",
              "      <td>...</td>\n",
              "      <td>...</td>\n",
              "      <td>...</td>\n",
              "      <td>...</td>\n",
              "      <td>...</td>\n",
              "      <td>...</td>\n",
              "    </tr>\n",
              "    <tr>\n",
              "      <th>1333</th>\n",
              "      <td>50</td>\n",
              "      <td>male</td>\n",
              "      <td>30.970</td>\n",
              "      <td>3</td>\n",
              "      <td>no</td>\n",
              "      <td>northwest</td>\n",
              "      <td>10600.54830</td>\n",
              "      <td>1</td>\n",
              "      <td>2</td>\n",
              "      <td>1</td>\n",
              "      <td>0</td>\n",
              "      <td>1</td>\n",
              "      <td>0</td>\n",
              "      <td>0</td>\n",
              "      <td>1</td>\n",
              "      <td>0</td>\n",
              "      <td>0</td>\n",
              "      <td>1</td>\n",
              "    </tr>\n",
              "    <tr>\n",
              "      <th>1334</th>\n",
              "      <td>18</td>\n",
              "      <td>female</td>\n",
              "      <td>31.920</td>\n",
              "      <td>0</td>\n",
              "      <td>no</td>\n",
              "      <td>northeast</td>\n",
              "      <td>2205.98080</td>\n",
              "      <td>0</td>\n",
              "      <td>3</td>\n",
              "      <td>1</td>\n",
              "      <td>1</td>\n",
              "      <td>0</td>\n",
              "      <td>0</td>\n",
              "      <td>0</td>\n",
              "      <td>0</td>\n",
              "      <td>1</td>\n",
              "      <td>0</td>\n",
              "      <td>1</td>\n",
              "    </tr>\n",
              "    <tr>\n",
              "      <th>1335</th>\n",
              "      <td>18</td>\n",
              "      <td>female</td>\n",
              "      <td>36.850</td>\n",
              "      <td>0</td>\n",
              "      <td>no</td>\n",
              "      <td>southeast</td>\n",
              "      <td>1629.83350</td>\n",
              "      <td>0</td>\n",
              "      <td>1</td>\n",
              "      <td>1</td>\n",
              "      <td>1</td>\n",
              "      <td>0</td>\n",
              "      <td>0</td>\n",
              "      <td>1</td>\n",
              "      <td>0</td>\n",
              "      <td>0</td>\n",
              "      <td>0</td>\n",
              "      <td>1</td>\n",
              "    </tr>\n",
              "    <tr>\n",
              "      <th>1336</th>\n",
              "      <td>21</td>\n",
              "      <td>female</td>\n",
              "      <td>25.800</td>\n",
              "      <td>0</td>\n",
              "      <td>no</td>\n",
              "      <td>southwest</td>\n",
              "      <td>2007.94500</td>\n",
              "      <td>0</td>\n",
              "      <td>0</td>\n",
              "      <td>1</td>\n",
              "      <td>1</td>\n",
              "      <td>0</td>\n",
              "      <td>1</td>\n",
              "      <td>0</td>\n",
              "      <td>0</td>\n",
              "      <td>0</td>\n",
              "      <td>0</td>\n",
              "      <td>1</td>\n",
              "    </tr>\n",
              "    <tr>\n",
              "      <th>1337</th>\n",
              "      <td>61</td>\n",
              "      <td>female</td>\n",
              "      <td>29.070</td>\n",
              "      <td>0</td>\n",
              "      <td>yes</td>\n",
              "      <td>northwest</td>\n",
              "      <td>29141.36030</td>\n",
              "      <td>0</td>\n",
              "      <td>2</td>\n",
              "      <td>0</td>\n",
              "      <td>1</td>\n",
              "      <td>0</td>\n",
              "      <td>0</td>\n",
              "      <td>0</td>\n",
              "      <td>1</td>\n",
              "      <td>0</td>\n",
              "      <td>1</td>\n",
              "      <td>0</td>\n",
              "    </tr>\n",
              "  </tbody>\n",
              "</table>\n",
              "<p>1338 rows × 18 columns</p>\n",
              "</div>"
            ],
            "text/plain": [
              "      age     sex     bmi  children smoker     region      charges  sex_ohe  \\\n",
              "0      19  female  27.900         0    yes  southwest  16884.92400        0   \n",
              "1      18    male  33.770         1     no  southeast   1725.55230        1   \n",
              "2      28    male  33.000         3     no  southeast   4449.46200        1   \n",
              "3      33    male  22.705         0     no  northwest  21984.47061        1   \n",
              "4      32    male  28.880         0     no  northwest   3866.85520        1   \n",
              "...   ...     ...     ...       ...    ...        ...          ...      ...   \n",
              "1333   50    male  30.970         3     no  northwest  10600.54830        1   \n",
              "1334   18  female  31.920         0     no  northeast   2205.98080        0   \n",
              "1335   18  female  36.850         0     no  southeast   1629.83350        0   \n",
              "1336   21  female  25.800         0     no  southwest   2007.94500        0   \n",
              "1337   61  female  29.070         0    yes  northwest  29141.36030        0   \n",
              "\n",
              "      region_ohe  smoker_ohe  sex_female  sex_male  region_southwest  \\\n",
              "0              0           0           1         0                 1   \n",
              "1              1           1           0         1                 0   \n",
              "2              1           1           0         1                 0   \n",
              "3              2           1           0         1                 0   \n",
              "4              2           1           0         1                 0   \n",
              "...          ...         ...         ...       ...               ...   \n",
              "1333           2           1           0         1                 0   \n",
              "1334           3           1           1         0                 0   \n",
              "1335           1           1           1         0                 0   \n",
              "1336           0           1           1         0                 1   \n",
              "1337           2           0           1         0                 0   \n",
              "\n",
              "      region_southeast  region_northwest  region_northeast  smoker_yes  \\\n",
              "0                    0                 0                 0           1   \n",
              "1                    1                 0                 0           0   \n",
              "2                    1                 0                 0           0   \n",
              "3                    0                 1                 0           0   \n",
              "4                    0                 1                 0           0   \n",
              "...                ...               ...               ...         ...   \n",
              "1333                 0                 1                 0           0   \n",
              "1334                 0                 0                 1           0   \n",
              "1335                 1                 0                 0           0   \n",
              "1336                 0                 0                 0           0   \n",
              "1337                 0                 1                 0           1   \n",
              "\n",
              "      smoker_no  \n",
              "0             0  \n",
              "1             1  \n",
              "2             1  \n",
              "3             1  \n",
              "4             1  \n",
              "...         ...  \n",
              "1333          1  \n",
              "1334          1  \n",
              "1335          1  \n",
              "1336          1  \n",
              "1337          0  \n",
              "\n",
              "[1338 rows x 18 columns]"
            ]
          },
          "execution_count": 61,
          "metadata": {},
          "output_type": "execute_result"
        }
      ],
      "source": [
        "add_ohe(df, ['sex', 'region', 'smoker'])\n",
        "df"
      ]
    },
    {
      "cell_type": "code",
      "execution_count": null,
      "metadata": {
        "id": "FhsOpSzh4RDe"
      },
      "outputs": [],
      "source": [
        "...\n",
        "\n",
        "print(df_train.columns)\n",
        "print(df_train.columns)"
      ]
    },
    {
      "cell_type": "code",
      "execution_count": null,
      "metadata": {
        "id": "92K8khao4RDf"
      },
      "outputs": [],
      "source": []
    },
    {
      "cell_type": "markdown",
      "metadata": {
        "id": "ky6ESVvn4RDf"
      },
      "source": [
        "### Задание №4:\n",
        "Нормализуйте колонки, которые вы отметили в квизе.\n",
        "Считайте, что исходные датафреймы сохранены в `df_train` и `df_test`.\n",
        "\n",
        "Сдайте код, который модифицирует `df_train` и `df_test` так, чтобы численные колонки из прошлого пункта стали нормированы."
      ]
    },
    {
      "cell_type": "code",
      "execution_count": 10,
      "metadata": {
        "id": "kaGCVzD34RDf"
      },
      "outputs": [],
      "source": [
        "from typing import List\n",
        "\n",
        "def normalizer(df_train : pd.DataFrame, df_test : pd.DataFrame, col_list : List[str]):\n",
        "    for col_ in col_list:\n",
        "        mean = df_train[col_].mean()\n",
        "        std = df_train[col_].std()\n",
        "        df_train[col_] = (df_train[col_] - mean) / std\n",
        "        df_test[col_] = (df_test[col_] - mean) / std\n",
        "        \n"
      ]
    },
    {
      "cell_type": "code",
      "execution_count": 9,
      "metadata": {},
      "outputs": [
        {
          "ename": "NameError",
          "evalue": "name 'df_train' is not defined",
          "output_type": "error",
          "traceback": [
            "\u001b[0;31m---------------------------------------------------------------------------\u001b[0m",
            "\u001b[0;31mNameError\u001b[0m                                 Traceback (most recent call last)",
            "Cell \u001b[0;32mIn[9], line 1\u001b[0m\n\u001b[0;32m----> 1\u001b[0m normalizer(\u001b[43mdf_train\u001b[49m, df_test, [\u001b[38;5;124m'\u001b[39m\u001b[38;5;124mbmi\u001b[39m\u001b[38;5;124m'\u001b[39m, \u001b[38;5;124m'\u001b[39m\u001b[38;5;124mcharges\u001b[39m\u001b[38;5;124m'\u001b[39m, \u001b[38;5;124m'\u001b[39m\u001b[38;5;124mage\u001b[39m\u001b[38;5;124m'\u001b[39m])\n",
            "\u001b[0;31mNameError\u001b[0m: name 'df_train' is not defined"
          ]
        }
      ],
      "source": [
        "normalizer(df_train, df_test, ['bmi', 'charges', 'age'])"
      ]
    },
    {
      "cell_type": "code",
      "execution_count": 8,
      "metadata": {},
      "outputs": [
        {
          "data": {
            "text/html": [
              "<div>\n",
              "<style scoped>\n",
              "    .dataframe tbody tr th:only-of-type {\n",
              "        vertical-align: middle;\n",
              "    }\n",
              "\n",
              "    .dataframe tbody tr th {\n",
              "        vertical-align: top;\n",
              "    }\n",
              "\n",
              "    .dataframe thead th {\n",
              "        text-align: right;\n",
              "    }\n",
              "</style>\n",
              "<table border=\"1\" class=\"dataframe\">\n",
              "  <thead>\n",
              "    <tr style=\"text-align: right;\">\n",
              "      <th></th>\n",
              "      <th>age</th>\n",
              "      <th>sex</th>\n",
              "      <th>bmi</th>\n",
              "      <th>children</th>\n",
              "      <th>smoker</th>\n",
              "      <th>region</th>\n",
              "      <th>charges</th>\n",
              "    </tr>\n",
              "  </thead>\n",
              "  <tbody>\n",
              "    <tr>\n",
              "      <th>0</th>\n",
              "      <td>-1.438227</td>\n",
              "      <td>female</td>\n",
              "      <td>-0.453151</td>\n",
              "      <td>0</td>\n",
              "      <td>yes</td>\n",
              "      <td>southwest</td>\n",
              "      <td>0.298472</td>\n",
              "    </tr>\n",
              "    <tr>\n",
              "      <th>1</th>\n",
              "      <td>-1.509401</td>\n",
              "      <td>male</td>\n",
              "      <td>0.509431</td>\n",
              "      <td>1</td>\n",
              "      <td>no</td>\n",
              "      <td>southeast</td>\n",
              "      <td>-0.953333</td>\n",
              "    </tr>\n",
              "    <tr>\n",
              "      <th>2</th>\n",
              "      <td>-0.797655</td>\n",
              "      <td>male</td>\n",
              "      <td>0.383164</td>\n",
              "      <td>3</td>\n",
              "      <td>no</td>\n",
              "      <td>southeast</td>\n",
              "      <td>-0.728402</td>\n",
              "    </tr>\n",
              "    <tr>\n",
              "      <th>3</th>\n",
              "      <td>-0.441782</td>\n",
              "      <td>male</td>\n",
              "      <td>-1.305043</td>\n",
              "      <td>0</td>\n",
              "      <td>no</td>\n",
              "      <td>northwest</td>\n",
              "      <td>0.719574</td>\n",
              "    </tr>\n",
              "    <tr>\n",
              "      <th>4</th>\n",
              "      <td>-0.512957</td>\n",
              "      <td>male</td>\n",
              "      <td>-0.292447</td>\n",
              "      <td>0</td>\n",
              "      <td>no</td>\n",
              "      <td>northwest</td>\n",
              "      <td>-0.776512</td>\n",
              "    </tr>\n",
              "  </tbody>\n",
              "</table>\n",
              "</div>"
            ],
            "text/plain": [
              "        age     sex       bmi  children smoker     region   charges\n",
              "0 -1.438227  female -0.453151         0    yes  southwest  0.298472\n",
              "1 -1.509401    male  0.509431         1     no  southeast -0.953333\n",
              "2 -0.797655    male  0.383164         3     no  southeast -0.728402\n",
              "3 -0.441782    male -1.305043         0     no  northwest  0.719574\n",
              "4 -0.512957    male -0.292447         0     no  northwest -0.776512"
            ]
          },
          "execution_count": 8,
          "metadata": {},
          "output_type": "execute_result"
        }
      ],
      "source": [
        "df.head()"
      ]
    },
    {
      "cell_type": "code",
      "execution_count": null,
      "metadata": {
        "id": "Cawq4yKb4Ukg"
      },
      "outputs": [],
      "source": [
        "y_train = df_train.pop(\"charges\")\n",
        "y_test = df_test.pop(\"charges\")"
      ]
    },
    {
      "cell_type": "markdown",
      "metadata": {
        "id": "FfJFd-144RDf"
      },
      "source": [
        "### Задание №5\n",
        "Реализуйте функцию, считающую `MSE` метрику.\n",
        "\n",
        "Ваша функция должна уметь принимать torch.Tensor, numpy-массивы и pd.Series."
      ]
    },
    {
      "cell_type": "code",
      "execution_count": 22,
      "metadata": {
        "id": "Skg0gGe-4RDf"
      },
      "outputs": [],
      "source": [
        "def mse_metric(y_true, y_pred):\n",
        "    # Вычисление MSE\n",
        "    mse = ((y_true - y_pred) ** 2).mean()\n",
        "    return mse"
      ]
    },
    {
      "cell_type": "code",
      "execution_count": 25,
      "metadata": {},
      "outputs": [
        {
          "name": "stdout",
          "output_type": "stream",
          "text": [
            "0.25\n"
          ]
        }
      ],
      "source": [
        "# y_true = np.array([1.0, 2.0, 3.0])\n",
        "# y_pred = np.array([1.5, 2.5, 3.5])\n",
        "\n",
        "# y_true = torch.tensor([1.0, 2.0, 3.0])\n",
        "# y_pred = torch.tensor([1.5, 2.5, 3.5])\n",
        "\n",
        "y_true = pd.Series([1.0, 2.0, 3.0])\n",
        "y_pred = pd.Series([1.5, 2.5, 3.5])\n",
        "\n",
        "# y_true = [1.0, 2.0, 3.0]\n",
        "# y_pred = [1.5, 2.5, 3.5]\n",
        "\n",
        "print(mse_metric(y_true, y_pred))"
      ]
    },
    {
      "cell_type": "markdown",
      "metadata": {
        "id": "0BYIU8bJ4RDf"
      },
      "source": [
        "### Задание №6\n",
        "Реализуйте бейзлайн на `LinearRegression` и `GradientBoostingRegressor`, отправьте метрики в ЛМС.\n",
        "\n",
        "Используйте гиперпараметры по-умолчанию в обоих моделях."
      ]
    },
    {
      "cell_type": "code",
      "execution_count": 28,
      "metadata": {
        "id": "qsxn2Gux4RDf"
      },
      "outputs": [],
      "source": [
        "from sklearn.ensemble import GradientBoostingRegressor\n",
        "from sklearn.linear_model import LinearRegression\n",
        "\n",
        "idx_test = np.random.choice(df.shape[0], size=int(0.2 * df.shape[0]), replace=False)\n",
        "df_test = df.iloc[idx_test]\n",
        "df_train = df.drop(index=idx_test)"
      ]
    },
    {
      "cell_type": "code",
      "execution_count": 39,
      "metadata": {},
      "outputs": [],
      "source": [
        "import pandas as pd\n",
        "import numpy as np\n",
        "import random\n",
        "\n",
        "seed = 0\n",
        "np.random.seed(seed)\n",
        "random.seed(seed)\n",
        "\n",
        "df = pd.read_csv(\"insurance.csv\")\n",
        "\n",
        "idx_test = np.random.choice(df.shape[0], size=int(0.2 * df.shape[0]), replace=False)\n",
        "df_test = df.iloc[idx_test]\n",
        "df_train = df.drop(index=idx_test)\n",
        "\n",
        "df_train = pd.get_dummies(df_train, columns=[\"sex\", \"region\", \"smoker\"])\n",
        "df_test = pd.get_dummies(df_test, columns=[\"sex\", \"region\", \"smoker\"])\n",
        "\n",
        "from sklearn.preprocessing import StandardScaler\n",
        "\n",
        "scaler = StandardScaler()\n",
        "df_train[['age', 'bmi', 'children', 'charges']] = scaler.fit_transform(df_train[['age', 'bmi', 'children', 'charges']])\n",
        "df_test[['age', 'bmi', 'children', 'charges']] = scaler.transform(df_test[['age', 'bmi', 'children', 'charges']])\n",
        "\n",
        "y_train = df_train.pop(\"charges\")\n",
        "y_test = df_test.pop(\"charges\")\n",
        "\n",
        "def metric(preds, y):\n",
        "    return ((preds - y) ** 2).mean()\n",
        "\n",
        "from sklearn.ensemble import GradientBoostingRegressor\n",
        "from sklearn.linear_model import LinearRegression\n",
        "\n",
        "linreg = LinearRegression()\n",
        "linreg.fit(df_train, y_train)\n",
        "y_pred_linreg = linreg.predict(df_test)\n",
        "mse_linreg = metric(y_pred_linreg, y_test)\n",
        "\n",
        "gradboost = GradientBoostingRegressor()\n",
        "gradboost.fit(df_train, y_train)\n",
        "y_pred_gradboost = gradboost.predict(df_test)\n",
        "mse_gradboost = metric(y_pred_gradboost, y_test)"
      ]
    },
    {
      "cell_type": "code",
      "execution_count": 32,
      "metadata": {},
      "outputs": [
        {
          "name": "stdout",
          "output_type": "stream",
          "text": [
            "0.22302419633942042\n",
            "0.11499598580020744\n"
          ]
        }
      ],
      "source": [
        "print(mse_linreg)\n",
        "print(mse_gradboost)"
      ]
    },
    {
      "cell_type": "markdown",
      "metadata": {
        "id": "bnmMv2Dt4RDf"
      },
      "source": [
        "### Задание №7\n",
        "Вычислите среднее значение целевой переменной на тренировочной выборке (train).\n",
        "\n",
        "Подсчитайте MSE при константном предсказании этим средним и отправьте его в ЛМС."
      ]
    },
    {
      "cell_type": "code",
      "execution_count": 33,
      "metadata": {
        "id": "d6AqMNhU4RDg"
      },
      "outputs": [],
      "source": [
        "mean_train = y_train.mean()"
      ]
    },
    {
      "cell_type": "code",
      "execution_count": 35,
      "metadata": {},
      "outputs": [
        {
          "data": {
            "text/plain": [
              "1.1155505928744722"
            ]
          },
          "execution_count": 35,
          "metadata": {},
          "output_type": "execute_result"
        }
      ],
      "source": [
        "metric(mean_train, y_test)"
      ]
    },
    {
      "cell_type": "markdown",
      "metadata": {
        "id": "yOG4gI6l4RDg"
      },
      "source": [
        "### Задание №8\n",
        "Создайте сеть, состоящую из одного слоя Linear, залейте в лмс код, который в `model` запишет вашу модель\n",
        "\n",
        "В качестве признаков используйте все колонки в текущем датасете, за исключением таргета"
      ]
    },
    {
      "cell_type": "code",
      "execution_count": 36,
      "metadata": {},
      "outputs": [
        {
          "data": {
            "text/html": [
              "<div>\n",
              "<style scoped>\n",
              "    .dataframe tbody tr th:only-of-type {\n",
              "        vertical-align: middle;\n",
              "    }\n",
              "\n",
              "    .dataframe tbody tr th {\n",
              "        vertical-align: top;\n",
              "    }\n",
              "\n",
              "    .dataframe thead th {\n",
              "        text-align: right;\n",
              "    }\n",
              "</style>\n",
              "<table border=\"1\" class=\"dataframe\">\n",
              "  <thead>\n",
              "    <tr style=\"text-align: right;\">\n",
              "      <th></th>\n",
              "      <th>age</th>\n",
              "      <th>bmi</th>\n",
              "      <th>children</th>\n",
              "      <th>sex_female</th>\n",
              "      <th>sex_male</th>\n",
              "      <th>region_northeast</th>\n",
              "      <th>region_northwest</th>\n",
              "      <th>region_southeast</th>\n",
              "      <th>region_southwest</th>\n",
              "      <th>smoker_no</th>\n",
              "      <th>smoker_yes</th>\n",
              "    </tr>\n",
              "  </thead>\n",
              "  <tbody>\n",
              "    <tr>\n",
              "      <th>0</th>\n",
              "      <td>-1.427758</td>\n",
              "      <td>-0.456469</td>\n",
              "      <td>-0.893045</td>\n",
              "      <td>True</td>\n",
              "      <td>False</td>\n",
              "      <td>False</td>\n",
              "      <td>False</td>\n",
              "      <td>False</td>\n",
              "      <td>True</td>\n",
              "      <td>False</td>\n",
              "      <td>True</td>\n",
              "    </tr>\n",
              "    <tr>\n",
              "      <th>2</th>\n",
              "      <td>-0.788401</td>\n",
              "      <td>0.368324</td>\n",
              "      <td>1.584808</td>\n",
              "      <td>False</td>\n",
              "      <td>True</td>\n",
              "      <td>False</td>\n",
              "      <td>False</td>\n",
              "      <td>True</td>\n",
              "      <td>False</td>\n",
              "      <td>True</td>\n",
              "      <td>False</td>\n",
              "    </tr>\n",
              "    <tr>\n",
              "      <th>3</th>\n",
              "      <td>-0.433203</td>\n",
              "      <td>-1.296627</td>\n",
              "      <td>-0.893045</td>\n",
              "      <td>False</td>\n",
              "      <td>True</td>\n",
              "      <td>False</td>\n",
              "      <td>True</td>\n",
              "      <td>False</td>\n",
              "      <td>False</td>\n",
              "      <td>True</td>\n",
              "      <td>False</td>\n",
              "    </tr>\n",
              "    <tr>\n",
              "      <th>4</th>\n",
              "      <td>-0.504242</td>\n",
              "      <td>-0.297980</td>\n",
              "      <td>-0.893045</td>\n",
              "      <td>False</td>\n",
              "      <td>True</td>\n",
              "      <td>False</td>\n",
              "      <td>True</td>\n",
              "      <td>False</td>\n",
              "      <td>False</td>\n",
              "      <td>True</td>\n",
              "      <td>False</td>\n",
              "    </tr>\n",
              "    <tr>\n",
              "      <th>6</th>\n",
              "      <td>0.490313</td>\n",
              "      <td>0.439483</td>\n",
              "      <td>-0.067094</td>\n",
              "      <td>True</td>\n",
              "      <td>False</td>\n",
              "      <td>False</td>\n",
              "      <td>False</td>\n",
              "      <td>True</td>\n",
              "      <td>False</td>\n",
              "      <td>True</td>\n",
              "      <td>False</td>\n",
              "    </tr>\n",
              "    <tr>\n",
              "      <th>...</th>\n",
              "      <td>...</td>\n",
              "      <td>...</td>\n",
              "      <td>...</td>\n",
              "      <td>...</td>\n",
              "      <td>...</td>\n",
              "      <td>...</td>\n",
              "      <td>...</td>\n",
              "      <td>...</td>\n",
              "      <td>...</td>\n",
              "      <td>...</td>\n",
              "      <td>...</td>\n",
              "    </tr>\n",
              "    <tr>\n",
              "      <th>1332</th>\n",
              "      <td>0.916551</td>\n",
              "      <td>2.260499</td>\n",
              "      <td>1.584808</td>\n",
              "      <td>True</td>\n",
              "      <td>False</td>\n",
              "      <td>False</td>\n",
              "      <td>False</td>\n",
              "      <td>False</td>\n",
              "      <td>True</td>\n",
              "      <td>True</td>\n",
              "      <td>False</td>\n",
              "    </tr>\n",
              "    <tr>\n",
              "      <th>1333</th>\n",
              "      <td>0.774472</td>\n",
              "      <td>0.040024</td>\n",
              "      <td>1.584808</td>\n",
              "      <td>False</td>\n",
              "      <td>True</td>\n",
              "      <td>False</td>\n",
              "      <td>True</td>\n",
              "      <td>False</td>\n",
              "      <td>False</td>\n",
              "      <td>True</td>\n",
              "      <td>False</td>\n",
              "    </tr>\n",
              "    <tr>\n",
              "      <th>1334</th>\n",
              "      <td>-1.498797</td>\n",
              "      <td>0.193662</td>\n",
              "      <td>-0.893045</td>\n",
              "      <td>True</td>\n",
              "      <td>False</td>\n",
              "      <td>True</td>\n",
              "      <td>False</td>\n",
              "      <td>False</td>\n",
              "      <td>False</td>\n",
              "      <td>True</td>\n",
              "      <td>False</td>\n",
              "    </tr>\n",
              "    <tr>\n",
              "      <th>1336</th>\n",
              "      <td>-1.285679</td>\n",
              "      <td>-0.796090</td>\n",
              "      <td>-0.893045</td>\n",
              "      <td>True</td>\n",
              "      <td>False</td>\n",
              "      <td>False</td>\n",
              "      <td>False</td>\n",
              "      <td>False</td>\n",
              "      <td>True</td>\n",
              "      <td>True</td>\n",
              "      <td>False</td>\n",
              "    </tr>\n",
              "    <tr>\n",
              "      <th>1337</th>\n",
              "      <td>1.555908</td>\n",
              "      <td>-0.267252</td>\n",
              "      <td>-0.893045</td>\n",
              "      <td>True</td>\n",
              "      <td>False</td>\n",
              "      <td>False</td>\n",
              "      <td>True</td>\n",
              "      <td>False</td>\n",
              "      <td>False</td>\n",
              "      <td>False</td>\n",
              "      <td>True</td>\n",
              "    </tr>\n",
              "  </tbody>\n",
              "</table>\n",
              "<p>1071 rows × 11 columns</p>\n",
              "</div>"
            ],
            "text/plain": [
              "           age       bmi  children  sex_female  sex_male  region_northeast  \\\n",
              "0    -1.427758 -0.456469 -0.893045        True     False             False   \n",
              "2    -0.788401  0.368324  1.584808       False      True             False   \n",
              "3    -0.433203 -1.296627 -0.893045       False      True             False   \n",
              "4    -0.504242 -0.297980 -0.893045       False      True             False   \n",
              "6     0.490313  0.439483 -0.067094        True     False             False   \n",
              "...        ...       ...       ...         ...       ...               ...   \n",
              "1332  0.916551  2.260499  1.584808        True     False             False   \n",
              "1333  0.774472  0.040024  1.584808       False      True             False   \n",
              "1334 -1.498797  0.193662 -0.893045        True     False              True   \n",
              "1336 -1.285679 -0.796090 -0.893045        True     False             False   \n",
              "1337  1.555908 -0.267252 -0.893045        True     False             False   \n",
              "\n",
              "      region_northwest  region_southeast  region_southwest  smoker_no  \\\n",
              "0                False             False              True      False   \n",
              "2                False              True             False       True   \n",
              "3                 True             False             False       True   \n",
              "4                 True             False             False       True   \n",
              "6                False              True             False       True   \n",
              "...                ...               ...               ...        ...   \n",
              "1332             False             False              True       True   \n",
              "1333              True             False             False       True   \n",
              "1334             False             False             False       True   \n",
              "1336             False             False              True       True   \n",
              "1337              True             False             False      False   \n",
              "\n",
              "      smoker_yes  \n",
              "0           True  \n",
              "2          False  \n",
              "3          False  \n",
              "4          False  \n",
              "6          False  \n",
              "...          ...  \n",
              "1332       False  \n",
              "1333       False  \n",
              "1334       False  \n",
              "1336       False  \n",
              "1337        True  \n",
              "\n",
              "[1071 rows x 11 columns]"
            ]
          },
          "execution_count": 36,
          "metadata": {},
          "output_type": "execute_result"
        }
      ],
      "source": [
        "df_train"
      ]
    },
    {
      "cell_type": "code",
      "execution_count": 11,
      "metadata": {
        "id": "U-e--4Pv4RDg"
      },
      "outputs": [],
      "source": [
        "import torch.nn as nn\n",
        "\n",
        "\n",
        "def build_model():\n",
        "    # Полносвязный слой\n",
        "    # return nn.Linear(11, 1)\n",
        "\n",
        "    return  nn.Sequential(\n",
        "            # Теперь на вход приходит другое число фичей\n",
        "            nn.Linear(in_features=11, out_features=6),\n",
        "            nn.ReLU(),\n",
        "            nn.Linear(in_features=6, out_features=6),\n",
        "            nn.Linear(in_features=6, out_features=6),\n",
        "            # Единственное отличие: out_features=1, предсказываем 1 число - наш таргет\n",
        "            nn.Linear(in_features=6, out_features=1),\n",
        "            # Предсказываем число в произвольном диапазоне, поэтому нелинейность убираем\n",
        "            # self.act_2 = nn.Softmax(dim=1)\n",
        "        )\n",
        "\n",
        "\n",
        "model = build_model()"
      ]
    },
    {
      "cell_type": "code",
      "execution_count": 47,
      "metadata": {
        "id": "0keux04D4RDg"
      },
      "outputs": [],
      "source": [
        "import torch\n",
        "\n",
        "torch.random.manual_seed(seed)\n",
        "t_x_train = torch.from_numpy(df_train.to_numpy().astype(float)).to(dtype=torch.float32)\n",
        "t_y_train = torch.from_numpy(y_train.to_numpy()).to(dtype=torch.float32)"
      ]
    },
    {
      "cell_type": "code",
      "execution_count": 53,
      "metadata": {},
      "outputs": [],
      "source": [
        "t_x_test = torch.from_numpy(df_test.to_numpy().astype(float)).to(dtype=torch.float32)\n",
        "t_y_test = torch.from_numpy(y_test.to_numpy()).to(dtype=torch.float32)"
      ]
    },
    {
      "cell_type": "code",
      "execution_count": 62,
      "metadata": {},
      "outputs": [
        {
          "data": {
            "text/plain": [
              "tensor([-2.9019e-01, -3.8852e-01,  2.7158e+00, -2.0692e-02, -2.9690e-01,\n",
              "        -7.2669e-01, -9.1904e-01, -1.4714e-01, -4.7295e-01, -6.4943e-01,\n",
              "        -5.3847e-01, -2.2591e-01, -4.8962e-01, -7.5303e-01,  4.2721e-01,\n",
              "        -2.0847e-01, -5.6325e-02, -8.1106e-01, -5.6314e-01,  1.6943e+00,\n",
              "         8.9983e-01, -4.6317e-02,  8.2281e-01,  8.2447e-01, -9.6278e-01,\n",
              "        -7.1271e-01, -7.9083e-01, -4.6080e-01, -7.8883e-01, -3.9974e-01,\n",
              "        -4.2930e-01,  2.9889e+00, -1.8245e-02,  6.2101e-01,  1.1482e-01,\n",
              "        -7.5700e-01, -4.0528e-01,  3.1747e+00,  2.2397e+00, -9.4559e-01,\n",
              "        -6.4667e-01, -8.6315e-01,  5.8082e-01,  2.8658e+00,  1.9177e+00,\n",
              "         1.0712e+00,  5.4741e-01, -5.2277e-01, -7.0849e-01,  7.5153e-01,\n",
              "        -8.6044e-01,  4.7132e-01,  8.6649e-01,  2.7620e+00,  9.2155e-01,\n",
              "        -8.2958e-01, -9.0864e-01, -3.6517e-01,  1.0700e-01, -7.1122e-03,\n",
              "        -9.9794e-01,  2.8007e+00,  6.0333e-02, -2.9806e-01, -2.0561e-01,\n",
              "        -2.7720e-01,  1.6168e+00,  2.1347e+00, -8.3696e-01, -4.2069e-01,\n",
              "        -1.3018e-02, -1.3732e-01,  2.5359e-01,  5.7672e-02, -1.5501e-02,\n",
              "         1.6182e-03, -5.0555e-01, -4.5672e-01,  5.9315e-01,  2.8580e+00,\n",
              "        -1.2862e-01,  2.7293e+00, -9.3098e-01, -4.8099e-01,  2.3258e+00,\n",
              "         4.8250e-01, -8.1776e-01, -8.7715e-01, -7.2181e-02,  1.9752e+00,\n",
              "        -5.7345e-01, -2.4925e-01,  3.9112e-01, -3.9119e-01, -7.2515e-01,\n",
              "        -6.7253e-01,  2.4319e+00,  2.1557e+00, -6.5759e-01, -2.1685e-01,\n",
              "        -9.5028e-01, -6.5340e-01, -7.3930e-01,  2.0508e+00,  1.6368e+00,\n",
              "        -8.2251e-01, -2.1896e-01, -8.0551e-01, -1.0470e-01,  3.2914e+00,\n",
              "        -6.0356e-02, -7.4626e-01, -3.2989e-01,  1.7158e+00,  2.9643e+00,\n",
              "        -4.5687e-01, -9.3854e-01, -3.9715e-01, -7.1066e-02, -3.2551e-01,\n",
              "         2.4169e+00, -2.6793e-01,  9.3688e-02, -6.4912e-01, -4.6545e-01,\n",
              "        -6.9276e-01,  8.5254e-01,  6.6013e-01,  2.9223e+00, -9.4251e-01,\n",
              "        -4.1597e-01, -9.5853e-01, -6.0332e-01, -3.2054e-01,  7.4749e-01,\n",
              "         1.8627e+00,  5.2787e-01, -2.5822e-01,  8.3946e-01, -8.6967e-01,\n",
              "        -9.1374e-01, -2.1751e-01, -3.2527e-01, -2.3083e-01, -6.9374e-01,\n",
              "         9.3255e-02,  1.2608e+00,  1.0263e-01, -9.6674e-01,  1.0293e+00,\n",
              "        -5.5501e-01,  2.2070e+00, -2.7018e-01, -9.5896e-01, -8.7460e-01,\n",
              "        -5.5959e-01, -8.8185e-01, -9.5904e-01, -1.7647e-01, -2.5757e-01,\n",
              "        -6.9773e-01, -1.7951e-02,  1.3139e+00, -3.1803e-01, -7.2302e-01,\n",
              "         3.2842e-01,  5.4040e-02, -5.9193e-01, -7.3163e-01, -9.6618e-01,\n",
              "        -7.6359e-01, -7.3214e-01, -4.0831e-01, -9.3669e-01, -7.4671e-01,\n",
              "        -7.2633e-01, -7.3266e-01, -5.9157e-01,  1.4193e+00, -9.5992e-01,\n",
              "        -1.6795e-01, -5.3481e-01, -1.5383e-01, -8.9396e-01,  1.1846e+00,\n",
              "         1.2452e+00, -9.1431e-01, -8.8565e-01,  1.2491e-01, -2.3619e-01,\n",
              "         2.3311e+00, -7.7000e-01, -6.4547e-01,  6.7059e-01, -8.9095e-01,\n",
              "        -9.3786e-01, -5.6743e-01, -5.5529e-01, -7.6364e-01, -7.4814e-01,\n",
              "        -1.4081e-01,  2.8150e+00, -7.7628e-02,  5.0150e-01, -7.3228e-01,\n",
              "         2.4875e+00,  8.3918e-01, -3.3895e-01, -6.1505e-01, -1.0067e+00,\n",
              "        -3.7035e-01,  7.0665e-02, -6.5886e-01, -2.0068e-01, -5.7781e-01,\n",
              "        -9.3814e-01, -5.3900e-01, -6.5536e-01,  6.7140e-02, -5.2803e-01,\n",
              "        -5.8498e-01, -4.3541e-01, -4.1110e-01, -8.3479e-01, -1.1276e-01,\n",
              "         8.4623e-02, -7.7889e-02, -1.1368e-01, -5.4687e-01, -9.2410e-01,\n",
              "        -1.0082e+00, -4.0563e-01, -7.9642e-02, -7.2161e-01,  3.7001e-01,\n",
              "        -5.2820e-01, -3.1335e-01,  1.7593e+00, -5.9578e-01, -1.2266e-01,\n",
              "        -6.5290e-01,  2.0276e+00, -4.8677e-01, -4.9068e-01, -4.0002e-01,\n",
              "        -2.2858e-01, -8.2866e-01, -4.5707e-01, -8.7445e-01, -5.2966e-01,\n",
              "         5.2841e-01,  2.8498e+00, -7.6950e-01, -8.3213e-01, -4.9079e-01,\n",
              "        -9.6028e-01, -4.8058e-01, -9.6653e-01, -6.9514e-01, -8.0510e-01,\n",
              "        -3.8370e-01,  9.4603e-01,  2.7165e+00,  1.5224e-01, -5.4585e-01,\n",
              "         6.2759e-01,  2.3173e+00])"
            ]
          },
          "execution_count": 62,
          "metadata": {},
          "output_type": "execute_result"
        }
      ],
      "source": [
        "t_y_test"
      ]
    },
    {
      "cell_type": "markdown",
      "metadata": {
        "id": "VR-vYZaR4RDg"
      },
      "source": [
        "### Задание №9\n",
        "Напишите функцию `train_loop`, которая будет учить модель по данным на 2к итераций.\n",
        "Считайте, что данные уже хранятся в переменных `t_x_train`, `t_y_train`.\n",
        "Ваша функция `train_loop` должна вернуть список из лоссов на каждой итерации (т.е. список длины 2000).\n",
        "\n",
        "Используйте `learning_rate=1e-2` в оптимизаторе.\n",
        "\n",
        "Для простоты за одну итерацию делайте проход вперед и проход назад на всех наших обучающих данных.\n",
        "Это будет полный градиентный спуск (не по батчам) - можем себе позволить, данных немного.\n",
        "\n",
        "_Подсказка 1_: Вам не обязательно учить модель на видеокарте, CPU будет достаточно.\n",
        "\n",
        "_Подсказка 2_: `tqdm` - это библиотека, которая рисует прогресс итераций"
      ]
    },
    {
      "cell_type": "code",
      "execution_count": 12,
      "metadata": {},
      "outputs": [
        {
          "name": "stdout",
          "output_type": "stream",
          "text": [
            "t_x_train.shape: torch.Size([1071, 11])\n",
            "t_y_train.shape: torch.Size([1071, 1])\n"
          ]
        },
        {
          "name": "stderr",
          "output_type": "stream",
          "text": [
            "Training Epochs: 100%|██████████| 2000/2000 [00:03<00:00, 556.63it/s]"
          ]
        },
        {
          "name": "stdout",
          "output_type": "stream",
          "text": [
            "0.13296163082122803\n"
          ]
        },
        {
          "name": "stderr",
          "output_type": "stream",
          "text": [
            "\n"
          ]
        }
      ],
      "source": [
        "from tqdm import tqdm\n",
        "import torch\n",
        "import torch.nn as nn\n",
        "import torch.optim as optim\n",
        "import pandas as pd\n",
        "import numpy as np\n",
        "\n",
        "import random\n",
        "\n",
        "\n",
        "seed = 0\n",
        "np.random.seed(seed)\n",
        "random.seed(seed)\n",
        "\n",
        "\n",
        "df = pd.read_csv(\"insurance.csv\")\n",
        "\n",
        "idx_test = np.random.choice(df.shape[0], size=int(0.2 * df.shape[0]), replace=False)\n",
        "df_test = df.iloc[idx_test]\n",
        "df_train = df.drop(index=idx_test)\n",
        "\n",
        "df_train = pd.get_dummies(df_train, columns=[\"sex\", \"region\", \"smoker\"])\n",
        "df_test = pd.get_dummies(df_test, columns=[\"sex\", \"region\", \"smoker\"])\n",
        "\n",
        "from sklearn.preprocessing import StandardScaler\n",
        "\n",
        "scaler = StandardScaler()\n",
        "df_train[['age', 'bmi', 'children', 'charges']] = scaler.fit_transform(df_train[['age', 'bmi', 'children', 'charges']])\n",
        "df_test[['age', 'bmi', 'children', 'charges']] = scaler.transform(df_test[['age', 'bmi', 'children', 'charges']])\n",
        "\n",
        "y_train = df_train.pop(\"charges\")\n",
        "y_test = df_test.pop(\"charges\")\n",
        "\n",
        "def metric(preds, y):\n",
        "    return ((preds - y) ** 2).mean()\n",
        "\n",
        "t_x_train = torch.from_numpy(df_train.to_numpy().astype(float)).to(dtype=torch.float32)\n",
        "t_y_train = torch.unsqueeze(torch.from_numpy(y_train.to_numpy()).to(dtype=torch.float32), dim=1)\n",
        "\n",
        "print(f't_x_train.shape: {t_x_train.shape}')\n",
        "print(f't_y_train.shape: {t_y_train.shape}')\n",
        "\n",
        "\n",
        "t_x_test = torch.from_numpy(df_test.to_numpy().astype(float)).to(dtype=torch.float32)\n",
        "t_y_test = torch.from_numpy(y_test.to_numpy()).to(dtype=torch.float32)\n",
        "\n",
        "class SimpleLinearModel(nn.Module):\n",
        "    def __init__(self, input_dim: int, output_dim: int, hidden_dim: int):\n",
        "        super(SimpleLinearModel, self).__init__()\n",
        "        # self.linear = nn.Linear(input_dim, output_dim)\n",
        "        self.linear = nn.Sequential(\n",
        "            # Теперь на вход приходит другое число фичей\n",
        "            nn.Linear(in_features=input_dim, out_features=hidden_dim),\n",
        "            nn.ReLU(),\n",
        "            nn.Linear(in_features=hidden_dim, out_features=hidden_dim),\n",
        "            nn.Linear(in_features=hidden_dim, out_features=hidden_dim),\n",
        "            # Единственное отличие: out_features=1, предсказываем 1 число - наш таргет\n",
        "            nn.Linear(in_features=hidden_dim, out_features=output_dim),\n",
        "            # Предсказываем число в произвольном диапазоне, поэтому нелинейность убираем\n",
        "            # self.act_2 = nn.Softmax(dim=1)\n",
        "        )\n",
        "        \n",
        "    def forward(self, x: torch.Tensor) -> torch.Tensor:\n",
        "        return self.linear(x)\n",
        "\n",
        "def train_loop(model: nn.Module, t_x_train: torch.Tensor, t_y_train: torch.Tensor, \n",
        "               num_epochs: int = 2000, learning_rate: float = 0.01) -> list[float]:\n",
        "    criterion = nn.MSELoss()\n",
        "    optimizer = optim.SGD(model.parameters(), lr=learning_rate)\n",
        "    losses = []\n",
        "    \n",
        "    for epoch in tqdm(range(num_epochs), desc=\"Training Epochs\"):\n",
        "        # Forward pass\n",
        "        predictions = model(t_x_train)\n",
        "        loss = criterion(predictions, t_y_train)\n",
        "        losses.append(loss.item())\n",
        "        \n",
        "        # Backward pass and optimization\n",
        "        optimizer.zero_grad()\n",
        "        loss.backward()\n",
        "        optimizer.step()\n",
        "    \n",
        "    return losses\n",
        "\n",
        "model = SimpleLinearModel(input_dim=11, output_dim=1, hidden_dim=6)\n",
        "losses = train_loop(model, t_x_train, t_y_train)\n",
        "\n",
        "with torch.no_grad():\n",
        "    out = model(t_x_test).squeeze(1)\n",
        "    mse_loss = metric(out, t_y_test)\n",
        "    print(mse_loss.item())"
      ]
    },
    {
      "cell_type": "code",
      "execution_count": 67,
      "metadata": {},
      "outputs": [
        {
          "name": "stdout",
          "output_type": "stream",
          "text": [
            "1.115551471710205\n"
          ]
        }
      ],
      "source": [
        "with torch.no_grad():\n",
        "    out = model(t_x_test).squeeze(1)\n",
        "    mse_loss = metric(out, t_y_test)\n",
        "    print(mse_loss.item())"
      ]
    },
    {
      "cell_type": "code",
      "execution_count": 48,
      "metadata": {},
      "outputs": [
        {
          "data": {
            "text/plain": [
              "torch.Size([1071, 11])"
            ]
          },
          "execution_count": 48,
          "metadata": {},
          "output_type": "execute_result"
        }
      ],
      "source": [
        "t_x_train.shape"
      ]
    },
    {
      "cell_type": "code",
      "execution_count": 49,
      "metadata": {},
      "outputs": [
        {
          "name": "stderr",
          "output_type": "stream",
          "text": [
            "Training Epochs:   0%|          | 0/2000 [00:00<?, ?it/s]/Users/theo/karpov/nlp/.venv/lib/python3.10/site-packages/torch/nn/modules/loss.py:535: UserWarning: Using a target size (torch.Size([1071])) that is different to the input size (torch.Size([1071, 1])). This will likely lead to incorrect results due to broadcasting. Please ensure they have the same size.\n",
            "  return F.mse_loss(input, target, reduction=self.reduction)\n",
            "Training Epochs: 100%|██████████| 2000/2000 [00:03<00:00, 577.77it/s]\n"
          ]
        }
      ],
      "source": [
        "# t_x_train = torch.randn(100, 10)\n",
        "# t_y_train = torch.randn(100, 1)\n",
        "model = SimpleLinearModel(input_dim=11, output_dim=1)\n",
        "losses = train_loop(model, t_x_train, t_y_train)"
      ]
    },
    {
      "cell_type": "code",
      "execution_count": 66,
      "metadata": {},
      "outputs": [
        {
          "data": {
            "image/png": "[encoded data removed]",
            "text/plain": [
              "<Figure size 800x500 with 1 Axes>"
            ]
          },
          "metadata": {},
          "output_type": "display_data"
        }
      ],
      "source": [
        "import matplotlib.pyplot as plt\n",
        "\n",
        "# После вызова train_loop, у вас есть список losses:\n",
        "# losses = train_loop(model, t_x_train, t_y_train)\n",
        "\n",
        "# Построение графика\n",
        "plt.figure(figsize=(8, 5))\n",
        "plt.plot(losses, label='Training Loss')\n",
        "plt.xlabel('Epoch')\n",
        "plt.ylabel('Loss')\n",
        "plt.title('Loss Curve')\n",
        "plt.legend()\n",
        "plt.grid()\n",
        "plt.show()"
      ]
    },
    {
      "cell_type": "code",
      "execution_count": null,
      "metadata": {
        "id": "OlmWls5Q4RDg"
      },
      "outputs": [],
      "source": [
        "import tqdm\n",
        "from torch.optim.sgd import SGD\n",
        "\n",
        "\n",
        "def train_loop(model: nn.Module) -> list[float]:\n",
        "    losses = []\n",
        "    ...\n",
        "    return losses"
      ]
    },
    {
      "cell_type": "code",
      "execution_count": null,
      "metadata": {},
      "outputs": [],
      "source": []
    },
    {
      "cell_type": "markdown",
      "metadata": {
        "id": "ltF7ePyS4RDg"
      },
      "source": [
        "### Задание №10\n",
        "Обучите модель, состоящую из одного слоя `Linear`.\n",
        "Приложите в ЛМС метрику `MSE` на тестовых данных.\n",
        "Используйте `learning_rate=1e-2` в оптимизаторе.\n",
        "\n",
        "Когда будете тестировать, не забудьте перенести тестовые данные в `torch.Tensor`"
      ]
    },
    {
      "cell_type": "code",
      "execution_count": 63,
      "metadata": {
        "id": "Z8eHxjwM4RDg"
      },
      "outputs": [
        {
          "data": {
            "text/plain": [
              "tensor([[-3.5893e-06],\n",
              "        [ 1.7669e-05],\n",
              "        [-2.4481e-05],\n",
              "        [-1.4162e-05],\n",
              "        [-1.9334e-06],\n",
              "        [ 5.2713e-06],\n",
              "        [ 2.4363e-06],\n",
              "        [-1.1448e-05],\n",
              "        [-7.9460e-06],\n",
              "        [-8.8196e-06],\n",
              "        [ 8.3474e-06],\n",
              "        [-5.8822e-06],\n",
              "        [-3.2373e-06],\n",
              "        [ 2.0048e-05],\n",
              "        [-1.8493e-05],\n",
              "        [ 1.9340e-05],\n",
              "        [-5.8282e-06],\n",
              "        [-9.5740e-07],\n",
              "        [-8.1211e-06],\n",
              "        [-1.0204e-05],\n",
              "        [-1.5086e-05],\n",
              "        [-1.0308e-05],\n",
              "        [ 1.4342e-07],\n",
              "        [ 8.3391e-06],\n",
              "        [ 1.4011e-05],\n",
              "        [-3.7588e-06],\n",
              "        [ 7.9088e-06],\n",
              "        [ 1.6341e-05],\n",
              "        [ 1.9174e-05],\n",
              "        [-8.7637e-06],\n",
              "        [-7.0073e-06],\n",
              "        [ 7.6368e-07],\n",
              "        [-8.1938e-06],\n",
              "        [-8.2236e-06],\n",
              "        [-3.8277e-06],\n",
              "        [ 1.6149e-06],\n",
              "        [ 1.2603e-05],\n",
              "        [-1.7351e-05],\n",
              "        [-1.9681e-05],\n",
              "        [-6.0014e-06],\n",
              "        [ 6.4876e-06],\n",
              "        [ 1.7550e-05],\n",
              "        [-7.4245e-06],\n",
              "        [-2.2218e-05],\n",
              "        [ 2.6319e-06],\n",
              "        [-1.0069e-05],\n",
              "        [ 1.9534e-05],\n",
              "        [-6.7744e-06],\n",
              "        [ 5.6364e-06],\n",
              "        [ 2.0997e-05],\n",
              "        [-2.5835e-06],\n",
              "        [-6.8210e-06],\n",
              "        [-1.2109e-05],\n",
              "        [-1.1938e-05],\n",
              "        [ 9.8953e-06],\n",
              "        [-3.1553e-06],\n",
              "        [ 1.3079e-05],\n",
              "        [-7.1879e-06],\n",
              "        [ 2.1461e-05],\n",
              "        [-5.3663e-06],\n",
              "        [-3.5632e-06],\n",
              "        [-1.8100e-05],\n",
              "        [ 1.6239e-05],\n",
              "        [-4.4052e-06],\n",
              "        [-1.1809e-06],\n",
              "        [-8.8401e-06],\n",
              "        [ 6.2771e-06],\n",
              "        [-2.0576e-05],\n",
              "        [ 2.2249e-05],\n",
              "        [-8.1267e-06],\n",
              "        [-2.4550e-06],\n",
              "        [ 1.8355e-05],\n",
              "        [-1.2498e-05],\n",
              "        [ 1.2967e-05],\n",
              "        [-5.3681e-06],\n",
              "        [ 2.2082e-06],\n",
              "        [ 5.6438e-07],\n",
              "        [ 1.7021e-05],\n",
              "        [-6.2045e-06],\n",
              "        [-1.6874e-05],\n",
              "        [ 1.4286e-06],\n",
              "        [-2.6189e-06],\n",
              "        [-1.0915e-05],\n",
              "        [-3.6787e-06],\n",
              "        [-1.1999e-05],\n",
              "        [ 1.0315e-05],\n",
              "        [-1.0867e-05],\n",
              "        [-1.0250e-05],\n",
              "        [-1.8980e-06],\n",
              "        [-1.7130e-05],\n",
              "        [-2.4512e-06],\n",
              "        [-3.8296e-06],\n",
              "        [-6.4038e-06],\n",
              "        [ 1.9013e-05],\n",
              "        [-2.6263e-06],\n",
              "        [-4.6566e-08],\n",
              "        [-9.7714e-06],\n",
              "        [-1.3013e-05],\n",
              "        [-1.0010e-05],\n",
              "        [-9.9912e-06],\n",
              "        [ 1.4734e-05],\n",
              "        [-1.1306e-05],\n",
              "        [ 1.5734e-05],\n",
              "        [ 3.9972e-06],\n",
              "        [-1.6816e-05],\n",
              "        [-4.2580e-06],\n",
              "        [ 8.1770e-07],\n",
              "        [-1.2141e-05],\n",
              "        [-2.4401e-06],\n",
              "        [-1.5273e-05],\n",
              "        [-2.5444e-06],\n",
              "        [ 8.8178e-06],\n",
              "        [-7.9460e-06],\n",
              "        [-1.0852e-05],\n",
              "        [ 1.4529e-07],\n",
              "        [ 3.4757e-06],\n",
              "        [ 8.9221e-07],\n",
              "        [-1.9297e-06],\n",
              "        [-7.5977e-06],\n",
              "        [-5.4669e-06],\n",
              "        [ 4.5486e-06],\n",
              "        [-2.0824e-06],\n",
              "        [-9.2573e-06],\n",
              "        [-2.9244e-06],\n",
              "        [-1.8068e-06],\n",
              "        [-2.5816e-06],\n",
              "        [-6.4243e-06],\n",
              "        [-1.4032e-05],\n",
              "        [-1.9489e-05],\n",
              "        [-1.3752e-05],\n",
              "        [ 1.7824e-05],\n",
              "        [ 1.4413e-05],\n",
              "        [ 1.6768e-05],\n",
              "        [ 4.8764e-06],\n",
              "        [-1.3833e-05],\n",
              "        [-1.4412e-05],\n",
              "        [ 9.8906e-06],\n",
              "        [ 2.1623e-05],\n",
              "        [ 1.1822e-05],\n",
              "        [-7.6331e-06],\n",
              "        [-1.0554e-05],\n",
              "        [-7.8622e-06],\n",
              "        [ 1.3042e-05],\n",
              "        [-1.2480e-06],\n",
              "        [-6.2585e-06],\n",
              "        [ 1.3500e-05],\n",
              "        [ 1.3570e-05],\n",
              "        [-4.3996e-06],\n",
              "        [-4.8112e-06],\n",
              "        [ 3.5577e-06],\n",
              "        [ 2.5751e-06],\n",
              "        [-6.7428e-07],\n",
              "        [-5.4762e-07],\n",
              "        [ 1.6633e-05],\n",
              "        [-1.4666e-05],\n",
              "        [ 1.7315e-05],\n",
              "        [-1.0017e-05],\n",
              "        [ 1.7028e-05],\n",
              "        [-6.5453e-06],\n",
              "        [-1.0025e-05],\n",
              "        [-8.5682e-08],\n",
              "        [ 1.0844e-05],\n",
              "        [-6.4410e-06],\n",
              "        [-9.2462e-06],\n",
              "        [ 6.0508e-06],\n",
              "        [-2.9430e-07],\n",
              "        [-8.8997e-06],\n",
              "        [ 1.4855e-06],\n",
              "        [ 2.4326e-06],\n",
              "        [ 1.0639e-05],\n",
              "        [-1.0569e-05],\n",
              "        [ 2.7902e-06],\n",
              "        [-8.6240e-06],\n",
              "        [ 1.2789e-05],\n",
              "        [-3.0380e-06],\n",
              "        [ 1.5941e-05],\n",
              "        [ 5.4426e-06],\n",
              "        [-4.1667e-06],\n",
              "        [-7.8343e-06],\n",
              "        [ 2.2538e-06],\n",
              "        [-9.1232e-06],\n",
              "        [-8.6334e-06],\n",
              "        [-1.1627e-05],\n",
              "        [ 1.4137e-05],\n",
              "        [ 5.5768e-06],\n",
              "        [-7.3127e-06],\n",
              "        [-1.0096e-06],\n",
              "        [-1.4342e-06],\n",
              "        [-1.0621e-05],\n",
              "        [-4.5076e-07],\n",
              "        [-1.0509e-05],\n",
              "        [ 1.7542e-05],\n",
              "        [-9.4995e-07],\n",
              "        [ 1.0092e-05],\n",
              "        [-1.2973e-05],\n",
              "        [-1.7826e-06],\n",
              "        [ 1.2182e-06],\n",
              "        [-1.9316e-06],\n",
              "        [ 1.2923e-05],\n",
              "        [-8.2627e-06],\n",
              "        [-2.2259e-07],\n",
              "        [ 4.6678e-06],\n",
              "        [-9.7118e-06],\n",
              "        [-1.0162e-05],\n",
              "        [-9.6913e-06],\n",
              "        [ 3.5819e-06],\n",
              "        [ 3.9451e-06],\n",
              "        [ 1.4175e-05],\n",
              "        [ 1.4122e-05],\n",
              "        [ 8.4676e-06],\n",
              "        [-1.0254e-05],\n",
              "        [-2.4028e-07],\n",
              "        [-5.7407e-06],\n",
              "        [-6.0238e-06],\n",
              "        [-2.8927e-06],\n",
              "        [-3.5577e-07],\n",
              "        [ 3.0212e-06],\n",
              "        [ 5.5535e-06],\n",
              "        [ 1.9645e-05],\n",
              "        [ 8.9379e-06],\n",
              "        [-7.2382e-06],\n",
              "        [ 5.8757e-06],\n",
              "        [-3.0361e-06],\n",
              "        [ 4.2059e-06],\n",
              "        [-5.4128e-06],\n",
              "        [-1.3851e-05],\n",
              "        [ 1.3397e-05],\n",
              "        [-7.1898e-07],\n",
              "        [ 2.3086e-05],\n",
              "        [ 1.8809e-05],\n",
              "        [ 1.6104e-05],\n",
              "        [-4.8392e-06],\n",
              "        [ 1.3901e-05],\n",
              "        [ 1.2778e-06],\n",
              "        [ 2.0882e-05],\n",
              "        [-4.4499e-06],\n",
              "        [ 2.6394e-06],\n",
              "        [-1.0382e-05],\n",
              "        [ 1.8440e-06],\n",
              "        [ 5.3057e-06],\n",
              "        [-2.3954e-06],\n",
              "        [-2.1443e-05],\n",
              "        [-7.0743e-06],\n",
              "        [ 3.4738e-06],\n",
              "        [-8.1062e-06],\n",
              "        [-9.5163e-06],\n",
              "        [ 3.4384e-06],\n",
              "        [-1.1396e-05],\n",
              "        [ 4.3483e-06],\n",
              "        [ 4.3027e-06],\n",
              "        [ 8.2608e-06],\n",
              "        [-1.3683e-05],\n",
              "        [-5.5470e-06],\n",
              "        [ 9.8133e-06],\n",
              "        [ 7.3761e-07],\n",
              "        [ 4.1164e-06],\n",
              "        [-5.7574e-06],\n",
              "        [ 1.2413e-05],\n",
              "        [-5.8375e-06],\n",
              "        [ 2.1074e-05],\n",
              "        [ 2.3637e-05],\n",
              "        [-1.1574e-05],\n",
              "        [-1.0472e-05],\n",
              "        [-8.2664e-06],\n",
              "        [-8.0299e-06],\n",
              "        [-5.6736e-06],\n",
              "        [ 2.8461e-06]], grad_fn=<AddmmBackward0>)"
            ]
          },
          "execution_count": 63,
          "metadata": {},
          "output_type": "execute_result"
        }
      ],
      "source": [
        "out = model(t_x_test)\n",
        "out"
      ]
    },
    {
      "cell_type": "code",
      "execution_count": 64,
      "metadata": {},
      "outputs": [
        {
          "name": "stdout",
          "output_type": "stream",
          "text": [
            "1.115558385848999\n"
          ]
        }
      ],
      "source": [
        "with torch.no_grad():\n",
        "    out = model(t_x_test).squeeze(1)\n",
        "    mse_loss = metric(out, t_y_test)\n",
        "    print(mse_loss.item())"
      ]
    },
    {
      "cell_type": "markdown",
      "metadata": {
        "id": "6_387inA4RDg"
      },
      "source": [
        "### Задание №11\n",
        "Вам необходимо усложнить существующую нейронную сеть, добавив один скрытый слой.\n",
        "\n",
        "Используйте следующие параметры:\n",
        "\n",
        "Размерность скрытого слоя: 6 нейронов, функция активации -  `ReLU`\n",
        "\n",
        "Приложите в лмс код, который в переменную `model` запишет вашу модель"
      ]
    },
    {
      "cell_type": "code",
      "execution_count": null,
      "metadata": {
        "id": "i6fS2zOE4RDg"
      },
      "outputs": [],
      "source": [
        "def build_model(): ...\n",
        "\n",
        "\n",
        "model = build_model()"
      ]
    },
    {
      "cell_type": "markdown",
      "metadata": {
        "id": "yXezt60B4RDg"
      },
      "source": [
        "### Задание №12\n",
        "Приложите в ЛМС метрику качества этой сети после 2к итераций обучения.\n",
        "Эту модель можно обучить на CPU, не обязательно на видеокарте.\n",
        "\n",
        "Используйте для обучения ту же функцию `train_loop` с теми же параметрами (`learning rate`, число итераций и т.п.)"
      ]
    },
    {
      "cell_type": "code",
      "execution_count": null,
      "metadata": {
        "id": "SGjK2-Jh4RDg"
      },
      "outputs": [],
      "source": []
    },
    {
      "cell_type": "markdown",
      "metadata": {
        "id": "6dugFrug4RDg"
      },
      "source": [
        "### Задание №13\n",
        "Добавьте дополнительные слои в нейронную сеть\n",
        "\n",
        "Вам необходимо усложнить нейронную сеть, добавив еще 2-3 скрытых слоя с такими же размерностями, как в предыдущем задании.\n",
        "\n",
        "Приложите в лмс код, который в переменную `model` запишет вашу модель"
      ]
    },
    {
      "cell_type": "code",
      "execution_count": null,
      "metadata": {
        "id": "RoE1-gBx4RDh"
      },
      "outputs": [],
      "source": [
        "def build_model(): ...\n",
        "\n",
        "\n",
        "model = build_model()"
      ]
    },
    {
      "cell_type": "markdown",
      "metadata": {
        "id": "NKvHs-Wg4RDh"
      },
      "source": [
        "### Задание №14\n",
        "Приложите в ЛМС метрику качества после 2к итераций обучения.\n",
        "\n",
        "Используйте для обучения ту же функцию `train_loop` с теми же параметрами (`learning rate`, число итераций и т.п.)\n",
        "\n",
        "Эту модель можно обучить на CPU, не обязательно на видеокарте."
      ]
    },
    {
      "cell_type": "code",
      "execution_count": null,
      "metadata": {
        "id": "gIHuW0EO4RDh"
      },
      "outputs": [],
      "source": []
    },
    {
      "cell_type": "code",
      "execution_count": null,
      "metadata": {
        "id": "xPW4tENg4RDh"
      },
      "outputs": [],
      "source": []
    }
  ],
  "metadata": {
    "colab": {
      "provenance": []
    },
    "kernelspec": {
      "display_name": ".venv",
      "language": "python",
      "name": "python3"
    },
    "language_info": {
      "codemirror_mode": {
        "name": "ipython",
        "version": 3
      },
      "file_extension": ".py",
      "mimetype": "text/x-python",
      "name": "python",
      "nbconvert_exporter": "python",
      "pygments_lexer": "ipython3",
      "version": "3.10.16"
    }
  },
  "nbformat": 4,
  "nbformat_minor": 0
}
