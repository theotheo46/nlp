{
  "cells": [
    {
      "cell_type": "markdown",
      "metadata": {
        "id": "yaw0k83l4RDb"
      },
      "source": [
        "# Домашнее задание 2\n",
        "\n",
        "В этом задании:\n",
        "\n",
        "1. Сделаем регрессию над данными через scikit-learn: сначала через регресию, потом через бустинг.\n",
        "2. Сравним результаты с константным предсказанием.\n",
        "3. Сделаем нейронную сеть на полносвязных слоях, обучим над теми же данными - и сравним с лин. регрессией и бустингом.\n",
        "\n"
      ]
    },
    {
      "cell_type": "code",
      "execution_count": 2,
      "metadata": {
        "id": "YwY-vclM4RDd"
      },
      "outputs": [],
      "source": [
        "import pandas as pd\n",
        "import numpy as np\n",
        "import random\n",
        "import torch, tqdm as tqdm\n",
        "\n",
        "# Для воспроизводимости\n",
        "seed = 0\n",
        "np.random.seed(seed)\n",
        "random.seed(seed)"
      ]
    },
    {
      "cell_type": "code",
      "execution_count": 27,
      "metadata": {
        "id": "fAsMXouy4RDe"
      },
      "outputs": [],
      "source": [
        "df = pd.read_csv(\"insurance.csv\")"
      ]
    },
    {
      "cell_type": "markdown",
      "metadata": {
        "id": "z2Z6GtBD4RDe"
      },
      "source": [
        "### Задание №1:\n",
        "Cделайте train/test split на данных в пропорции 0.2/0.8, залейте в лмс код, который в `df_train`, `df_test`\n",
        "сохранит датафрейм с тренировочными и тестовыми данными соответственно.\n",
        "\n",
        "P.S Использовать train_test_split из scikit-learn запрещено - разбивайте вручную через индексы."
      ]
    },
    {
      "cell_type": "code",
      "execution_count": 40,
      "metadata": {},
      "outputs": [
        {
          "data": {
            "text/plain": [
              "1338"
            ]
          },
          "execution_count": 40,
          "metadata": {},
          "output_type": "execute_result"
        }
      ],
      "source": [
        "df.shape[0]"
      ]
    },
    {
      "cell_type": "code",
      "execution_count": 32,
      "metadata": {},
      "outputs": [
        {
          "data": {
            "text/plain": [
              "1070"
            ]
          },
          "execution_count": 32,
          "metadata": {},
          "output_type": "execute_result"
        }
      ],
      "source": [
        "ratio = int(df.shape[0]*0.8)\n",
        "ratio"
      ]
    },
    {
      "cell_type": "code",
      "execution_count": 34,
      "metadata": {},
      "outputs": [
        {
          "data": {
            "text/plain": [
              "1070"
            ]
          },
          "execution_count": 34,
          "metadata": {},
          "output_type": "execute_result"
        }
      ],
      "source": [
        "len(df[:ratio])"
      ]
    },
    {
      "cell_type": "code",
      "execution_count": 6,
      "metadata": {},
      "outputs": [
        {
          "data": {
            "text/html": [
              "<div>\n",
              "<style scoped>\n",
              "    .dataframe tbody tr th:only-of-type {\n",
              "        vertical-align: middle;\n",
              "    }\n",
              "\n",
              "    .dataframe tbody tr th {\n",
              "        vertical-align: top;\n",
              "    }\n",
              "\n",
              "    .dataframe thead th {\n",
              "        text-align: right;\n",
              "    }\n",
              "</style>\n",
              "<table border=\"1\" class=\"dataframe\">\n",
              "  <thead>\n",
              "    <tr style=\"text-align: right;\">\n",
              "      <th></th>\n",
              "      <th>age</th>\n",
              "      <th>bmi</th>\n",
              "      <th>children</th>\n",
              "      <th>charges</th>\n",
              "    </tr>\n",
              "  </thead>\n",
              "  <tbody>\n",
              "    <tr>\n",
              "      <th>count</th>\n",
              "      <td>1338.000000</td>\n",
              "      <td>1338.000000</td>\n",
              "      <td>1338.000000</td>\n",
              "      <td>1338.000000</td>\n",
              "    </tr>\n",
              "    <tr>\n",
              "      <th>mean</th>\n",
              "      <td>39.207025</td>\n",
              "      <td>30.663397</td>\n",
              "      <td>1.094918</td>\n",
              "      <td>13270.422265</td>\n",
              "    </tr>\n",
              "    <tr>\n",
              "      <th>std</th>\n",
              "      <td>14.049960</td>\n",
              "      <td>6.098187</td>\n",
              "      <td>1.205493</td>\n",
              "      <td>12110.011237</td>\n",
              "    </tr>\n",
              "    <tr>\n",
              "      <th>min</th>\n",
              "      <td>18.000000</td>\n",
              "      <td>15.960000</td>\n",
              "      <td>0.000000</td>\n",
              "      <td>1121.873900</td>\n",
              "    </tr>\n",
              "    <tr>\n",
              "      <th>25%</th>\n",
              "      <td>27.000000</td>\n",
              "      <td>26.296250</td>\n",
              "      <td>0.000000</td>\n",
              "      <td>4740.287150</td>\n",
              "    </tr>\n",
              "    <tr>\n",
              "      <th>50%</th>\n",
              "      <td>39.000000</td>\n",
              "      <td>30.400000</td>\n",
              "      <td>1.000000</td>\n",
              "      <td>9382.033000</td>\n",
              "    </tr>\n",
              "    <tr>\n",
              "      <th>75%</th>\n",
              "      <td>51.000000</td>\n",
              "      <td>34.693750</td>\n",
              "      <td>2.000000</td>\n",
              "      <td>16639.912515</td>\n",
              "    </tr>\n",
              "    <tr>\n",
              "      <th>max</th>\n",
              "      <td>64.000000</td>\n",
              "      <td>53.130000</td>\n",
              "      <td>5.000000</td>\n",
              "      <td>63770.428010</td>\n",
              "    </tr>\n",
              "  </tbody>\n",
              "</table>\n",
              "</div>"
            ],
            "text/plain": [
              "               age          bmi     children       charges\n",
              "count  1338.000000  1338.000000  1338.000000   1338.000000\n",
              "mean     39.207025    30.663397     1.094918  13270.422265\n",
              "std      14.049960     6.098187     1.205493  12110.011237\n",
              "min      18.000000    15.960000     0.000000   1121.873900\n",
              "25%      27.000000    26.296250     0.000000   4740.287150\n",
              "50%      39.000000    30.400000     1.000000   9382.033000\n",
              "75%      51.000000    34.693750     2.000000  16639.912515\n",
              "max      64.000000    53.130000     5.000000  63770.428010"
            ]
          },
          "execution_count": 6,
          "metadata": {},
          "output_type": "execute_result"
        }
      ],
      "source": [
        "df.describe()"
      ]
    },
    {
      "cell_type": "code",
      "execution_count": 35,
      "metadata": {
        "id": "sbG88DkD4RDe"
      },
      "outputs": [],
      "source": [
        "ratio = int(df.shape[0]*0.8)\n",
        "df_train = df[:ratio]\n",
        "df_test = df[ratio:]"
      ]
    },
    {
      "cell_type": "code",
      "execution_count": 37,
      "metadata": {},
      "outputs": [
        {
          "data": {
            "text/html": [
              "<div>\n",
              "<style scoped>\n",
              "    .dataframe tbody tr th:only-of-type {\n",
              "        vertical-align: middle;\n",
              "    }\n",
              "\n",
              "    .dataframe tbody tr th {\n",
              "        vertical-align: top;\n",
              "    }\n",
              "\n",
              "    .dataframe thead th {\n",
              "        text-align: right;\n",
              "    }\n",
              "</style>\n",
              "<table border=\"1\" class=\"dataframe\">\n",
              "  <thead>\n",
              "    <tr style=\"text-align: right;\">\n",
              "      <th></th>\n",
              "      <th>age</th>\n",
              "      <th>sex</th>\n",
              "      <th>bmi</th>\n",
              "      <th>children</th>\n",
              "      <th>smoker</th>\n",
              "      <th>region</th>\n",
              "      <th>charges</th>\n",
              "    </tr>\n",
              "  </thead>\n",
              "  <tbody>\n",
              "    <tr>\n",
              "      <th>1070</th>\n",
              "      <td>37</td>\n",
              "      <td>male</td>\n",
              "      <td>37.070</td>\n",
              "      <td>1</td>\n",
              "      <td>yes</td>\n",
              "      <td>southeast</td>\n",
              "      <td>39871.70430</td>\n",
              "    </tr>\n",
              "    <tr>\n",
              "      <th>1071</th>\n",
              "      <td>63</td>\n",
              "      <td>male</td>\n",
              "      <td>31.445</td>\n",
              "      <td>0</td>\n",
              "      <td>no</td>\n",
              "      <td>northeast</td>\n",
              "      <td>13974.45555</td>\n",
              "    </tr>\n",
              "    <tr>\n",
              "      <th>1072</th>\n",
              "      <td>21</td>\n",
              "      <td>male</td>\n",
              "      <td>31.255</td>\n",
              "      <td>0</td>\n",
              "      <td>no</td>\n",
              "      <td>northwest</td>\n",
              "      <td>1909.52745</td>\n",
              "    </tr>\n",
              "    <tr>\n",
              "      <th>1073</th>\n",
              "      <td>54</td>\n",
              "      <td>female</td>\n",
              "      <td>28.880</td>\n",
              "      <td>2</td>\n",
              "      <td>no</td>\n",
              "      <td>northeast</td>\n",
              "      <td>12096.65120</td>\n",
              "    </tr>\n",
              "    <tr>\n",
              "      <th>1074</th>\n",
              "      <td>60</td>\n",
              "      <td>female</td>\n",
              "      <td>18.335</td>\n",
              "      <td>0</td>\n",
              "      <td>no</td>\n",
              "      <td>northeast</td>\n",
              "      <td>13204.28565</td>\n",
              "    </tr>\n",
              "  </tbody>\n",
              "</table>\n",
              "</div>"
            ],
            "text/plain": [
              "      age     sex     bmi  children smoker     region      charges\n",
              "1070   37    male  37.070         1    yes  southeast  39871.70430\n",
              "1071   63    male  31.445         0     no  northeast  13974.45555\n",
              "1072   21    male  31.255         0     no  northwest   1909.52745\n",
              "1073   54  female  28.880         2     no  northeast  12096.65120\n",
              "1074   60  female  18.335         0     no  northeast  13204.28565"
            ]
          },
          "execution_count": 37,
          "metadata": {},
          "output_type": "execute_result"
        }
      ],
      "source": [
        "df_test.head()"
      ]
    },
    {
      "cell_type": "markdown",
      "metadata": {
        "id": "D9FZCave4RDe"
      },
      "source": [
        "### Задание №2:\n",
        "Сделайте `OHE` на колонки sex, region, smoker.\n",
        "\n",
        "Нужно сделать как на train, так и на test датасете.\n",
        "Считайте, что исходные датафреймы сохранены в `df_train` и `df_test`.\n",
        "При этом в `df_train`, `df_test` должны остаться старые колонки - т.е. его нужно обогатить.\n"
      ]
    },
    {
      "cell_type": "code",
      "execution_count": 60,
      "metadata": {},
      "outputs": [],
      "source": [
        "from typing import List\n",
        "\n",
        "\n",
        "def add_ohe(df : pd.DataFrame, col_list : List[str]):\n",
        "    for col_ in col_list:\n",
        "        unique_values = df[col_].unique().tolist()\n",
        "        for v in unique_values:\n",
        "            df[col_+'_'+v] = (df[col_] == v).astype(int)"
      ]
    },
    {
      "cell_type": "code",
      "execution_count": 61,
      "metadata": {},
      "outputs": [
        {
          "data": {
            "text/html": [
              "<div>\n",
              "<style scoped>\n",
              "    .dataframe tbody tr th:only-of-type {\n",
              "        vertical-align: middle;\n",
              "    }\n",
              "\n",
              "    .dataframe tbody tr th {\n",
              "        vertical-align: top;\n",
              "    }\n",
              "\n",
              "    .dataframe thead th {\n",
              "        text-align: right;\n",
              "    }\n",
              "</style>\n",
              "<table border=\"1\" class=\"dataframe\">\n",
              "  <thead>\n",
              "    <tr style=\"text-align: right;\">\n",
              "      <th></th>\n",
              "      <th>age</th>\n",
              "      <th>sex</th>\n",
              "      <th>bmi</th>\n",
              "      <th>children</th>\n",
              "      <th>smoker</th>\n",
              "      <th>region</th>\n",
              "      <th>charges</th>\n",
              "      <th>sex_ohe</th>\n",
              "      <th>region_ohe</th>\n",
              "      <th>smoker_ohe</th>\n",
              "      <th>sex_female</th>\n",
              "      <th>sex_male</th>\n",
              "      <th>region_southwest</th>\n",
              "      <th>region_southeast</th>\n",
              "      <th>region_northwest</th>\n",
              "      <th>region_northeast</th>\n",
              "      <th>smoker_yes</th>\n",
              "      <th>smoker_no</th>\n",
              "    </tr>\n",
              "  </thead>\n",
              "  <tbody>\n",
              "    <tr>\n",
              "      <th>0</th>\n",
              "      <td>19</td>\n",
              "      <td>female</td>\n",
              "      <td>27.900</td>\n",
              "      <td>0</td>\n",
              "      <td>yes</td>\n",
              "      <td>southwest</td>\n",
              "      <td>16884.92400</td>\n",
              "      <td>0</td>\n",
              "      <td>0</td>\n",
              "      <td>0</td>\n",
              "      <td>1</td>\n",
              "      <td>0</td>\n",
              "      <td>1</td>\n",
              "      <td>0</td>\n",
              "      <td>0</td>\n",
              "      <td>0</td>\n",
              "      <td>1</td>\n",
              "      <td>0</td>\n",
              "    </tr>\n",
              "    <tr>\n",
              "      <th>1</th>\n",
              "      <td>18</td>\n",
              "      <td>male</td>\n",
              "      <td>33.770</td>\n",
              "      <td>1</td>\n",
              "      <td>no</td>\n",
              "      <td>southeast</td>\n",
              "      <td>1725.55230</td>\n",
              "      <td>1</td>\n",
              "      <td>1</td>\n",
              "      <td>1</td>\n",
              "      <td>0</td>\n",
              "      <td>1</td>\n",
              "      <td>0</td>\n",
              "      <td>1</td>\n",
              "      <td>0</td>\n",
              "      <td>0</td>\n",
              "      <td>0</td>\n",
              "      <td>1</td>\n",
              "    </tr>\n",
              "    <tr>\n",
              "      <th>2</th>\n",
              "      <td>28</td>\n",
              "      <td>male</td>\n",
              "      <td>33.000</td>\n",
              "      <td>3</td>\n",
              "      <td>no</td>\n",
              "      <td>southeast</td>\n",
              "      <td>4449.46200</td>\n",
              "      <td>1</td>\n",
              "      <td>1</td>\n",
              "      <td>1</td>\n",
              "      <td>0</td>\n",
              "      <td>1</td>\n",
              "      <td>0</td>\n",
              "      <td>1</td>\n",
              "      <td>0</td>\n",
              "      <td>0</td>\n",
              "      <td>0</td>\n",
              "      <td>1</td>\n",
              "    </tr>\n",
              "    <tr>\n",
              "      <th>3</th>\n",
              "      <td>33</td>\n",
              "      <td>male</td>\n",
              "      <td>22.705</td>\n",
              "      <td>0</td>\n",
              "      <td>no</td>\n",
              "      <td>northwest</td>\n",
              "      <td>21984.47061</td>\n",
              "      <td>1</td>\n",
              "      <td>2</td>\n",
              "      <td>1</td>\n",
              "      <td>0</td>\n",
              "      <td>1</td>\n",
              "      <td>0</td>\n",
              "      <td>0</td>\n",
              "      <td>1</td>\n",
              "      <td>0</td>\n",
              "      <td>0</td>\n",
              "      <td>1</td>\n",
              "    </tr>\n",
              "    <tr>\n",
              "      <th>4</th>\n",
              "      <td>32</td>\n",
              "      <td>male</td>\n",
              "      <td>28.880</td>\n",
              "      <td>0</td>\n",
              "      <td>no</td>\n",
              "      <td>northwest</td>\n",
              "      <td>3866.85520</td>\n",
              "      <td>1</td>\n",
              "      <td>2</td>\n",
              "      <td>1</td>\n",
              "      <td>0</td>\n",
              "      <td>1</td>\n",
              "      <td>0</td>\n",
              "      <td>0</td>\n",
              "      <td>1</td>\n",
              "      <td>0</td>\n",
              "      <td>0</td>\n",
              "      <td>1</td>\n",
              "    </tr>\n",
              "    <tr>\n",
              "      <th>...</th>\n",
              "      <td>...</td>\n",
              "      <td>...</td>\n",
              "      <td>...</td>\n",
              "      <td>...</td>\n",
              "      <td>...</td>\n",
              "      <td>...</td>\n",
              "      <td>...</td>\n",
              "      <td>...</td>\n",
              "      <td>...</td>\n",
              "      <td>...</td>\n",
              "      <td>...</td>\n",
              "      <td>...</td>\n",
              "      <td>...</td>\n",
              "      <td>...</td>\n",
              "      <td>...</td>\n",
              "      <td>...</td>\n",
              "      <td>...</td>\n",
              "      <td>...</td>\n",
              "    </tr>\n",
              "    <tr>\n",
              "      <th>1333</th>\n",
              "      <td>50</td>\n",
              "      <td>male</td>\n",
              "      <td>30.970</td>\n",
              "      <td>3</td>\n",
              "      <td>no</td>\n",
              "      <td>northwest</td>\n",
              "      <td>10600.54830</td>\n",
              "      <td>1</td>\n",
              "      <td>2</td>\n",
              "      <td>1</td>\n",
              "      <td>0</td>\n",
              "      <td>1</td>\n",
              "      <td>0</td>\n",
              "      <td>0</td>\n",
              "      <td>1</td>\n",
              "      <td>0</td>\n",
              "      <td>0</td>\n",
              "      <td>1</td>\n",
              "    </tr>\n",
              "    <tr>\n",
              "      <th>1334</th>\n",
              "      <td>18</td>\n",
              "      <td>female</td>\n",
              "      <td>31.920</td>\n",
              "      <td>0</td>\n",
              "      <td>no</td>\n",
              "      <td>northeast</td>\n",
              "      <td>2205.98080</td>\n",
              "      <td>0</td>\n",
              "      <td>3</td>\n",
              "      <td>1</td>\n",
              "      <td>1</td>\n",
              "      <td>0</td>\n",
              "      <td>0</td>\n",
              "      <td>0</td>\n",
              "      <td>0</td>\n",
              "      <td>1</td>\n",
              "      <td>0</td>\n",
              "      <td>1</td>\n",
              "    </tr>\n",
              "    <tr>\n",
              "      <th>1335</th>\n",
              "      <td>18</td>\n",
              "      <td>female</td>\n",
              "      <td>36.850</td>\n",
              "      <td>0</td>\n",
              "      <td>no</td>\n",
              "      <td>southeast</td>\n",
              "      <td>1629.83350</td>\n",
              "      <td>0</td>\n",
              "      <td>1</td>\n",
              "      <td>1</td>\n",
              "      <td>1</td>\n",
              "      <td>0</td>\n",
              "      <td>0</td>\n",
              "      <td>1</td>\n",
              "      <td>0</td>\n",
              "      <td>0</td>\n",
              "      <td>0</td>\n",
              "      <td>1</td>\n",
              "    </tr>\n",
              "    <tr>\n",
              "      <th>1336</th>\n",
              "      <td>21</td>\n",
              "      <td>female</td>\n",
              "      <td>25.800</td>\n",
              "      <td>0</td>\n",
              "      <td>no</td>\n",
              "      <td>southwest</td>\n",
              "      <td>2007.94500</td>\n",
              "      <td>0</td>\n",
              "      <td>0</td>\n",
              "      <td>1</td>\n",
              "      <td>1</td>\n",
              "      <td>0</td>\n",
              "      <td>1</td>\n",
              "      <td>0</td>\n",
              "      <td>0</td>\n",
              "      <td>0</td>\n",
              "      <td>0</td>\n",
              "      <td>1</td>\n",
              "    </tr>\n",
              "    <tr>\n",
              "      <th>1337</th>\n",
              "      <td>61</td>\n",
              "      <td>female</td>\n",
              "      <td>29.070</td>\n",
              "      <td>0</td>\n",
              "      <td>yes</td>\n",
              "      <td>northwest</td>\n",
              "      <td>29141.36030</td>\n",
              "      <td>0</td>\n",
              "      <td>2</td>\n",
              "      <td>0</td>\n",
              "      <td>1</td>\n",
              "      <td>0</td>\n",
              "      <td>0</td>\n",
              "      <td>0</td>\n",
              "      <td>1</td>\n",
              "      <td>0</td>\n",
              "      <td>1</td>\n",
              "      <td>0</td>\n",
              "    </tr>\n",
              "  </tbody>\n",
              "</table>\n",
              "<p>1338 rows × 18 columns</p>\n",
              "</div>"
            ],
            "text/plain": [
              "      age     sex     bmi  children smoker     region      charges  sex_ohe  \\\n",
              "0      19  female  27.900         0    yes  southwest  16884.92400        0   \n",
              "1      18    male  33.770         1     no  southeast   1725.55230        1   \n",
              "2      28    male  33.000         3     no  southeast   4449.46200        1   \n",
              "3      33    male  22.705         0     no  northwest  21984.47061        1   \n",
              "4      32    male  28.880         0     no  northwest   3866.85520        1   \n",
              "...   ...     ...     ...       ...    ...        ...          ...      ...   \n",
              "1333   50    male  30.970         3     no  northwest  10600.54830        1   \n",
              "1334   18  female  31.920         0     no  northeast   2205.98080        0   \n",
              "1335   18  female  36.850         0     no  southeast   1629.83350        0   \n",
              "1336   21  female  25.800         0     no  southwest   2007.94500        0   \n",
              "1337   61  female  29.070         0    yes  northwest  29141.36030        0   \n",
              "\n",
              "      region_ohe  smoker_ohe  sex_female  sex_male  region_southwest  \\\n",
              "0              0           0           1         0                 1   \n",
              "1              1           1           0         1                 0   \n",
              "2              1           1           0         1                 0   \n",
              "3              2           1           0         1                 0   \n",
              "4              2           1           0         1                 0   \n",
              "...          ...         ...         ...       ...               ...   \n",
              "1333           2           1           0         1                 0   \n",
              "1334           3           1           1         0                 0   \n",
              "1335           1           1           1         0                 0   \n",
              "1336           0           1           1         0                 1   \n",
              "1337           2           0           1         0                 0   \n",
              "\n",
              "      region_southeast  region_northwest  region_northeast  smoker_yes  \\\n",
              "0                    0                 0                 0           1   \n",
              "1                    1                 0                 0           0   \n",
              "2                    1                 0                 0           0   \n",
              "3                    0                 1                 0           0   \n",
              "4                    0                 1                 0           0   \n",
              "...                ...               ...               ...         ...   \n",
              "1333                 0                 1                 0           0   \n",
              "1334                 0                 0                 1           0   \n",
              "1335                 1                 0                 0           0   \n",
              "1336                 0                 0                 0           0   \n",
              "1337                 0                 1                 0           1   \n",
              "\n",
              "      smoker_no  \n",
              "0             0  \n",
              "1             1  \n",
              "2             1  \n",
              "3             1  \n",
              "4             1  \n",
              "...         ...  \n",
              "1333          1  \n",
              "1334          1  \n",
              "1335          1  \n",
              "1336          1  \n",
              "1337          0  \n",
              "\n",
              "[1338 rows x 18 columns]"
            ]
          },
          "execution_count": 61,
          "metadata": {},
          "output_type": "execute_result"
        }
      ],
      "source": [
        "add_ohe(df, ['sex', 'region', 'smoker'])\n",
        "df"
      ]
    },
    {
      "cell_type": "code",
      "execution_count": null,
      "metadata": {
        "id": "FhsOpSzh4RDe"
      },
      "outputs": [],
      "source": [
        "...\n",
        "\n",
        "print(df_train.columns)\n",
        "print(df_train.columns)"
      ]
    },
    {
      "cell_type": "code",
      "execution_count": null,
      "metadata": {
        "id": "92K8khao4RDf"
      },
      "outputs": [],
      "source": []
    },
    {
      "cell_type": "markdown",
      "metadata": {
        "id": "ky6ESVvn4RDf"
      },
      "source": [
        "### Задание №4:\n",
        "Нормализуйте колонки, которые вы отметили в квизе.\n",
        "Считайте, что исходные датафреймы сохранены в `df_train` и `df_test`.\n",
        "\n",
        "Сдайте код, который модифицирует `df_train` и `df_test` так, чтобы численные колонки из прошлого пункта стали нормированы."
      ]
    },
    {
      "cell_type": "code",
      "execution_count": 10,
      "metadata": {
        "id": "kaGCVzD34RDf"
      },
      "outputs": [],
      "source": [
        "from typing import List\n",
        "\n",
        "def normalizer(df_train : pd.DataFrame, df_test : pd.DataFrame, col_list : List[str]):\n",
        "    for col_ in col_list:\n",
        "        mean = df_train[col_].mean()\n",
        "        std = df_train[col_].std()\n",
        "        df_train[col_] = (df_train[col_] - mean) / std\n",
        "        df_test[col_] = (df_test[col_] - mean) / std\n",
        "        \n"
      ]
    },
    {
      "cell_type": "code",
      "execution_count": 9,
      "metadata": {},
      "outputs": [
        {
          "ename": "NameError",
          "evalue": "name 'df_train' is not defined",
          "output_type": "error",
          "traceback": [
            "\u001b[0;31m---------------------------------------------------------------------------\u001b[0m",
            "\u001b[0;31mNameError\u001b[0m                                 Traceback (most recent call last)",
            "Cell \u001b[0;32mIn[9], line 1\u001b[0m\n\u001b[0;32m----> 1\u001b[0m normalizer(\u001b[43mdf_train\u001b[49m, df_test, [\u001b[38;5;124m'\u001b[39m\u001b[38;5;124mbmi\u001b[39m\u001b[38;5;124m'\u001b[39m, \u001b[38;5;124m'\u001b[39m\u001b[38;5;124mcharges\u001b[39m\u001b[38;5;124m'\u001b[39m, \u001b[38;5;124m'\u001b[39m\u001b[38;5;124mage\u001b[39m\u001b[38;5;124m'\u001b[39m])\n",
            "\u001b[0;31mNameError\u001b[0m: name 'df_train' is not defined"
          ]
        }
      ],
      "source": [
        "normalizer(df_train, df_test, ['bmi', 'charges', 'age'])"
      ]
    },
    {
      "cell_type": "code",
      "execution_count": 8,
      "metadata": {},
      "outputs": [
        {
          "data": {
            "text/html": [
              "<div>\n",
              "<style scoped>\n",
              "    .dataframe tbody tr th:only-of-type {\n",
              "        vertical-align: middle;\n",
              "    }\n",
              "\n",
              "    .dataframe tbody tr th {\n",
              "        vertical-align: top;\n",
              "    }\n",
              "\n",
              "    .dataframe thead th {\n",
              "        text-align: right;\n",
              "    }\n",
              "</style>\n",
              "<table border=\"1\" class=\"dataframe\">\n",
              "  <thead>\n",
              "    <tr style=\"text-align: right;\">\n",
              "      <th></th>\n",
              "      <th>age</th>\n",
              "      <th>sex</th>\n",
              "      <th>bmi</th>\n",
              "      <th>children</th>\n",
              "      <th>smoker</th>\n",
              "      <th>region</th>\n",
              "      <th>charges</th>\n",
              "    </tr>\n",
              "  </thead>\n",
              "  <tbody>\n",
              "    <tr>\n",
              "      <th>0</th>\n",
              "      <td>-1.438227</td>\n",
              "      <td>female</td>\n",
              "      <td>-0.453151</td>\n",
              "      <td>0</td>\n",
              "      <td>yes</td>\n",
              "      <td>southwest</td>\n",
              "      <td>0.298472</td>\n",
              "    </tr>\n",
              "    <tr>\n",
              "      <th>1</th>\n",
              "      <td>-1.509401</td>\n",
              "      <td>male</td>\n",
              "      <td>0.509431</td>\n",
              "      <td>1</td>\n",
              "      <td>no</td>\n",
              "      <td>southeast</td>\n",
              "      <td>-0.953333</td>\n",
              "    </tr>\n",
              "    <tr>\n",
              "      <th>2</th>\n",
              "      <td>-0.797655</td>\n",
              "      <td>male</td>\n",
              "      <td>0.383164</td>\n",
              "      <td>3</td>\n",
              "      <td>no</td>\n",
              "      <td>southeast</td>\n",
              "      <td>-0.728402</td>\n",
              "    </tr>\n",
              "    <tr>\n",
              "      <th>3</th>\n",
              "      <td>-0.441782</td>\n",
              "      <td>male</td>\n",
              "      <td>-1.305043</td>\n",
              "      <td>0</td>\n",
              "      <td>no</td>\n",
              "      <td>northwest</td>\n",
              "      <td>0.719574</td>\n",
              "    </tr>\n",
              "    <tr>\n",
              "      <th>4</th>\n",
              "      <td>-0.512957</td>\n",
              "      <td>male</td>\n",
              "      <td>-0.292447</td>\n",
              "      <td>0</td>\n",
              "      <td>no</td>\n",
              "      <td>northwest</td>\n",
              "      <td>-0.776512</td>\n",
              "    </tr>\n",
              "  </tbody>\n",
              "</table>\n",
              "</div>"
            ],
            "text/plain": [
              "        age     sex       bmi  children smoker     region   charges\n",
              "0 -1.438227  female -0.453151         0    yes  southwest  0.298472\n",
              "1 -1.509401    male  0.509431         1     no  southeast -0.953333\n",
              "2 -0.797655    male  0.383164         3     no  southeast -0.728402\n",
              "3 -0.441782    male -1.305043         0     no  northwest  0.719574\n",
              "4 -0.512957    male -0.292447         0     no  northwest -0.776512"
            ]
          },
          "execution_count": 8,
          "metadata": {},
          "output_type": "execute_result"
        }
      ],
      "source": [
        "df.head()"
      ]
    },
    {
      "cell_type": "code",
      "execution_count": null,
      "metadata": {
        "id": "Cawq4yKb4Ukg"
      },
      "outputs": [],
      "source": [
        "y_train = df_train.pop(\"charges\")\n",
        "y_test = df_test.pop(\"charges\")"
      ]
    },
    {
      "cell_type": "markdown",
      "metadata": {
        "id": "FfJFd-144RDf"
      },
      "source": [
        "### Задание №5\n",
        "Реализуйте функцию, считающую `MSE` метрику.\n",
        "\n",
        "Ваша функция должна уметь принимать torch.Tensor, numpy-массивы и pd.Series."
      ]
    },
    {
      "cell_type": "code",
      "execution_count": 22,
      "metadata": {
        "id": "Skg0gGe-4RDf"
      },
      "outputs": [],
      "source": [
        "def mse_metric(y_true, y_pred):\n",
        "    # Вычисление MSE\n",
        "    mse = ((y_true - y_pred) ** 2).mean()\n",
        "    return mse"
      ]
    },
    {
      "cell_type": "code",
      "execution_count": 25,
      "metadata": {},
      "outputs": [
        {
          "name": "stdout",
          "output_type": "stream",
          "text": [
            "0.25\n"
          ]
        }
      ],
      "source": [
        "# y_true = np.array([1.0, 2.0, 3.0])\n",
        "# y_pred = np.array([1.5, 2.5, 3.5])\n",
        "\n",
        "# y_true = torch.tensor([1.0, 2.0, 3.0])\n",
        "# y_pred = torch.tensor([1.5, 2.5, 3.5])\n",
        "\n",
        "y_true = pd.Series([1.0, 2.0, 3.0])\n",
        "y_pred = pd.Series([1.5, 2.5, 3.5])\n",
        "\n",
        "# y_true = [1.0, 2.0, 3.0]\n",
        "# y_pred = [1.5, 2.5, 3.5]\n",
        "\n",
        "print(mse_metric(y_true, y_pred))"
      ]
    },
    {
      "cell_type": "markdown",
      "metadata": {
        "id": "0BYIU8bJ4RDf"
      },
      "source": [
        "### Задание №6\n",
        "Реализуйте бейзлайн на `LinearRegression` и `GradientBoostingRegressor`, отправьте метрики в ЛМС.\n",
        "\n",
        "Используйте гиперпараметры по-умолчанию в обоих моделях."
      ]
    },
    {
      "cell_type": "code",
      "execution_count": 28,
      "metadata": {
        "id": "qsxn2Gux4RDf"
      },
      "outputs": [],
      "source": [
        "from sklearn.ensemble import GradientBoostingRegressor\n",
        "from sklearn.linear_model import LinearRegression\n",
        "\n",
        "idx_test = np.random.choice(df.shape[0], size=int(0.2 * df.shape[0]), replace=False)\n",
        "df_test = df.iloc[idx_test]\n",
        "df_train = df.drop(index=idx_test)"
      ]
    },
    {
      "cell_type": "code",
      "execution_count": 31,
      "metadata": {},
      "outputs": [],
      "source": [
        "import pandas as pd\n",
        "import numpy as np\n",
        "import random\n",
        "\n",
        "seed = 0\n",
        "np.random.seed(seed)\n",
        "random.seed(seed)\n",
        "\n",
        "df = pd.read_csv(\"insurance.csv\")\n",
        "\n",
        "idx_test = np.random.choice(df.shape[0], size=int(0.2 * df.shape[0]), replace=False)\n",
        "df_test = df.iloc[idx_test]\n",
        "df_train = df.drop(index=idx_test)\n",
        "\n",
        "df_train = pd.get_dummies(df_train, columns=[\"sex\", \"region\", \"smoker\"])\n",
        "df_test = pd.get_dummies(df_test, columns=[\"sex\", \"region\", \"smoker\"])\n",
        "\n",
        "from sklearn.preprocessing import StandardScaler\n",
        "\n",
        "scaler = StandardScaler()\n",
        "df_train[['age', 'bmi', 'children', 'charges']] = scaler.fit_transform(df_train[['age', 'bmi', 'children', 'charges']])\n",
        "df_test[['age', 'bmi', 'children', 'charges']] = scaler.transform(df_test[['age', 'bmi', 'children', 'charges']])\n",
        "\n",
        "y_train = df_train.pop(\"charges\")\n",
        "y_test = df_test.pop(\"charges\")\n",
        "\n",
        "def metric(preds, y):\n",
        "    return ((preds - y) ** 2).mean()\n",
        "\n",
        "from sklearn.ensemble import GradientBoostingRegressor\n",
        "from sklearn.linear_model import LinearRegression\n",
        "\n",
        "linreg = LinearRegression()\n",
        "linreg.fit(df_train, y_train)\n",
        "y_pred_linreg = linreg.predict(df_test)\n",
        "mse_linreg = metric(y_pred_linreg, y_test)\n",
        "\n",
        "gradboost = GradientBoostingRegressor()\n",
        "gradboost.fit(df_train, y_train)\n",
        "y_pred_gradboost = gradboost.predict(df_test)\n",
        "mse_gradboost = metric(y_pred_gradboost, y_test)"
      ]
    },
    {
      "cell_type": "code",
      "execution_count": 32,
      "metadata": {},
      "outputs": [
        {
          "name": "stdout",
          "output_type": "stream",
          "text": [
            "0.22302419633942042\n",
            "0.11499598580020744\n"
          ]
        }
      ],
      "source": [
        "print(mse_linreg)\n",
        "print(mse_gradboost)"
      ]
    },
    {
      "cell_type": "markdown",
      "metadata": {
        "id": "bnmMv2Dt4RDf"
      },
      "source": [
        "### Задание №7\n",
        "Вычислите среднее значение целевой переменной на тренировочной выборке (train).\n",
        "\n",
        "Подсчитайте MSE при константном предсказании этим средним и отправьте его в ЛМС."
      ]
    },
    {
      "cell_type": "code",
      "execution_count": 33,
      "metadata": {
        "id": "d6AqMNhU4RDg"
      },
      "outputs": [],
      "source": [
        "mean_train = y_train.mean()"
      ]
    },
    {
      "cell_type": "code",
      "execution_count": 35,
      "metadata": {},
      "outputs": [
        {
          "data": {
            "text/plain": [
              "1.1155505928744722"
            ]
          },
          "execution_count": 35,
          "metadata": {},
          "output_type": "execute_result"
        }
      ],
      "source": [
        "metric(mean_train, y_test)"
      ]
    },
    {
      "cell_type": "markdown",
      "metadata": {
        "id": "yOG4gI6l4RDg"
      },
      "source": [
        "### Задание №8\n",
        "Создайте сеть, состоящую из одного слоя Linear, залейте в лмс код, который в `model` запишет вашу модель\n",
        "\n",
        "В качестве признаков используйте все колонки в текущем датасете, за исключением таргета"
      ]
    },
    {
      "cell_type": "code",
      "execution_count": 36,
      "metadata": {},
      "outputs": [
        {
          "data": {
            "text/html": [
              "<div>\n",
              "<style scoped>\n",
              "    .dataframe tbody tr th:only-of-type {\n",
              "        vertical-align: middle;\n",
              "    }\n",
              "\n",
              "    .dataframe tbody tr th {\n",
              "        vertical-align: top;\n",
              "    }\n",
              "\n",
              "    .dataframe thead th {\n",
              "        text-align: right;\n",
              "    }\n",
              "</style>\n",
              "<table border=\"1\" class=\"dataframe\">\n",
              "  <thead>\n",
              "    <tr style=\"text-align: right;\">\n",
              "      <th></th>\n",
              "      <th>age</th>\n",
              "      <th>bmi</th>\n",
              "      <th>children</th>\n",
              "      <th>sex_female</th>\n",
              "      <th>sex_male</th>\n",
              "      <th>region_northeast</th>\n",
              "      <th>region_northwest</th>\n",
              "      <th>region_southeast</th>\n",
              "      <th>region_southwest</th>\n",
              "      <th>smoker_no</th>\n",
              "      <th>smoker_yes</th>\n",
              "    </tr>\n",
              "  </thead>\n",
              "  <tbody>\n",
              "    <tr>\n",
              "      <th>0</th>\n",
              "      <td>-1.427758</td>\n",
              "      <td>-0.456469</td>\n",
              "      <td>-0.893045</td>\n",
              "      <td>True</td>\n",
              "      <td>False</td>\n",
              "      <td>False</td>\n",
              "      <td>False</td>\n",
              "      <td>False</td>\n",
              "      <td>True</td>\n",
              "      <td>False</td>\n",
              "      <td>True</td>\n",
              "    </tr>\n",
              "    <tr>\n",
              "      <th>2</th>\n",
              "      <td>-0.788401</td>\n",
              "      <td>0.368324</td>\n",
              "      <td>1.584808</td>\n",
              "      <td>False</td>\n",
              "      <td>True</td>\n",
              "      <td>False</td>\n",
              "      <td>False</td>\n",
              "      <td>True</td>\n",
              "      <td>False</td>\n",
              "      <td>True</td>\n",
              "      <td>False</td>\n",
              "    </tr>\n",
              "    <tr>\n",
              "      <th>3</th>\n",
              "      <td>-0.433203</td>\n",
              "      <td>-1.296627</td>\n",
              "      <td>-0.893045</td>\n",
              "      <td>False</td>\n",
              "      <td>True</td>\n",
              "      <td>False</td>\n",
              "      <td>True</td>\n",
              "      <td>False</td>\n",
              "      <td>False</td>\n",
              "      <td>True</td>\n",
              "      <td>False</td>\n",
              "    </tr>\n",
              "    <tr>\n",
              "      <th>4</th>\n",
              "      <td>-0.504242</td>\n",
              "      <td>-0.297980</td>\n",
              "      <td>-0.893045</td>\n",
              "      <td>False</td>\n",
              "      <td>True</td>\n",
              "      <td>False</td>\n",
              "      <td>True</td>\n",
              "      <td>False</td>\n",
              "      <td>False</td>\n",
              "      <td>True</td>\n",
              "      <td>False</td>\n",
              "    </tr>\n",
              "    <tr>\n",
              "      <th>6</th>\n",
              "      <td>0.490313</td>\n",
              "      <td>0.439483</td>\n",
              "      <td>-0.067094</td>\n",
              "      <td>True</td>\n",
              "      <td>False</td>\n",
              "      <td>False</td>\n",
              "      <td>False</td>\n",
              "      <td>True</td>\n",
              "      <td>False</td>\n",
              "      <td>True</td>\n",
              "      <td>False</td>\n",
              "    </tr>\n",
              "    <tr>\n",
              "      <th>...</th>\n",
              "      <td>...</td>\n",
              "      <td>...</td>\n",
              "      <td>...</td>\n",
              "      <td>...</td>\n",
              "      <td>...</td>\n",
              "      <td>...</td>\n",
              "      <td>...</td>\n",
              "      <td>...</td>\n",
              "      <td>...</td>\n",
              "      <td>...</td>\n",
              "      <td>...</td>\n",
              "    </tr>\n",
              "    <tr>\n",
              "      <th>1332</th>\n",
              "      <td>0.916551</td>\n",
              "      <td>2.260499</td>\n",
              "      <td>1.584808</td>\n",
              "      <td>True</td>\n",
              "      <td>False</td>\n",
              "      <td>False</td>\n",
              "      <td>False</td>\n",
              "      <td>False</td>\n",
              "      <td>True</td>\n",
              "      <td>True</td>\n",
              "      <td>False</td>\n",
              "    </tr>\n",
              "    <tr>\n",
              "      <th>1333</th>\n",
              "      <td>0.774472</td>\n",
              "      <td>0.040024</td>\n",
              "      <td>1.584808</td>\n",
              "      <td>False</td>\n",
              "      <td>True</td>\n",
              "      <td>False</td>\n",
              "      <td>True</td>\n",
              "      <td>False</td>\n",
              "      <td>False</td>\n",
              "      <td>True</td>\n",
              "      <td>False</td>\n",
              "    </tr>\n",
              "    <tr>\n",
              "      <th>1334</th>\n",
              "      <td>-1.498797</td>\n",
              "      <td>0.193662</td>\n",
              "      <td>-0.893045</td>\n",
              "      <td>True</td>\n",
              "      <td>False</td>\n",
              "      <td>True</td>\n",
              "      <td>False</td>\n",
              "      <td>False</td>\n",
              "      <td>False</td>\n",
              "      <td>True</td>\n",
              "      <td>False</td>\n",
              "    </tr>\n",
              "    <tr>\n",
              "      <th>1336</th>\n",
              "      <td>-1.285679</td>\n",
              "      <td>-0.796090</td>\n",
              "      <td>-0.893045</td>\n",
              "      <td>True</td>\n",
              "      <td>False</td>\n",
              "      <td>False</td>\n",
              "      <td>False</td>\n",
              "      <td>False</td>\n",
              "      <td>True</td>\n",
              "      <td>True</td>\n",
              "      <td>False</td>\n",
              "    </tr>\n",
              "    <tr>\n",
              "      <th>1337</th>\n",
              "      <td>1.555908</td>\n",
              "      <td>-0.267252</td>\n",
              "      <td>-0.893045</td>\n",
              "      <td>True</td>\n",
              "      <td>False</td>\n",
              "      <td>False</td>\n",
              "      <td>True</td>\n",
              "      <td>False</td>\n",
              "      <td>False</td>\n",
              "      <td>False</td>\n",
              "      <td>True</td>\n",
              "    </tr>\n",
              "  </tbody>\n",
              "</table>\n",
              "<p>1071 rows × 11 columns</p>\n",
              "</div>"
            ],
            "text/plain": [
              "           age       bmi  children  sex_female  sex_male  region_northeast  \\\n",
              "0    -1.427758 -0.456469 -0.893045        True     False             False   \n",
              "2    -0.788401  0.368324  1.584808       False      True             False   \n",
              "3    -0.433203 -1.296627 -0.893045       False      True             False   \n",
              "4    -0.504242 -0.297980 -0.893045       False      True             False   \n",
              "6     0.490313  0.439483 -0.067094        True     False             False   \n",
              "...        ...       ...       ...         ...       ...               ...   \n",
              "1332  0.916551  2.260499  1.584808        True     False             False   \n",
              "1333  0.774472  0.040024  1.584808       False      True             False   \n",
              "1334 -1.498797  0.193662 -0.893045        True     False              True   \n",
              "1336 -1.285679 -0.796090 -0.893045        True     False             False   \n",
              "1337  1.555908 -0.267252 -0.893045        True     False             False   \n",
              "\n",
              "      region_northwest  region_southeast  region_southwest  smoker_no  \\\n",
              "0                False             False              True      False   \n",
              "2                False              True             False       True   \n",
              "3                 True             False             False       True   \n",
              "4                 True             False             False       True   \n",
              "6                False              True             False       True   \n",
              "...                ...               ...               ...        ...   \n",
              "1332             False             False              True       True   \n",
              "1333              True             False             False       True   \n",
              "1334             False             False             False       True   \n",
              "1336             False             False              True       True   \n",
              "1337              True             False             False      False   \n",
              "\n",
              "      smoker_yes  \n",
              "0           True  \n",
              "2          False  \n",
              "3          False  \n",
              "4          False  \n",
              "6          False  \n",
              "...          ...  \n",
              "1332       False  \n",
              "1333       False  \n",
              "1334       False  \n",
              "1336       False  \n",
              "1337        True  \n",
              "\n",
              "[1071 rows x 11 columns]"
            ]
          },
          "execution_count": 36,
          "metadata": {},
          "output_type": "execute_result"
        }
      ],
      "source": [
        "df_train"
      ]
    },
    {
      "cell_type": "code",
      "execution_count": null,
      "metadata": {
        "id": "U-e--4Pv4RDg"
      },
      "outputs": [],
      "source": [
        "import torch.nn as nn\n",
        "\n",
        "\n",
        "def build_model():\n",
        "    # Полносвязный слой\n",
        "    return nn.Linear(11, 1)\n",
        "\n",
        "\n",
        "model = build_model()"
      ]
    },
    {
      "cell_type": "code",
      "execution_count": null,
      "metadata": {
        "id": "0keux04D4RDg"
      },
      "outputs": [],
      "source": [
        "import torch\n",
        "\n",
        "torch.random.manual_seed(seed)\n",
        "t_x_train = torch.from_numpy(df_train.to_numpy().astype(float)).to(dtype=torch.float32)\n",
        "t_y_train = torch.from_numpy(y_train.to_numpy()).to(dtype=torch.float32)"
      ]
    },
    {
      "cell_type": "markdown",
      "metadata": {
        "id": "VR-vYZaR4RDg"
      },
      "source": [
        "### Задание №9\n",
        "Напишите функцию `train_loop`, которая будет учить модель по данным на 2к итераций.\n",
        "Считайте, что данные уже хранятся в переменных `t_x_train`, `t_y_train`.\n",
        "Ваша функция `train_loop` должна вернуть список из лоссов на каждой итерации (т.е. список длины 2000).\n",
        "\n",
        "Используйте `learning_rate=1e-2` в оптимизаторе.\n",
        "\n",
        "Для простоты за одну итерацию делайте проход вперед и проход назад на всех наших обучающих данных.\n",
        "Это будет полный градиентный спуск (не по батчам) - можем себе позволить, данных немного.\n",
        "\n",
        "_Подсказка 1_: Вам не обязательно учить модель на видеокарте, CPU будет достаточно.\n",
        "\n",
        "_Подсказка 2_: `tqdm` - это библиотека, которая рисует прогресс итераций"
      ]
    },
    {
      "cell_type": "code",
      "execution_count": null,
      "metadata": {
        "id": "OlmWls5Q4RDg"
      },
      "outputs": [],
      "source": [
        "import tqdm\n",
        "from torch.optim.sgd import SGD\n",
        "\n",
        "\n",
        "def train_loop(model: nn.Module) -> list[float]:\n",
        "    losses = []\n",
        "    ...\n",
        "    return losses"
      ]
    },
    {
      "cell_type": "markdown",
      "metadata": {
        "id": "ltF7ePyS4RDg"
      },
      "source": [
        "### Задание №10\n",
        "Обучите модель, состоящую из одного слоя `Linear`.\n",
        "Приложите в ЛМС метрику `MSE` на тестовых данных.\n",
        "Используйте `learning_rate=1e-2` в оптимизаторе.\n",
        "\n",
        "Когда будете тестировать, не забудьте перенести тестовые данные в `torch.Tensor`"
      ]
    },
    {
      "cell_type": "code",
      "execution_count": null,
      "metadata": {
        "id": "Z8eHxjwM4RDg"
      },
      "outputs": [],
      "source": []
    },
    {
      "cell_type": "markdown",
      "metadata": {
        "id": "6_387inA4RDg"
      },
      "source": [
        "### Задание №11\n",
        "Вам необходимо усложнить существующую нейронную сеть, добавив один скрытый слой.\n",
        "\n",
        "Используйте следующие параметры:\n",
        "\n",
        "Размерность скрытого слоя: 6 нейронов, функция активации -  `ReLU`\n",
        "\n",
        "Приложите в лмс код, который в переменную `model` запишет вашу модель"
      ]
    },
    {
      "cell_type": "code",
      "execution_count": null,
      "metadata": {
        "id": "i6fS2zOE4RDg"
      },
      "outputs": [],
      "source": [
        "def build_model(): ...\n",
        "\n",
        "\n",
        "model = build_model()"
      ]
    },
    {
      "cell_type": "markdown",
      "metadata": {
        "id": "yXezt60B4RDg"
      },
      "source": [
        "### Задание №12\n",
        "Приложите в ЛМС метрику качества этой сети после 2к итераций обучения.\n",
        "Эту модель можно обучить на CPU, не обязательно на видеокарте.\n",
        "\n",
        "Используйте для обучения ту же функцию `train_loop` с теми же параметрами (`learning rate`, число итераций и т.п.)"
      ]
    },
    {
      "cell_type": "code",
      "execution_count": null,
      "metadata": {
        "id": "SGjK2-Jh4RDg"
      },
      "outputs": [],
      "source": []
    },
    {
      "cell_type": "markdown",
      "metadata": {
        "id": "6dugFrug4RDg"
      },
      "source": [
        "### Задание №13\n",
        "Добавьте дополнительные слои в нейронную сеть\n",
        "\n",
        "Вам необходимо усложнить нейронную сеть, добавив еще 2-3 скрытых слоя с такими же размерностями, как в предыдущем задании.\n",
        "\n",
        "Приложите в лмс код, который в переменную `model` запишет вашу модель"
      ]
    },
    {
      "cell_type": "code",
      "execution_count": null,
      "metadata": {
        "id": "RoE1-gBx4RDh"
      },
      "outputs": [],
      "source": [
        "def build_model(): ...\n",
        "\n",
        "\n",
        "model = build_model()"
      ]
    },
    {
      "cell_type": "markdown",
      "metadata": {
        "id": "NKvHs-Wg4RDh"
      },
      "source": [
        "### Задание №14\n",
        "Приложите в ЛМС метрику качества после 2к итераций обучения.\n",
        "\n",
        "Используйте для обучения ту же функцию `train_loop` с теми же параметрами (`learning rate`, число итераций и т.п.)\n",
        "\n",
        "Эту модель можно обучить на CPU, не обязательно на видеокарте."
      ]
    },
    {
      "cell_type": "code",
      "execution_count": null,
      "metadata": {
        "id": "gIHuW0EO4RDh"
      },
      "outputs": [],
      "source": []
    },
    {
      "cell_type": "code",
      "execution_count": null,
      "metadata": {
        "id": "xPW4tENg4RDh"
      },
      "outputs": [],
      "source": []
    }
  ],
  "metadata": {
    "colab": {
      "provenance": []
    },
    "kernelspec": {
      "display_name": ".venv",
      "language": "python",
      "name": "python3"
    },
    "language_info": {
      "codemirror_mode": {
        "name": "ipython",
        "version": 3
      },
      "file_extension": ".py",
      "mimetype": "text/x-python",
      "name": "python",
      "nbconvert_exporter": "python",
      "pygments_lexer": "ipython3",
      "version": "3.10.0"
    }
  },
  "nbformat": 4,
  "nbformat_minor": 0
}
