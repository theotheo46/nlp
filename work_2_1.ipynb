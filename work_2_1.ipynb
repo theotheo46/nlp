{
 "cells": [
  {
   "cell_type": "markdown",
   "metadata": {},
   "source": [
    "# Домашнее задание 2\n",
    "\n",
    "В этом задании:\n",
    "\n",
    "1. Сделаем регрессию над данными через scikit-learn: сначала через регресию, потом через бустинг.\n",
    "2. Сравним результаты с константным предсказанием.\n",
    "3. Сделаем нейронную сеть на полносвязных слоях, обучим над теми же данными - и сравним с лин. регрессией и бустингом.\n",
    "\n"
   ]
  },
  {
   "cell_type": "code",
   "execution_count": 4,
   "metadata": {},
   "outputs": [],
   "source": [
    "import pandas as pd\n",
    "import numpy as np\n",
    "import random\n",
    "\n",
    "# Для воспроизводимости\n",
    "seed = 0\n",
    "np.random.seed(seed)\n",
    "random.seed(seed)"
   ]
  },
  {
   "cell_type": "code",
   "execution_count": 2,
   "metadata": {},
   "outputs": [],
   "source": [
    "df = pd.read_csv(\"insurance.csv\")"
   ]
  },
  {
   "cell_type": "markdown",
   "metadata": {},
   "source": [
    "### Задание №1:\n",
    "Cделайте train/test split на данных в пропорции 0.2/0.8, залейте в лмс код, который в `df_train`, `df_test`\n",
    "сохранит датафрейм с тренировочными и тестовыми данными соответственно.\n",
    "\n",
    "P.S Использовать train_test_split из scikit-learn запрещено - разбивайте вручную через индексы."
   ]
  },
  {
   "cell_type": "code",
   "execution_count": 3,
   "metadata": {},
   "outputs": [],
   "source": [
    "df_train = ...\n",
    "df_test = ..."
   ]
  },
  {
   "cell_type": "markdown",
   "metadata": {},
   "source": [
    "### Задание №2:\n",
    "Сделайте `OHE` на колонки sex, region, smoker.\n",
    "\n",
    "Нужно сделать как на train, так и на test датасете.\n",
    "Считайте, что исходные датафреймы сохранены в `df_train` и `df_test`.\n",
    "При этом в `df_train`, `df_test` должны остаться старые колонки - т.е. его нужно обогатить.\n"
   ]
  },
  {
   "cell_type": "code",
   "execution_count": 4,
   "metadata": {},
   "outputs": [],
   "source": [
    "...\n",
    "\n",
    "print(df_train.columns)\n",
    "print(df_train.columns)"
   ]
  },
  {
   "cell_type": "code",
   "execution_count": 5,
   "metadata": {},
   "outputs": [],
   "source": []
  },
  {
   "cell_type": "markdown",
   "metadata": {},
   "source": [
    "### Задание №4:\n",
    "Нормализуйте колонки, которые вы отметили в квизе.\n",
    "Считайте, что исходные датафреймы сохранены в `df_train` и `df_test`.\n",
    "\n",
    "Сдайте код, который модифицирует `df_train` и `df_test` так, чтобы численные колонки из прошлого пункта стали нормированы."
   ]
  },
  {
   "cell_type": "code",
   "execution_count": 6,
   "metadata": {},
   "outputs": [],
   "source": [
    "...\n",
    "y_train = df_train.pop(\"charges\")\n",
    "y_test = df_test.pop(\"charges\")"
   ]
  },
  {
   "cell_type": "markdown",
   "metadata": {},
   "source": [
    "### Задание №5\n",
    "Реализуйте функцию, считающую `MSE` метрику.\n",
    "\n",
    "Ваша функция должна уметь принимать torch.Tensor, numpy-массивы и pd.Series."
   ]
  },
  {
   "cell_type": "code",
   "execution_count": 7,
   "metadata": {},
   "outputs": [],
   "source": [
    "def metric(preds, y): ..."
   ]
  },
  {
   "cell_type": "markdown",
   "metadata": {},
   "source": [
    "### Задание №6\n",
    "Реализуйте бейзлайн на `LinearRegression` и `GradientBoostingRegressor`, отправьте метрики на _тестовой выборке_ в ЛМС.\n",
    "\n",
    "Используйте гиперпараметры по-умолчанию в обоих моделях."
   ]
  },
  {
   "cell_type": "code",
   "execution_count": 8,
   "metadata": {},
   "outputs": [],
   "source": [
    "from sklearn.ensemble import GradientBoostingRegressor\n",
    "from sklearn.linear_model import LinearRegression\n",
    "\n",
    "..."
   ]
  },
  {
   "cell_type": "markdown",
   "metadata": {},
   "source": [
    "### Задание №7\n",
    "Вычислите среднее значение целевой переменной на тренировочной выборке (train).\n",
    "\n",
    "Подсчитайте MSE при константном предсказании этим средним и отправьте его в ЛМС."
   ]
  },
  {
   "cell_type": "code",
   "execution_count": 9,
   "metadata": {},
   "outputs": [],
   "source": []
  },
  {
   "cell_type": "markdown",
   "metadata": {},
   "source": [
    "### Задание №8\n",
    "Создайте сеть, состоящую из одного слоя Linear, залейте в лмс код, который в `model` запишет вашу модель\n",
    "\n",
    "В качестве признаков используйте все колонки в текущем датасете, за исключением таргета"
   ]
  },
  {
   "cell_type": "code",
   "execution_count": 10,
   "metadata": {},
   "outputs": [],
   "source": [
    "import torch.nn as nn\n",
    "\n",
    "\n",
    "def build_model(): ...\n",
    "\n",
    "\n",
    "model = build_model()"
   ]
  },
  {
   "cell_type": "code",
   "execution_count": 11,
   "metadata": {},
   "outputs": [],
   "source": [
    "import torch\n",
    "\n",
    "torch.random.manual_seed(seed)\n",
    "t_x_train = torch.from_numpy(df_train.to_numpy().astype(float)).to(dtype=torch.float32)\n",
    "t_y_train = torch.from_numpy(y_train.to_numpy()).to(dtype=torch.float32)"
   ]
  },
  {
   "cell_type": "markdown",
   "metadata": {},
   "source": [
    "### Задание №9\n",
    "Напишите функцию `train_loop`, которая будет учить модель по данным на 2к итераций.\n",
    "Считайте, что данные уже хранятся в переменных `t_x_train`, `t_y_train`.\n",
    "Ваша функция `train_loop` должна вернуть список из лоссов на каждой итерации (т.е. список длины 2000).\n",
    "\n",
    "Используйте `learning_rate=1e-2` в оптимизаторе.\n",
    "\n",
    "Для простоты за одну итерацию делайте проход вперед и проход назад на всех наших обучающих данных.\n",
    "Это будет полный градиентный спуск (не по батчам) - можем себе позволить, данных немного.\n",
    "\n",
    "_Подсказка 1_: Вам не обязательно учить модель на видеокарте, CPU будет достаточно.\n",
    "\n",
    "_Подсказка 2_: `tqdm` - это библиотека, которая рисует прогресс итераций"
   ]
  },
  {
   "cell_type": "code",
   "execution_count": 12,
   "metadata": {},
   "outputs": [],
   "source": [
    "import tqdm\n",
    "from torch.optim.sgd import SGD\n",
    "\n",
    "\n",
    "def train_loop(model: nn.Module) -> list[float]:\n",
    "    losses = []\n",
    "    ...\n",
    "    return losses"
   ]
  },
  {
   "cell_type": "markdown",
   "metadata": {},
   "source": [
    "### Задание №10\n",
    "Обучите модель, состоящую из одного слоя `Linear`.\n",
    "Приложите в ЛМС метрику `MSE` на тестовых данных.\n",
    "Используйте `learning_rate=1e-2` в оптимизаторе.\n",
    "\n",
    "Когда будете тестировать, не забудьте перенести тестовые данные в `torch.Tensor`"
   ]
  },
  {
   "cell_type": "code",
   "execution_count": 13,
   "metadata": {},
   "outputs": [],
   "source": []
  },
  {
   "cell_type": "markdown",
   "metadata": {},
   "source": [
    "### Задание №11\n",
    "Вам необходимо усложнить существующую нейронную сеть, добавив один скрытый слой. \n",
    "\n",
    "Используйте следующие параметры: \n",
    "\n",
    "Размерность скрытого слоя: 6 нейронов, функция активации -  `ReLU`\n",
    "\n",
    "Приложите в лмс код, который в переменную `model` запишет вашу модель"
   ]
  },
  {
   "cell_type": "code",
   "execution_count": 14,
   "metadata": {},
   "outputs": [],
   "source": [
    "def build_model(): ...\n",
    "\n",
    "\n",
    "model = build_model()"
   ]
  },
  {
   "cell_type": "markdown",
   "metadata": {},
   "source": [
    "### Задание №12\n",
    "Приложите в ЛМС метрику качества этой сети после 2к итераций обучения.\n",
    "Эту модель можно обучить на CPU, не обязательно на видеокарте.\n",
    "\n",
    "Используйте для обучения ту же функцию `train_loop` с теми же параметрами (`learning rate`, число итераций и т.п.)"
   ]
  },
  {
   "cell_type": "code",
   "execution_count": 15,
   "metadata": {},
   "outputs": [],
   "source": []
  },
  {
   "cell_type": "markdown",
   "metadata": {},
   "source": [
    "### Задание №13\n",
    "Добавьте дополнительные слои в нейронную сеть\n",
    "\n",
    "Вам необходимо усложнить нейронную сеть, добавив еще 2-3 скрытых слоя с такими же размерностями, как в предыдущем задании.\n",
    "\n",
    "Приложите в лмс код, который в переменную `model` запишет вашу модель"
   ]
  },
  {
   "cell_type": "code",
   "execution_count": 16,
   "metadata": {},
   "outputs": [],
   "source": [
    "def build_model(): ...\n",
    "\n",
    "\n",
    "model = build_model()"
   ]
  },
  {
   "cell_type": "markdown",
   "metadata": {},
   "source": [
    "### Задание №14\n",
    "Приложите в ЛМС метрику качества после 2к итераций обучения.\n",
    "\n",
    "Используйте для обучения ту же функцию `train_loop` с теми же параметрами (`learning rate`, число итераций и т.п.)\n",
    "\n",
    "Эту модель можно обучить на CPU, не обязательно на видеокарте."
   ]
  },
  {
   "cell_type": "code",
   "execution_count": 17,
   "metadata": {},
   "outputs": [],
   "source": []
  },
  {
   "cell_type": "code",
   "execution_count": 18,
   "metadata": {},
   "outputs": [],
   "source": []
  }
 ],
 "metadata": {
  "kernelspec": {
   "display_name": ".venv",
   "language": "python",
   "name": "python3"
  },
  "language_info": {
   "codemirror_mode": {
    "name": "ipython",
    "version": 3
   },
   "file_extension": ".py",
   "mimetype": "text/x-python",
   "name": "python",
   "nbconvert_exporter": "python",
   "pygments_lexer": "ipython3",
   "version": "3.10.0"
  }
 },
 "nbformat": 4,
 "nbformat_minor": 4
}
