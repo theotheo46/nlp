{
 "cells": [
  {
   "cell_type": "code",
   "execution_count": 1,
   "id": "3fbee001",
   "metadata": {},
   "outputs": [],
   "source": [
    "import pandas as pd # для обработки и анализа данных\n",
    "import numpy as np # для математических вычислений\n",
    "from tqdm.auto import tqdm # для отслеживания прогресса длительных операций\n",
    "import matplotlib.pyplot as plt # для визуализации\n",
    "from wordcloud import WordCloud\n",
    "from sklearn.feature_extraction.text import CountVectorizer\n",
    "from sklearn.linear_model import LogisticRegression\n",
    "from sklearn.metrics import accuracy_score\n",
    "from sklearn.feature_extraction.text import TfidfVectorizer\n",
    "from sklearn.manifold import TSNE\n",
    "import re\n",
    "from string import punctuation\n",
    "from nltk.tokenize import wordpunct_tokenize\n",
    "from nltk.corpus import stopwords\n",
    "import nltk\n",
    "from nltk.stem import PorterStemmer\n",
    "from nltk.stem import WordNetLemmatizer\n",
    "from gensim.models.ldamodel import LdaModel\n",
    "from gensim.corpora.dictionary import Dictionary\n",
    "from gensim.models import Word2Vec\n",
    "import gensim.downloader as api\n",
    "import bokeh.models as bm, bokeh.plotting as pl\n",
    "from bokeh.io import output_notebook\n",
    "from sklearn.manifold import TSNE\n",
    "from typing import List"
   ]
  },
  {
   "cell_type": "code",
   "execution_count": 4,
   "id": "4b7ea9f2",
   "metadata": {},
   "outputs": [
    {
     "data": {
      "text/plain": [
       "'replace_this b replace_this'"
      ]
     },
     "execution_count": 4,
     "metadata": {},
     "output_type": "execute_result"
    }
   ],
   "source": [
    "re.sub(pattern=r'<.*>', repl='replace_this', string='<a> b <c>')\n",
    "re.sub(pattern=r'<.*?>', repl='replace_this', string='<a> b <c>')"
   ]
  },
  {
   "cell_type": "code",
   "execution_count": 12,
   "id": "4adb54c1",
   "metadata": {},
   "outputs": [
    {
     "name": "stdout",
     "output_type": "stream",
     "text": [
      "111\n"
     ]
    }
   ],
   "source": [
    "s = '111'\n",
    "print(s)"
   ]
  },
  {
   "cell_type": "code",
   "execution_count": null,
   "id": "433466fb",
   "metadata": {},
   "outputs": [
    {
     "data": {
      "text/plain": [
       "'12345trtrt'"
      ]
     },
     "execution_count": 10,
     "metadata": {},
     "output_type": "execute_result"
    }
   ],
   "source": [
    "re.sub(pattern=r'\\{\\{.*?\\}\\}', repl='', string='{{111}}12345{{000}}trtrt')"
   ]
  },
  {
   "cell_type": "code",
   "execution_count": 2,
   "id": "f05855bc",
   "metadata": {},
   "outputs": [],
   "source": [
    "def remove_private_data(texts: List[str]) -> List[str]:\n",
    "    return [re.sub(pattern=r'\\{\\{.*?\\}\\}', repl='', string=x) for x in texts]"
   ]
  },
  {
   "cell_type": "code",
   "execution_count": 5,
   "id": "637be9f6",
   "metadata": {},
   "outputs": [
    {
     "data": {
      "text/plain": [
       "['111{222}}aaa', '222', '333']"
      ]
     },
     "execution_count": 5,
     "metadata": {},
     "output_type": "execute_result"
    }
   ],
   "source": [
    "texts : List[str] = ['{{111}}111{222}}aaa', '222', '333']\n",
    "remove_private_data(texts)"
   ]
  }
 ],
 "metadata": {
  "kernelspec": {
   "display_name": ".venv",
   "language": "python",
   "name": "python3"
  },
  "language_info": {
   "codemirror_mode": {
    "name": "ipython",
    "version": 3
   },
   "file_extension": ".py",
   "mimetype": "text/x-python",
   "name": "python",
   "nbconvert_exporter": "python",
   "pygments_lexer": "ipython3",
   "version": "3.10.12"
  }
 },
 "nbformat": 4,
 "nbformat_minor": 5
}
