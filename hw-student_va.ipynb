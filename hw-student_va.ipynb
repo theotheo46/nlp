{
 "cells": [
  {
   "cell_type": "markdown",
   "metadata": {},
   "source": [
    "# Домашнее задание 4\n",
    "\n",
    "В этом задании мы:\n",
    "1. Построим классификатор датасета CIFAR с помощью обычных нейросетей и CNN.\n",
    "2. Поработаем с аугментациями и добьемся большего качества с их помощью.\n",
    "3. Попрактикуемся с техникой fine-tuning: возьмем готовый MobileNet и дообучим последний слой под нашу задачу."
   ]
  },
  {
   "cell_type": "markdown",
   "metadata": {},
   "source": [
    "## Классификация: CNN против обычных сетей\n",
    "\n",
    "В первой части задания мы повторим то, что проделывалось на лекции.\n",
    "Но на этот раз будем учить сети до победного, пока их качество не перестанет улучшаться - и сравним результаты.\n",
    "\n",
    "Также в конце оценим число параметров в каждой сети, чтобы сравнить эффективность CNN и FC при работе с изображениями.\n",
    "\n",
    "Воспользуемся датасетом CIFAR."
   ]
  },
  {
   "cell_type": "code",
   "execution_count": 1,
   "metadata": {},
   "outputs": [
    {
     "name": "stdout",
     "output_type": "stream",
     "text": [
      "/root/nlp/.venv/bin/python\n"
     ]
    }
   ],
   "source": [
    "import sys\n",
    "print(sys.executable)"
   ]
  },
  {
   "cell_type": "code",
   "execution_count": 1,
   "metadata": {
    "colab": {
     "base_uri": "https://localhost:8080/"
    },
    "id": "xARvjMxP4JWd",
    "outputId": "8af51d49-953f-4107-f0c6-8318cc64acf2"
   },
   "outputs": [
    {
     "name": "stdout",
     "output_type": "stream",
     "text": [
      "Files already downloaded and verified\n",
      "Files already downloaded and verified\n"
     ]
    }
   ],
   "source": [
    "from dataclasses import dataclass\n",
    "\n",
    "import torch\n",
    "import torch.nn as nn\n",
    "import torch.nn.functional as F\n",
    "from torch.utils.data import DataLoader\n",
    "from torchvision.datasets import CIFAR10\n",
    "from torchvision.transforms import ToTensor\n",
    "\n",
    "import matplotlib.pyplot as plt\n",
    "from IPython.display import clear_output\n",
    "from time import perf_counter\n",
    "from tqdm import tqdm\n",
    "\n",
    "import cv2\n",
    "import matplotlib.pyplot as plt\n",
    "\n",
    "train_dataset = CIFAR10(root=\"./data\", train=True, download=True, transform=ToTensor())\n",
    "test_dataset = CIFAR10(root=\"./data\", train=False, download=True, transform=ToTensor())"
   ]
  },
  {
   "cell_type": "code",
   "execution_count": 2,
   "metadata": {},
   "outputs": [
    {
     "data": {
      "text/plain": [
       "<matplotlib.image.AxesImage at 0x7fb53f04a830>"
      ]
     },
     "execution_count": 2,
     "metadata": {},
     "output_type": "execute_result"
    },
    {
     "data": {
      "image/png": "[encoded data removed]",
      "text/plain": [
       "<Figure size 640x480 with 1 Axes>"
      ]
     },
     "metadata": {},
     "output_type": "display_data"
    }
   ],
   "source": [
    "plt.imshow(train_dataset[6][0].permute(1, 2, 0))"
   ]
  },
  {
   "cell_type": "code",
   "execution_count": 4,
   "metadata": {},
   "outputs": [
    {
     "data": {
      "text/plain": [
       "tensor([[[0.4902, 0.4314, 0.4000,  ..., 0.7922, 0.7843, 0.7922],\n",
       "         [0.5569, 0.5725, 0.6902,  ..., 0.7647, 0.7765, 0.8000],\n",
       "         [0.7059, 0.5608, 0.6118,  ..., 0.4784, 0.5451, 0.6196],\n",
       "         ...,\n",
       "         [0.4078, 0.3961, 0.3961,  ..., 0.4941, 0.4941, 0.4902],\n",
       "         [0.4078, 0.4118, 0.4275,  ..., 0.5412, 0.5373, 0.5373],\n",
       "         [0.4118, 0.4235, 0.4510,  ..., 0.5608, 0.5608, 0.5647]],\n",
       "\n",
       "        [[0.4902, 0.3961, 0.3529,  ..., 0.8118, 0.8039, 0.8157],\n",
       "         [0.5725, 0.5647, 0.6745,  ..., 0.7882, 0.8039, 0.8275],\n",
       "         [0.7255, 0.5725, 0.6157,  ..., 0.4353, 0.5020, 0.5765],\n",
       "         ...,\n",
       "         [0.3216, 0.3137, 0.3176,  ..., 0.4039, 0.4039, 0.3961],\n",
       "         [0.3176, 0.3294, 0.3451,  ..., 0.4431, 0.4431, 0.4392],\n",
       "         [0.3255, 0.3412, 0.3686,  ..., 0.4588, 0.4549, 0.4549]],\n",
       "\n",
       "        [[0.4549, 0.3569, 0.3255,  ..., 0.8392, 0.8314, 0.8392],\n",
       "         [0.5569, 0.5451, 0.6667,  ..., 0.8039, 0.8196, 0.8431],\n",
       "         [0.7176, 0.5725, 0.6157,  ..., 0.4431, 0.5137, 0.5882],\n",
       "         ...,\n",
       "         [0.1608, 0.1529, 0.1490,  ..., 0.2627, 0.2706, 0.2667],\n",
       "         [0.1569, 0.1608, 0.1686,  ..., 0.3059, 0.3137, 0.3176],\n",
       "         [0.1647, 0.1765, 0.1961,  ..., 0.3216, 0.3294, 0.3373]]])"
      ]
     },
     "execution_count": 4,
     "metadata": {},
     "output_type": "execute_result"
    }
   ],
   "source": [
    "train_dataset[9][0]"
   ]
  },
  {
   "cell_type": "markdown",
   "metadata": {},
   "source": [
    "### Задание №1\n",
    "\n",
    "Создайте два объекта `DataLoader` и сохраните их в переменные `train_loader` и `test_loader` (для тренировочной и тестовой выборки соответственно).\n",
    "\n",
    "Используйте размер батча 256."
   ]
  },
  {
   "cell_type": "code",
   "execution_count": 9,
   "metadata": {},
   "outputs": [],
   "source": [
    "batch_size = 256\n",
    "\n",
    "# NOTE Если вы используете num_workers > 1 и хотите полной воспроизводимости, нужно немного добавить кода, см.\n",
    "# https://pytorch.org/docs/stable/notes/randomness.html#dataloader\n",
    "# В этом задании опускаем этот момент для простоты - нам важен порядок чисел, случайные флуктуации приемлемы.\n",
    "train_loader = DataLoader(\n",
    "    train_dataset, batch_size=batch_size, shuffle=True, num_workers=2\n",
    ")\n",
    "test_loader = DataLoader(\n",
    "    test_dataset, batch_size=batch_size, shuffle=False, num_workers=2\n",
    ")"
   ]
  },
  {
   "cell_type": "markdown",
   "metadata": {},
   "source": [
    "### Задание №2\n",
    "\n",
    "Обучите полносвязную сеть для классификации CIFAR.\n",
    "\n",
    "Достаточно 3 блоков \"Linear + ReLU\".\n",
    "Ваша задача - вывести accuracy на _тестовой выборке_ на плато.\n",
    "Т.е. нужно обучить сеть настолько долго, чтобы увидеть, как ее качество перестает расти с ростом числа эпох.\n",
    "Для этого попробуйте подвигать `lr` и `num_epochs`.\n",
    "\n",
    "\n",
    "Сдайте в ЛМС предельный accuracy, который может достичь полносвязная сеть."
   ]
  },
  {
   "cell_type": "code",
   "execution_count": 4,
   "metadata": {},
   "outputs": [
    {
     "name": "stdout",
     "output_type": "stream",
     "text": [
      "<class 'torch.Tensor'>\n",
      "torch.Size([256, 3, 32, 32])\n",
      "<class 'torch.Tensor'>\n",
      "torch.Size([256])\n"
     ]
    }
   ],
   "source": [
    "for one_batch in train_loader:\n",
    "    batch_of_images, batch_of_labels = one_batch\n",
    "    print(type(batch_of_images))\n",
    "    print(batch_of_images.shape)\n",
    "    print(type(batch_of_labels))\n",
    "    print(batch_of_labels.shape)\n",
    "    break"
   ]
  },
  {
   "cell_type": "code",
   "execution_count": 10,
   "metadata": {},
   "outputs": [],
   "source": [
    "@dataclass\n",
    "class TrainConfig:\n",
    "    lr: float\n",
    "    num_epochs: int"
   ]
  },
  {
   "cell_type": "code",
   "execution_count": 2,
   "metadata": {},
   "outputs": [
    {
     "data": {
      "text/plain": [
       "True"
      ]
     },
     "execution_count": 2,
     "metadata": {},
     "output_type": "execute_result"
    }
   ],
   "source": [
    "torch.cuda.is_available() "
   ]
  },
  {
   "cell_type": "code",
   "execution_count": 11,
   "metadata": {},
   "outputs": [],
   "source": [
    "def train_loop(\n",
    "    model: nn.Module,\n",
    "    train_loader: DataLoader,\n",
    "    val_loader: DataLoader,\n",
    "    optimizer: torch.optim.Optimizer,\n",
    "    config: TrainConfig,\n",
    "    device: torch.device = torch.device(\"cuda\" if torch.cuda.is_available() else \"cpu\"),\n",
    "):\n",
    "    # Перенос модели на GPU, если доступен\n",
    "    model = model.to(device)\n",
    "    val_acc = []\n",
    "    max_accuracy = 0\n",
    "    # Цикл по эпохам\n",
    "    for i in range(config.num_epochs):\n",
    "        model.train()  # Переключение в режим обучения\n",
    "\n",
    "        for X_batch, y_batch in train_loader:\n",
    "            # Перенос батча на GPU\n",
    "            X_batch, y_batch = X_batch.to(device), y_batch.to(device)\n",
    "\n",
    "            # Обнуление градиентов\n",
    "            optimizer.zero_grad()\n",
    "\n",
    "            # Получение предсказаний модели\n",
    "            outputs = model(X_batch)\n",
    "\n",
    "            # Расчёт потерь\n",
    "            loss = F.cross_entropy(outputs, y_batch)\n",
    "            loss.backward()  # Обратное распространение ошибки\n",
    "\n",
    "            # Обновление параметров модели\n",
    "            optimizer.step()\n",
    "\n",
    "        # Валидация\n",
    "        model.eval()  # Переключение в режим валидации\n",
    "        total_val_acc = 0\n",
    "        total_val_samples = 0\n",
    "\n",
    "        with torch.no_grad():\n",
    "            for X_batch, y_batch in val_loader:\n",
    "                # Перенос батча на GPU\n",
    "                X_batch, y_batch = X_batch.to(device), y_batch.to(device)\n",
    "\n",
    "                # Получение предсказаний модели\n",
    "                val_outputs = model(X_batch)\n",
    "                # print('### val_outputs')\n",
    "                # print(val_outputs.shape)\n",
    "                # print('### val_outputs.argmax(1)')\n",
    "                # print(val_outputs.argmax(1))\n",
    "                # print('### y_batch')\n",
    "                # print(y_batch.shape)\n",
    "\n",
    "                # Накопление статистики\n",
    "                total_val_acc += (val_outputs.argmax(1) == y_batch).sum().item()\n",
    "                total_val_samples += X_batch.size(0)\n",
    "\n",
    "        # Расчёт средней потери и точности на валидационном наборе\n",
    "        accuracy = total_val_acc / total_val_samples\n",
    "        if accuracy > max_accuracy:\n",
    "            max_accuracy = accuracy\n",
    "        val_acc.append(accuracy)\n",
    "        plot_accuracy(i + 1, val_acc, max_accuracy)\n",
    "    print(f'### max_accuracy = {max_accuracy}')"
   ]
  },
  {
   "cell_type": "code",
   "execution_count": 29,
   "metadata": {},
   "outputs": [],
   "source": [
    "def plot_accuracy(epoch: int, values: list[float], max_accuracy: float):\n",
    "    \"\"\"Пример:\n",
    "\n",
    "    >>> acc.append(validation_accuracy)\n",
    "    >>> plot(i + 1, validation_accuracy)\n",
    "    \"\"\"\n",
    "    clear_output(True)\n",
    "    plt.title(f'Epoch {epoch}. Last accuracy: {values[-1]} Max Accuracy: {max_accuracy}')\n",
    "    plt.ylim(0,1)\n",
    "    plt.plot(values)\n",
    "    plt.grid()\n",
    "    plt.show()\n",
    "    "
   ]
  },
  {
   "cell_type": "code",
   "execution_count": 12,
   "metadata": {},
   "outputs": [
    {
     "data": {
      "image/png": "[encoded data removed]",
      "text/plain": [
       "<Figure size 640x480 with 1 Axes>"
      ]
     },
     "metadata": {},
     "output_type": "display_data"
    },
    {
     "name": "stdout",
     "output_type": "stream",
     "text": [
      "### max_accuracy = 0.535\n"
     ]
    }
   ],
   "source": [
    "class SimpleFCNModel(nn.Module):\n",
    "    \n",
    "    def __init__(self, num_classes=10):\n",
    "        \n",
    "        super().__init__()\n",
    "              \n",
    "        self.net = nn.Sequential(\n",
    "            nn.Flatten(),\n",
    "            nn.Linear(in_features=32 * 32 * 3, out_features=512),\n",
    "            nn.ReLU(),\n",
    "            nn.Linear(in_features=512, out_features=256),\n",
    "            nn.ReLU(),\n",
    "            nn.Linear(in_features=256, out_features=128),\n",
    "            nn.ReLU(),\n",
    "            nn.Linear(in_features=128, out_features=num_classes),            \n",
    "        )\n",
    "\n",
    "    def forward(self, x: torch.Tensor):        \n",
    "        return self.net(x)\n",
    "    \n",
    "    \n",
    "\n",
    "torch.manual_seed(987)\n",
    "params = TrainConfig(lr=1e-3, num_epochs=20)\n",
    "model = SimpleFCNModel()\n",
    "optimizer = torch.optim.Adam(model.parameters(), lr=params.lr)\n",
    "train_loop(model, train_loader, test_loader, optimizer, params)\n"
   ]
  },
  {
   "cell_type": "code",
   "execution_count": 13,
   "metadata": {},
   "outputs": [],
   "source": [
    "def report_parameters(model: nn.Module):\n",
    "    print(\n",
    "        \"Суммарное количество параметров:\",\n",
    "        sum(p.nelement() for p in model.parameters()),\n",
    "    )\n",
    "    print(\n",
    "        \"Суммарный размер (Мб) параметров:\",\n",
    "        sum(\n",
    "            parameter.nelement() * parameter.element_size()\n",
    "            for parameter in model.parameters()\n",
    "        )\n",
    "        / 1024**2,\n",
    "    )"
   ]
  },
  {
   "cell_type": "code",
   "execution_count": 14,
   "metadata": {},
   "outputs": [
    {
     "name": "stdout",
     "output_type": "stream",
     "text": [
      "Суммарное количество параметров: 1738890\n",
      "Суммарный размер (Мб) параметров: 6.633338928222656\n"
     ]
    }
   ],
   "source": [
    "report_parameters(model)"
   ]
  },
  {
   "cell_type": "markdown",
   "metadata": {},
   "source": [
    "### Задание №3\n",
    "\n",
    "Теперь постройте и обучите CNN сеть.\n",
    "Опять же, не используйте глубокую сеть: мы хотим иметь схожее количество параметров для сравнения.\n",
    "\n",
    "Достаточно будет трех блоков \"Conv + ReLU + MaxPool\"."
   ]
  },
  {
   "cell_type": "code",
   "execution_count": 15,
   "metadata": {},
   "outputs": [],
   "source": [
    "class SimpleCNNModel(nn.Module):\n",
    "    \n",
    "    def explain_output(self, x: torch.Tensor):\n",
    "        # Печатает размеры тензора на выходе каждого слоя\n",
    "        print(\"## Модель ##\")\n",
    "        print(model)\n",
    "        print(\"## Размерности\")\n",
    "        print(\"Пришел x:\", x.shape)\n",
    "        current = x\n",
    "        for one_layer in self.conv_net:\n",
    "            print(\"#######\")\n",
    "            print(\"Слой:\".ljust(8), one_layer)\n",
    "            print(\"До:\".ljust(8), current.shape)\n",
    "            current = one_layer(current)\n",
    "            print(\"После:\".ljust(8), current.shape)\n",
    "        print(\"## После всей модели\")\n",
    "        print(self(x).shape)\n",
    "    \n",
    "    def __init__(self, num_classes=10):\n",
    "        \n",
    "        super().__init__()\n",
    "              \n",
    "        self.conv_net = nn.Sequential(\n",
    "            nn.Conv2d(3, 32, kernel_size=3, stride=1, padding=1),\n",
    "            nn.ReLU(),\n",
    "            #nn.BatchNorm2d(32),\n",
    "            nn.Dropout(p=0.3),\n",
    "            nn.MaxPool2d(kernel_size=2, stride=2),\n",
    "            \n",
    "            nn.Conv2d(32, 64, kernel_size=3, stride=1, padding=1),\n",
    "            nn.ReLU(),\n",
    "            #nn.BatchNorm2d(64),\n",
    "            nn.Dropout(p=0.3),\n",
    "            nn.MaxPool2d(kernel_size=2, stride=2),\n",
    "            \n",
    "            nn.Conv2d(64, 128, kernel_size=3, stride=1, padding=1),\n",
    "            nn.ReLU(),\n",
    "            #nn.BatchNorm2d(128),\n",
    "            nn.Dropout(p=0.3),\n",
    "            nn.MaxPool2d(kernel_size=2, stride=2),\n",
    "        )\n",
    "\n",
    "        self.fc = nn.Linear(128 * 4 * 4, num_classes)\n",
    "\n",
    "    def forward(self, x: torch.Tensor):      \n",
    "        x = self.conv_net(x)\n",
    "        x = x.view(-1, 128 * 4 * 4)\n",
    "        return self.fc(x)"
   ]
  },
  {
   "cell_type": "code",
   "execution_count": 17,
   "metadata": {},
   "outputs": [],
   "source": [
    "def plot_filters(weights, num_filters=32):\n",
    "    plt.figure(figsize=(10, 10))\n",
    "    for i in range(num_filters):\n",
    "        plt.subplot(6, 6, i + 1)  # 6x6 сетка для 32 фильтров\n",
    "        filter_weights = weights[i]  # Веса i-го фильтра (размер [3, 3, 3])\n",
    "        # Визуализируем каждый канал фильтра (RGB)\n",
    "        filter_weights = filter_weights - filter_weights.min()  # Нормализация\n",
    "        filter_weights = filter_weights / filter_weights.max()  # Нормализация\n",
    "        plt.imshow(filter_weights.permute(1, 2, 0))  # Перестановка осей для отображения\n",
    "        plt.axis('off')\n",
    "    plt.tight_layout()\n",
    "    plt.show()"
   ]
  },
  {
   "cell_type": "code",
   "execution_count": 32,
   "metadata": {},
   "outputs": [],
   "source": [
    "# model = SimpleCNNModel()\n",
    "conv_layer = model.conv_net[0]\n",
    "weights = conv_layer.weight.data  # Веса фильтров (тензор размером [32, 3, 3, 3])\n",
    "weights = weights.cpu()"
   ]
  },
  {
   "cell_type": "code",
   "execution_count": 33,
   "metadata": {},
   "outputs": [
    {
     "data": {
      "image/png": "[encoded data removed]",
      "text/plain": [
       "<Figure size 1000x1000 with 32 Axes>"
      ]
     },
     "metadata": {},
     "output_type": "display_data"
    }
   ],
   "source": [
    "plot_filters(weights)"
   ]
  },
  {
   "cell_type": "code",
   "execution_count": 16,
   "metadata": {},
   "outputs": [],
   "source": [
    "torch.cuda.empty_cache()"
   ]
  },
  {
   "cell_type": "code",
   "execution_count": 20,
   "metadata": {},
   "outputs": [
    {
     "data": {
      "image/png": "[encoded data removed]",
      "text/plain": [
       "<Figure size 640x480 with 1 Axes>"
      ]
     },
     "metadata": {},
     "output_type": "display_data"
    },
    {
     "name": "stdout",
     "output_type": "stream",
     "text": [
      "### max_accuracy = 0.6295\n"
     ]
    }
   ],
   "source": [
    "torch.manual_seed(987)\n",
    "params = TrainConfig(lr=1e-2, num_epochs=50)\n",
    "model = SimpleCNNModel()\n",
    "optimizer = torch.optim.Adam(model.parameters(), lr=params.lr)\n",
    "train_loop(model, train_loader, test_loader, optimizer, params)"
   ]
  },
  {
   "cell_type": "code",
   "execution_count": 25,
   "metadata": {},
   "outputs": [
    {
     "name": "stdout",
     "output_type": "stream",
     "text": [
      "Суммарное количество параметров: 113738\n",
      "Суммарный размер (Мб) параметров: 0.43387603759765625\n"
     ]
    }
   ],
   "source": [
    "report_parameters(model)"
   ]
  },
  {
   "cell_type": "markdown",
   "metadata": {},
   "source": [
    "Обратите внимание на качество и на число параметров.\n",
    "Качество получается выше, а число параметров - на порядок меньше.\n",
    "\n",
    "Делаем вывод, что CNN позволяют выбивать лучшее качество, чем обычные сети, и при меньшем числе параметров.\n",
    "\n",
    "Но CNN - не единственный способ улучшить качество при работе с картинками."
   ]
  },
  {
   "cell_type": "markdown",
   "metadata": {},
   "source": [
    "### Задание №4\n",
    "Реализуйте следующие аугментации:\n",
    "1. Горизонтальное отражение (Horizontal Flip) с вероятностью применения 30%\n",
    "2. Вращение на угол (Rotate), близкий к 30 градусам, с вероятностью применения около 30%.\n",
    "3. Random Resized Crop - тут выберите нужные параметры самостоятельно.\n",
    "4. Normalize. Нормализовать нужно вдоль трех осей изображения. Среднее и std подсчитайте самостоятельно, используя `train_dataset` (в подсчет статистик _нельзя_ включать `test_dataset`).\n",
    "\n",
    "Используйте библиотеку `albumentations`.\n",
    "Не забудьте, что `albumentations` работает с numpy-массивами.\n",
    "Придется перегонять данные из pytorch в numpy-массивы и обратно:\n",
    "\n",
    "```python\n",
    "np_array = tensor.numpy()\n",
    "tensor_back = torch.from_numpy(np_array)\n",
    "```\n",
    "\n",
    "Сохраните аугментации в переменную `transforms` и сдайте свой код в ЛМС.\n",
    "\n",
    "<details>\n",
    "<summary>Как ваш код будет проверяться</summary>\n",
    "\n",
    "```python\n",
    "import albumentations as A\n",
    "\n",
    "# <Ваш код здесь>\n",
    "\n",
    "# Затем проверки на переменную transforms\n",
    "assert some_check(transforms)\n",
    "assert another_check(transforms)\n",
    "```\n",
    "</details>"
   ]
  },
  {
   "cell_type": "code",
   "execution_count": null,
   "metadata": {
    "id": "f4YzCLbyXcks"
   },
   "outputs": [],
   "source": [
    "import albumentations as A\n",
    "from albumentations.pytorch import ToTensorV2\n",
    "\n",
    "image_size = 32\n",
    "\n",
    "transforms = A.Compose(\n",
    "    [\n",
    "        A.HorizontalFlip(p=0.5),\n",
    "        A.RandomResizedCrop(image_size, image_size, scale=(0.8, 0.8), p=0.5),\n",
    "        A.ShiftScaleRotate(shift_limit=0.1, scale_limit=0.1, rotate_limit=30, p=0.5),\n",
    "        A.RGBShift(r_shift_limit=15, g_shift_limit=15, b_shift_limit=15, p=0.5),\n",
    "        A.OpticalDistortion(),\n",
    "        A.GridDistortion(),\n",
    "        A.Normalize(\n",
    "            mean=[0.4914, 0.4822, 0.4465],\n",
    "            std=[0.24703279, 0.24348423, 0.26158753],\n",
    "            max_pixel_value=1.0,\n",
    "        ),\n",
    "        ToTensorV2(),\n",
    "    ]\n",
    ")\n",
    "\n",
    "\n",
    "test_transforms = A.Compose(\n",
    "    [       \n",
    "       # A.Normalize(\n",
    "      #      mean=[0.4914, 0.4822, 0.4465],\n",
    "      #      std=[0.24703279, 0.24348423, 0.26158753],\n",
    "      #      max_pixel_value=1.0,\n",
    "      #  ),\n",
    "        ToTensorV2(),\n",
    "    ]\n",
    ")\n"
   ]
  },
  {
   "cell_type": "markdown",
   "metadata": {},
   "source": [
    "## Аугментации\n",
    "Зачастую аугментации помогают увеличить качество модели.\n",
    "Объясняется это так: аугментация изображений обогащает датасет новыми картинками, сгенерированными из существующих.\n",
    "Переобучения не происходит, потому что мы не просто дублируем изображения, а немного изменяем их.\n",
    "### Задание №5\n",
    "\n",
    "Обучите CNN с использованием аугментаций.\n",
    "Как и в прошлых заданиях, держите обучение до конца - пока loss не выйдет на плато.\n",
    "\n",
    "Ваша задача - получить accuracy выше 76%.\n",
    "Сдайте в ЛМС:\n",
    "- код класса модели. Класс должен называться `SimpleCNNModel`;\n",
    "- .pt файл с обученной моделью;"
   ]
  },
  {
   "cell_type": "code",
   "execution_count": 27,
   "metadata": {},
   "outputs": [
    {
     "name": "stdout",
     "output_type": "stream",
     "text": [
      "Files already downloaded and verified\n",
      "Files already downloaded and verified\n"
     ]
    }
   ],
   "source": [
    "import cv2 \n",
    "import torchvision\n",
    "    \n",
    "    \n",
    "class Cifar10SearchDataset(torchvision.datasets.CIFAR10):\n",
    "    def __init__(self, root=\"~/data/cifar10\", train=True, download=True, transform=None):\n",
    "        super().__init__(root=root, train=train, download=download, transform=transform)\n",
    "\n",
    "    def __getitem__(self, index):\n",
    "        image, label = self.data[index], self.targets[index]\n",
    "        img_as_np = img.numpy()\n",
    "\n",
    "        transformed = self.transforms(image=img_as_np.transpose(1, 2, 0))[\"image\"]\n",
    "        return transformed, label\n",
    "\n",
    "\n",
    "au_train_dataset = Cifar10SearchDataset(root=\"./data\", train=True, download=True, transform=transforms)\n",
    "au_test_dataset = Cifar10SearchDataset(root=\"./data\", train=False, download=True, transform=test_transforms)\n",
    "\n",
    "\n",
    "batch_size = 256\n",
    "\n",
    "au_train_loader = DataLoader(\n",
    "    train_dataset, batch_size=batch_size, shuffle=True, num_workers=2\n",
    ")\n"
   ]
  },
  {
   "cell_type": "code",
   "execution_count": 30,
   "metadata": {},
   "outputs": [],
   "source": [
    "class SimpleCNNModel(nn.Module):\n",
    "    \n",
    "    def __init__(self, num_classes=10):\n",
    "        \n",
    "        super().__init__()\n",
    "              \n",
    "        self.conv_net = nn.Sequential(\n",
    "            nn.Conv2d(3, 32, kernel_size=3, stride=1, padding=1),\n",
    "            nn.ReLU(),           \n",
    "            nn.Dropout(p=0.3),\n",
    "            nn.MaxPool2d(kernel_size=2, stride=2),\n",
    "            \n",
    "            nn.Conv2d(32, 64, kernel_size=3, stride=1, padding=1),\n",
    "            nn.ReLU(),           \n",
    "            nn.Dropout(p=0.3),\n",
    "            nn.MaxPool2d(kernel_size=2, stride=2),\n",
    "            \n",
    "            nn.Conv2d(64, 128, kernel_size=3, stride=1, padding=1),\n",
    "            nn.ReLU(),           \n",
    "            nn.Dropout(p=0.3),\n",
    "            nn.MaxPool2d(kernel_size=2, stride=2),\n",
    "        )\n",
    "\n",
    "        self.fc = nn.Linear(128 * 4 * 4, num_classes)\n",
    "\n",
    "    def forward(self, x: torch.Tensor):      \n",
    "        x = self.conv_net(x)\n",
    "        x = x.view(-1, 128 * 4 * 4)\n",
    "        return self.fc(x)"
   ]
  },
  {
   "cell_type": "code",
   "execution_count": 31,
   "metadata": {},
   "outputs": [
    {
     "data": {
      "image/png": "[encoded data removed]",
      "text/plain": [
       "<Figure size 640x480 with 1 Axes>"
      ]
     },
     "metadata": {},
     "output_type": "display_data"
    },
    {
     "name": "stdout",
     "output_type": "stream",
     "text": [
      "### max_accuracy = 0.7609\n"
     ]
    }
   ],
   "source": [
    "torch.manual_seed(987)\n",
    "params = TrainConfig(lr=1e-3, num_epochs=26)\n",
    "model = SimpleCNNModel()\n",
    "optimizer = torch.optim.Adam(model.parameters(), lr=params.lr)\n",
    "train_loop(model, au_train_loader, test_loader, optimizer, params)"
   ]
  },
  {
   "cell_type": "code",
   "execution_count": 69,
   "metadata": {},
   "outputs": [],
   "source": [
    "torch.save(model.state_dict(), 'model.pt')"
   ]
  },
  {
   "cell_type": "markdown",
   "metadata": {},
   "source": [
    "Аугментации улучшили качество.\n",
    "\n",
    "Заметьте, что нормализацию можно было бы применить и в прошлом пункте, чтобы более честно оценить, какой прирост дали развороты и вращения изображения.\n",
    "Советуем самостоятельно провести эксперимент и увидеть различия.\n",
    "\n",
    "<details>\n",
    "    <summary>Какие результаты ожидать</summary>\n",
    "    У авторов получилось около 73% accuracy при использовании только лишь нормализации. При добавлении остальных аугментаций качество было еще выше.\n",
    "</details>"
   ]
  },
  {
   "cell_type": "markdown",
   "metadata": {},
   "source": [
    "## Transfer learning\n",
    "### Задание №6\n",
    "Transfer learning состоит в том, чтобы взять готовую сеть и дообучить небольшую ее часть.\n",
    "В этом задании мы будем учить FC слой в конце MobileNet.\n",
    "\n",
    "Загрузите предварительно обученную модель из серии `MobileNet`, используйте `MobileNet_V3_large`.\n",
    "\n",
    "Поменяйте ее последний слой (классификатор) на один линейный слой.\n",
    "Обучите все это дело, меняя **только** параметры своего слоя (подумайте, что передавать в оптимизатор).\n",
    "Сохраните обученный слой (и только его) в `model_finetune.pt`.\n",
    "\n",
    "Сдайте в ЛМС .pt файл и код, создающий вашу модель в переменную `model_finetune`.\n",
    "Чтобы сдать это задание, достаточно набрать accuracy > 40%."
   ]
  },
  {
   "cell_type": "code",
   "execution_count": null,
   "metadata": {},
   "outputs": [],
   "source": []
  },
  {
   "cell_type": "code",
   "execution_count": null,
   "metadata": {},
   "outputs": [],
   "source": [
    "print(\n",
    "    \"Суммарное количество параметров:\",\n",
    "    sum(p.nelement() for p in trainable_params),\n",
    ")\n",
    "print(\n",
    "    \"Суммарный размер (Мб) параметров:\",\n",
    "    sum(\n",
    "        parameter.nelement() * parameter.element_size()\n",
    "        for parameter in trainable_params\n",
    "    )\n",
    "    / 1024**2,\n",
    ")"
   ]
  },
  {
   "cell_type": "markdown",
   "metadata": {},
   "source": [
    "Качество, возможно, просело, зато учим намного меньше параметров."
   ]
  },
  {
   "cell_type": "markdown",
   "metadata": {},
   "source": [
    "## Задание №7\n",
    "Возьмите предпоследний слой вашей CNN модели (тот, что до классификатора).\n",
    "Этот слой выдает вектора.\n",
    "\n",
    "Возьмите любой объект из класса 0, подсчитайте его косинусную схождесть со всеми остальными объектами из класса 0, усредните.\n",
    "Затем подсчитайте то же число, только против всех объектов из класса 1, тоже усредните.\n",
    "Отправьте в ЛМС два числа, разделенные запятой. Например, \"1, 1\"."
   ]
  },
  {
   "cell_type": "code",
   "execution_count": null,
   "metadata": {},
   "outputs": [],
   "source": [
    "..."
   ]
  },
  {
   "cell_type": "markdown",
   "metadata": {},
   "source": [
    "#### Небольшой бонус\n",
    "Эмбеддинги можно визуализировать, используя t-SNE.\n",
    "Посмотрите, что получается, попробуйте объяснить картину.\n",
    "\n",
    "Если модель достаточно качественная, то схожие классы должны собираться в одну кучку, при этом у кучек должны прослеживаться границы.\n",
    "Конечно же, не забывайте про выбросы."
   ]
  },
  {
   "cell_type": "code",
   "execution_count": null,
   "metadata": {},
   "outputs": [],
   "source": [
    "from sklearn.manifold import TSNE\n",
    "\n",
    "result = torch.empty((0, 2048))\n",
    "labels = []\n",
    "with torch.no_grad():\n",
    "    embedding_model.cpu()\n",
    "    for x_batch, y_batch in test_loader_augs:\n",
    "        embedding = embedding_model(x_batch).flatten(1)\n",
    "        embedding /= embedding.norm()\n",
    "        result = torch.concat((result, embedding))\n",
    "        labels.extend(y_batch.tolist())\n",
    "\n",
    "tsne = TSNE(random_state=42)\n",
    "plot_data = tsne.fit_transform(result.numpy())"
   ]
  },
  {
   "cell_type": "code",
   "execution_count": null,
   "metadata": {},
   "outputs": [],
   "source": [
    "fig, ax = plt.subplots(1, 1, figsize=(16, 9))\n",
    "scatter = ax.scatter(\n",
    "    plot_data[:, 0],\n",
    "    plot_data[:, 1],\n",
    "    c=labels,\n",
    "    cmap=\"viridis\",\n",
    "    edgecolor=\"k\",\n",
    "    s=20,\n",
    "    alpha=1,\n",
    ")\n",
    "plt.colorbar(scatter)"
   ]
  }
 ],
 "metadata": {
  "accelerator": "GPU",
  "colab": {
   "gpuType": "T4",
   "provenance": []
  },
  "kernelspec": {
   "display_name": ".venv",
   "language": "python",
   "name": "python3"
  },
  "language_info": {
   "codemirror_mode": {
    "name": "ipython",
    "version": 3
   },
   "file_extension": ".py",
   "mimetype": "text/x-python",
   "name": "python",
   "nbconvert_exporter": "python",
   "pygments_lexer": "ipython3",
   "version": "3.10.12"
  }
 },
 "nbformat": 4,
 "nbformat_minor": 4
}
