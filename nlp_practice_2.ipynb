{
 "cells": [
  {
   "cell_type": "code",
   "execution_count": 57,
   "id": "f052ee67",
   "metadata": {},
   "outputs": [
    {
     "data": {
      "text/plain": [
       "device(type='cuda')"
      ]
     },
     "execution_count": 57,
     "metadata": {},
     "output_type": "execute_result"
    }
   ],
   "source": [
    "import pandas as pd\n",
    "import numpy as np\n",
    "import torch\n",
    "from tqdm.auto import tqdm\n",
    "import matplotlib.pyplot as plt\n",
    "import wandb  # будем использовать для логирования\n",
    "import re\n",
    "from nltk.stem import WordNetLemmatizer\n",
    "from gensim.models import Word2Vec\n",
    "from torch.nn.utils.rnn import pad_sequence\n",
    "from nltk.corpus import stopwords\n",
    "from torch.utils.data import DataLoader\n",
    "from torch import nn\n",
    "import torch.nn.functional as F\n",
    "\n",
    "wandb.login()\n",
    "\n",
    "device = torch.device('cuda' if torch.cuda.is_available() else 'cpu')\n",
    "device"
   ]
  },
  {
   "cell_type": "code",
   "execution_count": 3,
   "id": "95daded3",
   "metadata": {},
   "outputs": [
    {
     "name": "stdout",
     "output_type": "stream",
     "text": [
      "\u001b[34m\u001b[1mwandb\u001b[0m: No netrc file found, creating one.\n",
      "\u001b[34m\u001b[1mwandb\u001b[0m: Appending key for api.wandb.ai to your netrc file: /root/.netrc\n",
      "\u001b[34m\u001b[1mwandb\u001b[0m: W&B API key is configured. Use \u001b[1m`wandb login --relogin`\u001b[0m to force relogin\n"
     ]
    }
   ],
   "source": [
    "!wandb login cc603ae0565bbbfce5cc5b068a9bddabb8950920"
   ]
  },
  {
   "cell_type": "code",
   "execution_count": 29,
   "id": "e212aa13",
   "metadata": {},
   "outputs": [
    {
     "data": {
      "text/plain": [
       "(120000, 7600)"
      ]
     },
     "execution_count": 29,
     "metadata": {},
     "output_type": "execute_result"
    }
   ],
   "source": [
    "data_train = pd.read_csv('data/train.csv', sep=',')\n",
    "data_test = pd.read_csv('data/test.csv', sep=',')\n",
    "\n",
    "# Выделяем целевые переменные\n",
    "labels_train = data_train['label']\n",
    "labels_test = data_test['label']\n",
    "\n",
    "# Смотрим на размер данных\n",
    "len(data_train), len(data_test)\n",
    "# Output:\n",
    "# (120000, 7600)\n"
   ]
  },
  {
   "cell_type": "code",
   "execution_count": 30,
   "id": "08184e0d",
   "metadata": {},
   "outputs": [
    {
     "data": {
      "text/plain": [
       "0    Wall St. Bears Claw Back Into the Black (Reute...\n",
       "1    Carlyle Looks Toward Commercial Aerospace (Reu...\n",
       "2    Oil and Economy Cloud Stocks' Outlook (Reuters...\n",
       "3    Iraq Halts Oil Exports from Main Southern Pipe...\n",
       "4    Oil prices soar to all-time record, posing new...\n",
       "Name: text, dtype: object"
      ]
     },
     "execution_count": 30,
     "metadata": {},
     "output_type": "execute_result"
    }
   ],
   "source": [
    "data_train['text'][:5]"
   ]
  },
  {
   "cell_type": "code",
   "execution_count": 38,
   "id": "d026b1e8",
   "metadata": {},
   "outputs": [],
   "source": [
    "def tokenize(text):\n",
    "    reg = re.compile(r'\\w+')\n",
    "    return reg.findall(text)\n",
    "    \n",
    "# Применяем функцию токенизации текстов к тренировочной и тестовой выборкам    \n",
    "data_tok_train = [tokenize(t.lower()) for t in data_train['text']]\n",
    "data_tok_test = [tokenize(t.lower()) for t in data_test['text']]"
   ]
  },
  {
   "cell_type": "code",
   "execution_count": 40,
   "id": "edc3738d",
   "metadata": {},
   "outputs": [],
   "source": [
    "stop_words = stopwords.words('english')\n",
    "\n",
    "def remove_stopwords(tokenized_texts):\n",
    "    clear_texts = []\n",
    "    for words in tokenized_texts:\n",
    "        clear_texts.append([word for word in words if word not in stop_words])\n",
    "\n",
    "    return clear_texts\n"
   ]
  },
  {
   "cell_type": "code",
   "execution_count": 41,
   "id": "c8d7647b",
   "metadata": {},
   "outputs": [],
   "source": [
    "data_tok_train = remove_stopwords(data_tok_train)\n",
    "data_tok_test = remove_stopwords(data_tok_test)\n"
   ]
  },
  {
   "cell_type": "code",
   "execution_count": 42,
   "id": "e89ee91c",
   "metadata": {},
   "outputs": [
    {
     "data": {
      "application/vnd.jupyter.widget-view+json": {
       "model_id": "0d7fc5e0a4e6423f824e04e5cc149347",
       "version_major": 2,
       "version_minor": 0
      },
      "text/plain": [
       "  0%|          | 0/120000 [00:00<?, ?it/s]"
      ]
     },
     "metadata": {},
     "output_type": "display_data"
    },
    {
     "data": {
      "application/vnd.jupyter.widget-view+json": {
       "model_id": "18ffad4af94c4bca8a527186dcad558e",
       "version_major": 2,
       "version_minor": 0
      },
      "text/plain": [
       "  0%|          | 0/7600 [00:00<?, ?it/s]"
      ]
     },
     "metadata": {},
     "output_type": "display_data"
    }
   ],
   "source": [
    "def lemmatize_text(tokenized_texts):\n",
    "    lemmatized_data = []\n",
    "    lemmatizer = WordNetLemmatizer()\n",
    "    for words in tqdm(tokenized_texts):\n",
    "        lemmatized_words = [lemmatizer.lemmatize(word) for word in words]\n",
    "        lemmatized_data.append(lemmatized_words)\n",
    "    return lemmatized_data\n",
    "    \n",
    "    \n",
    "lemmatized_train = lemmatize_text(data_tok_train)\n",
    "lemmatized_test = lemmatize_text(data_tok_test)\n"
   ]
  },
  {
   "cell_type": "code",
   "execution_count": 45,
   "id": "95daaaa4",
   "metadata": {},
   "outputs": [],
   "source": [
    "w2v_model = Word2Vec(\n",
    "    lemmatized_train,\n",
    "    vector_size=100,\n",
    "    min_count=4,\n",
    "    window=5\n",
    ").wv\n"
   ]
  },
  {
   "cell_type": "code",
   "execution_count": null,
   "id": "bddb7b0d",
   "metadata": {},
   "outputs": [
    {
     "data": {
      "text/plain": [
       "array([-0.35229364, -0.28613487,  0.84874773, -0.88647336,  0.667387  ,\n",
       "       -0.14061968, -0.01737839,  1.4909592 , -0.00771039,  0.24994071,\n",
       "       -1.8264297 , -0.15398373, -0.4901986 , -0.05590612, -0.7811263 ,\n",
       "       -0.0653145 , -0.14628246,  0.27856007,  1.6799984 , -0.4447753 ,\n",
       "        0.60498357,  0.22106847,  0.64900684,  0.486832  , -0.63211846,\n",
       "        1.1653243 , -0.33075592, -0.01126555,  0.89076424,  1.9020722 ,\n",
       "       -0.17842266,  0.20437464,  0.5035975 , -0.3293477 ,  0.44938287,\n",
       "       -0.2260476 ,  0.0100739 ,  0.99903256, -0.27758387,  0.01884967,\n",
       "        0.45393792,  0.35218117,  0.07084449, -0.7445908 ,  0.75876284,\n",
       "       -0.41674593,  0.23770867,  0.5613349 , -0.08249725,  0.49912533,\n",
       "        0.09932999,  1.0813301 ,  0.39050052,  0.47824636, -0.92539513,\n",
       "       -0.05390639,  0.17725924,  0.15128887, -0.21435738,  0.5724732 ,\n",
       "       -1.4903504 , -1.2104806 ,  1.8208798 ,  0.84873897, -0.19134171,\n",
       "       -0.93908894,  0.5832773 ,  0.0710884 , -0.5020134 ,  0.7479221 ,\n",
       "        0.8581708 , -0.263735  ,  0.15834178, -0.6677572 ,  1.0540634 ,\n",
       "       -0.86321867,  0.04507199, -0.62792903, -0.43232563,  0.14587626,\n",
       "       -0.09924176, -0.9936209 , -0.14797597,  0.7661143 , -0.04938284,\n",
       "       -0.4586147 ,  0.15098122,  1.0037365 ,  0.53598917, -0.06463594,\n",
       "        0.77281404, -0.48236355,  0.01101675, -0.8170827 ,  1.0729358 ,\n",
       "        0.2877091 ,  0.55988836, -0.2555303 , -0.08763761,  1.0691822 ],\n",
       "      dtype=float32)"
      ]
     },
     "execution_count": 46,
     "metadata": {},
     "output_type": "execute_result"
    }
   ],
   "source": [
    "w2v_model.get_vector('word')"
   ]
  },
  {
   "cell_type": "code",
   "execution_count": 47,
   "id": "c39f972b",
   "metadata": {},
   "outputs": [],
   "source": [
    "def encode_dataset(dataset):\n",
    "    encoded = []\n",
    "    \n",
    "    for words in dataset:\n",
    "        vectors = [w2v_model.get_vector(word) for word in words if word in w2v_model]\n",
    "        encoded.append(torch.from_numpy(np.array(vectors)))\n",
    "\n",
    "    return encoded\n"
   ]
  },
  {
   "cell_type": "code",
   "execution_count": 48,
   "id": "51c0a27b",
   "metadata": {},
   "outputs": [],
   "source": [
    "train_embeddings = encode_dataset(lemmatized_train)\n",
    "test_embeddings = encode_dataset(lemmatized_test)"
   ]
  },
  {
   "cell_type": "code",
   "execution_count": 50,
   "id": "6a75ce15",
   "metadata": {},
   "outputs": [
    {
     "data": {
      "text/plain": [
       "Text(0, 0.5, 'Count')"
      ]
     },
     "execution_count": 50,
     "metadata": {},
     "output_type": "execute_result"
    },
    {
     "data": {
      "image/png": "[encoded data removed]",
      "text/plain": [
       "<Figure size 500x400 with 1 Axes>"
      ]
     },
     "metadata": {},
     "output_type": "display_data"
    }
   ],
   "source": [
    "text_lens = [len(x) for x in train_embeddings]\n",
    "\n",
    "plt.figure(figsize=(5, 4))\n",
    "plt.hist(text_lens, bins=50);\n",
    "plt.xlabel('Text length', size=15)\n",
    "plt.ylabel('Count', size=15)\n"
   ]
  },
  {
   "cell_type": "code",
   "execution_count": null,
   "id": "53731dee",
   "metadata": {},
   "outputs": [],
   "source": [
    "train_dataset = list(zip(train_embeddings, labels_train))\n",
    "test_dataset = list(zip(test_embeddings, labels_test))"
   ]
  },
  {
   "cell_type": "code",
   "execution_count": 54,
   "id": "d3833b62",
   "metadata": {},
   "outputs": [],
   "source": [
    "def collate_fn(batch):\n",
    "    x, labels = zip(*batch)\n",
    "    return pad_sequence(x).permute(1, 0, 2), torch.tensor(labels)\n"
   ]
  },
  {
   "cell_type": "code",
   "execution_count": 56,
   "id": "53492539",
   "metadata": {},
   "outputs": [
    {
     "data": {
      "text/plain": [
       "(tensor([[[-3.3838e-01, -9.9892e-01, -8.7270e-01,  ...,  1.2466e+00,\n",
       "           -3.3864e-02,  2.7508e+00],\n",
       "          [ 2.6088e+00,  4.7691e-02, -5.0086e-01,  ...,  1.1848e+00,\n",
       "            1.2159e+00, -3.6392e+00],\n",
       "          [-1.6324e+00, -3.2776e-01, -1.3693e+00,  ...,  5.7285e-02,\n",
       "            1.1416e+00, -9.6249e-01],\n",
       "          ...,\n",
       "          [ 0.0000e+00,  0.0000e+00,  0.0000e+00,  ...,  0.0000e+00,\n",
       "            0.0000e+00,  0.0000e+00],\n",
       "          [ 0.0000e+00,  0.0000e+00,  0.0000e+00,  ...,  0.0000e+00,\n",
       "            0.0000e+00,  0.0000e+00],\n",
       "          [ 0.0000e+00,  0.0000e+00,  0.0000e+00,  ...,  0.0000e+00,\n",
       "            0.0000e+00,  0.0000e+00]],\n",
       " \n",
       "         [[-5.1029e-01,  1.4889e+00,  7.0259e-01,  ..., -2.4097e+00,\n",
       "           -3.0551e+00,  6.6585e-01],\n",
       "          [-4.1358e-02,  2.8291e+00, -5.9502e-01,  ..., -2.7954e+00,\n",
       "           -1.4224e+00, -9.7065e-01],\n",
       "          [-7.4231e-01,  1.5922e+00, -1.3230e+00,  ...,  1.9883e-01,\n",
       "           -2.9116e-01,  9.4280e-01],\n",
       "          ...,\n",
       "          [ 0.0000e+00,  0.0000e+00,  0.0000e+00,  ...,  0.0000e+00,\n",
       "            0.0000e+00,  0.0000e+00],\n",
       "          [ 0.0000e+00,  0.0000e+00,  0.0000e+00,  ...,  0.0000e+00,\n",
       "            0.0000e+00,  0.0000e+00],\n",
       "          [ 0.0000e+00,  0.0000e+00,  0.0000e+00,  ...,  0.0000e+00,\n",
       "            0.0000e+00,  0.0000e+00]],\n",
       " \n",
       "         [[-1.4946e-01, -2.5130e-03,  2.7504e-01,  ..., -2.2973e-01,\n",
       "            3.8498e-02, -2.2859e-01],\n",
       "          [ 1.4676e+00,  1.8626e+00,  4.4238e-02,  ..., -2.5203e-01,\n",
       "           -1.5779e+00, -3.7700e-01],\n",
       "          [-1.7657e+00,  7.5206e-01,  8.6645e-01,  ..., -3.7559e+00,\n",
       "           -2.7094e-02, -3.1605e+00],\n",
       "          ...,\n",
       "          [ 0.0000e+00,  0.0000e+00,  0.0000e+00,  ...,  0.0000e+00,\n",
       "            0.0000e+00,  0.0000e+00],\n",
       "          [ 0.0000e+00,  0.0000e+00,  0.0000e+00,  ...,  0.0000e+00,\n",
       "            0.0000e+00,  0.0000e+00],\n",
       "          [ 0.0000e+00,  0.0000e+00,  0.0000e+00,  ...,  0.0000e+00,\n",
       "            0.0000e+00,  0.0000e+00]],\n",
       " \n",
       "         ...,\n",
       " \n",
       "         [[-1.4425e-01,  2.9810e+00, -1.7100e+00,  ...,  7.7247e-02,\n",
       "            6.5243e-01,  4.9309e-01],\n",
       "          [ 4.2058e-01,  5.9909e-01,  2.8580e-01,  ..., -2.3208e-02,\n",
       "           -7.7586e-04,  7.5193e-01],\n",
       "          [-8.2805e-01,  6.7556e-01, -2.0209e+00,  ...,  3.0946e-01,\n",
       "           -9.3153e-01,  1.1127e+00],\n",
       "          ...,\n",
       "          [ 0.0000e+00,  0.0000e+00,  0.0000e+00,  ...,  0.0000e+00,\n",
       "            0.0000e+00,  0.0000e+00],\n",
       "          [ 0.0000e+00,  0.0000e+00,  0.0000e+00,  ...,  0.0000e+00,\n",
       "            0.0000e+00,  0.0000e+00],\n",
       "          [ 0.0000e+00,  0.0000e+00,  0.0000e+00,  ...,  0.0000e+00,\n",
       "            0.0000e+00,  0.0000e+00]],\n",
       " \n",
       "         [[ 1.0635e+00,  9.3796e-01, -2.2037e+00,  ..., -8.5290e-01,\n",
       "           -6.7341e-01,  1.9204e+00],\n",
       "          [-8.7286e-01, -4.9488e-01, -2.0436e+00,  ..., -9.4994e-01,\n",
       "           -9.5944e-02,  2.5805e+00],\n",
       "          [-5.4374e-01, -4.1206e-01,  4.0139e-01,  ..., -3.2117e-01,\n",
       "            1.1502e+00,  8.9266e-01],\n",
       "          ...,\n",
       "          [-3.5350e-01,  2.6274e-01,  1.2745e-01,  ...,  3.0055e-01,\n",
       "            3.4517e-02, -2.6989e-02],\n",
       "          [-1.8646e-01,  1.0981e-01,  1.2052e-01,  ...,  3.2560e-01,\n",
       "            1.1099e-01,  4.6000e-02],\n",
       "          [-2.2900e+00,  3.2643e+00,  5.3501e-01,  ..., -1.0658e+00,\n",
       "           -7.0140e-01, -8.7339e-01]],\n",
       " \n",
       "         [[-1.2693e+00,  1.0050e+00, -1.2292e+00,  ...,  1.4926e+00,\n",
       "           -1.4550e+00,  1.2317e+00],\n",
       "          [-1.8890e-01,  1.5517e-01, -3.9604e-01,  ...,  5.3893e-02,\n",
       "            4.7035e-01, -6.4246e-02],\n",
       "          [-8.0957e-03,  4.4333e-03,  7.7814e-02,  ...,  8.1931e-03,\n",
       "            1.2949e-01,  1.5154e-01],\n",
       "          ...,\n",
       "          [ 0.0000e+00,  0.0000e+00,  0.0000e+00,  ...,  0.0000e+00,\n",
       "            0.0000e+00,  0.0000e+00],\n",
       "          [ 0.0000e+00,  0.0000e+00,  0.0000e+00,  ...,  0.0000e+00,\n",
       "            0.0000e+00,  0.0000e+00],\n",
       "          [ 0.0000e+00,  0.0000e+00,  0.0000e+00,  ...,  0.0000e+00,\n",
       "            0.0000e+00,  0.0000e+00]]]),\n",
       " tensor([2, 3, 3, 3, 3, 3, 3, 3]))"
      ]
     },
     "execution_count": 56,
     "metadata": {},
     "output_type": "execute_result"
    }
   ],
   "source": [
    "w2v_train_loader = DataLoader(train_dataset, collate_fn=collate_fn, shuffle=True, batch_size=32)\n",
    "w2v_test_loader = DataLoader(test_dataset, collate_fn=collate_fn, shuffle=False, batch_size=8)\n",
    "\n",
    "batch = next(iter(w2v_test_loader))\n",
    "batch\n"
   ]
  },
  {
   "cell_type": "code",
   "execution_count": null,
   "id": "a200d8e3",
   "metadata": {},
   "outputs": [],
   "source": [
    "class SimpleCNN(nn.Module):\n",
    "    def __init__(self, hid_dim=100, n_classes=4):\n",
    "        super().__init__()\n",
    "        \n",
    "        # не меняем число каналов\n",
    "        self.conv1 = nn.Conv1d(hid_dim, hid_dim, kernel_size=3, stride=1, padding=0)\n",
    "        self.conv2 = nn.Conv1d(hid_dim, hid_dim, kernel_size=3, stride=1, padding=0)\n",
    "\n",
    "        self.fc = nn.Linear(hid_dim, n_classes)\n",
    "        self.relu = nn.ReLU()\n",
    "\n",
    "    def forward(self, x):\n",
    "        # x: [batch_size, seq_len, dim]\n",
    "        # меняем местами размерности, так как число каналов (dim) должно стоять на втором месте\n",
    "        x = x.permute(0, 2, 1)\n",
    "        x = self.relu(self.conv1(x))\n",
    "        x = self.relu(self.conv2(x))\n",
    "        \n",
    "        x = F.max_pool1d(x, x.size(-1)).squeeze(dim=-1)\n",
    "        \n",
    "        x = self.fc(x)\n",
    "        return x"
   ]
  },
  {
   "cell_type": "code",
   "execution_count": null,
   "id": "089ca8fe",
   "metadata": {},
   "outputs": [],
   "source": [
    "def train(model, dataloader, optimizer):\n",
    "    \"\"\"\n",
    "    Обучает модель (model) на всем наборе данных (dataloader).\n",
    "    \"\"\"\n",
    "    \n",
    "    # не забываем переводить в train режим\n",
    "    model.train()\n",
    "    criterion = nn.CrossEntropyLoss()\n",
    "    \n",
    "    # сэмплируем из dataloader наши объекты и целевые переменные\n",
    "    for i, (tokens, labels) in enumerate(dataloader):\n",
    "\t\t    # перемещаем на device\n",
    "        tokens = tokens.to(device)\n",
    "        labels = labels.to(device)\n",
    "        \n",
    "        # прогоняем через модель\n",
    "        logits = model(tokens)\n",
    "        # считаем ошибку\n",
    "        loss = criterion(logits, labels)\n",
    "        \n",
    "        # делаем шаг оптимизации\n",
    "        optimizer.zero_grad()\n",
    "        loss.backward()\n",
    "        optimizer.step()\n",
    "\n",
    "        # логируем значения ошибки и точности\n",
    "        wandb.log({\n",
    "            \"train_loss\": loss.item(),\n",
    "            \"train_accuracy\": (logits.argmax(-1) == labels).float().mean().item()\n",
    "        })"
   ]
  },
  {
   "cell_type": "code",
   "execution_count": 60,
   "id": "dcdf1688",
   "metadata": {},
   "outputs": [],
   "source": [
    "@torch.inference_mode()\n",
    "def evaluate(model, dataloader):\n",
    "    \"\"\"\n",
    "    Тестирует модель (model) на всем наборе данных (dataloader).\n",
    "    \"\"\"\n",
    "    \n",
    "    # не забываем переводить в eval режим\n",
    "    model.eval()\n",
    "    criterion = nn.CrossEntropyLoss()\n",
    "\n",
    "    correct = []\n",
    "    losses = []\n",
    "    for i, (tokens, labels) in enumerate(dataloader):\n",
    "        tokens = tokens.to(device)\n",
    "        labels = labels.to(device)\n",
    "\n",
    "        logits = model(tokens)\n",
    "        loss = criterion(logits, labels)\n",
    "\n",
    "        correct.extend((logits.argmax(-1) == labels).float().cpu())\n",
    "        losses.append(loss.item())\n",
    "\n",
    "    mean_loss = np.mean(losses)\n",
    "    accuracy = np.mean(correct)\n",
    "    \n",
    "    # логируем тестовые значения ошибки и точности\n",
    "    wandb.log({\n",
    "        \"test_loss\": mean_loss,\n",
    "        \"test_accuracy\": accuracy\n",
    "    })\n",
    "\n",
    "    return accuracy, mean_loss"
   ]
  },
  {
   "cell_type": "code",
   "execution_count": 61,
   "id": "59933651",
   "metadata": {},
   "outputs": [],
   "source": [
    "# инициализируем модель и переводим на GPU, если есть\n",
    "model = SimpleCNN().to(device)\n",
    "\n",
    "# используем Adam для обучения\n",
    "optimizer = torch.optim.Adam(model.parameters(), lr=1e-4, weight_decay=1e-3)"
   ]
  },
  {
   "cell_type": "code",
   "execution_count": 62,
   "id": "3e23b386",
   "metadata": {},
   "outputs": [
    {
     "data": {
      "text/html": [
       "Tracking run with wandb version 0.19.9"
      ],
      "text/plain": [
       "<IPython.core.display.HTML object>"
      ]
     },
     "metadata": {},
     "output_type": "display_data"
    },
    {
     "data": {
      "text/html": [
       "Run data is saved locally in <code>/root/projects/nlp/wandb/run-20250411_151724-kdiwa6pp</code>"
      ],
      "text/plain": [
       "<IPython.core.display.HTML object>"
      ]
     },
     "metadata": {},
     "output_type": "display_data"
    },
    {
     "data": {
      "text/html": [
       "Syncing run <strong><a href='https://wandb.ai/theotheo46-trs/nlp_lesson2/runs/kdiwa6pp' target=\"_blank\">simple_cnn</a></strong> to <a href='https://wandb.ai/theotheo46-trs/nlp_lesson2' target=\"_blank\">Weights & Biases</a> (<a href='https://wandb.me/developer-guide' target=\"_blank\">docs</a>)<br>"
      ],
      "text/plain": [
       "<IPython.core.display.HTML object>"
      ]
     },
     "metadata": {},
     "output_type": "display_data"
    },
    {
     "data": {
      "text/html": [
       " View project at <a href='https://wandb.ai/theotheo46-trs/nlp_lesson2' target=\"_blank\">https://wandb.ai/theotheo46-trs/nlp_lesson2</a>"
      ],
      "text/plain": [
       "<IPython.core.display.HTML object>"
      ]
     },
     "metadata": {},
     "output_type": "display_data"
    },
    {
     "data": {
      "text/html": [
       " View run at <a href='https://wandb.ai/theotheo46-trs/nlp_lesson2/runs/kdiwa6pp' target=\"_blank\">https://wandb.ai/theotheo46-trs/nlp_lesson2/runs/kdiwa6pp</a>"
      ],
      "text/plain": [
       "<IPython.core.display.HTML object>"
      ]
     },
     "metadata": {},
     "output_type": "display_data"
    },
    {
     "name": "stderr",
     "output_type": "stream",
     "text": [
      "\u001b[34m\u001b[1mwandb\u001b[0m: \u001b[32m\u001b[41mERROR\u001b[0m The nbformat package was not found. It is required to save notebook history.\n"
     ]
    },
    {
     "data": {
      "text/html": [],
      "text/plain": [
       "<IPython.core.display.HTML object>"
      ]
     },
     "metadata": {},
     "output_type": "display_data"
    },
    {
     "data": {
      "text/html": [
       "<br>    <style><br>        .wandb-row {<br>            display: flex;<br>            flex-direction: row;<br>            flex-wrap: wrap;<br>            justify-content: flex-start;<br>            width: 100%;<br>        }<br>        .wandb-col {<br>            display: flex;<br>            flex-direction: column;<br>            flex-basis: 100%;<br>            flex: 1;<br>            padding: 10px;<br>        }<br>    </style><br><div class=\"wandb-row\"><div class=\"wandb-col\"><h3>Run history:</h3><br/><table class=\"wandb\"><tr><td>test_accuracy</td><td>▁▄▄██</td></tr><tr><td>test_loss</td><td>█▅▄▂▁</td></tr><tr><td>train_accuracy</td><td>▅▆▆▄▃▆▆▇▂▁█▆▃▅▇▅▂█▄▁▇▆█▅▃▄▄▄▃▇▅▆▅▅▅▆▂▆▇▂</td></tr><tr><td>train_loss</td><td>█▆▄▃▅▂▄▄▃▄▄▃▃▄▃▄▃▅▃▅▁▁▄▃▂▅▂▆▃▂▂▃▃▂▅▅▃▃▂▂</td></tr></table><br/></div><div class=\"wandb-col\"><h3>Run summary:</h3><br/><table class=\"wandb\"><tr><td>test_accuracy</td><td>0.89934</td></tr><tr><td>test_loss</td><td>0.29368</td></tr><tr><td>train_accuracy</td><td>0.9375</td></tr><tr><td>train_loss</td><td>0.22889</td></tr></table><br/></div></div>"
      ],
      "text/plain": [
       "<IPython.core.display.HTML object>"
      ]
     },
     "metadata": {},
     "output_type": "display_data"
    },
    {
     "data": {
      "text/html": [
       " View run <strong style=\"color:#cdcd00\">simple_cnn</strong> at: <a href='https://wandb.ai/theotheo46-trs/nlp_lesson2/runs/kdiwa6pp' target=\"_blank\">https://wandb.ai/theotheo46-trs/nlp_lesson2/runs/kdiwa6pp</a><br> View project at: <a href='https://wandb.ai/theotheo46-trs/nlp_lesson2' target=\"_blank\">https://wandb.ai/theotheo46-trs/nlp_lesson2</a><br>Synced 5 W&B file(s), 0 media file(s), 0 artifact file(s) and 0 other file(s)"
      ],
      "text/plain": [
       "<IPython.core.display.HTML object>"
      ]
     },
     "metadata": {},
     "output_type": "display_data"
    },
    {
     "data": {
      "text/html": [
       "Find logs at: <code>./wandb/run-20250411_151724-kdiwa6pp/logs</code>"
      ],
      "text/plain": [
       "<IPython.core.display.HTML object>"
      ]
     },
     "metadata": {},
     "output_type": "display_data"
    }
   ],
   "source": [
    "wandb.init(project=\"nlp_lesson2\", name=\"simple_cnn\")\n",
    "\n",
    "# учим в течение 5 эпох\n",
    "for epoch in range(5):\n",
    "    train(model, w2v_train_loader, optimizer)\n",
    "    test_accuracy, test_loss = evaluate(model, w2v_test_loader)\n",
    "\n",
    "wandb.finish()"
   ]
  },
  {
   "cell_type": "code",
   "execution_count": 63,
   "id": "0150f87d",
   "metadata": {},
   "outputs": [
    {
     "name": "stdout",
     "output_type": "stream",
     "text": [
      "SimpleCNN\n",
      "Test accuracy: 0.8993421\n",
      "Test loss: 0.29367655711444585\n"
     ]
    }
   ],
   "source": [
    "print('SimpleCNN')\n",
    "print('Test accuracy:', test_accuracy)\n",
    "print('Test loss:', test_loss)\n",
    "\n",
    "# Output:\n",
    "# SimpleCNN\n",
    "# Test accuracy: 0.895\n",
    "# Test loss: 0.2985722840430313\n"
   ]
  }
 ],
 "metadata": {
  "kernelspec": {
   "display_name": ".venv",
   "language": "python",
   "name": "python3"
  },
  "language_info": {
   "codemirror_mode": {
    "name": "ipython",
    "version": 3
   },
   "file_extension": ".py",
   "mimetype": "text/x-python",
   "name": "python",
   "nbconvert_exporter": "python",
   "pygments_lexer": "ipython3",
   "version": "3.10.12"
  }
 },
 "nbformat": 4,
 "nbformat_minor": 5
}
