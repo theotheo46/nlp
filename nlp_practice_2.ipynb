{
  "cells": [
    {
      "cell_type": "code",
      "source": [
        "!pip install numpy==2.0.0"
      ],
      "metadata": {
        "colab": {
          "base_uri": "https://localhost:8080/"
        },
        "id": "z-gOeEt7OQ5m",
        "outputId": "d1c2307d-87ef-4515-b996-dee5a81dc702"
      },
      "id": "z-gOeEt7OQ5m",
      "execution_count": 1,
      "outputs": [
        {
          "output_type": "stream",
          "name": "stdout",
          "text": [
            "Collecting numpy==2.0.0\n",
            "  Downloading numpy-2.0.0-cp311-cp311-manylinux_2_17_x86_64.manylinux2014_x86_64.whl.metadata (60 kB)\n",
            "\u001b[?25l     \u001b[90m━━━━━━━━━━━━━━━━━━━━━━━━━━━━━━━━━━━━━━━━\u001b[0m \u001b[32m0.0/60.9 kB\u001b[0m \u001b[31m?\u001b[0m eta \u001b[36m-:--:--\u001b[0m\r\u001b[2K     \u001b[90m━━━━━━━━━━━━━━━━━━━━━━━━━━━━━━━━━━━━━━━━\u001b[0m \u001b[32m60.9/60.9 kB\u001b[0m \u001b[31m4.1 MB/s\u001b[0m eta \u001b[36m0:00:00\u001b[0m\n",
            "\u001b[?25hDownloading numpy-2.0.0-cp311-cp311-manylinux_2_17_x86_64.manylinux2014_x86_64.whl (19.3 MB)\n",
            "\u001b[2K   \u001b[90m━━━━━━━━━━━━━━━━━━━━━━━━━━━━━━━━━━━━━━━━\u001b[0m \u001b[32m19.3/19.3 MB\u001b[0m \u001b[31m68.8 MB/s\u001b[0m eta \u001b[36m0:00:00\u001b[0m\n",
            "\u001b[?25hInstalling collected packages: numpy\n",
            "  Attempting uninstall: numpy\n",
            "    Found existing installation: numpy 1.26.4\n",
            "    Uninstalling numpy-1.26.4:\n",
            "      Successfully uninstalled numpy-1.26.4\n",
            "\u001b[31mERROR: pip's dependency resolver does not currently take into account all the packages that are installed. This behaviour is the source of the following dependency conflicts.\n",
            "gensim 4.3.3 requires numpy<2.0,>=1.18.5, but you have numpy 2.0.0 which is incompatible.\u001b[0m\u001b[31m\n",
            "\u001b[0mSuccessfully installed numpy-2.0.0\n"
          ]
        }
      ]
    },
    {
      "cell_type": "code",
      "source": [
        "!pip install gensim"
      ],
      "metadata": {
        "colab": {
          "base_uri": "https://localhost:8080/"
        },
        "id": "HR7BlL-zPVJw",
        "outputId": "ade2bf7c-65d2-4227-c72b-17d56250ad20"
      },
      "id": "HR7BlL-zPVJw",
      "execution_count": 1,
      "outputs": [
        {
          "output_type": "stream",
          "name": "stdout",
          "text": [
            "Requirement already satisfied: gensim in /usr/local/lib/python3.11/dist-packages (4.3.3)\n",
            "Requirement already satisfied: numpy<2.0,>=1.18.5 in /usr/local/lib/python3.11/dist-packages (from gensim) (1.26.4)\n",
            "Requirement already satisfied: scipy<1.14.0,>=1.7.0 in /usr/local/lib/python3.11/dist-packages (from gensim) (1.13.1)\n",
            "Requirement already satisfied: smart-open>=1.8.1 in /usr/local/lib/python3.11/dist-packages (from gensim) (7.1.0)\n",
            "Requirement already satisfied: wrapt in /usr/local/lib/python3.11/dist-packages (from smart-open>=1.8.1->gensim) (1.17.2)\n"
          ]
        }
      ]
    },
    {
      "cell_type": "code",
      "source": [
        "from google.colab import drive\n",
        "drive.mount('/content/drive')"
      ],
      "metadata": {
        "colab": {
          "base_uri": "https://localhost:8080/"
        },
        "id": "FN_a-uN3Q7Bq",
        "outputId": "5e27f70a-497a-418a-968e-11fb6068538f"
      },
      "id": "FN_a-uN3Q7Bq",
      "execution_count": 4,
      "outputs": [
        {
          "output_type": "stream",
          "name": "stdout",
          "text": [
            "Mounted at /content/drive\n"
          ]
        }
      ]
    },
    {
      "cell_type": "code",
      "source": [
        "\n",
        "from google.colab import files\n",
        "uploaded = files.upload()"
      ],
      "metadata": {
        "colab": {
          "base_uri": "https://localhost:8080/",
          "height": 75
        },
        "id": "kOekutseQd-h",
        "outputId": "e7c8e041-aa24-4a80-e365-dbb57e872b0e"
      },
      "id": "kOekutseQd-h",
      "execution_count": 3,
      "outputs": [
        {
          "output_type": "display_data",
          "data": {
            "text/plain": [
              "<IPython.core.display.HTML object>"
            ],
            "text/html": [
              "\n",
              "     <input type=\"file\" id=\"files-d6d7c585-ae1f-471e-b60b-c2837505c2ab\" name=\"files[]\" multiple disabled\n",
              "        style=\"border:none\" />\n",
              "     <output id=\"result-d6d7c585-ae1f-471e-b60b-c2837505c2ab\">\n",
              "      Upload widget is only available when the cell has been executed in the\n",
              "      current browser session. Please rerun this cell to enable.\n",
              "      </output>\n",
              "      <script>// Copyright 2017 Google LLC\n",
              "//\n",
              "// Licensed under the Apache License, Version 2.0 (the \"License\");\n",
              "// you may not use this file except in compliance with the License.\n",
              "// You may obtain a copy of the License at\n",
              "//\n",
              "//      http://www.apache.org/licenses/LICENSE-2.0\n",
              "//\n",
              "// Unless required by applicable law or agreed to in writing, software\n",
              "// distributed under the License is distributed on an \"AS IS\" BASIS,\n",
              "// WITHOUT WARRANTIES OR CONDITIONS OF ANY KIND, either express or implied.\n",
              "// See the License for the specific language governing permissions and\n",
              "// limitations under the License.\n",
              "\n",
              "/**\n",
              " * @fileoverview Helpers for google.colab Python module.\n",
              " */\n",
              "(function(scope) {\n",
              "function span(text, styleAttributes = {}) {\n",
              "  const element = document.createElement('span');\n",
              "  element.textContent = text;\n",
              "  for (const key of Object.keys(styleAttributes)) {\n",
              "    element.style[key] = styleAttributes[key];\n",
              "  }\n",
              "  return element;\n",
              "}\n",
              "\n",
              "// Max number of bytes which will be uploaded at a time.\n",
              "const MAX_PAYLOAD_SIZE = 100 * 1024;\n",
              "\n",
              "function _uploadFiles(inputId, outputId) {\n",
              "  const steps = uploadFilesStep(inputId, outputId);\n",
              "  const outputElement = document.getElementById(outputId);\n",
              "  // Cache steps on the outputElement to make it available for the next call\n",
              "  // to uploadFilesContinue from Python.\n",
              "  outputElement.steps = steps;\n",
              "\n",
              "  return _uploadFilesContinue(outputId);\n",
              "}\n",
              "\n",
              "// This is roughly an async generator (not supported in the browser yet),\n",
              "// where there are multiple asynchronous steps and the Python side is going\n",
              "// to poll for completion of each step.\n",
              "// This uses a Promise to block the python side on completion of each step,\n",
              "// then passes the result of the previous step as the input to the next step.\n",
              "function _uploadFilesContinue(outputId) {\n",
              "  const outputElement = document.getElementById(outputId);\n",
              "  const steps = outputElement.steps;\n",
              "\n",
              "  const next = steps.next(outputElement.lastPromiseValue);\n",
              "  return Promise.resolve(next.value.promise).then((value) => {\n",
              "    // Cache the last promise value to make it available to the next\n",
              "    // step of the generator.\n",
              "    outputElement.lastPromiseValue = value;\n",
              "    return next.value.response;\n",
              "  });\n",
              "}\n",
              "\n",
              "/**\n",
              " * Generator function which is called between each async step of the upload\n",
              " * process.\n",
              " * @param {string} inputId Element ID of the input file picker element.\n",
              " * @param {string} outputId Element ID of the output display.\n",
              " * @return {!Iterable<!Object>} Iterable of next steps.\n",
              " */\n",
              "function* uploadFilesStep(inputId, outputId) {\n",
              "  const inputElement = document.getElementById(inputId);\n",
              "  inputElement.disabled = false;\n",
              "\n",
              "  const outputElement = document.getElementById(outputId);\n",
              "  outputElement.innerHTML = '';\n",
              "\n",
              "  const pickedPromise = new Promise((resolve) => {\n",
              "    inputElement.addEventListener('change', (e) => {\n",
              "      resolve(e.target.files);\n",
              "    });\n",
              "  });\n",
              "\n",
              "  const cancel = document.createElement('button');\n",
              "  inputElement.parentElement.appendChild(cancel);\n",
              "  cancel.textContent = 'Cancel upload';\n",
              "  const cancelPromise = new Promise((resolve) => {\n",
              "    cancel.onclick = () => {\n",
              "      resolve(null);\n",
              "    };\n",
              "  });\n",
              "\n",
              "  // Wait for the user to pick the files.\n",
              "  const files = yield {\n",
              "    promise: Promise.race([pickedPromise, cancelPromise]),\n",
              "    response: {\n",
              "      action: 'starting',\n",
              "    }\n",
              "  };\n",
              "\n",
              "  cancel.remove();\n",
              "\n",
              "  // Disable the input element since further picks are not allowed.\n",
              "  inputElement.disabled = true;\n",
              "\n",
              "  if (!files) {\n",
              "    return {\n",
              "      response: {\n",
              "        action: 'complete',\n",
              "      }\n",
              "    };\n",
              "  }\n",
              "\n",
              "  for (const file of files) {\n",
              "    const li = document.createElement('li');\n",
              "    li.append(span(file.name, {fontWeight: 'bold'}));\n",
              "    li.append(span(\n",
              "        `(${file.type || 'n/a'}) - ${file.size} bytes, ` +\n",
              "        `last modified: ${\n",
              "            file.lastModifiedDate ? file.lastModifiedDate.toLocaleDateString() :\n",
              "                                    'n/a'} - `));\n",
              "    const percent = span('0% done');\n",
              "    li.appendChild(percent);\n",
              "\n",
              "    outputElement.appendChild(li);\n",
              "\n",
              "    const fileDataPromise = new Promise((resolve) => {\n",
              "      const reader = new FileReader();\n",
              "      reader.onload = (e) => {\n",
              "        resolve(e.target.result);\n",
              "      };\n",
              "      reader.readAsArrayBuffer(file);\n",
              "    });\n",
              "    // Wait for the data to be ready.\n",
              "    let fileData = yield {\n",
              "      promise: fileDataPromise,\n",
              "      response: {\n",
              "        action: 'continue',\n",
              "      }\n",
              "    };\n",
              "\n",
              "    // Use a chunked sending to avoid message size limits. See b/62115660.\n",
              "    let position = 0;\n",
              "    do {\n",
              "      const length = Math.min(fileData.byteLength - position, MAX_PAYLOAD_SIZE);\n",
              "      const chunk = new Uint8Array(fileData, position, length);\n",
              "      position += length;\n",
              "\n",
              "      const base64 = btoa(String.fromCharCode.apply(null, chunk));\n",
              "      yield {\n",
              "        response: {\n",
              "          action: 'append',\n",
              "          file: file.name,\n",
              "          data: base64,\n",
              "        },\n",
              "      };\n",
              "\n",
              "      let percentDone = fileData.byteLength === 0 ?\n",
              "          100 :\n",
              "          Math.round((position / fileData.byteLength) * 100);\n",
              "      percent.textContent = `${percentDone}% done`;\n",
              "\n",
              "    } while (position < fileData.byteLength);\n",
              "  }\n",
              "\n",
              "  // All done.\n",
              "  yield {\n",
              "    response: {\n",
              "      action: 'complete',\n",
              "    }\n",
              "  };\n",
              "}\n",
              "\n",
              "scope.google = scope.google || {};\n",
              "scope.google.colab = scope.google.colab || {};\n",
              "scope.google.colab._files = {\n",
              "  _uploadFiles,\n",
              "  _uploadFilesContinue,\n",
              "};\n",
              "})(self);\n",
              "</script> "
            ]
          },
          "metadata": {}
        },
        {
          "output_type": "stream",
          "name": "stdout",
          "text": [
            "Saving Scraping.json to Scraping.json\n"
          ]
        }
      ]
    },
    {
      "cell_type": "code",
      "execution_count": 2,
      "id": "f052ee67",
      "metadata": {
        "colab": {
          "base_uri": "https://localhost:8080/",
          "height": 243
        },
        "id": "f052ee67",
        "outputId": "48aa4599-99e6-4c12-a008-dd53ef677406"
      },
      "outputs": [
        {
          "output_type": "stream",
          "name": "stderr",
          "text": [
            "\u001b[34m\u001b[1mwandb\u001b[0m: Using wandb-core as the SDK backend.  Please refer to https://wandb.me/wandb-core for more information.\n"
          ]
        },
        {
          "output_type": "display_data",
          "data": {
            "text/plain": [
              "<IPython.core.display.Javascript object>"
            ],
            "application/javascript": [
              "\n",
              "        window._wandbApiKey = new Promise((resolve, reject) => {\n",
              "            function loadScript(url) {\n",
              "            return new Promise(function(resolve, reject) {\n",
              "                let newScript = document.createElement(\"script\");\n",
              "                newScript.onerror = reject;\n",
              "                newScript.onload = resolve;\n",
              "                document.body.appendChild(newScript);\n",
              "                newScript.src = url;\n",
              "            });\n",
              "            }\n",
              "            loadScript(\"https://cdn.jsdelivr.net/npm/postmate/build/postmate.min.js\").then(() => {\n",
              "            const iframe = document.createElement('iframe')\n",
              "            iframe.style.cssText = \"width:0;height:0;border:none\"\n",
              "            document.body.appendChild(iframe)\n",
              "            const handshake = new Postmate({\n",
              "                container: iframe,\n",
              "                url: 'https://wandb.ai/authorize'\n",
              "            });\n",
              "            const timeout = setTimeout(() => reject(\"Couldn't auto authenticate\"), 5000)\n",
              "            handshake.then(function(child) {\n",
              "                child.on('authorize', data => {\n",
              "                    clearTimeout(timeout)\n",
              "                    resolve(data)\n",
              "                });\n",
              "            });\n",
              "            })\n",
              "        });\n",
              "    "
            ]
          },
          "metadata": {}
        },
        {
          "output_type": "stream",
          "name": "stderr",
          "text": [
            "\u001b[34m\u001b[1mwandb\u001b[0m: Logging into wandb.ai. (Learn how to deploy a W&B server locally: https://wandb.me/wandb-server)\n",
            "\u001b[34m\u001b[1mwandb\u001b[0m: You can find your API key in your browser here: https://wandb.ai/authorize\n",
            "wandb: Paste an API key from your profile and hit enter:"
          ]
        },
        {
          "name": "stdout",
          "output_type": "stream",
          "text": [
            " ··········\n"
          ]
        },
        {
          "output_type": "stream",
          "name": "stderr",
          "text": [
            "\u001b[34m\u001b[1mwandb\u001b[0m: \u001b[33mWARNING\u001b[0m If you're specifying your api key in code, ensure this code is not shared publicly.\n",
            "\u001b[34m\u001b[1mwandb\u001b[0m: \u001b[33mWARNING\u001b[0m Consider setting the WANDB_API_KEY environment variable, or running `wandb login` from the command line.\n",
            "\u001b[34m\u001b[1mwandb\u001b[0m: No netrc file found, creating one.\n",
            "\u001b[34m\u001b[1mwandb\u001b[0m: Appending key for api.wandb.ai to your netrc file: /root/.netrc\n",
            "\u001b[34m\u001b[1mwandb\u001b[0m: Currently logged in as: \u001b[33mtheotheo46\u001b[0m (\u001b[33mtheotheo46-trs\u001b[0m) to \u001b[32mhttps://api.wandb.ai\u001b[0m. Use \u001b[1m`wandb login --relogin`\u001b[0m to force relogin\n"
          ]
        },
        {
          "output_type": "execute_result",
          "data": {
            "text/plain": [
              "device(type='cpu')"
            ]
          },
          "metadata": {},
          "execution_count": 2
        }
      ],
      "source": [
        "import pandas as pd\n",
        "import numpy as np\n",
        "import torch\n",
        "from tqdm.auto import tqdm\n",
        "import matplotlib.pyplot as plt\n",
        "import wandb  # будем использовать для логирования\n",
        "import re\n",
        "from nltk.stem import WordNetLemmatizer\n",
        "from gensim.models import Word2Vec\n",
        "from torch.nn.utils.rnn import pad_sequence\n",
        "from nltk.corpus import stopwords\n",
        "from torch.utils.data import DataLoader\n",
        "from torch import nn\n",
        "import torch.nn.functional as F\n",
        "\n",
        "wandb.login()\n",
        "\n",
        "device = torch.device('cuda' if torch.cuda.is_available() else 'cpu')\n",
        "device"
      ]
    },
    {
      "cell_type": "code",
      "execution_count": null,
      "id": "95daded3",
      "metadata": {
        "id": "95daded3",
        "outputId": "91d13565-2951-4304-b759-1c3e365c8167"
      },
      "outputs": [
        {
          "name": "stdout",
          "output_type": "stream",
          "text": [
            "\u001b[34m\u001b[1mwandb\u001b[0m: No netrc file found, creating one.\n",
            "\u001b[34m\u001b[1mwandb\u001b[0m: Appending key for api.wandb.ai to your netrc file: /root/.netrc\n",
            "\u001b[34m\u001b[1mwandb\u001b[0m: W&B API key is configured. Use \u001b[1m`wandb login --relogin`\u001b[0m to force relogin\n"
          ]
        }
      ],
      "source": [
        "!wandb login cc603ae0565bbbfce5cc5b068a9bddabb8950920"
      ]
    },
    {
      "cell_type": "code",
      "execution_count": null,
      "id": "e212aa13",
      "metadata": {
        "id": "e212aa13",
        "outputId": "77ad09de-da07-431f-ff42-97e6d1f3f17d"
      },
      "outputs": [
        {
          "data": {
            "text/plain": [
              "(120000, 7600)"
            ]
          },
          "execution_count": 29,
          "metadata": {},
          "output_type": "execute_result"
        }
      ],
      "source": [
        "data_train = pd.read_csv('data/train.csv', sep=',')\n",
        "data_test = pd.read_csv('data/test.csv', sep=',')\n",
        "\n",
        "# Выделяем целевые переменные\n",
        "labels_train = data_train['label']\n",
        "labels_test = data_test['label']\n",
        "\n",
        "# Смотрим на размер данных\n",
        "len(data_train), len(data_test)\n",
        "# Output:\n",
        "# (120000, 7600)\n"
      ]
    },
    {
      "cell_type": "code",
      "execution_count": null,
      "id": "08184e0d",
      "metadata": {
        "id": "08184e0d",
        "outputId": "36ac3e08-48f0-44fe-fc47-1aa52a2ebb91"
      },
      "outputs": [
        {
          "data": {
            "text/plain": [
              "0    Wall St. Bears Claw Back Into the Black (Reute...\n",
              "1    Carlyle Looks Toward Commercial Aerospace (Reu...\n",
              "2    Oil and Economy Cloud Stocks' Outlook (Reuters...\n",
              "3    Iraq Halts Oil Exports from Main Southern Pipe...\n",
              "4    Oil prices soar to all-time record, posing new...\n",
              "Name: text, dtype: object"
            ]
          },
          "execution_count": 30,
          "metadata": {},
          "output_type": "execute_result"
        }
      ],
      "source": [
        "data_train['text'][:5]"
      ]
    },
    {
      "cell_type": "code",
      "execution_count": null,
      "id": "d026b1e8",
      "metadata": {
        "id": "d026b1e8"
      },
      "outputs": [],
      "source": [
        "def tokenize(text):\n",
        "    reg = re.compile(r'\\w+')\n",
        "    return reg.findall(text)\n",
        "\n",
        "# Применяем функцию токенизации текстов к тренировочной и тестовой выборкам\n",
        "data_tok_train = [tokenize(t.lower()) for t in data_train['text']]\n",
        "data_tok_test = [tokenize(t.lower()) for t in data_test['text']]"
      ]
    },
    {
      "cell_type": "code",
      "execution_count": null,
      "id": "edc3738d",
      "metadata": {
        "id": "edc3738d"
      },
      "outputs": [],
      "source": [
        "stop_words = stopwords.words('english')\n",
        "\n",
        "def remove_stopwords(tokenized_texts):\n",
        "    clear_texts = []\n",
        "    for words in tokenized_texts:\n",
        "        clear_texts.append([word for word in words if word not in stop_words])\n",
        "\n",
        "    return clear_texts\n"
      ]
    },
    {
      "cell_type": "code",
      "execution_count": null,
      "id": "c8d7647b",
      "metadata": {
        "id": "c8d7647b"
      },
      "outputs": [],
      "source": [
        "data_tok_train = remove_stopwords(data_tok_train)\n",
        "data_tok_test = remove_stopwords(data_tok_test)\n"
      ]
    },
    {
      "cell_type": "code",
      "execution_count": null,
      "id": "e89ee91c",
      "metadata": {
        "colab": {
          "referenced_widgets": [
            "0d7fc5e0a4e6423f824e04e5cc149347",
            "18ffad4af94c4bca8a527186dcad558e"
          ]
        },
        "id": "e89ee91c",
        "outputId": "c8217cb9-94dc-4464-c66b-dddeef757a96"
      },
      "outputs": [
        {
          "data": {
            "application/vnd.jupyter.widget-view+json": {
              "model_id": "0d7fc5e0a4e6423f824e04e5cc149347",
              "version_major": 2,
              "version_minor": 0
            },
            "text/plain": [
              "  0%|          | 0/120000 [00:00<?, ?it/s]"
            ]
          },
          "metadata": {},
          "output_type": "display_data"
        },
        {
          "data": {
            "application/vnd.jupyter.widget-view+json": {
              "model_id": "18ffad4af94c4bca8a527186dcad558e",
              "version_major": 2,
              "version_minor": 0
            },
            "text/plain": [
              "  0%|          | 0/7600 [00:00<?, ?it/s]"
            ]
          },
          "metadata": {},
          "output_type": "display_data"
        }
      ],
      "source": [
        "def lemmatize_text(tokenized_texts):\n",
        "    lemmatized_data = []\n",
        "    lemmatizer = WordNetLemmatizer()\n",
        "    for words in tqdm(tokenized_texts):\n",
        "        lemmatized_words = [lemmatizer.lemmatize(word) for word in words]\n",
        "        lemmatized_data.append(lemmatized_words)\n",
        "    return lemmatized_data\n",
        "\n",
        "\n",
        "lemmatized_train = lemmatize_text(data_tok_train)\n",
        "lemmatized_test = lemmatize_text(data_tok_test)\n"
      ]
    },
    {
      "cell_type": "code",
      "execution_count": null,
      "id": "95daaaa4",
      "metadata": {
        "id": "95daaaa4"
      },
      "outputs": [],
      "source": [
        "w2v_model = Word2Vec(\n",
        "    lemmatized_train,\n",
        "    vector_size=100,\n",
        "    min_count=4,\n",
        "    window=5\n",
        ").wv\n"
      ]
    },
    {
      "cell_type": "code",
      "execution_count": null,
      "id": "bddb7b0d",
      "metadata": {
        "id": "bddb7b0d",
        "outputId": "e24b89bc-1738-468f-8bad-e2f470e21eb1"
      },
      "outputs": [
        {
          "data": {
            "text/plain": [
              "array([-0.35229364, -0.28613487,  0.84874773, -0.88647336,  0.667387  ,\n",
              "       -0.14061968, -0.01737839,  1.4909592 , -0.00771039,  0.24994071,\n",
              "       -1.8264297 , -0.15398373, -0.4901986 , -0.05590612, -0.7811263 ,\n",
              "       -0.0653145 , -0.14628246,  0.27856007,  1.6799984 , -0.4447753 ,\n",
              "        0.60498357,  0.22106847,  0.64900684,  0.486832  , -0.63211846,\n",
              "        1.1653243 , -0.33075592, -0.01126555,  0.89076424,  1.9020722 ,\n",
              "       -0.17842266,  0.20437464,  0.5035975 , -0.3293477 ,  0.44938287,\n",
              "       -0.2260476 ,  0.0100739 ,  0.99903256, -0.27758387,  0.01884967,\n",
              "        0.45393792,  0.35218117,  0.07084449, -0.7445908 ,  0.75876284,\n",
              "       -0.41674593,  0.23770867,  0.5613349 , -0.08249725,  0.49912533,\n",
              "        0.09932999,  1.0813301 ,  0.39050052,  0.47824636, -0.92539513,\n",
              "       -0.05390639,  0.17725924,  0.15128887, -0.21435738,  0.5724732 ,\n",
              "       -1.4903504 , -1.2104806 ,  1.8208798 ,  0.84873897, -0.19134171,\n",
              "       -0.93908894,  0.5832773 ,  0.0710884 , -0.5020134 ,  0.7479221 ,\n",
              "        0.8581708 , -0.263735  ,  0.15834178, -0.6677572 ,  1.0540634 ,\n",
              "       -0.86321867,  0.04507199, -0.62792903, -0.43232563,  0.14587626,\n",
              "       -0.09924176, -0.9936209 , -0.14797597,  0.7661143 , -0.04938284,\n",
              "       -0.4586147 ,  0.15098122,  1.0037365 ,  0.53598917, -0.06463594,\n",
              "        0.77281404, -0.48236355,  0.01101675, -0.8170827 ,  1.0729358 ,\n",
              "        0.2877091 ,  0.55988836, -0.2555303 , -0.08763761,  1.0691822 ],\n",
              "      dtype=float32)"
            ]
          },
          "execution_count": 46,
          "metadata": {},
          "output_type": "execute_result"
        }
      ],
      "source": [
        "w2v_model.get_vector('word')"
      ]
    },
    {
      "cell_type": "code",
      "execution_count": null,
      "id": "c39f972b",
      "metadata": {
        "id": "c39f972b"
      },
      "outputs": [],
      "source": [
        "def encode_dataset(dataset):\n",
        "    encoded = []\n",
        "\n",
        "    for words in dataset:\n",
        "        vectors = [w2v_model.get_vector(word) for word in words if word in w2v_model]\n",
        "        encoded.append(torch.from_numpy(np.array(vectors)))\n",
        "\n",
        "    return encoded\n"
      ]
    },
    {
      "cell_type": "code",
      "execution_count": null,
      "id": "51c0a27b",
      "metadata": {
        "id": "51c0a27b"
      },
      "outputs": [],
      "source": [
        "train_embeddings = encode_dataset(lemmatized_train)\n",
        "test_embeddings = encode_dataset(lemmatized_test)"
      ]
    },
    {
      "cell_type": "code",
      "execution_count": null,
      "id": "6a75ce15",
      "metadata": {
        "id": "6a75ce15",
        "outputId": "a112a0a5-7d25-4ef3-dfed-4325abe29d35"
      },
      "outputs": [
        {
          "data": {
            "text/plain": [
              "Text(0, 0.5, 'Count')"
            ]
          },
          "execution_count": 50,
          "metadata": {},
          "output_type": "execute_result"
        },
        {
          "data": {
            "image/png": "[encoded data removed]",
            "text/plain": [
              "<Figure size 500x400 with 1 Axes>"
            ]
          },
          "metadata": {},
          "output_type": "display_data"
        }
      ],
      "source": [
        "text_lens = [len(x) for x in train_embeddings]\n",
        "\n",
        "plt.figure(figsize=(5, 4))\n",
        "plt.hist(text_lens, bins=50);\n",
        "plt.xlabel('Text length', size=15)\n",
        "plt.ylabel('Count', size=15)\n"
      ]
    },
    {
      "cell_type": "code",
      "execution_count": null,
      "id": "53731dee",
      "metadata": {
        "id": "53731dee"
      },
      "outputs": [],
      "source": [
        "train_dataset = list(zip(train_embeddings, labels_train))\n",
        "test_dataset = list(zip(test_embeddings, labels_test))"
      ]
    },
    {
      "cell_type": "code",
      "execution_count": null,
      "id": "d3833b62",
      "metadata": {
        "id": "d3833b62"
      },
      "outputs": [],
      "source": [
        "def collate_fn(batch):\n",
        "    x, labels = zip(*batch)\n",
        "    return pad_sequence(x).permute(1, 0, 2), torch.tensor(labels)\n"
      ]
    },
    {
      "cell_type": "code",
      "execution_count": null,
      "id": "53492539",
      "metadata": {
        "id": "53492539",
        "outputId": "b7370d73-8b58-4fd8-b1f6-01468f67cca0"
      },
      "outputs": [
        {
          "data": {
            "text/plain": [
              "(tensor([[[-3.3838e-01, -9.9892e-01, -8.7270e-01,  ...,  1.2466e+00,\n",
              "           -3.3864e-02,  2.7508e+00],\n",
              "          [ 2.6088e+00,  4.7691e-02, -5.0086e-01,  ...,  1.1848e+00,\n",
              "            1.2159e+00, -3.6392e+00],\n",
              "          [-1.6324e+00, -3.2776e-01, -1.3693e+00,  ...,  5.7285e-02,\n",
              "            1.1416e+00, -9.6249e-01],\n",
              "          ...,\n",
              "          [ 0.0000e+00,  0.0000e+00,  0.0000e+00,  ...,  0.0000e+00,\n",
              "            0.0000e+00,  0.0000e+00],\n",
              "          [ 0.0000e+00,  0.0000e+00,  0.0000e+00,  ...,  0.0000e+00,\n",
              "            0.0000e+00,  0.0000e+00],\n",
              "          [ 0.0000e+00,  0.0000e+00,  0.0000e+00,  ...,  0.0000e+00,\n",
              "            0.0000e+00,  0.0000e+00]],\n",
              " \n",
              "         [[-5.1029e-01,  1.4889e+00,  7.0259e-01,  ..., -2.4097e+00,\n",
              "           -3.0551e+00,  6.6585e-01],\n",
              "          [-4.1358e-02,  2.8291e+00, -5.9502e-01,  ..., -2.7954e+00,\n",
              "           -1.4224e+00, -9.7065e-01],\n",
              "          [-7.4231e-01,  1.5922e+00, -1.3230e+00,  ...,  1.9883e-01,\n",
              "           -2.9116e-01,  9.4280e-01],\n",
              "          ...,\n",
              "          [ 0.0000e+00,  0.0000e+00,  0.0000e+00,  ...,  0.0000e+00,\n",
              "            0.0000e+00,  0.0000e+00],\n",
              "          [ 0.0000e+00,  0.0000e+00,  0.0000e+00,  ...,  0.0000e+00,\n",
              "            0.0000e+00,  0.0000e+00],\n",
              "          [ 0.0000e+00,  0.0000e+00,  0.0000e+00,  ...,  0.0000e+00,\n",
              "            0.0000e+00,  0.0000e+00]],\n",
              " \n",
              "         [[-1.4946e-01, -2.5130e-03,  2.7504e-01,  ..., -2.2973e-01,\n",
              "            3.8498e-02, -2.2859e-01],\n",
              "          [ 1.4676e+00,  1.8626e+00,  4.4238e-02,  ..., -2.5203e-01,\n",
              "           -1.5779e+00, -3.7700e-01],\n",
              "          [-1.7657e+00,  7.5206e-01,  8.6645e-01,  ..., -3.7559e+00,\n",
              "           -2.7094e-02, -3.1605e+00],\n",
              "          ...,\n",
              "          [ 0.0000e+00,  0.0000e+00,  0.0000e+00,  ...,  0.0000e+00,\n",
              "            0.0000e+00,  0.0000e+00],\n",
              "          [ 0.0000e+00,  0.0000e+00,  0.0000e+00,  ...,  0.0000e+00,\n",
              "            0.0000e+00,  0.0000e+00],\n",
              "          [ 0.0000e+00,  0.0000e+00,  0.0000e+00,  ...,  0.0000e+00,\n",
              "            0.0000e+00,  0.0000e+00]],\n",
              " \n",
              "         ...,\n",
              " \n",
              "         [[-1.4425e-01,  2.9810e+00, -1.7100e+00,  ...,  7.7247e-02,\n",
              "            6.5243e-01,  4.9309e-01],\n",
              "          [ 4.2058e-01,  5.9909e-01,  2.8580e-01,  ..., -2.3208e-02,\n",
              "           -7.7586e-04,  7.5193e-01],\n",
              "          [-8.2805e-01,  6.7556e-01, -2.0209e+00,  ...,  3.0946e-01,\n",
              "           -9.3153e-01,  1.1127e+00],\n",
              "          ...,\n",
              "          [ 0.0000e+00,  0.0000e+00,  0.0000e+00,  ...,  0.0000e+00,\n",
              "            0.0000e+00,  0.0000e+00],\n",
              "          [ 0.0000e+00,  0.0000e+00,  0.0000e+00,  ...,  0.0000e+00,\n",
              "            0.0000e+00,  0.0000e+00],\n",
              "          [ 0.0000e+00,  0.0000e+00,  0.0000e+00,  ...,  0.0000e+00,\n",
              "            0.0000e+00,  0.0000e+00]],\n",
              " \n",
              "         [[ 1.0635e+00,  9.3796e-01, -2.2037e+00,  ..., -8.5290e-01,\n",
              "           -6.7341e-01,  1.9204e+00],\n",
              "          [-8.7286e-01, -4.9488e-01, -2.0436e+00,  ..., -9.4994e-01,\n",
              "           -9.5944e-02,  2.5805e+00],\n",
              "          [-5.4374e-01, -4.1206e-01,  4.0139e-01,  ..., -3.2117e-01,\n",
              "            1.1502e+00,  8.9266e-01],\n",
              "          ...,\n",
              "          [-3.5350e-01,  2.6274e-01,  1.2745e-01,  ...,  3.0055e-01,\n",
              "            3.4517e-02, -2.6989e-02],\n",
              "          [-1.8646e-01,  1.0981e-01,  1.2052e-01,  ...,  3.2560e-01,\n",
              "            1.1099e-01,  4.6000e-02],\n",
              "          [-2.2900e+00,  3.2643e+00,  5.3501e-01,  ..., -1.0658e+00,\n",
              "           -7.0140e-01, -8.7339e-01]],\n",
              " \n",
              "         [[-1.2693e+00,  1.0050e+00, -1.2292e+00,  ...,  1.4926e+00,\n",
              "           -1.4550e+00,  1.2317e+00],\n",
              "          [-1.8890e-01,  1.5517e-01, -3.9604e-01,  ...,  5.3893e-02,\n",
              "            4.7035e-01, -6.4246e-02],\n",
              "          [-8.0957e-03,  4.4333e-03,  7.7814e-02,  ...,  8.1931e-03,\n",
              "            1.2949e-01,  1.5154e-01],\n",
              "          ...,\n",
              "          [ 0.0000e+00,  0.0000e+00,  0.0000e+00,  ...,  0.0000e+00,\n",
              "            0.0000e+00,  0.0000e+00],\n",
              "          [ 0.0000e+00,  0.0000e+00,  0.0000e+00,  ...,  0.0000e+00,\n",
              "            0.0000e+00,  0.0000e+00],\n",
              "          [ 0.0000e+00,  0.0000e+00,  0.0000e+00,  ...,  0.0000e+00,\n",
              "            0.0000e+00,  0.0000e+00]]]),\n",
              " tensor([2, 3, 3, 3, 3, 3, 3, 3]))"
            ]
          },
          "execution_count": 56,
          "metadata": {},
          "output_type": "execute_result"
        }
      ],
      "source": [
        "w2v_train_loader = DataLoader(train_dataset, collate_fn=collate_fn, shuffle=True, batch_size=32)\n",
        "w2v_test_loader = DataLoader(test_dataset, collate_fn=collate_fn, shuffle=False, batch_size=8)\n",
        "\n",
        "batch = next(iter(w2v_test_loader))\n",
        "batch\n"
      ]
    },
    {
      "cell_type": "code",
      "execution_count": null,
      "id": "a200d8e3",
      "metadata": {
        "id": "a200d8e3"
      },
      "outputs": [],
      "source": [
        "class SimpleCNN(nn.Module):\n",
        "    def __init__(self, hid_dim=100, n_classes=4):\n",
        "        super().__init__()\n",
        "\n",
        "        # не меняем число каналов\n",
        "        self.conv1 = nn.Conv1d(hid_dim, hid_dim, kernel_size=3, stride=1, padding=0)\n",
        "        self.conv2 = nn.Conv1d(hid_dim, hid_dim, kernel_size=3, stride=1, padding=0)\n",
        "\n",
        "        self.fc = nn.Linear(hid_dim, n_classes)\n",
        "        self.relu = nn.ReLU()\n",
        "\n",
        "    def forward(self, x):\n",
        "        # x: [batch_size, seq_len, dim]\n",
        "        # меняем местами размерности, так как число каналов (dim) должно стоять на втором месте\n",
        "        x = x.permute(0, 2, 1)\n",
        "        x = self.relu(self.conv1(x))\n",
        "        x = self.relu(self.conv2(x))\n",
        "\n",
        "        x = F.max_pool1d(x, x.size(-1)).squeeze(dim=-1)\n",
        "\n",
        "        x = self.fc(x)\n",
        "        return x"
      ]
    },
    {
      "cell_type": "code",
      "execution_count": null,
      "id": "089ca8fe",
      "metadata": {
        "id": "089ca8fe"
      },
      "outputs": [],
      "source": [
        "def train(model, dataloader, optimizer):\n",
        "    \"\"\"\n",
        "    Обучает модель (model) на всем наборе данных (dataloader).\n",
        "    \"\"\"\n",
        "\n",
        "    # не забываем переводить в train режим\n",
        "    model.train()\n",
        "    criterion = nn.CrossEntropyLoss()\n",
        "\n",
        "    # сэмплируем из dataloader наши объекты и целевые переменные\n",
        "    for i, (tokens, labels) in enumerate(dataloader):\n",
        "\t\t    # перемещаем на device\n",
        "        tokens = tokens.to(device)\n",
        "        labels = labels.to(device)\n",
        "\n",
        "        # прогоняем через модель\n",
        "        logits = model(tokens)\n",
        "        # считаем ошибку\n",
        "        loss = criterion(logits, labels)\n",
        "\n",
        "        # делаем шаг оптимизации\n",
        "        optimizer.zero_grad()\n",
        "        loss.backward()\n",
        "        optimizer.step()\n",
        "\n",
        "        # логируем значения ошибки и точности\n",
        "        wandb.log({\n",
        "            \"train_loss\": loss.item(),\n",
        "            \"train_accuracy\": (logits.argmax(-1) == labels).float().mean().item()\n",
        "        })"
      ]
    },
    {
      "cell_type": "code",
      "execution_count": null,
      "id": "dcdf1688",
      "metadata": {
        "id": "dcdf1688"
      },
      "outputs": [],
      "source": [
        "@torch.inference_mode()\n",
        "def evaluate(model, dataloader):\n",
        "    \"\"\"\n",
        "    Тестирует модель (model) на всем наборе данных (dataloader).\n",
        "    \"\"\"\n",
        "\n",
        "    # не забываем переводить в eval режим\n",
        "    model.eval()\n",
        "    criterion = nn.CrossEntropyLoss()\n",
        "\n",
        "    correct = []\n",
        "    losses = []\n",
        "    for i, (tokens, labels) in enumerate(dataloader):\n",
        "        tokens = tokens.to(device)\n",
        "        labels = labels.to(device)\n",
        "\n",
        "        logits = model(tokens)\n",
        "        loss = criterion(logits, labels)\n",
        "\n",
        "        correct.extend((logits.argmax(-1) == labels).float().cpu())\n",
        "        losses.append(loss.item())\n",
        "\n",
        "    mean_loss = np.mean(losses)\n",
        "    accuracy = np.mean(correct)\n",
        "\n",
        "    # логируем тестовые значения ошибки и точности\n",
        "    wandb.log({\n",
        "        \"test_loss\": mean_loss,\n",
        "        \"test_accuracy\": accuracy\n",
        "    })\n",
        "\n",
        "    return accuracy, mean_loss"
      ]
    },
    {
      "cell_type": "code",
      "execution_count": null,
      "id": "59933651",
      "metadata": {
        "id": "59933651"
      },
      "outputs": [],
      "source": [
        "# инициализируем модель и переводим на GPU, если есть\n",
        "model = SimpleCNN().to(device)\n",
        "\n",
        "# используем Adam для обучения\n",
        "optimizer = torch.optim.Adam(model.parameters(), lr=1e-4, weight_decay=1e-3)"
      ]
    },
    {
      "cell_type": "code",
      "execution_count": null,
      "id": "3e23b386",
      "metadata": {
        "id": "3e23b386",
        "outputId": "146c9e66-2d64-4046-d8be-b8b9952fe4e7"
      },
      "outputs": [
        {
          "data": {
            "text/html": [
              "Tracking run with wandb version 0.19.9"
            ],
            "text/plain": [
              "<IPython.core.display.HTML object>"
            ]
          },
          "metadata": {},
          "output_type": "display_data"
        },
        {
          "data": {
            "text/html": [
              "Run data is saved locally in <code>/root/projects/nlp/wandb/run-20250411_151724-kdiwa6pp</code>"
            ],
            "text/plain": [
              "<IPython.core.display.HTML object>"
            ]
          },
          "metadata": {},
          "output_type": "display_data"
        },
        {
          "data": {
            "text/html": [
              "Syncing run <strong><a href='https://wandb.ai/theotheo46-trs/nlp_lesson2/runs/kdiwa6pp' target=\"_blank\">simple_cnn</a></strong> to <a href='https://wandb.ai/theotheo46-trs/nlp_lesson2' target=\"_blank\">Weights & Biases</a> (<a href='https://wandb.me/developer-guide' target=\"_blank\">docs</a>)<br>"
            ],
            "text/plain": [
              "<IPython.core.display.HTML object>"
            ]
          },
          "metadata": {},
          "output_type": "display_data"
        },
        {
          "data": {
            "text/html": [
              " View project at <a href='https://wandb.ai/theotheo46-trs/nlp_lesson2' target=\"_blank\">https://wandb.ai/theotheo46-trs/nlp_lesson2</a>"
            ],
            "text/plain": [
              "<IPython.core.display.HTML object>"
            ]
          },
          "metadata": {},
          "output_type": "display_data"
        },
        {
          "data": {
            "text/html": [
              " View run at <a href='https://wandb.ai/theotheo46-trs/nlp_lesson2/runs/kdiwa6pp' target=\"_blank\">https://wandb.ai/theotheo46-trs/nlp_lesson2/runs/kdiwa6pp</a>"
            ],
            "text/plain": [
              "<IPython.core.display.HTML object>"
            ]
          },
          "metadata": {},
          "output_type": "display_data"
        },
        {
          "name": "stderr",
          "output_type": "stream",
          "text": [
            "\u001b[34m\u001b[1mwandb\u001b[0m: \u001b[32m\u001b[41mERROR\u001b[0m The nbformat package was not found. It is required to save notebook history.\n"
          ]
        },
        {
          "data": {
            "text/html": [],
            "text/plain": [
              "<IPython.core.display.HTML object>"
            ]
          },
          "metadata": {},
          "output_type": "display_data"
        },
        {
          "data": {
            "text/html": [
              "<br>    <style><br>        .wandb-row {<br>            display: flex;<br>            flex-direction: row;<br>            flex-wrap: wrap;<br>            justify-content: flex-start;<br>            width: 100%;<br>        }<br>        .wandb-col {<br>            display: flex;<br>            flex-direction: column;<br>            flex-basis: 100%;<br>            flex: 1;<br>            padding: 10px;<br>        }<br>    </style><br><div class=\"wandb-row\"><div class=\"wandb-col\"><h3>Run history:</h3><br/><table class=\"wandb\"><tr><td>test_accuracy</td><td>▁▄▄██</td></tr><tr><td>test_loss</td><td>█▅▄▂▁</td></tr><tr><td>train_accuracy</td><td>▅▆▆▄▃▆▆▇▂▁█▆▃▅▇▅▂█▄▁▇▆█▅▃▄▄▄▃▇▅▆▅▅▅▆▂▆▇▂</td></tr><tr><td>train_loss</td><td>█▆▄▃▅▂▄▄▃▄▄▃▃▄▃▄▃▅▃▅▁▁▄▃▂▅▂▆▃▂▂▃▃▂▅▅▃▃▂▂</td></tr></table><br/></div><div class=\"wandb-col\"><h3>Run summary:</h3><br/><table class=\"wandb\"><tr><td>test_accuracy</td><td>0.89934</td></tr><tr><td>test_loss</td><td>0.29368</td></tr><tr><td>train_accuracy</td><td>0.9375</td></tr><tr><td>train_loss</td><td>0.22889</td></tr></table><br/></div></div>"
            ],
            "text/plain": [
              "<IPython.core.display.HTML object>"
            ]
          },
          "metadata": {},
          "output_type": "display_data"
        },
        {
          "data": {
            "text/html": [
              " View run <strong style=\"color:#cdcd00\">simple_cnn</strong> at: <a href='https://wandb.ai/theotheo46-trs/nlp_lesson2/runs/kdiwa6pp' target=\"_blank\">https://wandb.ai/theotheo46-trs/nlp_lesson2/runs/kdiwa6pp</a><br> View project at: <a href='https://wandb.ai/theotheo46-trs/nlp_lesson2' target=\"_blank\">https://wandb.ai/theotheo46-trs/nlp_lesson2</a><br>Synced 5 W&B file(s), 0 media file(s), 0 artifact file(s) and 0 other file(s)"
            ],
            "text/plain": [
              "<IPython.core.display.HTML object>"
            ]
          },
          "metadata": {},
          "output_type": "display_data"
        },
        {
          "data": {
            "text/html": [
              "Find logs at: <code>./wandb/run-20250411_151724-kdiwa6pp/logs</code>"
            ],
            "text/plain": [
              "<IPython.core.display.HTML object>"
            ]
          },
          "metadata": {},
          "output_type": "display_data"
        }
      ],
      "source": [
        "wandb.init(project=\"nlp_lesson2\", name=\"simple_cnn\")\n",
        "\n",
        "# учим в течение 5 эпох\n",
        "for epoch in range(5):\n",
        "    train(model, w2v_train_loader, optimizer)\n",
        "    test_accuracy, test_loss = evaluate(model, w2v_test_loader)\n",
        "\n",
        "wandb.finish()"
      ]
    },
    {
      "cell_type": "code",
      "execution_count": null,
      "id": "0150f87d",
      "metadata": {
        "id": "0150f87d",
        "outputId": "54543986-3e5b-47c3-df8f-c429e8b6b270"
      },
      "outputs": [
        {
          "name": "stdout",
          "output_type": "stream",
          "text": [
            "SimpleCNN\n",
            "Test accuracy: 0.8993421\n",
            "Test loss: 0.29367655711444585\n"
          ]
        }
      ],
      "source": [
        "print('SimpleCNN')\n",
        "print('Test accuracy:', test_accuracy)\n",
        "print('Test loss:', test_loss)"
      ]
    },
    {
      "cell_type": "code",
      "execution_count": null,
      "id": "2242f711",
      "metadata": {
        "id": "2242f711"
      },
      "outputs": [],
      "source": [
        "class TextCNN(nn.Module):\n",
        "    def __init__(self, hid_dim=100, kernel_sizes=[3, 4, 5], n_classes=4):\n",
        "        super().__init__()\n",
        "\n",
        "        self.conv = nn.ModuleList([\n",
        "            nn.Conv1d(in_channels=hid_dim, out_channels=hid_dim, kernel_size=k) for k in kernel_sizes\n",
        "        ])\n",
        "        self.relu = nn.ReLU()\n",
        "        self.dropout = nn.Dropout(0.1)\n",
        "        self.fc = nn.Linear(len(kernel_sizes) * hid_dim, n_classes)\n",
        "\n",
        "    def forward(self, x):\n",
        "        # x: [batch_size, seq_len, dim]\n",
        "        # меняем местами размерности, так как число каналов (dim) должно стоять на втором месте\n",
        "        x = x.permute(0, 2, 1)\n",
        "\n",
        "        x = [self.relu(conv(x)) for conv in self.conv]\n",
        "        x = [F.max_pool1d(c, c.size(-1)).squeeze(dim=-1) for c in x]\n",
        "        x = torch.cat(x, dim=1)\n",
        "        x = self.fc(self.dropout(x))\n",
        "        return x"
      ]
    },
    {
      "cell_type": "code",
      "execution_count": null,
      "id": "9e763280",
      "metadata": {
        "id": "9e763280",
        "outputId": "e1da809a-ef9f-42cb-d244-b4aa41eabbd7"
      },
      "outputs": [
        {
          "data": {
            "text/html": [
              "Tracking run with wandb version 0.19.9"
            ],
            "text/plain": [
              "<IPython.core.display.HTML object>"
            ]
          },
          "metadata": {},
          "output_type": "display_data"
        },
        {
          "data": {
            "text/html": [
              "Run data is saved locally in <code>/root/projects/nlp/wandb/run-20250411_152316-u189slum</code>"
            ],
            "text/plain": [
              "<IPython.core.display.HTML object>"
            ]
          },
          "metadata": {},
          "output_type": "display_data"
        },
        {
          "data": {
            "text/html": [
              "Syncing run <strong><a href='https://wandb.ai/theotheo46-trs/nlp_lesson2/runs/u189slum' target=\"_blank\">textcnn</a></strong> to <a href='https://wandb.ai/theotheo46-trs/nlp_lesson2' target=\"_blank\">Weights & Biases</a> (<a href='https://wandb.me/developer-guide' target=\"_blank\">docs</a>)<br>"
            ],
            "text/plain": [
              "<IPython.core.display.HTML object>"
            ]
          },
          "metadata": {},
          "output_type": "display_data"
        },
        {
          "data": {
            "text/html": [
              " View project at <a href='https://wandb.ai/theotheo46-trs/nlp_lesson2' target=\"_blank\">https://wandb.ai/theotheo46-trs/nlp_lesson2</a>"
            ],
            "text/plain": [
              "<IPython.core.display.HTML object>"
            ]
          },
          "metadata": {},
          "output_type": "display_data"
        },
        {
          "data": {
            "text/html": [
              " View run at <a href='https://wandb.ai/theotheo46-trs/nlp_lesson2/runs/u189slum' target=\"_blank\">https://wandb.ai/theotheo46-trs/nlp_lesson2/runs/u189slum</a>"
            ],
            "text/plain": [
              "<IPython.core.display.HTML object>"
            ]
          },
          "metadata": {},
          "output_type": "display_data"
        },
        {
          "name": "stderr",
          "output_type": "stream",
          "text": [
            "\u001b[34m\u001b[1mwandb\u001b[0m: \u001b[32m\u001b[41mERROR\u001b[0m The nbformat package was not found. It is required to save notebook history.\n"
          ]
        },
        {
          "data": {
            "text/html": [],
            "text/plain": [
              "<IPython.core.display.HTML object>"
            ]
          },
          "metadata": {},
          "output_type": "display_data"
        },
        {
          "data": {
            "text/html": [
              "<br>    <style><br>        .wandb-row {<br>            display: flex;<br>            flex-direction: row;<br>            flex-wrap: wrap;<br>            justify-content: flex-start;<br>            width: 100%;<br>        }<br>        .wandb-col {<br>            display: flex;<br>            flex-direction: column;<br>            flex-basis: 100%;<br>            flex: 1;<br>            padding: 10px;<br>        }<br>    </style><br><div class=\"wandb-row\"><div class=\"wandb-col\"><h3>Run history:</h3><br/><table class=\"wandb\"><tr><td>test_accuracy</td><td>▁▆▆██</td></tr><tr><td>test_loss</td><td>█▅▃▁▁</td></tr><tr><td>train_accuracy</td><td>▄▆▅▅▆▅▁▅▇▄▅▂▄▆▂█▇▄█▆▅▇▅▆▅▆▂▃▆▇▆▆▃▄▆▄▇▆▅▄</td></tr><tr><td>train_loss</td><td>▄▃▄▄▁▂▅█▃▂▆▅▂▄▆▂▃▂▁▃▃▂▂▄▆▆▅▃▅█▄▃▁▁▄▁▂▃▁▄</td></tr></table><br/></div><div class=\"wandb-col\"><h3>Run summary:</h3><br/><table class=\"wandb\"><tr><td>test_accuracy</td><td>0.90013</td></tr><tr><td>test_loss</td><td>0.2896</td></tr><tr><td>train_accuracy</td><td>0.96875</td></tr><tr><td>train_loss</td><td>0.12176</td></tr></table><br/></div></div>"
            ],
            "text/plain": [
              "<IPython.core.display.HTML object>"
            ]
          },
          "metadata": {},
          "output_type": "display_data"
        },
        {
          "data": {
            "text/html": [
              " View run <strong style=\"color:#cdcd00\">textcnn</strong> at: <a href='https://wandb.ai/theotheo46-trs/nlp_lesson2/runs/u189slum' target=\"_blank\">https://wandb.ai/theotheo46-trs/nlp_lesson2/runs/u189slum</a><br> View project at: <a href='https://wandb.ai/theotheo46-trs/nlp_lesson2' target=\"_blank\">https://wandb.ai/theotheo46-trs/nlp_lesson2</a><br>Synced 5 W&B file(s), 0 media file(s), 0 artifact file(s) and 0 other file(s)"
            ],
            "text/plain": [
              "<IPython.core.display.HTML object>"
            ]
          },
          "metadata": {},
          "output_type": "display_data"
        },
        {
          "data": {
            "text/html": [
              "Find logs at: <code>./wandb/run-20250411_152316-u189slum/logs</code>"
            ],
            "text/plain": [
              "<IPython.core.display.HTML object>"
            ]
          },
          "metadata": {},
          "output_type": "display_data"
        }
      ],
      "source": [
        "# инициализируем модель и переводим на GPU, если есть\n",
        "model = TextCNN().to(device)\n",
        "\n",
        "optimizer = torch.optim.Adam(model.parameters(), lr=1e-4, weight_decay=1e-3)\n",
        "\n",
        "wandb.init(project=\"nlp_lesson2\", name=\"textcnn\")\n",
        "\n",
        "# учим в течение 5 эпох\n",
        "for epoch in range(5):\n",
        "    train(model, w2v_train_loader, optimizer)\n",
        "    test_accuracy, test_loss = evaluate(model, w2v_test_loader)\n",
        "\n",
        "wandb.finish()"
      ]
    },
    {
      "cell_type": "code",
      "execution_count": null,
      "id": "59b0640e",
      "metadata": {
        "id": "59b0640e",
        "outputId": "bf7d8f15-be5d-4e27-97ab-77cd83bb95d9"
      },
      "outputs": [
        {
          "name": "stdout",
          "output_type": "stream",
          "text": [
            "TextCNN\n",
            "Test accuracy: 0.9001316\n",
            "Test loss: 0.2895990421083805\n"
          ]
        }
      ],
      "source": [
        "print('TextCNN')\n",
        "print('Test accuracy:', test_accuracy)\n",
        "print('Test loss:', test_loss)\n",
        "\n",
        "# Output:\n",
        "# TextCNN\n",
        "# Test accuracy: 0.89842105\n",
        "# Test loss: 0.29107235357949607"
      ]
    },
    {
      "cell_type": "code",
      "execution_count": null,
      "id": "751f54a0",
      "metadata": {
        "id": "751f54a0"
      },
      "outputs": [],
      "source": [
        "# берем словарь из word2vec, чтобы он точно не изменился\n",
        "vocabulary = w2v_model.index_to_key"
      ]
    },
    {
      "cell_type": "code",
      "execution_count": null,
      "id": "fe9e791c",
      "metadata": {
        "id": "fe9e791c"
      },
      "outputs": [],
      "source": [
        "# будем использовать для конвертации слов в индексы\n",
        "word2id = {word: i for i, word in enumerate(vocabulary)}\n",
        "word2id['[PAD]'] = len(word2id)"
      ]
    },
    {
      "cell_type": "code",
      "execution_count": null,
      "id": "f09ae684",
      "metadata": {
        "id": "f09ae684"
      },
      "outputs": [],
      "source": [
        "def text2ids(texts):\n",
        "    # конвертируем все тексты в наборы индексов\n",
        "    ids = []\n",
        "    for words in texts:\n",
        "        ids.append(torch.tensor([word2id[word] for word in words if word in word2id]))\n",
        "\n",
        "    return ids"
      ]
    },
    {
      "cell_type": "code",
      "execution_count": null,
      "id": "a1b2d003",
      "metadata": {
        "id": "a1b2d003"
      },
      "outputs": [],
      "source": [
        "train_ids = text2ids(lemmatized_train)\n",
        "test_ids = text2ids(lemmatized_test)\n",
        "\n",
        "train_dataset = list(zip(train_ids, labels_train))\n",
        "test_dataset = list(zip(test_ids, labels_test))"
      ]
    },
    {
      "cell_type": "code",
      "execution_count": null,
      "id": "e6c09837",
      "metadata": {
        "id": "e6c09837"
      },
      "outputs": [],
      "source": [
        "def collate_fn(batch):\n",
        "    # та же самая функция обработки батча\n",
        "    # только теперь мы имеем дело с индексами, поэтому паддим индексом специального символа\n",
        "    ids, labels = zip(*batch)\n",
        "    return (\n",
        "        pad_sequence(ids, padding_value=word2id['[PAD]']).permute(1, 0),\n",
        "        torch.tensor(labels)\n",
        "    )"
      ]
    },
    {
      "cell_type": "code",
      "execution_count": null,
      "id": "0e7199de",
      "metadata": {
        "id": "0e7199de"
      },
      "outputs": [],
      "source": [
        "from torch.utils.data import DataLoader\n",
        "\n",
        "ids_train_loader = DataLoader(train_dataset, collate_fn=collate_fn, shuffle=True, batch_size=32)\n",
        "ids_test_loader = DataLoader(test_dataset, collate_fn=collate_fn, shuffle=False, batch_size=8)\n",
        "\n",
        "batch = next(iter(ids_train_loader))[0]"
      ]
    },
    {
      "cell_type": "code",
      "execution_count": null,
      "id": "d23bd053",
      "metadata": {
        "id": "d23bd053"
      },
      "outputs": [],
      "source": [
        "class EmbeddingTextCNN(TextCNN):\n",
        "    def __init__(self, vocab_size, hid_dim=100, kernel_sizes=[3, 4, 5], n_classes=4):\n",
        "        super().__init__(hid_dim, kernel_sizes, n_classes)\n",
        "\n",
        "        self.embedding = nn.Embedding(vocab_size, hid_dim)\n",
        "\n",
        "    def forward(self, x):\n",
        "        x = self.embedding(x)\n",
        "        x = super().forward(x)\n",
        "        return x"
      ]
    },
    {
      "cell_type": "code",
      "execution_count": null,
      "id": "11d02ca6",
      "metadata": {
        "id": "11d02ca6",
        "outputId": "f6ce1462-d4df-4683-ac3f-eb3160567b01"
      },
      "outputs": [
        {
          "data": {
            "text/html": [
              "Tracking run with wandb version 0.19.9"
            ],
            "text/plain": [
              "<IPython.core.display.HTML object>"
            ]
          },
          "metadata": {},
          "output_type": "display_data"
        },
        {
          "data": {
            "text/html": [
              "Run data is saved locally in <code>/root/projects/nlp/wandb/run-20250411_153127-r232atc7</code>"
            ],
            "text/plain": [
              "<IPython.core.display.HTML object>"
            ]
          },
          "metadata": {},
          "output_type": "display_data"
        },
        {
          "data": {
            "text/html": [
              "Syncing run <strong><a href='https://wandb.ai/theotheo46-trs/nlp_lesson2/runs/r232atc7' target=\"_blank\">textcnn_train_embeddings</a></strong> to <a href='https://wandb.ai/theotheo46-trs/nlp_lesson2' target=\"_blank\">Weights & Biases</a> (<a href='https://wandb.me/developer-guide' target=\"_blank\">docs</a>)<br>"
            ],
            "text/plain": [
              "<IPython.core.display.HTML object>"
            ]
          },
          "metadata": {},
          "output_type": "display_data"
        },
        {
          "data": {
            "text/html": [
              " View project at <a href='https://wandb.ai/theotheo46-trs/nlp_lesson2' target=\"_blank\">https://wandb.ai/theotheo46-trs/nlp_lesson2</a>"
            ],
            "text/plain": [
              "<IPython.core.display.HTML object>"
            ]
          },
          "metadata": {},
          "output_type": "display_data"
        },
        {
          "data": {
            "text/html": [
              " View run at <a href='https://wandb.ai/theotheo46-trs/nlp_lesson2/runs/r232atc7' target=\"_blank\">https://wandb.ai/theotheo46-trs/nlp_lesson2/runs/r232atc7</a>"
            ],
            "text/plain": [
              "<IPython.core.display.HTML object>"
            ]
          },
          "metadata": {},
          "output_type": "display_data"
        },
        {
          "name": "stderr",
          "output_type": "stream",
          "text": [
            "\u001b[34m\u001b[1mwandb\u001b[0m: \u001b[32m\u001b[41mERROR\u001b[0m The nbformat package was not found. It is required to save notebook history.\n"
          ]
        },
        {
          "data": {
            "text/html": [],
            "text/plain": [
              "<IPython.core.display.HTML object>"
            ]
          },
          "metadata": {},
          "output_type": "display_data"
        },
        {
          "data": {
            "text/html": [
              "<br>    <style><br>        .wandb-row {<br>            display: flex;<br>            flex-direction: row;<br>            flex-wrap: wrap;<br>            justify-content: flex-start;<br>            width: 100%;<br>        }<br>        .wandb-col {<br>            display: flex;<br>            flex-direction: column;<br>            flex-basis: 100%;<br>            flex: 1;<br>            padding: 10px;<br>        }<br>    </style><br><div class=\"wandb-row\"><div class=\"wandb-col\"><h3>Run history:</h3><br/><table class=\"wandb\"><tr><td>test_accuracy</td><td>▁▃▅▆▇█████</td></tr><tr><td>test_loss</td><td>█▆▄▂▂▁▁▁▁▁</td></tr><tr><td>train_accuracy</td><td>▁▁▃▆▆▃▅▆▄▆▅▅█▇▆▅▆▇▆▇▆▇▅▇▄▆▆▇▆▇▇▆▆▇▆▆▆▇▇▇</td></tr><tr><td>train_loss</td><td>█▆▅▄▃▃▃▂▃▂▂▁▁▂▂▂▄▅▂▂▂▃▂▂▃▂▂▁▃▂▃▂▂▃▂▃▂▁▂▂</td></tr></table><br/></div><div class=\"wandb-col\"><h3>Run summary:</h3><br/><table class=\"wandb\"><tr><td>test_accuracy</td><td>0.91342</td></tr><tr><td>test_loss</td><td>0.26751</td></tr><tr><td>train_accuracy</td><td>1</td></tr><tr><td>train_loss</td><td>0.0962</td></tr></table><br/></div></div>"
            ],
            "text/plain": [
              "<IPython.core.display.HTML object>"
            ]
          },
          "metadata": {},
          "output_type": "display_data"
        },
        {
          "data": {
            "text/html": [
              " View run <strong style=\"color:#cdcd00\">textcnn_train_embeddings</strong> at: <a href='https://wandb.ai/theotheo46-trs/nlp_lesson2/runs/r232atc7' target=\"_blank\">https://wandb.ai/theotheo46-trs/nlp_lesson2/runs/r232atc7</a><br> View project at: <a href='https://wandb.ai/theotheo46-trs/nlp_lesson2' target=\"_blank\">https://wandb.ai/theotheo46-trs/nlp_lesson2</a><br>Synced 5 W&B file(s), 0 media file(s), 0 artifact file(s) and 0 other file(s)"
            ],
            "text/plain": [
              "<IPython.core.display.HTML object>"
            ]
          },
          "metadata": {},
          "output_type": "display_data"
        },
        {
          "data": {
            "text/html": [
              "Find logs at: <code>./wandb/run-20250411_153127-r232atc7/logs</code>"
            ],
            "text/plain": [
              "<IPython.core.display.HTML object>"
            ]
          },
          "metadata": {},
          "output_type": "display_data"
        }
      ],
      "source": [
        "# инициализируем модель и переводим на GPU, если есть\n",
        "model = EmbeddingTextCNN(vocab_size=len(word2id)).to(device)\n",
        "\n",
        "# ставим скорость обучения в 2 раза больше, потому что иначе эмбеддинги будут долго учиться\n",
        "optimizer = torch.optim.Adam(model.parameters(), lr=2e-4, weight_decay=1e-3)\n",
        "\n",
        "wandb.init(project=\"nlp_lesson2\", name=\"textcnn_train_embeddings\")\n",
        "\n",
        "# учим в течение 10 эпох, так как помимо модели нужно обучить слой эмбеддингов\n",
        "for epoch in range(10):\n",
        "    train(model, ids_train_loader, optimizer)\n",
        "    test_accuracy, test_loss = evaluate(model, ids_test_loader)\n",
        "\n",
        "wandb.finish()"
      ]
    },
    {
      "cell_type": "code",
      "execution_count": null,
      "id": "82dc61bc",
      "metadata": {
        "id": "82dc61bc",
        "outputId": "9e4e943a-b481-4f43-f74d-0a4a08b8d31f"
      },
      "outputs": [
        {
          "name": "stdout",
          "output_type": "stream",
          "text": [
            "TextCNN train embeddings\n",
            "Test accuracy: 0.91342103\n",
            "Test loss: 0.267505191942971\n"
          ]
        }
      ],
      "source": [
        "print('TextCNN train embeddings')\n",
        "print('Test accuracy:', test_accuracy)\n",
        "print('Test loss:', test_loss)\n",
        "\n",
        "# Output:\n",
        "# TextCNN train embeddings\n",
        "# Test accuracy: 0.9123684\n",
        "# Test loss: 0.26905588619509024\n"
      ]
    },
    {
      "cell_type": "code",
      "execution_count": null,
      "id": "4d17beef",
      "metadata": {
        "id": "4d17beef"
      },
      "outputs": [],
      "source": [
        "@torch.no_grad()\n",
        "def explain(model, tokens, label):\n",
        "    model.eval()\n",
        "    token_ids = torch.cat(text2ids([tokens])).unsqueeze(0)\n",
        "\n",
        "    baseline_pred = model(token_ids.to(device)).cpu()\n",
        "    baseline_prob = torch.softmax(baseline_pred, dim=-1)[0, label]\n",
        "\n",
        "    drop_one_batch = []\n",
        "    for t in range(len(token_ids[0])):\n",
        "        drop_one_token_ids = torch.hstack([token_ids[:, :t], token_ids[:, t+1:]])\n",
        "        drop_one_batch.append(drop_one_token_ids)\n",
        "\n",
        "    drop_one_batch = torch.cat(drop_one_batch)\n",
        "\n",
        "    drop_one_pred = model(drop_one_batch.to(device)).cpu()\n",
        "    drop_one_prob = torch.softmax(drop_one_pred, dim=-1)[:, label]\n",
        "\n",
        "    diffs = baseline_prob - drop_one_prob\n",
        "\n",
        "    return list(zip(tokens, diffs))"
      ]
    },
    {
      "cell_type": "code",
      "execution_count": null,
      "id": "91d7e927",
      "metadata": {
        "id": "91d7e927"
      },
      "outputs": [],
      "source": [
        "from IPython.display import HTML, display_html\n",
        "\n",
        "def draw_html(tokens_and_weights, cmap=plt.get_cmap(\"bwr\"), display=True,\n",
        "              token_template=\"\"\"<span style=\"background-color: {color_hex}\">{token}</span>\"\"\",\n",
        "              font_style=\"font-size:14px;\"\n",
        "             ):\n",
        "\n",
        "    def get_color_hex(weight):\n",
        "        rgba = cmap(1. / (1 + np.exp(float(weight))), bytes=True)\n",
        "        return '#%02X%02X%02X' % rgba[:3]\n",
        "\n",
        "    tokens_html = [\n",
        "        token_template.format(token=token, color_hex=get_color_hex(weight))\n",
        "        for token, weight in tokens_and_weights\n",
        "    ]\n",
        "\n",
        "    raw_html = \"\"\"<p style=\"{}\">{}</p>\"\"\".format(font_style, ' '.join(tokens_html))\n",
        "    if display:\n",
        "        display_html(HTML(raw_html))\n",
        "\n",
        "    return raw_html\n"
      ]
    },
    {
      "cell_type": "code",
      "execution_count": null,
      "id": "d8f00a5f",
      "metadata": {
        "id": "d8f00a5f"
      },
      "outputs": [],
      "source": [
        "label_names = [\"World\", \"Sports\", \"Business\", \"Sci/Tech\"]"
      ]
    },
    {
      "cell_type": "code",
      "execution_count": null,
      "id": "71fbc13a",
      "metadata": {
        "id": "71fbc13a",
        "outputId": "43bf1267-f837-4a79-c71b-53afaadc6863"
      },
      "outputs": [
        {
          "name": "stdout",
          "output_type": "stream",
          "text": [
            "Business\n"
          ]
        },
        {
          "data": {
            "text/html": [
              "<p style=\"font-size:20px;\"><span style=\"background-color: #FCFCFF\">wall</span> <span style=\"background-color: #FFF6F6\">st</span> <span style=\"background-color: #FFF4F4\">bear</span> <span style=\"background-color: #FFF4F4\">claw</span> <span style=\"background-color: #FFFEFE\">back</span> <span style=\"background-color: #F8F8FF\">black</span> <span style=\"background-color: #FF9A9A\">reuters</span> <span style=\"background-color: #FF9A9A\">reuters</span> <span style=\"background-color: #FFC8C8\">short</span> <span style=\"background-color: #FFFCFC\">seller</span> <span style=\"background-color: #7171FF\">wall</span> <span style=\"background-color: #7676FF\">street</span> <span style=\"background-color: #FFFCFC\">dwindling</span> <span style=\"background-color: #FFB3B3\">band</span> <span style=\"background-color: #FFDEDE\">ultra</span> <span style=\"background-color: #FFF0F0\">cynic</span> <span style=\"background-color: #FFE8E8\">seeing</span> <span style=\"background-color: #FFFEFE\">green</span></p>"
            ]
          },
          "metadata": {},
          "output_type": "display_data"
        }
      ],
      "source": [
        "i = 0\n",
        "print(label_names[labels_train[i]])\n",
        "\n",
        "tokens_and_weights = explain(model, lemmatized_train[i], labels_train[i])\n",
        "\n",
        "draw_html([(tok, weight * 5) for tok, weight in tokens_and_weights], font_style='font-size:20px;');"
      ]
    },
    {
      "cell_type": "code",
      "execution_count": null,
      "id": "4a717184",
      "metadata": {
        "id": "4a717184",
        "outputId": "eb0d5c46-c7e2-4e42-a324-71a59648253d"
      },
      "outputs": [
        {
          "name": "stdout",
          "output_type": "stream",
          "text": [
            "Business\n"
          ]
        },
        {
          "data": {
            "text/html": [
              "<p style=\"font-size:20px;\"><span style=\"background-color: #FFE8E8\">technology</span> <span style=\"background-color: #DEDEFF\">company</span> <span style=\"background-color: #FFD8D8\">sue</span> <span style=\"background-color: #FFFEFE\">five</span> <span style=\"background-color: #E3E3FF\">ex</span> <span style=\"background-color: #EEEEFF\">employee</span> <span style=\"background-color: #FFF4F4\">marlborough</span> <span style=\"background-color: #D0D0FF\">based</span> <span style=\"background-color: #FFE0E0\">technology</span> <span style=\"background-color: #CECEFF\">company</span> <span style=\"background-color: #FFF8F8\">suing</span> <span style=\"background-color: #FFF8F8\">five</span> <span style=\"background-color: #E0E0FF\">former</span> <span style=\"background-color: #ECECFF\">employee</span> <span style=\"background-color: #FAFAFF\">including</span> <span style=\"background-color: #FFFAFA\">three</span> <span style=\"background-color: #FFF0F0\">senior</span> <span style=\"background-color: #FAFAFF\">manager</span> <span style=\"background-color: #FFF6F6\">allegedly</span> <span style=\"background-color: #FFFAFA\">conspiring</span> <span style=\"background-color: #E6E6FF\">employer</span> <span style=\"background-color: #FFFEFE\">working</span> <span style=\"background-color: #FEFEFF\">opening</span> <span style=\"background-color: #FEFEFF\">competing</span> <span style=\"background-color: #FEFEFF\">business</span></p>"
            ]
          },
          "metadata": {},
          "output_type": "display_data"
        }
      ],
      "source": [
        "i = 42\n",
        "print(label_names[labels_train[i]])\n",
        "tokens_and_weights = explain(model, lemmatized_train[i], labels_train[i])\n",
        "draw_html([(tok, weight * 5) for tok, weight in tokens_and_weights], font_style='font-size:20px;');"
      ]
    },
    {
      "cell_type": "code",
      "execution_count": null,
      "id": "7195c8e1",
      "metadata": {
        "id": "7195c8e1",
        "outputId": "220411a7-3866-4959-fa54-c4bf90848a82"
      },
      "outputs": [
        {
          "name": "stdout",
          "output_type": "stream",
          "text": [
            "Sci/Tech\n"
          ]
        },
        {
          "data": {
            "text/html": [
              "<p style=\"font-size:20px;\"><span style=\"background-color: #FFFCFC\">european</span> <span style=\"background-color: #FFF8F8\">union</span> <span style=\"background-color: #D2D2FF\">extends</span> <span style=\"background-color: #E0E0FF\">microsoft</span> <span style=\"background-color: #FCFCFF\">time</span> <span style=\"background-color: #FFE8E8\">warner</span> <span style=\"background-color: #E2E2FF\">review</span> <span style=\"background-color: #FFECEC\">brussels</span> <span style=\"background-color: #FFF8F8\">belgium</span> <span style=\"background-color: #3838FF\">ap</span> <span style=\"background-color: #FFF8F8\">european</span> <span style=\"background-color: #FFE8E8\">antitrust</span> <span style=\"background-color: #FFD8D8\">regulator</span> <span style=\"background-color: #FFEEEE\">said</span> <span style=\"background-color: #FFE2E2\">monday</span> <span style=\"background-color: #FEFEFF\">extended</span> <span style=\"background-color: #EEEEFF\">review</span> <span style=\"background-color: #FFEEEE\">deal</span> <span style=\"background-color: #FFF8F8\">microsoft</span> <span style=\"background-color: #FFECEC\">corp</span> <span style=\"background-color: #EEEEFF\">msft</span> <span style=\"background-color: #F8F8FF\">time</span> <span style=\"background-color: #FCFCFF\">warner</span> <span style=\"background-color: #FFF4F4\">inc</span></p>"
            ]
          },
          "metadata": {},
          "output_type": "display_data"
        }
      ],
      "source": [
        "i = 1000\n",
        "print(label_names[labels_train[i]])\n",
        "tokens_and_weights = explain(model, lemmatized_train[i], labels_train[i])\n",
        "draw_html([(tok, weight * 5) for tok, weight in tokens_and_weights], font_style='font-size:20px;');"
      ]
    },
    {
      "cell_type": "code",
      "execution_count": null,
      "id": "f2d66e80",
      "metadata": {
        "id": "f2d66e80",
        "outputId": "49dc41f8-537a-452c-ee33-8b13c22735fe"
      },
      "outputs": [
        {
          "name": "stdout",
          "output_type": "stream",
          "text": [
            "Sports\n"
          ]
        },
        {
          "data": {
            "text/html": [
              "<p style=\"font-size:20px;\"><span style=\"background-color: #FEFEFF\">olympics</span> <span style=\"background-color: #FFFEFE\">thorpe</span> <span style=\"background-color: #FEFEFF\">beat</span> <span style=\"background-color: #FEFEFF\">phelps</span> <span style=\"background-color: #FFDEDE\">u</span> <span style=\"background-color: #F3F3FF\">suffers</span> <span style=\"background-color: #F6F6FF\">gold</span> <span style=\"background-color: #F8F8FF\">gap</span> <span style=\"background-color: #C0C0FF\">athens</span> <span style=\"background-color: #E2E2FF\">reuters</span> <span style=\"background-color: #FFFCFC\">australian</span> <span style=\"background-color: #FCFCFF\">swimmer</span> <span style=\"background-color: #FFFEFE\">ian</span> <span style=\"background-color: #FEFEFF\">thorpe</span> <span style=\"background-color: #FEFEFF\">beat</span> <span style=\"background-color: #FEFEFF\">arch</span> <span style=\"background-color: #FEFEFF\">rival</span> <span style=\"background-color: #FEFEFF\">michael</span> <span style=\"background-color: #FFFEFE\">phelps</span> <span style=\"background-color: #FEFEFF\">men</span> <span style=\"background-color: #FFFEFE\">200</span> <span style=\"background-color: #FFFEFE\">meter</span> <span style=\"background-color: #FFFEFE\">freestyle</span> <span style=\"background-color: #FEFEFF\">monday</span> <span style=\"background-color: #FEFEFF\">united</span> <span style=\"background-color: #FEFEFF\">state</span> <span style=\"background-color: #FFFEFE\">trailed</span> <span style=\"background-color: #FFCACA\">china</span> <span style=\"background-color: #FFF0F0\">australia</span> <span style=\"background-color: #FFAAAA\">japan</span> <span style=\"background-color: #F3F3FF\">medal</span> <span style=\"background-color: #FFC6C6\">table</span> <span style=\"background-color: #FFEAEA\">day</span> <span style=\"background-color: #FFF8F8\">three</span> <span style=\"background-color: #D3D3FF\">olympic</span> <span style=\"background-color: #E3E3FF\">game</span></p>"
            ]
          },
          "metadata": {},
          "output_type": "display_data"
        }
      ],
      "source": [
        "i = 1023\n",
        "print(label_names[labels_train[i]])\n",
        "tokens_and_weights = explain(model, lemmatized_train[i], labels_train[i])\n",
        "draw_html([(tok, weight * 5) for tok, weight in tokens_and_weights], font_style='font-size:20px;');"
      ]
    }
  ],
  "metadata": {
    "kernelspec": {
      "display_name": "Python 3",
      "name": "python3"
    },
    "language_info": {
      "codemirror_mode": {
        "name": "ipython",
        "version": 3
      },
      "file_extension": ".py",
      "mimetype": "text/x-python",
      "name": "python",
      "nbconvert_exporter": "python",
      "pygments_lexer": "ipython3",
      "version": "3.10.12"
    },
    "colab": {
      "provenance": []
    }
  },
  "nbformat": 4,
  "nbformat_minor": 5
}