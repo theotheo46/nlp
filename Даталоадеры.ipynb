{
 "cells": [
  {
   "cell_type": "markdown",
   "metadata": {},
   "source": [
    "# Урок 4\n",
    "Эта демонстрация разбита на 3 ноутбука:\n",
    "\n",
    "1. Свертки и пулинги.\n",
    "2. **Даталоадеры.**\n",
    "3. Задача классификации с использованием CNN."
   ]
  },
  {
   "cell_type": "markdown",
   "metadata": {},
   "source": [
    "## Про загрузку данных"
   ]
  },
  {
   "cell_type": "markdown",
   "metadata": {},
   "source": [
    "Во всех предыдущих примерах мы всегда учили сеть на всех данных сразу.\n",
    "Но это возможно не всегда.\n",
    "\n",
    "Хороший пример - [IMDB-WIKI](https://data.vision.ee.ethz.ch/cvl/rrothe/imdb-wiki/), урезанная версия которого весит порядка 8 Gb."
   ]
  },
  {
   "cell_type": "code",
   "execution_count": 2,
   "metadata": {},
   "outputs": [
    {
     "name": "stdout",
     "output_type": "stream",
     "text": [
      "--2025-02-03 11:20:30--  https://data.vision.ee.ethz.ch/cvl/rrothe/imdb-wiki/static/imdb_crop.tar\n",
      "Resolving data.vision.ee.ethz.ch (data.vision.ee.ethz.ch)... 129.132.52.178\n",
      "Connecting to data.vision.ee.ethz.ch (data.vision.ee.ethz.ch)|129.132.52.178|:443... connected.\n",
      "HTTP request sent, awaiting response... 200 OK\n",
      "Length: 7012157440 (6.5G) [application/x-tar]\n",
      "Saving to: ‘imdb_crop.tar.1’\n",
      "\n",
      "imdb_crop.tar.1     100%[===================>]   6.53G  1.57MB/s    in 46m 58s \n",
      "\n",
      "2025-02-03 12:07:28 (2.37 MB/s) - ‘imdb_crop.tar.1’ saved [7012157440/7012157440]\n",
      "\n",
      "imdb_crop/01/nm0000401_rm2195568896_1961-7-30_2000.jpg: Truncated tar archive\n",
      "tar: Error exit delayed from previous errors.\n"
     ]
    }
   ],
   "source": [
    "# Если работаете в colab, запустите команды ниже.\n",
    "# Они скачают и распакуют датасет.\n",
    "# Должна получиться папка imdb_crop.tar\n",
    "\n",
    "!wget https://data.vision.ee.ethz.ch/cvl/rrothe/imdb-wiki/static/imdb_crop.tar\n",
    "!tar xf imdb_crop.tar"
   ]
  },
  {
   "cell_type": "code",
   "execution_count": null,
   "metadata": {},
   "outputs": [],
   "source": [
    "from scipy.io import loadmat\n",
    "\n",
    "imdb_dat = loadmat(\"imdb_crop/imdb.mat\")[\"imdb\"][0][0]\n",
    "imdb_paths = [f\"imdb_crop/{path[0]}\" for path in imdb_dat[2][0]]\n",
    "imdb_genders = imdb_dat[3][0]\n",
    "# 1 означает Male, 0 - Female\n",
    "print(\"genders data:\", imdb_genders)\n",
    "print(\"path to imgs:\", imdb_paths[0])"
   ]
  },
  {
   "cell_type": "code",
   "execution_count": null,
   "metadata": {},
   "outputs": [],
   "source": [
    "import os\n",
    "\n",
    "import tqdm\n",
    "\n",
    "total_size = 0\n",
    "for one_path in tqdm.tqdm(imdb_paths):\n",
    "    total_size += os.path.getsize(one_path)"
   ]
  },
  {
   "cell_type": "code",
   "execution_count": null,
   "metadata": {},
   "outputs": [],
   "source": [
    "# В гигабайтах\n",
    "total_size / 2**10 / 2**10 / 2**10"
   ]
  },
  {
   "cell_type": "markdown",
   "metadata": {},
   "source": [
    "Учтите, что во время обучения нам нужно примерно х2 памяти - на прямой и обратный проход.\n",
    "\n",
    "Если учить все одним батчом, то будет 12+ Гб на видеокарте - такое уже не каждая GPU потянет.\n",
    "\n",
    "Без батчей тут не обойтись. Пойдем таким путем:\n",
    "\n",
    "- научимся загружать одну картинку в тензор;\n",
    "- научимся объединять несколько картинок в батчи."
   ]
  },
  {
   "cell_type": "markdown",
   "metadata": {},
   "source": [
    "### Как загрузить одну картинку в тензор"
   ]
  },
  {
   "cell_type": "code",
   "execution_count": null,
   "metadata": {},
   "outputs": [],
   "source": [
    "# Вариант 1 - использовать matplotlib\n",
    "# С ним уже виделись ранее, когда работали с NotMNIST\n",
    "import matplotlib.pyplot as plt\n",
    "\n",
    "image = plt.imread(imdb_paths[0])\n",
    "print(image.shape)\n",
    "print(image)"
   ]
  },
  {
   "cell_type": "code",
   "execution_count": null,
   "metadata": {},
   "outputs": [],
   "source": [
    "# Вариант 2 - использовать PIL\n",
    "import numpy as np\n",
    "from PIL import Image\n",
    "\n",
    "# Image.open вернет специальный объект Image\n",
    "image = Image.open(imdb_paths[0])\n",
    "print(type(image))\n",
    "# который легко конвертируется в numpy массив\n",
    "img_array = np.array(image)\n",
    "print(img_array.shape)\n",
    "print(img_array)"
   ]
  },
  {
   "cell_type": "code",
   "execution_count": null,
   "metadata": {},
   "outputs": [],
   "source": [
    "# Вариант 3 - cv2 (a.k.a. opencv-python)\n",
    "import cv2\n",
    "\n",
    "cv_image = cv2.imread(imdb_paths[0])\n",
    "print(type(cv_image))\n",
    "print(cv_image.shape)\n",
    "print(cv_image)"
   ]
  },
  {
   "cell_type": "markdown",
   "metadata": {},
   "source": [
    "Основные различия: opencv и PIL имеют более богатый набор для редактирования самого изображения, но эти две библиотеки нужно отдельно установить.\n",
    "\n",
    "У opencv есть интеграция с `albumentations`, которую мы будем использовать, поэтому возьмем `cv2.imread`."
   ]
  },
  {
   "cell_type": "markdown",
   "metadata": {},
   "source": [
    "### Как объединить несколько картинок в батч\n",
    "В PyTorch уже есть готовое решение того, как бить данные на батчи.\n",
    "Для этих целей используется **Dataset** и **DataLoader**.\n",
    "\n",
    "Но перед тем, как их использовать, нужно подчистить данные.\n"
   ]
  },
  {
   "cell_type": "code",
   "execution_count": null,
   "metadata": {},
   "outputs": [],
   "source": [
    "# Первая проблема - в датасете не везде есть метки\n",
    "np.count_nonzero(np.isnan(imdb_genders))\n",
    "# Выкинем их"
   ]
  },
  {
   "cell_type": "code",
   "execution_count": 8,
   "metadata": {},
   "outputs": [],
   "source": [
    "bad_indices = set(np.where(np.isnan(imdb_genders))[0])\n",
    "imdb_paths = [x for i, x in enumerate(imdb_paths) if i not in bad_indices]\n",
    "imdb_genders = [int(x) for i, x in enumerate(imdb_genders) if i not in bad_indices]\n",
    "assert len(imdb_paths) == len(imdb_genders)"
   ]
  },
  {
   "cell_type": "code",
   "execution_count": null,
   "metadata": {},
   "outputs": [],
   "source": [
    "# Вторая проблема - картинки имеют разный размер\n",
    "print(cv2.imread(imdb_paths[0]).shape)\n",
    "print(cv2.imread(imdb_paths[1]).shape)"
   ]
  },
  {
   "cell_type": "markdown",
   "metadata": {},
   "source": [
    "Это плохо - нейросеть, которую мы дальше будем учить, не сумеет состыковать размерности.\n",
    "Помимо этого, мы не сможем собрать батч - у тензора жестко фиксирована размерность каждого среза.\n",
    "\n",
    "Поэтому придется привести все картинки к одному размеру!"
   ]
  },
  {
   "cell_type": "code",
   "execution_count": null,
   "metadata": {},
   "outputs": [],
   "source": [
    "# Есть библиотека albumentations, в которой есть часто используемые операции над картинками.\n",
    "# В частности, resize до фиксированной размерности\n",
    "\n",
    "import albumentations as A\n",
    "\n",
    "# Compose означает \"примени все трансформации из списка\"\n",
    "# У нас трансформация одна, но в будущем их может стать больше\n",
    "transforms = A.Compose([A.Resize(128, 128)])\n",
    "\n",
    "# В albumentations аргументы надо передавать с именем, на выходе будет словарь.\n",
    "# Передали по имени `image`, заберем тому же ключу.\n",
    "result = transforms(image=plt.imread(imdb_paths[0]))[\"image\"]\n",
    "print(result.shape)\n",
    "print(type(result))\n",
    "# Получили нужную размерность"
   ]
  },
  {
   "cell_type": "markdown",
   "metadata": {},
   "source": [
    "Данные почищены, идем разбивать на батчи.\n",
    "\n",
    "**Dataset** - это класс для хранения данных.\n",
    "Задача Dataset - уметь отдавать пользователю один элемент данных.\n",
    "Для этого нужно определить методы `__getitem__` и `__len__`.\n",
    "\n",
    "**DataLoader** - это класс, который умеет разрезать _Dataset_ на батчи.\n",
    "Он умеет бить на батчи, перемешивать их и загружать батчи параллельно с процессом обучения.\n",
    "\n",
    "Чтобы пользоваться _DataLoader_, нужно сначала обернуть данные в _Dataset_."
   ]
  },
  {
   "cell_type": "code",
   "execution_count": null,
   "metadata": {},
   "outputs": [],
   "source": [
    "from torch.utils.data import Dataset, DataLoader\n",
    "\n",
    "\n",
    "class SimpleDataset(Dataset):\n",
    "    def __init__(self):\n",
    "        # В методе __init__ можете сделать что угодно.\n",
    "        # Обычно здесь готовят переменные, которые помогут загрузить данные\n",
    "        pass\n",
    "\n",
    "    def __getitem__(self, index):\n",
    "        # __getitem__ должен отдать то, что вы считаете одним элементом датасета.\n",
    "        # Тип данных не ограничен.\n",
    "        # В переменной index лежит номер элемента, который заказал пользователь.\n",
    "        return 1\n",
    "\n",
    "    def __len__(self):\n",
    "        # __len__ должен вернуть количество элементов в датасете.\n",
    "        # Это должно быть целым числом.\n",
    "        return 1\n",
    "\n",
    "\n",
    "simple_dataset = SimpleDataset()\n",
    "print(len(simple_dataset))\n",
    "print(simple_dataset[0])\n",
    "print(simple_dataset[1])\n",
    "print(simple_dataset[100500])"
   ]
  },
  {
   "cell_type": "markdown",
   "metadata": {},
   "source": [
    "Перейдем к нашему IMDB Wiki и попробуем написать для него Dataset."
   ]
  },
  {
   "cell_type": "code",
   "execution_count": null,
   "metadata": {},
   "outputs": [],
   "source": [
    "import albumentations as A\n",
    "import cv2\n",
    "import numpy as np\n",
    "import torch\n",
    "from albumentations.pytorch import ToTensorV2\n",
    "from scipy.io import loadmat\n",
    "from torch.utils.data import Dataset\n",
    "\n",
    "\n",
    "class ImdbWikiDataset(Dataset):\n",
    "    def __init__(self, image_size: int = 128):\n",
    "        # Из кодов выше\n",
    "        imdb_dat = loadmat(\"imdb_crop/imdb.mat\")[\"imdb\"][0][0]\n",
    "        imdb_paths = [f\"imdb_crop/{path[0]}\" for path in imdb_dat[2][0]]\n",
    "        imdb_genders = imdb_dat[3][0]\n",
    "        bad_indices = set(np.where(np.isnan(imdb_genders))[0])\n",
    "        imdb_paths = [x for i, x in enumerate(imdb_paths) if i not in bad_indices]\n",
    "        imdb_genders = [\n",
    "            int(x) for i, x in enumerate(imdb_genders) if i not in bad_indices\n",
    "        ]\n",
    "\n",
    "        # Не будем читать картинки при создании датасета, чтобы сберечь ОЗУ.\n",
    "        self.paths = imdb_paths\n",
    "        self.labels = imdb_genders\n",
    "        self.transforms = A.Compose(\n",
    "            [\n",
    "                # Подгонит под размер (128, 128)\n",
    "                A.Resize(image_size, image_size),\n",
    "                # A.HorizontalFlip(p=0.5),\n",
    "                # Пиксели в отрезке [0; 255] - это uint8.\n",
    "                # Переведем в отрезок [0.0; 1.0] - нейросети будет проще.\n",
    "                A.ToFloat(max_value=255),\n",
    "                # Поменяет (H, W, C) -> (C, H, W) и превратит в тензор PyTorch\n",
    "                ToTensorV2(),\n",
    "                # Для обогащения: будем переворачивать\n",
    "            ]\n",
    "        )\n",
    "        assert len(self.paths) == len(self.labels)\n",
    "\n",
    "    def __getitem__(self, index) -> tuple[torch.Tensor, int]:\n",
    "        # Читать будем только одну картинку - и возвращать пару (тензор картинки, ее label)\n",
    "        img_numpy = cv2.imread(self.paths[index])\n",
    "        img_tensor = self.transforms(image=img_numpy)[\"image\"]\n",
    "\n",
    "        label = self.labels[index]\n",
    "        return img_tensor, label\n",
    "\n",
    "    def __len__(self):\n",
    "        return len(self.paths)\n",
    "\n",
    "\n",
    "dataset = ImdbWikiDataset()\n",
    "# Распечатаем несколько элементов из датасета\n",
    "# Выдаст пару (изображение, лейбл)\n",
    "one_item = dataset[0]\n",
    "print(one_item[0].shape)\n",
    "print(one_item[1])\n",
    "one_item = dataset[5]\n",
    "print(one_item[0].shape)\n",
    "print(one_item[1])"
   ]
  },
  {
   "cell_type": "code",
   "execution_count": null,
   "metadata": {},
   "outputs": [],
   "source": [
    "# Разобьем на train/val/test\n",
    "from torch.utils.data import random_split\n",
    "\n",
    "# Для воспроизводимости создадим генератор случайности\n",
    "# и зафиксируем ему seed.\n",
    "seed = 0\n",
    "generator = torch.Generator()\n",
    "generator.manual_seed(seed)\n",
    "\n",
    "train_dataset, val_dataset, test_dataset = random_split(\n",
    "    dataset, [0.8, 0.1, 0.1], generator=generator\n",
    ")\n",
    "len(train_dataset), len(val_dataset), len(test_dataset)"
   ]
  },
  {
   "cell_type": "code",
   "execution_count": 14,
   "metadata": {},
   "outputs": [],
   "source": [
    "from torch.utils.data import DataLoader\n",
    "\n",
    "# Обернем датасет в DataLoader, передав batch_size\n",
    "train_loader = DataLoader(\n",
    "    train_dataset,\n",
    "    batch_size=32,\n",
    "    # перемешать данные или нет\n",
    "    shuffle=True,\n",
    "    # если перемешать - озаботьтесь воспроизводимостью\n",
    "    generator=generator,\n",
    "    # В последнем батче может не набраться 32 элемента.\n",
    "    # Этот флаг говорит, убрать такой батч или оставить.\n",
    "    drop_last=True,\n",
    ")"
   ]
  },
  {
   "cell_type": "code",
   "execution_count": null,
   "metadata": {},
   "outputs": [],
   "source": [
    "# После этого можно итерироваться по DataLoader\n",
    "# Одна итерация = один батч\n",
    "for one_batch in train_loader:\n",
    "    batch_of_images, batch_of_labels = one_batch\n",
    "    print(type(batch_of_images))\n",
    "    print(batch_of_images.shape)\n",
    "    print(type(batch_of_labels))\n",
    "    print(batch_of_labels.shape)\n",
    "    break"
   ]
  },
  {
   "cell_type": "markdown",
   "metadata": {},
   "source": [
    "Обратите внимание: датасет возвращал тензор размера (3, 128, 128) и одно число, а вот DataLoader уже возвращет `(batch_size, 4, 128, 128)` и вектор из лейблов размера 32.\n",
    "\n",
    "Pytorch собрал все за нас в батч и состыковал объекты из датасета."
   ]
  }
 ],
 "metadata": {
  "kernelspec": {
   "display_name": ".venv",
   "language": "python",
   "name": "python3"
  },
  "language_info": {
   "codemirror_mode": {
    "name": "ipython",
    "version": 3
   },
   "file_extension": ".py",
   "mimetype": "text/x-python",
   "name": "python",
   "nbconvert_exporter": "python",
   "pygments_lexer": "ipython3",
   "version": "3.10.0"
  }
 },
 "nbformat": 4,
 "nbformat_minor": 2
}
