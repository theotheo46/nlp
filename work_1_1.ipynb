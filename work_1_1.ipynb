{
 "cells": [
  {
   "cell_type": "markdown",
   "metadata": {},
   "source": [
    "# Домашнее задание 1\n",
    "В этом задании мы:\n",
    "1. Вспомним Python: циклы, функции и рекурсию.\n",
    "2. Посоздаем тензоры, поиндексируем их.\n",
    "3. Вручную имплементируем One-Hot Encoder."
   ]
  },
  {
   "cell_type": "markdown",
   "metadata": {},
   "source": [
    "## Вспоминаем Python\n",
    "Перед тем, как нырнуть в глубинное обучение, вспомним азы: язык Python.\n",
    "Нам понадобится работать со списками и вложенными вызовами функций, попрактикуемся с этим."
   ]
  },
  {
   "cell_type": "markdown",
   "metadata": {},
   "source": [
    "### Задание №1:\n",
    "\n",
    "Напишите функцию, которая принимает на вход массив и возвращает другой массив, состоящий только из уникальных элементов исходного массива.\n",
    "Проще говоря, функция должна вернуть уникальные элементы из исходного массива.\n",
    "\n",
    "Функция должна называться `unique_elements`. На вход функции будет передаваться стандартный тип `list` из Python. На выходе функции ожидается стандартный тип `list` из Python."
   ]
  },
  {
   "cell_type": "code",
   "execution_count": 1,
   "metadata": {},
   "outputs": [],
   "source": [
    "def unique_elements(list_: list[int]) -> list[int]:\n",
    "    \"\"\"\n",
    "    >>> assert sorted(unique_elements([1, 2, 3, 2, 5]) == [1, 2, 3, 5]\n",
    "    \"\"\"\n",
    "    return ..."
   ]
  },
  {
   "cell_type": "markdown",
   "metadata": {},
   "source": [
    "### Задание №2:\n",
    "Напишите функцию для подсчета n-го числа Фиббоначчи.\n",
    "\n",
    "P.S формула n-го числа Фиббоначчи:\n",
    "\\begin{cases}\n",
    "F(0) = 0 \\\\\n",
    "F(1) = 1 \\\\\n",
    "F(n) = F(n-1) + F(n-2), \\quad \\text{для } n \\geq 2\n",
    "\\end{cases}\n"
   ]
  },
  {
   "cell_type": "code",
   "execution_count": 2,
   "metadata": {},
   "outputs": [],
   "source": [
    "def fib(n: int) -> int:\n",
    "    \"\"\"\n",
    "    >>> assert fib(1) == fib(2) == 1\n",
    "    >>> assert fib(3) == 2\n",
    "    >>> assert fib(10) == 55\n",
    "    \"\"\"\n",
    "    return ..."
   ]
  },
  {
   "cell_type": "markdown",
   "metadata": {},
   "source": [
    "## Тензоры\n",
    "\n",
    "Перейдем ближе к DL. Нейросети оперируют понятием **тензора**.\n",
    "\n",
    "Тензор - это многомерная матрица.\n",
    "Попрактикуемся в работе с ними."
   ]
  },
  {
   "cell_type": "code",
   "execution_count": 3,
   "metadata": {},
   "outputs": [],
   "source": [
    "import torch"
   ]
  },
  {
   "cell_type": "markdown",
   "metadata": {},
   "source": [
    "### Задание №3:\n",
    "Создайте тензор размера (5, 3), заполненный случайными целыми числами от -1 до 1.\n",
    "\n",
    "Запишите результат в переменную t"
   ]
  },
  {
   "cell_type": "code",
   "execution_count": 4,
   "metadata": {},
   "outputs": [],
   "source": [
    "t = ..."
   ]
  },
  {
   "cell_type": "markdown",
   "metadata": {},
   "source": [
    "### Задание №4:\n",
    "Вам дана доска 1000x1000.\n",
    "Каждую строку в ней нумеруют от 0 до 999 включительно.\n",
    "Т.е. получится матрица вида\n",
    "```python\n",
    "[\n",
    "    [0, 1, ..., 999],\n",
    "    [0, 1, ..., 999],\n",
    "    ...\n",
    "]\n",
    "```\n",
    "Напишите код, который сгенерирует такую матрицу. Постарайтесь обойтись без циклов `for`.\n",
    "Запишите эту матрицу в переменную `result`.\n",
    "\n",
    "_Подсказка_: посмотрите в сторону метода `some_tensor.repeat((N, M))`"
   ]
  },
  {
   "cell_type": "code",
   "execution_count": 5,
   "metadata": {},
   "outputs": [],
   "source": [
    "result = ..."
   ]
  },
  {
   "cell_type": "markdown",
   "metadata": {},
   "source": [
    "### Задание №5:\n",
    "Напишите функцию, которая будет нормировать трехмерный тензор вдоль его двух последних осей.\n",
    "Если на вход передается тензор размером `(5, 2, 10)`, необходимо выполнить следующие шаги:\n",
    "- Для каждого из 5 срезов (плоскостей размером `2x10`) вычислить среднее значение и дисперсию всех элементов в этой плоскости.\n",
    "- Используя эти средние значения и дисперсии, нормировать все элементы в соответствующей плоскости.\n",
    "\n",
    "\n",
    "Приводим ниже код через циклы `for` - вам нужно написать решение без использования `for`."
   ]
  },
  {
   "cell_type": "code",
   "execution_count": 6,
   "metadata": {},
   "outputs": [],
   "source": [
    "def slow_normalize(x: torch.Tensor) -> torch.Tensor:\n",
    "    for i in range(x.shape[0]):\n",
    "        mean, std = x[i].mean(), x[i].std()\n",
    "        x[i] = (x[i] - mean) / std\n",
    "    return x\n",
    "\n",
    "\n",
    "def fast_normalize(x: torch.Tensor) -> torch.Tensor:\n",
    "    return ...\n",
    "\n",
    "\n",
    "from torch.testing import assert_close\n",
    "\n",
    "data = torch.arange(5 * 4 * 3, dtype=torch.float32).reshape((5, 4, 3)) ** 2\n",
    "out1 = slow_normalize(data)\n",
    "out2 = fast_normalize(data)\n",
    "assert_close(out2, out1)"
   ]
  },
  {
   "cell_type": "markdown",
   "metadata": {},
   "source": [
    "### Задание №6:\n",
    "Вам дан тензор `t` размерности (53, 192, 789), в котором зашит секретный пароль.\n",
    "Пароль хитро разбросан по тензору, но вы знаете, как его отыскать:\n",
    "- вдоль первой размерности нужно взять индексы, являющиеся точными квадратами\n",
    "- вдоль второй размерности нужно взять столько четных чисел (начиная с 0), сколько было в п.1;\n",
    "- вдоль третьей размерности нужно взять в обратном порядке столько элементов с конца, сколько было в п.2;\n",
    "\n",
    "Найдите тензор с паролем. Исходный тензор лежит в переменной `t`.\n",
    "\n",
    "Запишите тензор с паролем в переменную `password`.\n",
    "\n",
    "Для тестирования можете создать тензор так:\n",
    "```python\n",
    "torch.random.manual_seed(0)\n",
    "t = torch.randint(0, 100, (53, 192, 789))\n",
    "```\n",
    "\n",
    "_Подсказка_: если PyTorch не хочет разворачивать, попробуйте `.flip()`\n",
    "\n",
    "_Подсказка_: индексы, которые хотите забрать, можно положить в список - и передать список в виде `t[my_list]`\n",
    "\n",
    "P.S Точный квадрат - число, являющееся квадратом некоторого целого числа. Иными словами, квадратом является целое число, квадратный корень из которого извлекается нацело."
   ]
  },
  {
   "cell_type": "code",
   "execution_count": 7,
   "metadata": {},
   "outputs": [],
   "source": [
    "torch.random.manual_seed(0)\n",
    "t = torch.randint(0, 100, (53, 192, 789))\n",
    "\n",
    "\n",
    "def password(t: torch.Tensor) -> torch.Tensor:\n",
    "    return ..."
   ]
  },
  {
   "cell_type": "markdown",
   "metadata": {},
   "source": [
    "### Задание №7:\n",
    "Реализуйте One Hot Encoder. Вам необходимо написать функцию, которая выполняет One Hot Encoding для одномерного тензора."
   ]
  },
  {
   "cell_type": "code",
   "execution_count": 8,
   "metadata": {},
   "outputs": [],
   "source": [
    "def ohe(y: torch.Tensor) -> torch.Tensor:\n",
    "    \"\"\"Простейший One Hot Encoding для одной колонки.\n",
    "\n",
    "    Пример (можете тестировать этим кодом):\n",
    "    >>> from torch.testing import assert_close\n",
    "    >>> assert_close(ohe(torch.tensor([0, 1, 0, 1])), torch.tensor([[1, 0], [0, 1], [1, 0], [0, 1]]))\n",
    "    >>> assert_close(ohe(torch.tensor([0, 1, 2])), torch.tensor([[1, 0, 0], [0, 1, 0], [0, 0, 1]]))\n",
    "\n",
    "    :param y: массив размера (N,).\n",
    "    :returns: массив размера (N, K), где K - число уникальных значений в y.\n",
    "    \"\"\"\n",
    "    return ..."
   ]
  }
 ],
 "metadata": {
  "kernelspec": {
   "display_name": "Python 3 (ipykernel)",
   "language": "python",
   "name": "python3"
  },
  "language_info": {
   "codemirror_mode": {
    "name": "ipython",
    "version": 3
   },
   "file_extension": ".py",
   "mimetype": "text/x-python",
   "name": "python",
   "nbconvert_exporter": "python",
   "pygments_lexer": "ipython3",
   "version": "3.10.13"
  }
 },
 "nbformat": 4,
 "nbformat_minor": 4
}